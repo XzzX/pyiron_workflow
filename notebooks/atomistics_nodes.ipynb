{
 "cells": [
  {
   "cell_type": "markdown",
   "id": "b281d624-5411-4648-9a7f-72846a65f73a",
   "metadata": {},
   "source": [
    "# `atomistics` nodes\n",
    "\n",
    "Example use of the nodes wrapping pyiron's `atomistics` package."
   ]
  },
  {
   "cell_type": "code",
   "execution_count": 1,
   "id": "d9660c9d-89a7-44f1-be8f-cad48a15ac3e",
   "metadata": {},
   "outputs": [],
   "source": [
    "from pyiron_workflow import Workflow"
   ]
  },
  {
   "cell_type": "code",
   "execution_count": 2,
   "id": "0d2a53ed-517d-424f-9066-7820b3b464f1",
   "metadata": {},
   "outputs": [],
   "source": [
    "Workflow.register(\"calculator\", \"pyiron_workflow.node_library.atomistics.calculator\")\n",
    "Workflow.register(\"macro\", \"pyiron_workflow.node_library.atomistics.macro\")\n",
    "Workflow.register(\"task\", \"pyiron_workflow.node_library.atomistics.task\")"
   ]
  },
  {
   "cell_type": "code",
   "execution_count": 3,
   "id": "bc0e6187-236d-4cba-8674-de14a0520257",
   "metadata": {},
   "outputs": [],
   "source": [
    "wf = Workflow(\"ev_curve\")\n",
    "\n",
    "wf.structure = wf.create.task.Bulk(\"Al\")\n",
    "wf.calculator = wf.create.calculator.Emt()\n",
    "wf.ev = wf.create.macro.EnergyVolumeCurve(\n",
    "    structure=wf.structure, \n",
    "    calculator=wf.calculator,\n",
    ")\n",
    "wf.elastic = wf.create.macro.ElasticMatrix(\n",
    "    structure=wf.structure, \n",
    "    calculator=wf.calculator,\n",
    ")\n",
    "wf.phonons = wf.create.macro.Phonons(\n",
    "    structure=wf.structure, \n",
    "    calculator=wf.calculator,\n",
    ")"
   ]
  },
  {
   "cell_type": "code",
   "execution_count": 4,
   "id": "585b69dc-7140-4891-be1d-9250827f96ac",
   "metadata": {},
   "outputs": [],
   "source": [
    "out = wf()"
   ]
  },
  {
   "cell_type": "code",
   "execution_count": 5,
   "id": "a523bcd8-c7f0-4b55-9592-5a3c37c6f34e",
   "metadata": {},
   "outputs": [
    {
     "data": {
      "text/plain": [
       "39.544084907317895"
      ]
     },
     "execution_count": 5,
     "metadata": {},
     "output_type": "execute_result"
    }
   ],
   "source": [
    "out.ev__result_dict[\"bulkmodul_eq\"]"
   ]
  },
  {
   "cell_type": "code",
   "execution_count": 6,
   "id": "65c4cd50-85dd-405f-9d2f-a0f89cb39c7f",
   "metadata": {},
   "outputs": [
    {
     "data": {
      "text/plain": [
       "array([[53.26140026, 24.22288983, 24.22288983,  0.        ,  0.        ,\n",
       "         0.        ],\n",
       "       [24.22288983, 53.26140026, 24.22288983,  0.        ,  0.        ,\n",
       "         0.        ],\n",
       "       [24.22288983, 24.22288983, 53.26140026,  0.        ,  0.        ,\n",
       "         0.        ],\n",
       "       [ 0.        ,  0.        ,  0.        , 32.8950073 ,  0.        ,\n",
       "         0.        ],\n",
       "       [ 0.        ,  0.        ,  0.        ,  0.        , 32.8950073 ,\n",
       "         0.        ],\n",
       "       [ 0.        ,  0.        ,  0.        ,  0.        ,  0.        ,\n",
       "        32.8950073 ]])"
      ]
     },
     "execution_count": 6,
     "metadata": {},
     "output_type": "execute_result"
    }
   ],
   "source": [
    "out.elastic__result_dict[\"C\"]"
   ]
  },
  {
   "cell_type": "code",
   "execution_count": 7,
   "id": "f36b7134-fdaf-439c-a8ed-8e0d12dea6ac",
   "metadata": {},
   "outputs": [
    {
     "data": {
      "text/plain": [
       "array([0.        , 0.        , 0.        , 0.        , 0.        ,\n",
       "       0.        , 0.        , 0.        , 0.        , 0.        ,\n",
       "       0.        , 0.        , 0.        , 0.        , 0.        ,\n",
       "       0.        , 0.        , 0.00694078, 0.00988315, 0.01328576,\n",
       "       0.01714862, 0.02147171, 0.02625505, 0.02985557, 0.037727  ,\n",
       "       0.0434232 , 0.04946553, 0.05566541, 0.06215958, 0.07115592,\n",
       "       0.08064991, 0.09079663, 0.09922499, 0.107314  , 0.11598167,\n",
       "       0.12677452, 0.13892215, 0.15277843, 0.16509068, 0.17714585,\n",
       "       0.18908449, 0.20207234, 0.21663715, 0.23193372, 0.24787345,\n",
       "       0.26531108, 0.28151195, 0.29720939, 0.31555894, 0.33441182,\n",
       "       0.35381457, 0.37348888, 0.39467179, 0.41600753, 0.43856869,\n",
       "       0.46236269, 0.48653458, 0.51129518, 0.53659094, 0.56254718,\n",
       "       0.59054813, 0.62101398, 0.65275413, 0.68514049, 0.71793811,\n",
       "       0.75144708, 0.78583379, 0.82253802, 0.86542963, 0.90976761,\n",
       "       0.95550071, 1.00263393, 1.05112517, 1.10148731, 1.33991857,\n",
       "       1.36193113, 1.34430559, 1.32697925, 1.30233052, 1.2507499 ,\n",
       "       1.49092299, 1.63962028, 3.26506443, 2.06872102, 2.14988263,\n",
       "       2.25562045, 2.26389212, 2.24957095, 2.23068922, 2.19906969,\n",
       "       2.0990768 , 1.92248659, 2.05381061, 2.22262812, 2.26534629,\n",
       "       2.39290591, 2.44805769, 2.51126138, 2.56481713, 2.44897559,\n",
       "       2.39584353, 2.4114828 , 2.49193391, 2.57081989, 2.57019593,\n",
       "       2.41341987, 2.25573881, 2.29896005, 2.57661295, 2.6898915 ,\n",
       "       2.52674647, 2.40732058, 2.39797664, 2.6860019 , 2.77461177,\n",
       "       2.74267508, 2.68147413, 2.65588543, 2.70193114, 2.76928622,\n",
       "       2.6439207 , 2.65435265, 2.90982222, 2.73490294, 1.98457979,\n",
       "       1.72106217, 1.58627925, 1.56213379, 1.62154002, 1.73544337,\n",
       "       1.70256902, 1.65407997, 1.66713389, 1.67643965, 1.63648852,\n",
       "       1.60695654, 1.56655864, 1.61633361, 1.61150893, 1.55133986,\n",
       "       1.53831926, 1.50303936, 1.46605859, 1.56752315, 1.43714305,\n",
       "       1.24968842, 1.45944483, 1.66145587, 1.75923322, 1.73118812,\n",
       "       1.5623509 , 1.49846885, 1.41120813, 1.37756017, 1.49546786,\n",
       "       1.17761685, 1.07980165, 0.98605362, 1.08530243, 1.21699949,\n",
       "       1.93599882, 2.10774636, 2.30948133, 2.46933119, 2.71827848,\n",
       "       2.83882417, 2.97242386, 3.17702959, 3.24129876, 3.4949328 ,\n",
       "       3.60987129, 3.83610362, 2.90427366, 2.52017744, 2.24833264,\n",
       "       2.03412564, 1.82270575, 1.63369566, 1.45666495, 1.27615313,\n",
       "       1.07133396, 0.8484739 , 0.60012783, 0.15450282, 0.        ,\n",
       "       0.        , 0.        , 0.        , 0.        , 0.        ,\n",
       "       0.        , 0.        , 0.        , 0.        , 0.        ,\n",
       "       0.        , 0.        , 0.        , 0.        , 0.        ,\n",
       "       0.        ])"
      ]
     },
     "execution_count": 7,
     "metadata": {},
     "output_type": "execute_result"
    }
   ],
   "source": [
    "out.phonons__result_dict[1][\"total_dos\"]"
   ]
  }
 ],
 "metadata": {
  "kernelspec": {
   "display_name": "Python 3 (ipykernel)",
   "language": "python",
   "name": "python3"
  },
  "language_info": {
   "codemirror_mode": {
    "name": "ipython",
    "version": 3
   },
   "file_extension": ".py",
   "mimetype": "text/x-python",
   "name": "python",
   "nbconvert_exporter": "python",
   "pygments_lexer": "ipython3",
   "version": "3.11.4"
  }
 },
 "nbformat": 4,
 "nbformat_minor": 5
}
