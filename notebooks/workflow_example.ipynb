{
 "cells": [
  {
   "cell_type": "markdown",
   "id": "5edfe456-c5b8-4347-a74f-1fb19fdff91b",
   "metadata": {},
   "source": [
    "# Pyiron workflows: Introduction and Syntax\n",
    "\n",
    "Here we will highlight:\n",
    "- How to instantiate a node\n",
    "- How to make reusable node classes\n",
    "- How to connect node inputs and outputs together\n",
    "- SingleValue nodes and syntactic sugar\n",
    "- Workflows: keeping your computational graphs organized\n",
    "- Using pre-defined nodes \n",
    "- Macro nodes"
   ]
  },
  {
   "cell_type": "markdown",
   "id": "f4e75528-3ea7-4feb-8167-533d439f798d",
   "metadata": {},
   "source": [
    "## Instantiating a node\n",
    "\n",
    "Simple nodes can be defined on-the-fly by passing any callable to the `Function(Node)` class. This transforms the function into a node instance which has input and output, can be connected to other nodes in a workflow, and can run the function it stores.\n",
    "\n",
    "Input and output channels are _automatically_ extracted from the signature and return value(s) of the function. (Note: \"Nodized\" functions must have _at most_ one `return` expression!)"
   ]
  },
  {
   "cell_type": "code",
   "execution_count": 1,
   "id": "8aca3b9b-9ba6-497a-ba9e-abdb15a6a5df",
   "metadata": {},
   "outputs": [],
   "source": [
    "from pyiron_workflow.function import Function"
   ]
  },
  {
   "cell_type": "code",
   "execution_count": 2,
   "id": "2502bc6b-d961-43d1-b2d9-66b20e2740d7",
   "metadata": {},
   "outputs": [],
   "source": [
    "def plus_minus_one(x):\n",
    "    return x+1, x-1\n",
    "\n",
    "pm_node = Function(plus_minus_one)"
   ]
  },
  {
   "cell_type": "markdown",
   "id": "5d15f0c2-b36d-4960-86b3-40d769f78528",
   "metadata": {},
   "source": [
    "This has automatically created a node with input and output data channels whose labels are gathered by inspecting the function:"
   ]
  },
  {
   "cell_type": "code",
   "execution_count": 3,
   "id": "840f4c07-4b21-4bcc-b15c-9847c6c1b048",
   "metadata": {},
   "outputs": [
    {
     "name": "stdout",
     "output_type": "stream",
     "text": [
      "['x'] ['x+1', 'x-1']\n"
     ]
    }
   ],
   "source": [
    "print(pm_node.inputs.labels, pm_node.outputs.labels)"
   ]
  },
  {
   "cell_type": "markdown",
   "id": "22ee2a49-47d1-4cec-bb25-8441ea01faf7",
   "metadata": {},
   "source": [
    "The output is still empty (`NotData`) because we haven't `run()` the node:"
   ]
  },
  {
   "cell_type": "code",
   "execution_count": 4,
   "id": "613a90fa-66ed-49f8-ba8c-2f83a54253cd",
   "metadata": {},
   "outputs": [
    {
     "name": "stdout",
     "output_type": "stream",
     "text": [
      "{'x+1': <class 'pyiron_workflow.channels.NotData'>, 'x-1': <class 'pyiron_workflow.channels.NotData'>}\n"
     ]
    }
   ],
   "source": [
    "print(pm_node.outputs.to_value_dict())"
   ]
  },
  {
   "cell_type": "markdown",
   "id": "0374e277-55ab-45d2-8058-b06365bd07af",
   "metadata": {},
   "source": [
    "If we try that now though, we'll just get a type error because the input is not set! "
   ]
  },
  {
   "cell_type": "code",
   "execution_count": 5,
   "id": "05196cd8-97c7-4f08-ae3a-ad6a076512f7",
   "metadata": {},
   "outputs": [],
   "source": [
    "# pm_node.run()\n",
    "pm_node.update()"
   ]
  },
  {
   "cell_type": "markdown",
   "id": "48b0db5a-548e-4195-8361-76763ddf0474",
   "metadata": {},
   "source": [
    "Using the softer `update()` call checks to make sure the input is `ready` before moving on to `run()`, avoiding this error. In this case, `update()` sees we have no input an aborts by returning `None`.\n",
    "\n",
    "(Note: If you _do_ swap `update()` to `run()` in this cell, not only will you get the expected error, but `pm_node` will also set its `failed` attribute to `True` -- this will prevent it from being `ready` again until you manually reset `pm_node.failed = False`.)"
   ]
  },
  {
   "cell_type": "code",
   "execution_count": 6,
   "id": "b6c00a4e-0c39-4283-ac00-53c3d07f7f10",
   "metadata": {},
   "outputs": [],
   "source": [
    "# pm_node.failed = False"
   ]
  },
  {
   "cell_type": "markdown",
   "id": "84af4b04-79b4-4944-a4c9-131af915d254",
   "metadata": {},
   "source": [
    "If we update the input, we'll give the node enough data to work with:"
   ]
  },
  {
   "cell_type": "code",
   "execution_count": 7,
   "id": "b1500a40-f4f2-4c06-ad78-aaebcf3e9a50",
   "metadata": {},
   "outputs": [
    {
     "name": "stdout",
     "output_type": "stream",
     "text": [
      "{'x+1': 6, 'x-1': 4}\n"
     ]
    }
   ],
   "source": [
    "pm_node.inputs.x = 5\n",
    "pm_node.run()\n",
    "print(pm_node.outputs.to_value_dict())"
   ]
  },
  {
   "cell_type": "markdown",
   "id": "c54a691e-a075-4d41-bc0f-3a990857a27a",
   "metadata": {},
   "source": [
    "Alternatively, the `run()` command (and `update()` when it proceeds to execution) just return the function's return value:"
   ]
  },
  {
   "cell_type": "code",
   "execution_count": 8,
   "id": "e845843c-61f4-4e5c-ac1a-d005787c2841",
   "metadata": {},
   "outputs": [
    {
     "data": {
      "text/plain": [
       "(6, 4)"
      ]
     },
     "execution_count": 8,
     "metadata": {},
     "output_type": "execute_result"
    }
   ],
   "source": [
    "out = pm_node.run()\n",
    "out"
   ]
  },
  {
   "cell_type": "markdown",
   "id": "df4520d7-856e-4bc8-817f-5b2e22c1ddce",
   "metadata": {},
   "source": [
    "We can give our function defaults so that it's ready to go from the beginning. Let's also take the opportunity to give our output channel a better name so we can get it by dot-access."
   ]
  },
  {
   "cell_type": "code",
   "execution_count": 9,
   "id": "ab1ac28a-6e69-491f-882f-da4a43162dd7",
   "metadata": {},
   "outputs": [
    {
     "data": {
      "text/plain": [
       "1"
      ]
     },
     "execution_count": 9,
     "metadata": {},
     "output_type": "execute_result"
    }
   ],
   "source": [
    "def adder(x: int = 0, y: int = 1) -> int:\n",
    "    sum_ = x + y\n",
    "    return sum_\n",
    "\n",
    "adder_node = Function(adder)\n",
    "adder_node.run()\n",
    "adder_node.outputs.sum_.value  # We use `value` to see the data the channel holds"
   ]
  },
  {
   "cell_type": "markdown",
   "id": "58ed9b25-6dde-488d-9582-d49d405793c6",
   "metadata": {},
   "source": [
    "This node also exploits type hinting! `run()` will always force the execution, but `update()` will not only check if the data is there, but also if it is the right type:"
   ]
  },
  {
   "cell_type": "code",
   "execution_count": 10,
   "id": "ac0fe993-6c82-48c8-a780-cbd0c97fc386",
   "metadata": {},
   "outputs": [],
   "source": [
    "adder_node.inputs.x = \"not an integer\"\n",
    "adder_node.inputs.x.type_hint, type(adder_node.inputs.x.value)\n",
    "adder_node.update()\n",
    "# No error because the update doesn't trigger a run since the type hint is not satisfied"
   ]
  },
  {
   "cell_type": "markdown",
   "id": "2737de39-6e75-44e1-b751-6315afe5c676",
   "metadata": {},
   "source": [
    "Since the execution never happened, the output is unchanged"
   ]
  },
  {
   "cell_type": "code",
   "execution_count": 11,
   "id": "bcbd17f1-a3e4-44f0-bde1-cbddc51c5d73",
   "metadata": {},
   "outputs": [
    {
     "data": {
      "text/plain": [
       "1"
      ]
     },
     "execution_count": 11,
     "metadata": {},
     "output_type": "execute_result"
    }
   ],
   "source": [
    "adder_node.outputs.sum_.value"
   ]
  },
  {
   "cell_type": "code",
   "execution_count": 12,
   "id": "15742a49-4c23-4d4a-84d9-9bf19677544c",
   "metadata": {},
   "outputs": [
    {
     "data": {
      "text/plain": [
       "3"
      ]
     },
     "execution_count": 12,
     "metadata": {},
     "output_type": "execute_result"
    }
   ],
   "source": [
    "adder_node.inputs.x = 2\n",
    "adder_node.update()"
   ]
  },
  {
   "cell_type": "markdown",
   "id": "416ba898-21ee-4638-820f-0f04a98a6706",
   "metadata": {},
   "source": [
    "We can also set new input as any valid combination of kwargs and/or args at both instantiation or on call:"
   ]
  },
  {
   "cell_type": "code",
   "execution_count": 13,
   "id": "0c8f09a7-67c4-4c6c-a021-e3fea1a16576",
   "metadata": {},
   "outputs": [
    {
     "data": {
      "text/plain": [
       "30"
      ]
     },
     "execution_count": 13,
     "metadata": {},
     "output_type": "execute_result"
    }
   ],
   "source": [
    "adder_node(10, y=20)\n",
    "adder_node.run()"
   ]
  },
  {
   "cell_type": "markdown",
   "id": "c0997630-c053-42bb-8c0d-332f8bc26216",
   "metadata": {},
   "source": [
    "Finally, we can update input and then `run` together by calling an already-instantiated node. Just like at node instantiation, the input for `Function` nodes can be set by positional and/or keyword argument. Here we'll use two positional args:"
   ]
  },
  {
   "cell_type": "code",
   "execution_count": 14,
   "id": "69b59737-9e09-4b4b-a0e2-76a09de02c08",
   "metadata": {},
   "outputs": [
    {
     "data": {
      "text/plain": [
       "31"
      ]
     },
     "execution_count": 14,
     "metadata": {},
     "output_type": "execute_result"
    }
   ],
   "source": [
    "adder_node(15, 16)"
   ]
  },
  {
   "cell_type": "markdown",
   "id": "f233f3f7-9576-4400-8e92-a1f6109d7f9b",
   "metadata": {},
   "source": [
    "Note for advanced users: when the node has an executor set, running returns a futures object for the calculation, whose `.result()` will eventually be the function output."
   ]
  },
  {
   "cell_type": "markdown",
   "id": "07a22cee-e340-4551-bb81-07d8be1d152b",
   "metadata": {},
   "source": [
    "## Reusable node classes\n",
    "\n",
    "If we're going to use a node many times, we may want to define a new sub-class of `Function` to handle this.\n",
    "\n",
    "The can be done directly by inheriting from `Function` and overriding it's `__init__` function so that the core functionality of the node (i.e. the node function and output labels) are set in stone, but even easier is to use the `function_node` decorator to do this for you! \n",
    "\n",
    "The decorator also lets us explicitly choose the names of our output channels by passing the `output_labels` argument to the decorator -- as a string to create a single channel for the returned values, or as a list of strings equal to the number of returned values in a returned tuple."
   ]
  },
  {
   "cell_type": "code",
   "execution_count": 15,
   "id": "61b43a9b-8dad-48b7-9194-2045e465793b",
   "metadata": {},
   "outputs": [],
   "source": [
    "from pyiron_workflow.function import function_node"
   ]
  },
  {
   "cell_type": "code",
   "execution_count": 16,
   "id": "647360a9-c971-4272-995c-aa01e5f5bb83",
   "metadata": {},
   "outputs": [
    {
     "name": "stdout",
     "output_type": "stream",
     "text": [
      "class name = SubtractNode\n",
      "label = subtract_node\n",
      "default output = -1\n"
     ]
    }
   ],
   "source": [
    "@function_node(\"diff\")\n",
    "def subtract_node(x: int | float = 1, y: int | float = 2) -> int | float:\n",
    "    return x - y\n",
    "\n",
    "sn = subtract_node()\n",
    "print(\"class name =\", sn.__class__.__name__)\n",
    "print(\"label =\", sn.label)\n",
    "\n",
    "sn()  # Runs without updating input data, but we have defaults so that's fine\n",
    "print(\"default output =\", sn.outputs.diff.value)"
   ]
  },
  {
   "cell_type": "markdown",
   "id": "77642993-63c3-41a3-a963-a406de33553c",
   "metadata": {},
   "source": [
    "The decorator is just dynamically defining a new child of the `Function` class. These children have their behaviour available in the static method `node_function` so we can access it right from the class level, e.g. to modify the behaviour:"
   ]
  },
  {
   "cell_type": "code",
   "execution_count": 17,
   "id": "b8c845b7-7088-43d7-b106-7a6ba1c571ec",
   "metadata": {},
   "outputs": [
    {
     "name": "stdout",
     "output_type": "stream",
     "text": [
      "default output = 1\n"
     ]
    }
   ],
   "source": [
    "@function_node(\"square_diff\")\n",
    "def subtract_and_sqaure_node(x: int | float = 1, y: int | float = 2) -> int | float:\n",
    "    return subtract_node.node_function(x, y)**2\n",
    "    \n",
    "ssq = subtract_and_sqaure_node()\n",
    "ssq()\n",
    "print(\"default output =\", ssq.outputs.square_diff.value)"
   ]
  },
  {
   "cell_type": "markdown",
   "id": "9b9220b0-833d-4c6a-9929-5dfa60a47d14",
   "metadata": {
    "tags": []
   },
   "source": [
    "# Connecting nodes and controlling flow\n",
    "\n",
    "Multiple nodes can be used together to build a computational graph, with each node performing a particular operation in the overall workflow:\n",
    "\n",
    "The input and output of nodes can be chained together by connecting their data channels. When a node runs, its output channels will push their new value to each input node to whom they are connected. In this way, data propagates forwards\n",
    "\n",
    "In addition to input and output data channels, nodes also have \"signal\" channels available. Input signals are bound to a callback function (typically one of its node's methods), and output signals trigger the callbacks for all the input signal channels they're connected to.\n",
    "\n",
    "Standard nodes have a `run` input signal (which is, unsurprisingly, bound to the `run` method), and a `ran` output signal (which, again, hopefully with no great surprise, is triggered at the end of the `run` method.)\n",
    "\n",
    "In the example below we see how this works for a super-simple toy graph:"
   ]
  },
  {
   "cell_type": "code",
   "execution_count": 18,
   "id": "2e418abf-7059-4e1e-9b9f-b3dc0a4b5e35",
   "metadata": {
    "tags": []
   },
   "outputs": [
    {
     "name": "stdout",
     "output_type": "stream",
     "text": [
      "1 2\n"
     ]
    }
   ],
   "source": [
    "@function_node()\n",
    "def linear(x):\n",
    "    return x\n",
    "\n",
    "@function_node(\"double\")\n",
    "def times_two(x):\n",
    "    return 2 * x\n",
    "\n",
    "l = linear()\n",
    "t2 = times_two()\n",
    "\n",
    "l.inputs.x = 1\n",
    "t2.inputs.x = l.outputs.x\n",
    "t2.signals.input.run = l.signals.output.ran\n",
    "\n",
    "l.run()\n",
    "print(t2.inputs.x, t2.outputs.double)"
   ]
  },
  {
   "cell_type": "markdown",
   "id": "5da1ecfc-7145-4fb2-b5c0-417f050c5de4",
   "metadata": {},
   "source": [
    "We can use a couple pieces of syntactic sugar to make this faster.\n",
    "\n",
    "First: data connections can be made with keyword arguments just like other input data definitions.\n",
    "\n",
    "Second: the `>` is a shortcut for creating connections between the left-hand node's `signals.output.ran` channel and the right-hand node's `signals.input.run` channel.\n",
    "\n",
    "With both of these together, we can write:"
   ]
  },
  {
   "cell_type": "code",
   "execution_count": 19,
   "id": "59c29856-c77e-48a1-9f17-15d4c58be588",
   "metadata": {},
   "outputs": [
    {
     "name": "stdout",
     "output_type": "stream",
     "text": [
      "10 20\n"
     ]
    }
   ],
   "source": [
    "l = linear(x=10)\n",
    "t2 = times_two(x=l.outputs.x)\n",
    "l > t2\n",
    "l.run()\n",
    "print(t2.inputs.x, t2.outputs.double)"
   ]
  },
  {
   "cell_type": "markdown",
   "id": "e5c531a3-77e4-48ad-a189-fed619e79baa",
   "metadata": {},
   "source": [
    "## Single Value nodes\n",
    "\n",
    "Many functions return just a single value. In this case, we can take advantage of the `SingleValue` node class which employs a bunch of syntactic tricks to make our lives easier.\n",
    "\n",
    "The main difference between this and it's parent the `Function` class is that attribute and item access fall back to looking for attributes and items of this single output value.\n",
    "\n",
    "Let's look at a use case:"
   ]
  },
  {
   "cell_type": "code",
   "execution_count": 20,
   "id": "1a4e9693-0980-4435-aecc-3331d8b608dd",
   "metadata": {},
   "outputs": [],
   "source": [
    "import numpy as np\n",
    "\n",
    "from pyiron_workflow.function import SingleValue"
   ]
  },
  {
   "cell_type": "code",
   "execution_count": 21,
   "id": "7c4d314b-33bb-4a67-bfb9-ed77fba3949c",
   "metadata": {},
   "outputs": [
    {
     "name": "stdout",
     "output_type": "stream",
     "text": [
      "<class 'numpy.ndarray'>\n",
      "[0.02040816 0.04081633 0.06122449]\n",
      "0.5\n"
     ]
    }
   ],
   "source": [
    "def linspace_node(\n",
    "    start: int | float = 0, stop: int | float = 1, num: int = 50\n",
    "):\n",
    "    linspace = np.linspace(start=start, stop=stop, num=num)\n",
    "    return linspace\n",
    "\n",
    "lin = SingleValue(linspace_node)\n",
    "lin.run()\n",
    "\n",
    "print(type(lin.outputs.linspace.value))  # Output is just what we expect\n",
    "print(lin[1:4])  # Gets items from the output\n",
    "print(lin.mean())  # Finds the method on the output -- a special feature of SingleValueNode"
   ]
  },
  {
   "cell_type": "markdown",
   "id": "eef23cb0-6192-4fe6-b9cc-007e261e347a",
   "metadata": {},
   "source": [
    "The other advantage is that single value nodes can also be connected directly to input, since there is only one possible data connection. Of course it has a construction decorator just like `Function`, so let's replace `@function_node` with `@single_value_node` in one of our examples above to see how it tightens up the syntax a bit:"
   ]
  },
  {
   "cell_type": "code",
   "execution_count": 22,
   "id": "61ae572f-197b-4a60-8d3e-e19c1b9cc6e2",
   "metadata": {},
   "outputs": [
    {
     "name": "stdout",
     "output_type": "stream",
     "text": [
      "times_two (TimesTwo) output single-value: 4\n"
     ]
    }
   ],
   "source": [
    "from pyiron_workflow.function import single_value_node\n",
    "\n",
    "@single_value_node()\n",
    "def linear(x):\n",
    "    return x\n",
    "\n",
    "@single_value_node(\"double\")\n",
    "def times_two(x):\n",
    "    return 2 * x\n",
    "\n",
    "l = linear(x=2)\n",
    "t2 = times_two(x=l)  # Just takes the whole `l` node!\n",
    "l > t2\n",
    "l.run()\n",
    "print(t2)"
   ]
  },
  {
   "cell_type": "markdown",
   "id": "b2e56a64-d053-4127-bb8c-069777c1c6b5",
   "metadata": {},
   "source": [
    "Nodes can take input from multiple sources, and we can chain together these execution orders:"
   ]
  },
  {
   "cell_type": "code",
   "execution_count": 23,
   "id": "6569014a-815b-46dd-8b47-4e1cd4584b3b",
   "metadata": {},
   "outputs": [
    {
     "data": {
      "text/plain": [
       "array([0.87397076, 0.3156643 , 0.76573646, 0.6628496 , 0.98520977,\n",
       "       0.66537535, 0.77108864, 0.64995335, 0.6862261 , 0.43859525])"
      ]
     },
     "execution_count": 23,
     "metadata": {},
     "output_type": "execute_result"
    },
    {
     "data": {
      "image/png": "[encoded data removed]",
      "text/plain": [
       "<Figure size 640x480 with 1 Axes>"
      ]
     },
     "metadata": {},
     "output_type": "display_data"
    }
   ],
   "source": [
    "import matplotlib.pyplot as plt\n",
    "\n",
    "@single_value_node()\n",
    "def noise(length: int = 1):\n",
    "    array =  np.random.rand(length)\n",
    "    return array\n",
    "\n",
    "@function_node()\n",
    "def plot(x, y):\n",
    "    fig = plt.scatter(x, y)\n",
    "    return fig\n",
    "\n",
    "x = noise(length=10)\n",
    "y = noise(length=10)\n",
    "f = plot(x=x, y=y)\n",
    "x > y > f\n",
    "x()"
   ]
  },
  {
   "cell_type": "markdown",
   "id": "5dc12164-b663-405b-872f-756996f628bd",
   "metadata": {},
   "source": [
    "# Workflows\n",
    "\n",
    "The case where we have groups of connected nodes working together is our normal, intended use case.\n",
    "We offer a formal way to group these objects together as a `Workflow(Node)` object.\n",
    "`Workflow` also offers us a single point of entry to the codebase -- i.e. most of the time you shouldn't need the node imports used above, because the decorators are available right on the workflow class.\n",
    "\n",
    "We will also see here that we can our node output channels using the `output_labels: Optional[str | list[str] | tuple[str]` kwarg, in case they don't have a convenient name to start with.\n",
    "This way we can always have convenient dot-based access (and tab completion) instead of having to access things by string-based keys.\n",
    "\n",
    "Finally, when a workflow is run, unless its `automate_execution` flag has been set to `False` or the data connections form a cyclic graph, it will _automatically_ build the necessary run signals! That means for all directed acyclic graph (DAG) workflows, all we typically need to worry about is the data connections."
   ]
  },
  {
   "cell_type": "markdown",
   "id": "9b9d3881-3584-4d6f-8068-5eed05760c36",
   "metadata": {},
   "source": [
    "Here is an example showing how `Workflow` can be used as a single-point-of-import for defining new nodes:"
   ]
  },
  {
   "cell_type": "code",
   "execution_count": 24,
   "id": "1cd000bd-9b24-4c39-9cac-70a3291d0660",
   "metadata": {},
   "outputs": [],
   "source": [
    "from pyiron_workflow import Workflow\n",
    "\n",
    "@Workflow.wrap_as.single_value_node(\"is_greater\")\n",
    "def greater_than_half(x: int | float | bool = 0) -> bool:\n",
    "    \"\"\"The functionality doesn't matter here, it's just an example\"\"\"\n",
    "    return x > 0.5"
   ]
  },
  {
   "cell_type": "markdown",
   "id": "8f17751c-f5bf-4b13-8275-0685d8a1629e",
   "metadata": {},
   "source": [
    "## Adding nodes to a workflow\n",
    "\n",
    "Each node can belong to exactly one workflow...but how to we create a workflow and add nodes to it\n",
    "\n",
    "All five of the approaches below are equivalent ways to add a node to a workflow. Note that when `create` is called from the workflow _class_ it just gives you access to the class being created; when it is called from a workflow _instance_, it wraps this class so that the created node has its parent value automatically set to the workflow instance that's creating it."
   ]
  },
  {
   "cell_type": "code",
   "execution_count": 25,
   "id": "7964df3c-55af-4c25-afc5-9e07accb606a",
   "metadata": {},
   "outputs": [
    {
     "name": "stdout",
     "output_type": "stream",
     "text": [
      "n1 == n1) 0.0 > 0.5 False\n",
      "n2 == n2) 0.2 > 0.5 False\n",
      "n3 == n3) 0.4 > 0.5 False\n",
      "n4 == n4) 0.6 > 0.5 True\n",
      "n5 == n5) 0.8 > 0.5 True\n"
     ]
    }
   ],
   "source": [
    "n1 = greater_than_half(label=\"n1\")\n",
    "\n",
    "wf = Workflow(\"my_wf\", n1)  # As args at init\n",
    "wf.create.SingleValue(n1.node_function, output_labels=\"p1\", label=\"n2\")  # Instantiating from the class with a function\n",
    "wf.add(greater_than_half(label=\"n3\"))  # Instantiating then passing to node adder\n",
    "wf.n4 = greater_than_half(label=\"will_get_overwritten_with_n4\")  # Set attribute to instance\n",
    "greater_than_half(label=\"n5\", parent=wf)  # By passing the workflow to the node\n",
    "\n",
    "for i, (label, node) in enumerate(wf.nodes.items()):\n",
    "    x = i / len(wf)\n",
    "    node(x=x)\n",
    "    print(f\"{label} == {node.label}) {x} > 0.5 {node.single_value}\")"
   ]
  },
  {
   "cell_type": "markdown",
   "id": "dd5768a4-1810-4675-9389-bceb053cddfa",
   "metadata": {},
   "source": [
    "Workflows have inputs and outputs just like function nodes, but these are dynamically created to map to all _unconnected_ input and output for their underlying graph. They automatically get named by connecting the node label and channel label with a double underscore, but this can be overriden by providing an `inputs_map` and/or an `outputs_map` -- these maps can also let you expose data channels that would otherwise be hidden because they have a connection!"
   ]
  },
  {
   "cell_type": "code",
   "execution_count": 26,
   "id": "809178a5-2e6b-471d-89ef-0797db47c5ad",
   "metadata": {},
   "outputs": [
    {
     "name": "stdout",
     "output_type": "stream",
     "text": [
      "['ax', 'b__x'] ['ay', 'a + b + 2']\n"
     ]
    }
   ],
   "source": [
    "wf = Workflow(\"simple\")\n",
    "\n",
    "@Workflow.wrap_as.single_value_node()\n",
    "def add_one(x):\n",
    "    y = x + 1\n",
    "    return y\n",
    "\n",
    "@Workflow.wrap_as.single_value_node(\"sum\")\n",
    "def add_node(x, y):\n",
    "    return x + y\n",
    "\n",
    "wf.a = add_one(0)\n",
    "wf.b = add_one(0)\n",
    "wf.sum = add_node(wf.a, wf.b)  \n",
    "wf.inputs_map = {\"a__x\": \"ax\"}\n",
    "wf.outputs_map = {\"a__y\": \"ay\", \"sum__sum\": \"a + b + 2\"}\n",
    "# Remember, with single value nodes we can pass the whole node instead of an output channel!\n",
    "\n",
    "print(wf.inputs.labels, wf.outputs.labels)"
   ]
  },
  {
   "cell_type": "markdown",
   "id": "848a45a9-dfcc-4b9e-aec5-e879d88325a2",
   "metadata": {},
   "source": [
    "When `run()` is called on a workflow, it will call `run()` on each node in its `starting_nodes` list and rely on these to propagate the execution with their run signals. If your data flow is DAG-like, all of this gets handled automatically so you just need to call `run()` on the workflow.\n",
    "\n",
    "If you do have cyclic data flows, or just want more control, you are still free to set the `starting_nodes` and run signals yourself, just don't forget to set `automate_execution=False` on the workflow."
   ]
  },
  {
   "cell_type": "markdown",
   "id": "18ba07ca-f1f9-4f05-98db-d5612f9acbb6",
   "metadata": {},
   "source": [
    "Unlike function nodes, workflow input has no intrinsic order. We can still update it by calling the workflow, but we _need_ to use keyword and not positional arguments. Runs of the workflow then return a dot-accessible dictionary based on the output channels:"
   ]
  },
  {
   "cell_type": "code",
   "execution_count": 27,
   "id": "52c48d19-10a2-4c48-ae81-eceea4129a60",
   "metadata": {},
   "outputs": [
    {
     "data": {
      "text/plain": [
       "{'ay': 3, 'a + b + 2': 7}"
      ]
     },
     "execution_count": 27,
     "metadata": {},
     "output_type": "execute_result"
    }
   ],
   "source": [
    "out = wf(ax=2, b__x=3)\n",
    "out"
   ]
  },
  {
   "cell_type": "markdown",
   "id": "e3f4b51b-7c28-47f7-9822-b4755e12bd4d",
   "metadata": {},
   "source": [
    "We can see now why we've been trying to givesuccinct string labels to our `Function` node outputs instead of just arbitrary expressions! The expressions are typically not dot-accessible:"
   ]
  },
  {
   "cell_type": "code",
   "execution_count": 28,
   "id": "bb35ba3e-602d-4c9c-b046-32da9401dd1c",
   "metadata": {},
   "outputs": [
    {
     "data": {
      "text/plain": [
       "(7, 3)"
      ]
     },
     "execution_count": 28,
     "metadata": {},
     "output_type": "execute_result"
    }
   ],
   "source": [
    "out[\"a + b + 2\"], out.ay"
   ]
  },
  {
   "cell_type": "markdown",
   "id": "c67ddcd9-cea0-4f3f-96aa-491da0a4c459",
   "metadata": {},
   "source": [
    "We can also look at our graph:"
   ]
  },
  {
   "cell_type": "code",
   "execution_count": 29,
   "id": "2b0d2c85-9049-417b-8739-8a8432a1efbe",
   "metadata": {},
   "outputs": [
    {
     "data": {
      "image/svg+xml": [
       "<?xml version=\"1.0\" encoding=\"UTF-8\" standalone=\"no\"?>\n",
       "<!DOCTYPE svg PUBLIC \"-//W3C//DTD SVG 1.1//EN\"\n",
       " \"http://www.w3.org/Graphics/SVG/1.1/DTD/svg11.dtd\">\n",
       "<!-- Generated by graphviz version 8.0.5 (0)\n",
       " -->\n",
       "<!-- Title: clustersimple Pages: 1 -->\n",
       "<svg width=\"764pt\" height=\"332pt\"\n",
       " viewBox=\"0.00 0.00 763.93 332.25\" xmlns=\"http://www.w3.org/2000/svg\" xmlns:xlink=\"http://www.w3.org/1999/xlink\">\n",
       "<g id=\"graph0\" class=\"graph\" transform=\"scale(1 1) rotate(0) translate(4 328.25)\">\n",
       "<title>clustersimple</title>\n",
       "<polygon fill=\"white\" stroke=\"none\" points=\"-4,4 -4,-328.25 759.93,-328.25 759.93,4 -4,4\"/>\n",
       "<text text-anchor=\"middle\" x=\"377.96\" y=\"-4.95\" font-family=\"Times,serif\" font-size=\"14.00\">simple: Workflow</text>\n",
       "<g id=\"clust1\" class=\"cluster\">\n",
       "<title>clustersimpleInputs</title>\n",
       "<defs>\n",
       "<linearGradient id=\"clust1_l_0\" gradientUnits=\"userSpaceOnUse\" x1=\"8\" y1=\"-121.25\" x2=\"78.7\" y2=\"-121.25\" >\n",
       "<stop offset=\"0\" style=\"stop-color:#7f7f7f;stop-opacity:1.;\"/>\n",
       "<stop offset=\"1\" style=\"stop-color:#d9d9d9;stop-opacity:1.;\"/>\n",
       "</linearGradient>\n",
       "</defs>\n",
       "<polygon fill=\"url(#clust1_l_0)\" stroke=\"black\" points=\"8,-30.25 8,-212.25 78.7,-212.25 78.7,-30.25 8,-30.25\"/>\n",
       "<text text-anchor=\"middle\" x=\"43.35\" y=\"-194.95\" font-family=\"Times,serif\" font-size=\"14.00\">Inputs</text>\n",
       "</g>\n",
       "<g id=\"clust2\" class=\"cluster\">\n",
       "<title>clustersimpleOutputs</title>\n",
       "<defs>\n",
       "<linearGradient id=\"clust2_l_1\" gradientUnits=\"userSpaceOnUse\" x1=\"747.93\" y1=\"-121.25\" x2=\"646.7\" y2=\"-121.25\" >\n",
       "<stop offset=\"0\" style=\"stop-color:#7f7f7f;stop-opacity:1.;\"/>\n",
       "<stop offset=\"1\" style=\"stop-color:#d9d9d9;stop-opacity:1.;\"/>\n",
       "</linearGradient>\n",
       "</defs>\n",
       "<polygon fill=\"url(#clust2_l_1)\" stroke=\"black\" points=\"646.7,-30.25 646.7,-212.25 747.93,-212.25 747.93,-30.25 646.7,-30.25\"/>\n",
       "<text text-anchor=\"middle\" x=\"697.31\" y=\"-194.95\" font-family=\"Times,serif\" font-size=\"14.00\">Outputs</text>\n",
       "</g>\n",
       "<g id=\"clust3\" class=\"cluster\">\n",
       "<title>clustersimplea</title>\n",
       "<defs>\n",
       "<linearGradient id=\"clust3_l_2\" gradientUnits=\"userSpaceOnUse\" x1=\"178.7\" y1=\"-150.25\" x2=\"178.7\" y2=\"-316.25\" >\n",
       "<stop offset=\"0\" style=\"stop-color:#17becf;stop-opacity:1.;\"/>\n",
       "<stop offset=\"1\" style=\"stop-color:#b9ecf1;stop-opacity:1.;\"/>\n",
       "</linearGradient>\n",
       "</defs>\n",
       "<polygon fill=\"url(#clust3_l_2)\" stroke=\"black\" points=\"90.7,-150.25 90.7,-316.25 266.7,-316.25 266.7,-150.25 90.7,-150.25\"/>\n",
       "<text text-anchor=\"middle\" x=\"178.7\" y=\"-298.95\" font-family=\"Times,serif\" font-size=\"14.00\">a: AddOne</text>\n",
       "</g>\n",
       "<g id=\"clust4\" class=\"cluster\">\n",
       "<title>clustersimpleaInputs</title>\n",
       "<defs>\n",
       "<linearGradient id=\"clust4_l_3\" gradientUnits=\"userSpaceOnUse\" x1=\"98.7\" y1=\"-222.25\" x2=\"168.7\" y2=\"-222.25\" >\n",
       "<stop offset=\"0\" style=\"stop-color:#7f7f7f;stop-opacity:1.;\"/>\n",
       "<stop offset=\"1\" style=\"stop-color:#d9d9d9;stop-opacity:1.;\"/>\n",
       "</linearGradient>\n",
       "</defs>\n",
       "<polygon fill=\"url(#clust4_l_3)\" stroke=\"black\" points=\"98.7,-158.25 98.7,-286.25 168.7,-286.25 168.7,-158.25 98.7,-158.25\"/>\n",
       "<text text-anchor=\"middle\" x=\"133.7\" y=\"-268.95\" font-family=\"Times,serif\" font-size=\"14.00\">Inputs</text>\n",
       "</g>\n",
       "<g id=\"clust5\" class=\"cluster\">\n",
       "<title>clustersimpleaOutputs</title>\n",
       "<defs>\n",
       "<linearGradient id=\"clust5_l_4\" gradientUnits=\"userSpaceOnUse\" x1=\"258.7\" y1=\"-222.25\" x2=\"188.7\" y2=\"-222.25\" >\n",
       "<stop offset=\"0\" style=\"stop-color:#7f7f7f;stop-opacity:1.;\"/>\n",
       "<stop offset=\"1\" style=\"stop-color:#d9d9d9;stop-opacity:1.;\"/>\n",
       "</linearGradient>\n",
       "</defs>\n",
       "<polygon fill=\"url(#clust5_l_4)\" stroke=\"black\" points=\"188.7,-158.25 188.7,-286.25 258.7,-286.25 258.7,-158.25 188.7,-158.25\"/>\n",
       "<text text-anchor=\"middle\" x=\"223.7\" y=\"-268.95\" font-family=\"Times,serif\" font-size=\"14.00\">Outputs</text>\n",
       "</g>\n",
       "<g id=\"clust6\" class=\"cluster\">\n",
       "<title>clustersimpleb</title>\n",
       "<defs>\n",
       "<linearGradient id=\"clust6_l_5\" gradientUnits=\"userSpaceOnUse\" x1=\"362.7\" y1=\"-75.25\" x2=\"362.7\" y2=\"-241.25\" >\n",
       "<stop offset=\"0\" style=\"stop-color:#17becf;stop-opacity:1.;\"/>\n",
       "<stop offset=\"1\" style=\"stop-color:#b9ecf1;stop-opacity:1.;\"/>\n",
       "</linearGradient>\n",
       "</defs>\n",
       "<polygon fill=\"url(#clust6_l_5)\" stroke=\"black\" points=\"274.7,-75.25 274.7,-241.25 450.7,-241.25 450.7,-75.25 274.7,-75.25\"/>\n",
       "<text text-anchor=\"middle\" x=\"362.7\" y=\"-223.95\" font-family=\"Times,serif\" font-size=\"14.00\">b: AddOne</text>\n",
       "</g>\n",
       "<g id=\"clust7\" class=\"cluster\">\n",
       "<title>clustersimplebInputs</title>\n",
       "<defs>\n",
       "<linearGradient id=\"clust7_l_6\" gradientUnits=\"userSpaceOnUse\" x1=\"282.7\" y1=\"-147.25\" x2=\"352.7\" y2=\"-147.25\" >\n",
       "<stop offset=\"0\" style=\"stop-color:#7f7f7f;stop-opacity:1.;\"/>\n",
       "<stop offset=\"1\" style=\"stop-color:#d9d9d9;stop-opacity:1.;\"/>\n",
       "</linearGradient>\n",
       "</defs>\n",
       "<polygon fill=\"url(#clust7_l_6)\" stroke=\"black\" points=\"282.7,-83.25 282.7,-211.25 352.7,-211.25 352.7,-83.25 282.7,-83.25\"/>\n",
       "<text text-anchor=\"middle\" x=\"317.7\" y=\"-193.95\" font-family=\"Times,serif\" font-size=\"14.00\">Inputs</text>\n",
       "</g>\n",
       "<g id=\"clust8\" class=\"cluster\">\n",
       "<title>clustersimplebOutputs</title>\n",
       "<defs>\n",
       "<linearGradient id=\"clust8_l_7\" gradientUnits=\"userSpaceOnUse\" x1=\"442.7\" y1=\"-147.25\" x2=\"372.7\" y2=\"-147.25\" >\n",
       "<stop offset=\"0\" style=\"stop-color:#7f7f7f;stop-opacity:1.;\"/>\n",
       "<stop offset=\"1\" style=\"stop-color:#d9d9d9;stop-opacity:1.;\"/>\n",
       "</linearGradient>\n",
       "</defs>\n",
       "<polygon fill=\"url(#clust8_l_7)\" stroke=\"black\" points=\"372.7,-83.25 372.7,-211.25 442.7,-211.25 442.7,-83.25 372.7,-83.25\"/>\n",
       "<text text-anchor=\"middle\" x=\"407.7\" y=\"-193.95\" font-family=\"Times,serif\" font-size=\"14.00\">Outputs</text>\n",
       "</g>\n",
       "<g id=\"clust9\" class=\"cluster\">\n",
       "<title>clustersimplesum</title>\n",
       "<defs>\n",
       "<linearGradient id=\"clust9_l_8\" gradientUnits=\"userSpaceOnUse\" x1=\"546.7\" y1=\"-75.25\" x2=\"546.7\" y2=\"-295.25\" >\n",
       "<stop offset=\"0\" style=\"stop-color:#17becf;stop-opacity:1.;\"/>\n",
       "<stop offset=\"1\" style=\"stop-color:#b9ecf1;stop-opacity:1.;\"/>\n",
       "</linearGradient>\n",
       "</defs>\n",
       "<polygon fill=\"url(#clust9_l_8)\" stroke=\"black\" points=\"458.7,-75.25 458.7,-295.25 634.7,-295.25 634.7,-75.25 458.7,-75.25\"/>\n",
       "<text text-anchor=\"middle\" x=\"546.7\" y=\"-277.95\" font-family=\"Times,serif\" font-size=\"14.00\">sum: AddNode</text>\n",
       "</g>\n",
       "<g id=\"clust10\" class=\"cluster\">\n",
       "<title>clustersimplesumInputs</title>\n",
       "<defs>\n",
       "<linearGradient id=\"clust10_l_9\" gradientUnits=\"userSpaceOnUse\" x1=\"466.7\" y1=\"-174.25\" x2=\"536.7\" y2=\"-174.25\" >\n",
       "<stop offset=\"0\" style=\"stop-color:#7f7f7f;stop-opacity:1.;\"/>\n",
       "<stop offset=\"1\" style=\"stop-color:#d9d9d9;stop-opacity:1.;\"/>\n",
       "</linearGradient>\n",
       "</defs>\n",
       "<polygon fill=\"url(#clust10_l_9)\" stroke=\"black\" points=\"466.7,-83.25 466.7,-265.25 536.7,-265.25 536.7,-83.25 466.7,-83.25\"/>\n",
       "<text text-anchor=\"middle\" x=\"501.7\" y=\"-247.95\" font-family=\"Times,serif\" font-size=\"14.00\">Inputs</text>\n",
       "</g>\n",
       "<g id=\"clust11\" class=\"cluster\">\n",
       "<title>clustersimplesumOutputs</title>\n",
       "<defs>\n",
       "<linearGradient id=\"clust11_l_10\" gradientUnits=\"userSpaceOnUse\" x1=\"626.7\" y1=\"-147.25\" x2=\"556.7\" y2=\"-147.25\" >\n",
       "<stop offset=\"0\" style=\"stop-color:#7f7f7f;stop-opacity:1.;\"/>\n",
       "<stop offset=\"1\" style=\"stop-color:#d9d9d9;stop-opacity:1.;\"/>\n",
       "</linearGradient>\n",
       "</defs>\n",
       "<polygon fill=\"url(#clust11_l_10)\" stroke=\"black\" points=\"556.7,-83.25 556.7,-211.25 626.7,-211.25 626.7,-83.25 556.7,-83.25\"/>\n",
       "<text text-anchor=\"middle\" x=\"591.7\" y=\"-193.95\" font-family=\"Times,serif\" font-size=\"14.00\">Outputs</text>\n",
       "</g>\n",
       "<!-- clustersimpleInputsrun -->\n",
       "<g id=\"node1\" class=\"node\">\n",
       "<title>clustersimpleInputsrun</title>\n",
       "<polygon fill=\"#1f77b4\" stroke=\"#1f77b4\" points=\"58.35,-68.25 16.35,-68.25 16.35,-44.25 58.35,-44.25 70.35,-56.25 58.35,-68.25\"/>\n",
       "<text text-anchor=\"middle\" x=\"43.35\" y=\"-50.08\" font-family=\"Times,serif\" font-size=\"14.00\">run</text>\n",
       "</g>\n",
       "<!-- clustersimpleOutputsran -->\n",
       "<g id=\"node4\" class=\"node\">\n",
       "<title>clustersimpleOutputsran</title>\n",
       "<polygon fill=\"#1f77b4\" stroke=\"#1f77b4\" points=\"712.31,-68.25 670.31,-68.25 670.31,-44.25 712.31,-44.25 724.31,-56.25 712.31,-68.25\"/>\n",
       "<text text-anchor=\"middle\" x=\"697.31\" y=\"-50.08\" font-family=\"Times,serif\" font-size=\"14.00\">ran</text>\n",
       "</g>\n",
       "<!-- clustersimpleInputsrun&#45;&gt;clustersimpleOutputsran -->\n",
       "<!-- clustersimpleInputsax -->\n",
       "<g id=\"node2\" class=\"node\">\n",
       "<title>clustersimpleInputsax</title>\n",
       "<ellipse fill=\"#ff7f0e\" stroke=\"#ff7f0e\" cx=\"43.35\" cy=\"-164.25\" rx=\"27\" ry=\"18\"/>\n",
       "<text text-anchor=\"middle\" x=\"43.35\" y=\"-158.07\" font-family=\"Times,serif\" font-size=\"14.00\">ax</text>\n",
       "</g>\n",
       "<!-- clustersimpleaInputsx -->\n",
       "<g id=\"node8\" class=\"node\">\n",
       "<title>clustersimpleaInputsx</title>\n",
       "<ellipse fill=\"#ff7f0e\" stroke=\"#ff7f0e\" cx=\"133.7\" cy=\"-184.25\" rx=\"27\" ry=\"18\"/>\n",
       "<text text-anchor=\"middle\" x=\"133.7\" y=\"-178.07\" font-family=\"Times,serif\" font-size=\"14.00\">x</text>\n",
       "</g>\n",
       "<!-- clustersimpleInputsax&#45;&gt;clustersimpleaInputsx -->\n",
       "<g id=\"edge9\" class=\"edge\">\n",
       "<title>clustersimpleInputsax&#45;&gt;clustersimpleaInputsx</title>\n",
       "<path fill=\"none\" stroke=\"#ff7f0e\" d=\"M69.43,-169.93C73.72,-170.9 78.31,-171.94 82.98,-172.99\"/>\n",
       "<path fill=\"none\" stroke=\"#ff7f0e\" d=\"M82.98,-172.99C87.65,-174.05 92.41,-175.13 97.03,-176.18\"/>\n",
       "<polygon fill=\"#ff7f0e\" stroke=\"#ff7f0e\" points=\"96.03,-179.76 106.55,-178.56 97.57,-172.94 96.03,-179.76\"/>\n",
       "</g>\n",
       "<!-- clustersimpleInputsb__x -->\n",
       "<g id=\"node3\" class=\"node\">\n",
       "<title>clustersimpleInputsb__x</title>\n",
       "<ellipse fill=\"#ff7f0e\" stroke=\"#ff7f0e\" cx=\"43.35\" cy=\"-110.25\" rx=\"27.35\" ry=\"18\"/>\n",
       "<text text-anchor=\"middle\" x=\"43.35\" y=\"-104.08\" font-family=\"Times,serif\" font-size=\"14.00\">b__x</text>\n",
       "</g>\n",
       "<!-- clustersimplebInputsx -->\n",
       "<g id=\"node12\" class=\"node\">\n",
       "<title>clustersimplebInputsx</title>\n",
       "<ellipse fill=\"#ff7f0e\" stroke=\"#ff7f0e\" cx=\"317.7\" cy=\"-109.25\" rx=\"27\" ry=\"18\"/>\n",
       "<text text-anchor=\"middle\" x=\"317.7\" y=\"-103.08\" font-family=\"Times,serif\" font-size=\"14.00\">x</text>\n",
       "</g>\n",
       "<!-- clustersimpleInputsb__x&#45;&gt;clustersimplebInputsx -->\n",
       "<g id=\"edge10\" class=\"edge\">\n",
       "<title>clustersimpleInputsb__x&#45;&gt;clustersimplebInputsx</title>\n",
       "<path fill=\"none\" stroke=\"#ff7f0e\" d=\"M70.96,-110.15C95.38,-110.06 133.59,-109.92 172.67,-109.78\"/>\n",
       "<path fill=\"none\" stroke=\"#ff7f0e\" d=\"M172.67,-109.78C211.75,-109.64 251.7,-109.49 279.58,-109.39\"/>\n",
       "<polygon fill=\"#ff7f0e\" stroke=\"#ff7f0e\" points=\"279.39,-112.88 289.38,-109.35 279.37,-105.88 279.39,-112.88\"/>\n",
       "</g>\n",
       "<!-- clustersimpleOutputsay -->\n",
       "<g id=\"node5\" class=\"node\">\n",
       "<title>clustersimpleOutputsay</title>\n",
       "<ellipse fill=\"#ff7f0e\" stroke=\"#ff7f0e\" cx=\"697.31\" cy=\"-164.25\" rx=\"27\" ry=\"18\"/>\n",
       "<text text-anchor=\"middle\" x=\"697.31\" y=\"-158.07\" font-family=\"Times,serif\" font-size=\"14.00\">ay</text>\n",
       "</g>\n",
       "<!-- clustersimpleOutputsa + b + 2 -->\n",
       "<g id=\"node6\" class=\"node\">\n",
       "<title>clustersimpleOutputsa + b + 2</title>\n",
       "<ellipse fill=\"#ff7f0e\" stroke=\"#ff7f0e\" cx=\"697.31\" cy=\"-110.25\" rx=\"42.61\" ry=\"18\"/>\n",
       "<text text-anchor=\"middle\" x=\"697.31\" y=\"-104.08\" font-family=\"Times,serif\" font-size=\"14.00\">a + b + 2</text>\n",
       "</g>\n",
       "<!-- clustersimpleaInputsrun -->\n",
       "<g id=\"node7\" class=\"node\">\n",
       "<title>clustersimpleaInputsrun</title>\n",
       "<polygon fill=\"#1f77b4\" stroke=\"#1f77b4\" points=\"148.7,-250.25 106.7,-250.25 106.7,-226.25 148.7,-226.25 160.7,-238.25 148.7,-250.25\"/>\n",
       "<text text-anchor=\"middle\" x=\"133.7\" y=\"-232.07\" font-family=\"Times,serif\" font-size=\"14.00\">run</text>\n",
       "</g>\n",
       "<!-- clustersimpleaOutputsran -->\n",
       "<g id=\"node9\" class=\"node\">\n",
       "<title>clustersimpleaOutputsran</title>\n",
       "<polygon fill=\"#1f77b4\" stroke=\"#1f77b4\" points=\"238.7,-196.25 196.7,-196.25 196.7,-172.25 238.7,-172.25 250.7,-184.25 238.7,-196.25\"/>\n",
       "<text text-anchor=\"middle\" x=\"223.7\" y=\"-178.07\" font-family=\"Times,serif\" font-size=\"14.00\">ran</text>\n",
       "</g>\n",
       "<!-- clustersimpleaInputsrun&#45;&gt;clustersimpleaOutputsran -->\n",
       "<!-- clustersimplebInputsrun -->\n",
       "<g id=\"node11\" class=\"node\">\n",
       "<title>clustersimplebInputsrun</title>\n",
       "<polygon fill=\"#1f77b4\" stroke=\"#1f77b4\" points=\"332.7,-175.25 290.7,-175.25 290.7,-151.25 332.7,-151.25 344.7,-163.25 332.7,-175.25\"/>\n",
       "<text text-anchor=\"middle\" x=\"317.7\" y=\"-157.07\" font-family=\"Times,serif\" font-size=\"14.00\">run</text>\n",
       "</g>\n",
       "<!-- clustersimpleaOutputsran&#45;&gt;clustersimplebInputsrun -->\n",
       "<g id=\"edge5\" class=\"edge\">\n",
       "<title>clustersimpleaOutputsran&#45;&gt;clustersimplebInputsrun</title>\n",
       "<path fill=\"none\" stroke=\"#1f77b4\" d=\"M250.82,-178.29C255.33,-177.26 260.16,-176.15 265.08,-175.03\"/>\n",
       "<path fill=\"none\" stroke=\"#1f77b4\" d=\"M265.08,-175.03C270,-173.91 275.01,-172.77 279.87,-171.66\"/>\n",
       "<polygon fill=\"#1f77b4\" stroke=\"#1f77b4\" points=\"280.54,-174.86 289.52,-169.23 278.99,-168.04 280.54,-174.86\"/>\n",
       "</g>\n",
       "<!-- clustersimpleaOutputsy -->\n",
       "<g id=\"node10\" class=\"node\">\n",
       "<title>clustersimpleaOutputsy</title>\n",
       "<ellipse fill=\"#ff7f0e\" stroke=\"#ff7f0e\" cx=\"223.7\" cy=\"-238.25\" rx=\"27\" ry=\"18\"/>\n",
       "<text text-anchor=\"middle\" x=\"223.7\" y=\"-232.07\" font-family=\"Times,serif\" font-size=\"14.00\">y</text>\n",
       "</g>\n",
       "<!-- clustersimpleaOutputsy&#45;&gt;clustersimpleOutputsay -->\n",
       "<g id=\"edge11\" class=\"edge\">\n",
       "<title>clustersimpleaOutputsy&#45;&gt;clustersimpleOutputsay</title>\n",
       "<path fill=\"none\" stroke=\"#ff7f0e\" d=\"M242.8,-251.31C274.41,-272.8 342.45,-313.25 406.7,-313.25 406.7,-313.25 406.7,-313.25 454,-313.25\"/>\n",
       "<path fill=\"none\" stroke=\"#ff7f0e\" d=\"M454,-313.25C466.59,-313.25 482.52,-313.25 502.7,-313.25 582.75,-313.25 649.99,-232.27 679.81,-189.71\"/>\n",
       "<polygon fill=\"#ff7f0e\" stroke=\"#ff7f0e\" points=\"683.17,-192 685.92,-181.76 677.39,-188.05 683.17,-192\"/>\n",
       "</g>\n",
       "<!-- clustersimplesumInputsx -->\n",
       "<g id=\"node16\" class=\"node\">\n",
       "<title>clustersimplesumInputsx</title>\n",
       "<ellipse fill=\"#ff7f0e\" stroke=\"#ff7f0e\" cx=\"501.7\" cy=\"-217.25\" rx=\"27\" ry=\"18\"/>\n",
       "<text text-anchor=\"middle\" x=\"501.7\" y=\"-211.07\" font-family=\"Times,serif\" font-size=\"14.00\">x</text>\n",
       "</g>\n",
       "<!-- clustersimpleaOutputsy&#45;&gt;clustersimplesumInputsx -->\n",
       "<g id=\"edge6\" class=\"edge\">\n",
       "<title>clustersimpleaOutputsy&#45;&gt;clustersimplesumInputsx</title>\n",
       "<path fill=\"none\" stroke=\"#ff7f0e\" d=\"M250.66,-236.27C275.32,-234.4 314.48,-231.42 354.57,-228.37\"/>\n",
       "<path fill=\"none\" stroke=\"#ff7f0e\" d=\"M354.57,-228.37C394.65,-225.32 435.65,-222.2 463.98,-220.04\"/>\n",
       "<polygon fill=\"#ff7f0e\" stroke=\"#ff7f0e\" points=\"463.89,-223.48 473.6,-219.24 463.36,-216.5 463.89,-223.48\"/>\n",
       "</g>\n",
       "<!-- clustersimplebOutputsran -->\n",
       "<g id=\"node13\" class=\"node\">\n",
       "<title>clustersimplebOutputsran</title>\n",
       "<polygon fill=\"#1f77b4\" stroke=\"#1f77b4\" points=\"422.7,-175.25 380.7,-175.25 380.7,-151.25 422.7,-151.25 434.7,-163.25 422.7,-175.25\"/>\n",
       "<text text-anchor=\"middle\" x=\"407.7\" y=\"-157.07\" font-family=\"Times,serif\" font-size=\"14.00\">ran</text>\n",
       "</g>\n",
       "<!-- clustersimplebInputsrun&#45;&gt;clustersimplebOutputsran -->\n",
       "<!-- clustersimplesumInputsrun -->\n",
       "<g id=\"node15\" class=\"node\">\n",
       "<title>clustersimplesumInputsrun</title>\n",
       "<polygon fill=\"#1f77b4\" stroke=\"#1f77b4\" points=\"516.7,-175.25 474.7,-175.25 474.7,-151.25 516.7,-151.25 528.7,-163.25 516.7,-175.25\"/>\n",
       "<text text-anchor=\"middle\" x=\"501.7\" y=\"-157.07\" font-family=\"Times,serif\" font-size=\"14.00\">run</text>\n",
       "</g>\n",
       "<!-- clustersimplebOutputsran&#45;&gt;clustersimplesumInputsrun -->\n",
       "<g id=\"edge7\" class=\"edge\">\n",
       "<title>clustersimplebOutputsran&#45;&gt;clustersimplesumInputsrun</title>\n",
       "<path fill=\"none\" stroke=\"#1f77b4\" d=\"M434.82,-163.25C439.28,-163.25 444.06,-163.25 448.92,-163.25\"/>\n",
       "<path fill=\"none\" stroke=\"#1f77b4\" d=\"M448.92,-163.25C453.79,-163.25 458.74,-163.25 463.56,-163.25\"/>\n",
       "<polygon fill=\"#1f77b4\" stroke=\"#1f77b4\" points=\"463.52,-166.75 473.52,-163.25 463.52,-159.75 463.52,-166.75\"/>\n",
       "</g>\n",
       "<!-- clustersimplebOutputsy -->\n",
       "<g id=\"node14\" class=\"node\">\n",
       "<title>clustersimplebOutputsy</title>\n",
       "<ellipse fill=\"#ff7f0e\" stroke=\"#ff7f0e\" cx=\"407.7\" cy=\"-109.25\" rx=\"27\" ry=\"18\"/>\n",
       "<text text-anchor=\"middle\" x=\"407.7\" y=\"-103.08\" font-family=\"Times,serif\" font-size=\"14.00\">y</text>\n",
       "</g>\n",
       "<!-- clustersimplesumInputsy -->\n",
       "<g id=\"node17\" class=\"node\">\n",
       "<title>clustersimplesumInputsy</title>\n",
       "<ellipse fill=\"#ff7f0e\" stroke=\"#ff7f0e\" cx=\"501.7\" cy=\"-109.25\" rx=\"27\" ry=\"18\"/>\n",
       "<text text-anchor=\"middle\" x=\"501.7\" y=\"-103.08\" font-family=\"Times,serif\" font-size=\"14.00\">y</text>\n",
       "</g>\n",
       "<!-- clustersimplebOutputsy&#45;&gt;clustersimplesumInputsy -->\n",
       "<g id=\"edge8\" class=\"edge\">\n",
       "<title>clustersimplebOutputsy&#45;&gt;clustersimplesumInputsy</title>\n",
       "<path fill=\"none\" stroke=\"#ff7f0e\" d=\"M434.82,-109.25C439.28,-109.25 444.06,-109.25 448.92,-109.25\"/>\n",
       "<path fill=\"none\" stroke=\"#ff7f0e\" d=\"M448.92,-109.25C453.79,-109.25 458.74,-109.25 463.56,-109.25\"/>\n",
       "<polygon fill=\"#ff7f0e\" stroke=\"#ff7f0e\" points=\"463.52,-112.75 473.52,-109.25 463.52,-105.75 463.52,-112.75\"/>\n",
       "</g>\n",
       "<!-- clustersimplesumOutputsran -->\n",
       "<g id=\"node18\" class=\"node\">\n",
       "<title>clustersimplesumOutputsran</title>\n",
       "<polygon fill=\"#1f77b4\" stroke=\"#1f77b4\" points=\"606.7,-175.25 564.7,-175.25 564.7,-151.25 606.7,-151.25 618.7,-163.25 606.7,-175.25\"/>\n",
       "<text text-anchor=\"middle\" x=\"591.7\" y=\"-157.07\" font-family=\"Times,serif\" font-size=\"14.00\">ran</text>\n",
       "</g>\n",
       "<!-- clustersimplesumInputsrun&#45;&gt;clustersimplesumOutputsran -->\n",
       "<!-- clustersimplesumOutputssum -->\n",
       "<g id=\"node19\" class=\"node\">\n",
       "<title>clustersimplesumOutputssum</title>\n",
       "<ellipse fill=\"#ff7f0e\" stroke=\"#ff7f0e\" cx=\"591.7\" cy=\"-109.25\" rx=\"27\" ry=\"18\"/>\n",
       "<text text-anchor=\"middle\" x=\"591.7\" y=\"-103.08\" font-family=\"Times,serif\" font-size=\"14.00\">sum</text>\n",
       "</g>\n",
       "<!-- clustersimplesumOutputssum&#45;&gt;clustersimpleOutputsa + b + 2 -->\n",
       "<g id=\"edge12\" class=\"edge\">\n",
       "<title>clustersimplesumOutputssum&#45;&gt;clustersimpleOutputsa + b + 2</title>\n",
       "<path fill=\"none\" stroke=\"#ff7f0e\" d=\"M619.11,-109.5C622.82,-109.54 626.76,-109.58 630.83,-109.62\"/>\n",
       "<path fill=\"none\" stroke=\"#ff7f0e\" d=\"M630.83,-109.62C634.89,-109.66 639.07,-109.7 643.26,-109.74\"/>\n",
       "<polygon fill=\"#ff7f0e\" stroke=\"#ff7f0e\" points=\"643.21,-113.25 653.24,-109.84 643.28,-106.25 643.21,-113.25\"/>\n",
       "</g>\n",
       "</g>\n",
       "</svg>\n"
      ],
      "text/plain": [
       "<graphviz.graphs.Digraph at 0x1420fde50>"
      ]
     },
     "execution_count": 29,
     "metadata": {},
     "output_type": "execute_result"
    }
   ],
   "source": [
    "wf.draw()"
   ]
  },
  {
   "cell_type": "markdown",
   "id": "2671dc36-42a4-466b-848d-067ef7bd1d1d",
   "metadata": {},
   "source": [
    "# Example with pre-built nodes\n",
    "\n",
    "Currently we have a handfull of pre-build nodes available for import from the `nodes` package. Let's use these to quickly put together a workflow for looking at some MD data."
   ]
  },
  {
   "cell_type": "code",
   "execution_count": null,
   "id": "ae500d5e-e55b-432c-8b5f-d5892193cdf5",
   "metadata": {},
   "outputs": [],
   "source": [
    "wf = Workflow(\"with_prebuilt\")\n",
    "\n",
    "wf.structure = wf.create.atomistics.Bulk(cubic=True, name=\"Al\")\n",
    "wf.engine = wf.create.atomistics.Lammps(structure=wf.structure)\n",
    "wf.calc = wf.create.atomistics.CalcMd(job=wf.engine)\n",
    "wf.plot = wf.create.standard.Scatter(\n",
    "    x=wf.calc.outputs.steps, \n",
    "    y=wf.calc.outputs.temperature\n",
    ")\n",
    "wf.structure > wf.engine > wf.calc > wf.plot\n",
    "\n",
    "out = wf.run()\n",
    "out.plot__fig"
   ]
  },
  {
   "cell_type": "markdown",
   "id": "43c09aa8-8229-4636-aaeb-9214b723c2fc",
   "metadata": {},
   "source": [
    "In case you want to see more or less of the inner workings of the nodes when visualizing a workflow, you can modify the `depth` parameter, which controls how deeply child nodes are decomposed. E.g. we can force our workflow to only show us it's basic IO by setting `depth=0`:"
   ]
  },
  {
   "cell_type": "code",
   "execution_count": null,
   "id": "2114d0c3-cdad-43c7-9ffa-50c36d56d18f",
   "metadata": {},
   "outputs": [],
   "source": [
    "wf.draw(depth=0)"
   ]
  },
  {
   "cell_type": "markdown",
   "id": "d1f3b308-28b2-466b-8cf5-6bfd806c08ca",
   "metadata": {},
   "source": [
    "# Macros\n",
    "\n",
    "Once you have a workflow that you're happy with, you may want to store it as a macro so it can be stored in a human-readable way, reused, and shared. Automated conversion of an existing `Workflow` instance into a `Macro` subclass is still on the TODO list, but defining a new macro is pretty easy: they are just composite nodes that have a function defining their graph setup:"
   ]
  },
  {
   "cell_type": "code",
   "execution_count": null,
   "id": "c71a8308-f8a1-4041-bea0-1c841e072a6d",
   "metadata": {},
   "outputs": [],
   "source": [
    "from pyiron_workflow.macro import Macro"
   ]
  },
  {
   "cell_type": "code",
   "execution_count": null,
   "id": "2b9bb21a-73cd-444e-84a9-100e202aa422",
   "metadata": {},
   "outputs": [],
   "source": [
    "@Workflow.wrap_as.single_value_node(\"result\")\n",
    "def add_one(x):\n",
    "    return x + 1\n",
    "\n",
    "def add_three_macro(macro: Macro) -> None:\n",
    "    \"\"\"\n",
    "    The graph constructor a Macro expects must take the macro as its only argument\n",
    "    (i.e. \"self\" from the macro's perspective) and return nothing.\n",
    "    Inside, it should add nodes to the macro, wire their connections, etc.\n",
    "    \"\"\"\n",
    "    macro.add_one = add_one(0)\n",
    "    macro.add_two = add_one(macro.add_one)\n",
    "    macro.add_three = add_one(macro.add_two)\n",
    "    # Just like workflows, for simple DAG macros we don't _need_\n",
    "    # to set signals and starting nodes -- the macro will build them\n",
    "    # automatically. But, if you do set both then the macro will use them\n",
    "    macro.add_one > macro.add_two > macro.add_three\n",
    "    macro.starting_nodes = [macro.add_one]  \n",
    "    \n",
    "macro = Macro(add_three_macro)\n",
    "macro(add_one__x=10).add_three__result"
   ]
  },
  {
   "cell_type": "markdown",
   "id": "bd5099c4-1c01-4a45-a5bb-e5087595db9f",
   "metadata": {},
   "source": [
    "Of course, we can also use a decorator like for other node types. This is shown below, along with an example of how exploit label maps to give our macro IO easier-to-use names (and expose IO that would be skipped by default because it's internally connected):"
   ]
  },
  {
   "cell_type": "code",
   "execution_count": null,
   "id": "3668f9a9-adca-48a4-84ea-13add965897c",
   "metadata": {},
   "outputs": [],
   "source": [
    "@Workflow.wrap_as.macro_node()\n",
    "def add_three_macro(macro: Macro) -> None:\n",
    "    \"\"\"\n",
    "    The graph constructor a Macro expects must take the macro as its only argument\n",
    "    (i.e. \"self\" from the macro's perspective) and return nothing.\n",
    "    Inside, it should add nodes to the macro, wire their connections, etc.\n",
    "    \"\"\"\n",
    "    macro.add_one = add_one(0)\n",
    "    macro.add_two = add_one(macro.add_one)\n",
    "    macro.add_three = add_one(macro.add_two)\n",
    "    macro.inputs_map = {\"add_one__x\": \"x\"}\n",
    "    macro.outputs_map = {\"add_three__result\": \"plus_three\", \"add_two__result\": \"intermediate\"}\n",
    "    \n",
    "macro = add_three_macro()\n",
    "macro(x=100)\n",
    "macro.outputs.to_value_dict()"
   ]
  },
  {
   "cell_type": "markdown",
   "id": "22d2fdcf-0206-497d-9344-a71e3472a2c0",
   "metadata": {},
   "source": [
    "## Nesting\n",
    "\n",
    "Composite nodes can be nested to abstract workflows into simpler components -- i.e. macros can be added to workflows, and macros can be used inside of macros.\n",
    "\n",
    "For our final example, let's define a macro for doing Lammps minimizations, then use this in a workflow to compare energies between different phases."
   ]
  },
  {
   "cell_type": "code",
   "execution_count": null,
   "id": "9aaeeec0-5f88-4c94-a6cc-45b56d2f0111",
   "metadata": {},
   "outputs": [],
   "source": [
    "@Workflow.wrap_as.macro_node()\n",
    "def lammps_minimize(macro):\n",
    "    macro.structure = macro.create.atomistics.Bulk()\n",
    "    macro.engine = macro.create.atomistics.Lammps(structure=macro.structure)\n",
    "    macro.calc = macro.create.atomistics.CalcMin(job=macro.engine, pressure=0)\n",
    "    \n",
    "    macro.inputs_map = {\n",
    "        \"structure__name\": \"element\", \n",
    "        \"structure__crystalstructure\": \"crystalstructure\",\n",
    "        \"structure__a\": \"lattice_guess\",\n",
    "    }\n",
    "    macro.outputs_map = {\n",
    "        \"calc__energy_pot\": \"energy\",\n",
    "        \"structure__structure\": \"structure\",\n",
    "    }\n",
    "\n",
    "@Workflow.wrap_as.single_value_node()\n",
    "def per_atom_energy_difference(structure1, energy1, structure2, energy2):\n",
    "    de = (energy2[-1]/len(structure2)) - (energy1[-1]/len(structure1))\n",
    "    return de"
   ]
  },
  {
   "cell_type": "code",
   "execution_count": null,
   "id": "a832e552-b3cc-411a-a258-ef21574fc439",
   "metadata": {},
   "outputs": [],
   "source": [
    "wf = Workflow(\"phase_preference\")\n",
    "wf.element = wf.create.standard.UserInput()\n",
    "wf.min_phase1 = lammps_minimize(element=wf.element)\n",
    "wf.min_phase2 = lammps_minimize(element=wf.element)\n",
    "wf.compare = per_atom_energy_difference(\n",
    "    wf.min_phase1.outputs.structure,\n",
    "    wf.min_phase1.outputs.energy,\n",
    "    wf.min_phase2.outputs.structure,\n",
    "    wf.min_phase2.outputs.energy,\n",
    ")\n",
    "\n",
    "wf.inputs_map = {\n",
    "    \"element__user_input\": \"element\",\n",
    "    \"min_phase1__crystalstructure\": \"phase1\",\n",
    "    \"min_phase2__crystalstructure\": \"phase2\",\n",
    "    \"min_phase1__lattice_guess\": \"lattice_guess1\",\n",
    "    \"min_phase2__lattice_guess\": \"lattice_guess2\",\n",
    "}"
   ]
  },
  {
   "cell_type": "code",
   "execution_count": null,
   "id": "b764a447-236f-4cb7-952a-7cba4855087d",
   "metadata": {},
   "outputs": [],
   "source": [
    "wf.draw()"
   ]
  },
  {
   "cell_type": "code",
   "execution_count": null,
   "id": "b51bef25-86c5-4d57-80c1-ab733e703caf",
   "metadata": {},
   "outputs": [],
   "source": [
    "out = wf(element=\"Al\", phase1=\"fcc\", phase2=\"hcp\", lattice_guess1=4, lattice_guess2=4)\n",
    "print(f\"{wf.inputs.element.value}: E({wf.inputs.phase2.value}) - E({wf.inputs.phase1.value}) = {out.compare__de:.2f} eV/atom\")"
   ]
  },
  {
   "cell_type": "code",
   "execution_count": null,
   "id": "091e2386-0081-436c-a736-23d019bd9b91",
   "metadata": {},
   "outputs": [],
   "source": [
    "out = wf(element=\"Mg\", phase1=\"fcc\", phase2=\"hcp\", lattice_guess1=3, lattice_guess2=3)\n",
    "print(f\"{wf.inputs.element.value}: E({wf.inputs.phase2.value}) - E({wf.inputs.phase1.value}) = {out.compare__de:.2f} eV/atom\")"
   ]
  },
  {
   "cell_type": "markdown",
   "id": "7985d84f-b842-4a8d-95d5-eca3d19a78c8",
   "metadata": {},
   "source": [
    "We can also replace entire node in a workflow or macro with a new node, booting the old one out and inserting the new one including all its connections. Because the connections are recreated, the replacement node _must_ have compatible IO to the node being replaced.\n",
    "\n",
    "There are several syntacic approaches for doing this, including invoking replacement methods from the workflow (or macro) or from the node being replaced, or a new (compatible!) class can be assigned directly to an existing node. We'll use the last approach, which makes a new instance of the supplied class and replaces the target node with it.\n",
    "\n",
    "Let's replace the calculation type for phase 1 -- let's switch it from a `CalcMin` to a `CalcStatic`; both of these take a `job` as input and give `structure` and `energy` as output, so we won't have any trouble connecting our new node in lieue of the old one."
   ]
  },
  {
   "cell_type": "code",
   "execution_count": null,
   "id": "4cdffdca-48d3-4486-9045-48102c7e5f31",
   "metadata": {},
   "outputs": [],
   "source": [
    "wf.min_phase1.calc = Macro.create.atomistics.CalcStatic"
   ]
  },
  {
   "cell_type": "markdown",
   "id": "8dd7d2f9-313d-4e38-b467-823c48d0afa0",
   "metadata": {},
   "source": [
    "Since we're no longer allowing our first phase to relax while the second phase still can, we would expect the second phase to have a much lower energy than the first one. If our lattice guess for the first phase is bad enough, this could even switch the preferred phase!\n",
    "\n",
    "Look at Al's fcc-hcp energy difference using this new workflow. We'll always let hcp relax, but freeze the fcc cell so we can see the impact of a good and bad lattice guess."
   ]
  },
  {
   "cell_type": "code",
   "execution_count": null,
   "id": "ed4a3a22-fc3a-44c9-9d4f-c65bc1288889",
   "metadata": {},
   "outputs": [],
   "source": [
    "# Bad guess\n",
    "out = wf(element=\"Al\", phase1=\"fcc\", phase2=\"hcp\", lattice_guess1=3, lattice_guess2=3)\n",
    "print(f\"{wf.inputs.element.value}: E({wf.inputs.phase2.value}) - E({wf.inputs.phase1.value}) = {out.compare__de:.2f} eV/atom\")"
   ]
  },
  {
   "cell_type": "code",
   "execution_count": null,
   "id": "5a985cbf-c308-4369-9223-b8a37edb8ab1",
   "metadata": {},
   "outputs": [],
   "source": [
    "# Good guess\n",
    "out = wf(element=\"Al\", phase1=\"fcc\", phase2=\"hcp\", lattice_guess1=4.05, lattice_guess2=3)\n",
    "print(f\"{wf.inputs.element.value}: E({wf.inputs.phase2.value}) - E({wf.inputs.phase1.value}) = {out.compare__de:.2f} eV/atom\")"
   ]
  },
  {
   "cell_type": "markdown",
   "id": "f447531e-3e8c-4c7e-a579-5f9c56b75a5b",
   "metadata": {},
   "source": [
    "# Here be dragons\n",
    "\n",
    "While everything in the workflows sub-module is under development, the following complex features are _even more likely_ to see substantial modifications to their interface and behaviour. Nonetheless, they're fun so let's look at them."
   ]
  },
  {
   "cell_type": "markdown",
   "id": "069cc8e8-f8b9-4382-a424-b3b2dd2bf739",
   "metadata": {},
   "source": [
    "## Parallelization\n",
    "\n",
    "You can currently run _some_ nodes (namely, `Function` nodes that don't take `self` as an argument) in a background process by setting an `executor` of the right type.\n",
    "Cf. the `Workflow` class tests in the source code for an example.\n",
    "\n",
    "Right now our treatment of DAGs is quite rudimentary, and the data flow is (unless cyclic) converted into a _linear_ execution pattern. \n",
    "This is practical and robust, but highly inefficient when combined with nodes that can run in parallel, i.e. with \"executors\".\n",
    "Going forward, we will exploit the same infrastructure of data flow DAGs and run signals to build up more sophisticated execution patterns which support parallelization."
   ]
  },
  {
   "cell_type": "markdown",
   "id": "1f29fde8-1645-444e-99dc-3ec465461c7e",
   "metadata": {},
   "source": [
    "## Serialization and node libraries\n",
    "\n",
    "Serialization doesn't exist yet.\n",
    "\n",
    "What you _can_ do is `register` new lists of nodes (including macros) with the workflow, so feel free to build up your own `.py` files containing nodes you like to use for easy re-use.\n",
    "\n",
    "Serialization of workflows is still forthcoming, while for node registration flexibility and documentation is forthcoming but the basics are here already."
   ]
  },
  {
   "cell_type": "markdown",
   "id": "1f012460-19af-45f7-98aa-a0ad5b8e6faa",
   "metadata": {},
   "source": [
    "## Meta-nodes and flow control\n",
    "\n",
    "A meta-node is a function that produces a node _class_ instedad of a node _instance_.\n",
    "Right now, these are used to produce parameterized flow-control nodes, which take an node class as input and return a new macro class that builds some graph using the passed node class, e.g. for- and while-loops.\n",
    "\n",
    "### For-loops\n",
    "\n",
    "One meta node is a for-loop builder, which creates a macro with $n$ internal instances of the \"loop body\" node class, and a new IO interface.\n",
    "The new input allows you to specify which input channels are being looped over -- such that the macro input for this channel is interpreted as list-like and distributed to all the copies of the nodes separately --, and which is _not_ being looped over -- and thus interpreted as the loop body node would normally interpret the input and passed to all copies equally.\n",
    "All of the loop body outputs are then collected as a list of length $n$.\n",
    "\n",
    "We follow a convention that inputs and outputs being looped over are indicated by their channel labels being ALL CAPS.\n",
    "\n",
    "In the example below, we loop over the bulk structure node to create structures with different lattice constants:"
   ]
  },
  {
   "cell_type": "code",
   "execution_count": null,
   "id": "0b373764-b389-4c24-8086-f3d33a4f7fd7",
   "metadata": {},
   "outputs": [],
   "source": [
    "n = 5\n",
    "\n",
    "bulk_loop = Workflow.create.meta.for_loop(\n",
    "    Workflow.create.atomistics.Bulk,\n",
    "    n,\n",
    "    iterate_on=(\"a\",),\n",
    ")()\n",
    "\n",
    "out = bulk_loop(\n",
    "    name=\"Al\",  # Sent equally to each body node\n",
    "    A=np.linspace(3.9, 4.1, n).tolist(),  # Distributed across body nodes\n",
    ")\n",
    "\n",
    "[struct.cell.volume for struct in out.STRUCTURE]  \n",
    "# output is a list collected from copies of the body node, as indicated by CAPS label"
   ]
  },
  {
   "cell_type": "markdown",
   "id": "4e7ed210-dbc2-4afa-825e-b91168baff25",
   "metadata": {},
   "source": [
    "## While-loops\n",
    "\n",
    "We can also create a while-loop, which takes both a body node and a condition node. The condition node must be a `SingleValue` returning a `bool` type. Instead of creating copies of the body node, the body node gets re-run until the condition node returns `False`.\n",
    "\n",
    "You _must_ specify the data connection so that the body node passes information to the condition node. You may optionally also loop output of the body node back to input of the body node to change the input at each iteration. Right now this is done with horribly ugly string tuples, but we're still working on it."
   ]
  },
  {
   "cell_type": "code",
   "execution_count": null,
   "id": "0dd04b4c-e3e7-4072-ad34-58f2c1e4f596",
   "metadata": {},
   "outputs": [],
   "source": [
    "@Workflow.wrap_as.single_value_node()\n",
    "def add(a, b):\n",
    "    print(f\"{a} + {b} = {a + b}\")\n",
    "    return a + b\n",
    "\n",
    "@Workflow.wrap_as.single_value_node()\n",
    "def less_than_ten(value):\n",
    "    return value < 10\n",
    "\n",
    "AddWhile = Workflow.create.meta.while_loop(\n",
    "    loop_body_class=add,\n",
    "    condition_class=less_than_ten,\n",
    "    internal_connection_map=[\n",
    "        (\"Add\", \"a + b\", \"LessThanTen\", \"value\"),\n",
    "        (\"Add\", \"a + b\", \"Add\", \"a\")\n",
    "    ],\n",
    "    inputs_map={\"Add__a\": \"a\", \"Add__b\": \"b\"},\n",
    "    outputs_map={\"Add__a + b\": \"total\"}\n",
    ")\n",
    "\n",
    "wf = Workflow(\"do_while\")\n",
    "wf.add_while = AddWhile()\n",
    "\n",
    "wf.inputs_map = {\n",
    "    \"add_while__a\": \"a\",\n",
    "    \"add_while__b\": \"b\"\n",
    "}\n",
    "wf.outputs_map = {\n",
    "    \"add_while__total\": \"total\",  # Rename this output\n",
    "    \"add_while__switch__truth\": None  # Disable this output\n",
    "}"
   ]
  },
  {
   "cell_type": "markdown",
   "id": "eb810e1e-4d13-4cb1-94cc-6d191b8c568d",
   "metadata": {},
   "source": [
    "Note that initializing the `a` and `b` input to numeric values when we call the workflow below does not destroy the connection made between the body node input and output -- so the first run of the body node uses the initial value passed, but then it updates its own input for subsequent calls!"
   ]
  },
  {
   "cell_type": "code",
   "execution_count": null,
   "id": "2dfb967b-41ac-4463-b606-3e315e617f2a",
   "metadata": {},
   "outputs": [],
   "source": [
    "response = wf(a=1, b=2)\n",
    "print(\"Finally\", response)"
   ]
  },
  {
   "cell_type": "code",
   "execution_count": null,
   "id": "2e87f858-b327-4f6b-9237-c8a557f29aeb",
   "metadata": {},
   "outputs": [],
   "source": [
    "@Workflow.wrap_as.single_value_node(\"random\")\n",
    "def random(length: int | None = None):\n",
    "    return np.random.random(length)\n",
    "\n",
    "@Workflow.wrap_as.single_value_node()\n",
    "def greater_than(x: float, threshold: float):\n",
    "    gt = x > threshold\n",
    "    symbol = \">\" if gt else \"<=\"\n",
    "    print(f\"{x:.3f} {symbol} {threshold}\")\n",
    "    return gt\n",
    "\n",
    "RandomWhile = Workflow.create.meta.while_loop(\n",
    "    loop_body_class=random,\n",
    "    condition_class=greater_than,\n",
    "    internal_connection_map=[(\"Random\", \"random\", \"GreaterThan\", \"x\")],\n",
    "    outputs_map={\"Random__random\": \"capped_result\"}\n",
    ")\n",
    "\n",
    "# Define workflow\n",
    "\n",
    "wf = Workflow(\"random_until_small_enough\")\n",
    "\n",
    "## Wire together the while loop and its condition\n",
    "\n",
    "wf.random_while = RandomWhile()\n",
    "\n",
    "## Give convenient labels\n",
    "wf.inputs_map = {\"random_while__GreaterThan__threshold\": \"threshold\"}\n",
    "wf.outputs_map = {\"random_while__capped_result\": \"capped_result\"}\n",
    "\n",
    "print(f\"Finally {wf(threshold=0.2).capped_result:.3f}\")"
   ]
  },
  {
   "cell_type": "code",
   "execution_count": null,
   "id": "f40bfd6f-3fbf-4c2b-aeee-534ed4bcc970",
   "metadata": {},
   "outputs": [],
   "source": []
  }
 ],
 "metadata": {
  "kernelspec": {
   "display_name": "Python 3 (ipykernel)",
   "language": "python",
   "name": "python3"
  },
  "language_info": {
   "codemirror_mode": {
    "name": "ipython",
    "version": 3
   },
   "file_extension": ".py",
   "mimetype": "text/x-python",
   "name": "python",
   "nbconvert_exporter": "python",
   "pygments_lexer": "ipython3",
   "version": "3.11.4"
  }
 },
 "nbformat": 4,
 "nbformat_minor": 5
}
