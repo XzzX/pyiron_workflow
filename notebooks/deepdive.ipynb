{
 "cells": [
  {
   "cell_type": "markdown",
   "id": "5edfe456-c5b8-4347-a74f-1fb19fdff91b",
   "metadata": {},
   "source": [
    "# Pyiron workflows: A ground-up walkthrough of syntax and features\n",
    "\n",
    "Contents:\n",
    "- From function to node\n",
    "- Making reusable node classes\n",
    "- Connecting nodes to form a graph\n",
    "- SingleValue nodes and syntactic sugar\n",
    "- Workflows: keeping your computational graphs organized\n",
    "- Node packages: making nodes re-usable\n",
    "- Macro nodes: complex computations by composing sub-graphs\n",
    "- Dragons and the future: remote execution, cyclic flows, and more\n",
    "\n",
    "To jump straight to how to use `pyiron_workflow`, go look at the quickstart guide -- this jumps straight to using `Workflow` as a single-point-of-access, creating nodes with decorators, and leveraging node packages to form complex graphs.\n",
    "\n",
    "Here we start from the ground up and do \"silly\" things like importing _just_ the `Function` class directly from the `pyiron_workflow` package. This isn't meant to show actual practical, recommended use-styles, but rather is indended as a pedagogical deep-dive that builds knowledge from the ground up. While the quickstart is aimed at users who just want to get running, this is intended for people who want to develop nodes for others to use, or for people who are stuck or seeing unexpected behaviour and want a better understanding of what `pyiron_workflow` is doing under the hood.\n",
    "\n",
    "The next recommendation is to simply read the class and method docstrings directly!"
   ]
  },
  {
   "cell_type": "markdown",
   "id": "f4e75528-3ea7-4feb-8167-533d439f798d",
   "metadata": {},
   "source": [
    "## Instantiating a node\n",
    "\n",
    "Simple nodes can be defined on-the-fly by passing any callable to a special `Node` class, `Function(Node)`, which transforms the function into a class. Instances of this node have input and output, can be connected to other nodes in a workflow, and can run the function it stores.\n",
    "\n",
    "Input and output channels are _automatically_ extracted from the signature and return value(s) of the function. (Note: \"Nodized\" functions must have _at most_ one `return` expression!)"
   ]
  },
  {
   "cell_type": "code",
   "execution_count": 1,
   "id": "8aca3b9b-9ba6-497a-ba9e-abdb15a6a5df",
   "metadata": {},
   "outputs": [],
   "source": [
    "from pyiron_workflow.function import Function"
   ]
  },
  {
   "cell_type": "code",
   "execution_count": 2,
   "id": "2502bc6b-d961-43d1-b2d9-66b20e2740d7",
   "metadata": {},
   "outputs": [],
   "source": [
    "def plus_minus_one(x):\n",
    "    return x+1, x-1\n",
    "\n",
    "pm_node = Function(plus_minus_one)"
   ]
  },
  {
   "cell_type": "markdown",
   "id": "5d15f0c2-b36d-4960-86b3-40d769f78528",
   "metadata": {},
   "source": [
    "This has automatically created a node with input and output data channels whose labels are gathered by inspecting the function:"
   ]
  },
  {
   "cell_type": "code",
   "execution_count": 3,
   "id": "840f4c07-4b21-4bcc-b15c-9847c6c1b048",
   "metadata": {},
   "outputs": [
    {
     "name": "stdout",
     "output_type": "stream",
     "text": [
      "['x'] ['x+1', 'x-1']\n"
     ]
    }
   ],
   "source": [
    "print(pm_node.inputs.labels, pm_node.outputs.labels)"
   ]
  },
  {
   "cell_type": "markdown",
   "id": "22ee2a49-47d1-4cec-bb25-8441ea01faf7",
   "metadata": {},
   "source": [
    "The output is still empty (`NotData`) because we haven't `run()` the node:"
   ]
  },
  {
   "cell_type": "code",
   "execution_count": 4,
   "id": "613a90fa-66ed-49f8-ba8c-2f83a54253cd",
   "metadata": {},
   "outputs": [
    {
     "name": "stdout",
     "output_type": "stream",
     "text": [
      "{'x+1': <class 'pyiron_workflow.channels.NotData'>, 'x-1': <class 'pyiron_workflow.channels.NotData'>}\n"
     ]
    }
   ],
   "source": [
    "print(pm_node.outputs.to_value_dict())"
   ]
  },
  {
   "cell_type": "markdown",
   "id": "0374e277-55ab-45d2-8058-b06365bd07af",
   "metadata": {},
   "source": [
    "If we try that now though, we'll just get a type error because the input is not set! "
   ]
  },
  {
   "cell_type": "code",
   "execution_count": 5,
   "id": "05196cd8-97c7-4f08-ae3a-ad6a076512f7",
   "metadata": {},
   "outputs": [],
   "source": [
    "# pm_node.run()"
   ]
  },
  {
   "cell_type": "markdown",
   "id": "48b0db5a-548e-4195-8361-76763ddf0474",
   "metadata": {},
   "source": [
    "Not only will you get the expected error, but `pm_node` will also set its `failed` attribute to `True` -- this will prevent it from being `ready` again until you manually reset `pm_node.failed = False`."
   ]
  },
  {
   "cell_type": "code",
   "execution_count": 6,
   "id": "b6c00a4e-0c39-4283-ac00-53c3d07f7f10",
   "metadata": {},
   "outputs": [],
   "source": [
    "# pm_node.failed = False"
   ]
  },
  {
   "cell_type": "markdown",
   "id": "84af4b04-79b4-4944-a4c9-131af915d254",
   "metadata": {},
   "source": [
    "If we update the input, we'll give the node enough data to work with:"
   ]
  },
  {
   "cell_type": "code",
   "execution_count": 7,
   "id": "b1500a40-f4f2-4c06-ad78-aaebcf3e9a50",
   "metadata": {},
   "outputs": [
    {
     "name": "stdout",
     "output_type": "stream",
     "text": [
      "{'x+1': 6, 'x-1': 4}\n"
     ]
    }
   ],
   "source": [
    "pm_node.inputs.x = 5\n",
    "pm_node.run()\n",
    "print(pm_node.outputs.to_value_dict())"
   ]
  },
  {
   "cell_type": "markdown",
   "id": "c54a691e-a075-4d41-bc0f-3a990857a27a",
   "metadata": {},
   "source": [
    "Alternatively, the `run()` command just return the function's return value:"
   ]
  },
  {
   "cell_type": "code",
   "execution_count": 8,
   "id": "e845843c-61f4-4e5c-ac1a-d005787c2841",
   "metadata": {},
   "outputs": [
    {
     "data": {
      "text/plain": [
       "(6, 4)"
      ]
     },
     "execution_count": 8,
     "metadata": {},
     "output_type": "execute_result"
    }
   ],
   "source": [
    "out = pm_node.run()\n",
    "out"
   ]
  },
  {
   "cell_type": "markdown",
   "id": "df4520d7-856e-4bc8-817f-5b2e22c1ddce",
   "metadata": {},
   "source": [
    "We can give our function defaults so that it's ready to go from the beginning. Let's also take the opportunity to give our output channel a better name so we can get it by dot-access."
   ]
  },
  {
   "cell_type": "code",
   "execution_count": 9,
   "id": "ab1ac28a-6e69-491f-882f-da4a43162dd7",
   "metadata": {},
   "outputs": [
    {
     "data": {
      "text/plain": [
       "1"
      ]
     },
     "execution_count": 9,
     "metadata": {},
     "output_type": "execute_result"
    }
   ],
   "source": [
    "def adder(x: int = 0, y: int = 1) -> int:\n",
    "    sum_ = x + y\n",
    "    return sum_\n",
    "\n",
    "adder_node = Function(adder)\n",
    "adder_node.run()\n",
    "adder_node.outputs.sum_.value  # We use `value` to see the data the channel holds"
   ]
  },
  {
   "cell_type": "markdown",
   "id": "58ed9b25-6dde-488d-9582-d49d405793c6",
   "metadata": {},
   "source": [
    "This node also exploits type hinting! Like the variable names, these hints get scraped automatically and added to the channels:"
   ]
  },
  {
   "cell_type": "code",
   "execution_count": 10,
   "id": "09eee102-f8f1-4d2d-806f-01254c2483dc",
   "metadata": {},
   "outputs": [
    {
     "data": {
      "text/plain": [
       "(int, int, int)"
      ]
     },
     "execution_count": 10,
     "metadata": {},
     "output_type": "execute_result"
    }
   ],
   "source": [
    "adder_node.inputs.x.type_hint, adder_node.inputs.y.type_hint, adder_node.outputs.sum_.type_hint"
   ]
  },
  {
   "cell_type": "markdown",
   "id": "8382ba4d-9bf7-4057-8da8-0ee411d95c18",
   "metadata": {},
   "source": [
    "New values are checked against the node type hint, so trying to assign an incommensurate value will raise an error:"
   ]
  },
  {
   "cell_type": "code",
   "execution_count": 11,
   "id": "ac0fe993-6c82-48c8-a780-cbd0c97fc386",
   "metadata": {},
   "outputs": [],
   "source": [
    "# adder_node.inputs.x = \"not an integer\""
   ]
  },
  {
   "cell_type": "markdown",
   "id": "fb2eb642-4fe8-4ab7-b969-288150e43112",
   "metadata": {},
   "source": [
    "We can bypass this by deactivating the `strict_hinting`, or by assigning a new value directly to the private `_value` attribute. The `run()` will also perform a check that input values conform to type hints before computing anything. Failing at this stage won't actually cause the node to have a `failed` status, so you can just re-run it once the input is fixed."
   ]
  },
  {
   "cell_type": "code",
   "execution_count": 12,
   "id": "a63b2cc0-9030-45ad-8d37-d11e16e61369",
   "metadata": {},
   "outputs": [],
   "source": [
    "adder_node.inputs.x._value = \"not an integer\"\n",
    "# adder_node.run()"
   ]
  },
  {
   "cell_type": "code",
   "execution_count": 13,
   "id": "3ed72790-899b-408b-bdfd-ebcf03f4c7e3",
   "metadata": {},
   "outputs": [],
   "source": [
    "# adder_node.failed = False  # Reset if you force-failed by messing with the private value"
   ]
  },
  {
   "cell_type": "code",
   "execution_count": 14,
   "id": "15742a49-4c23-4d4a-84d9-9bf19677544c",
   "metadata": {},
   "outputs": [
    {
     "data": {
      "text/plain": [
       "3"
      ]
     },
     "execution_count": 14,
     "metadata": {},
     "output_type": "execute_result"
    }
   ],
   "source": [
    "adder_node.inputs.x = 2\n",
    "adder_node.run()"
   ]
  },
  {
   "cell_type": "markdown",
   "id": "416ba898-21ee-4638-820f-0f04a98a6706",
   "metadata": {},
   "source": [
    "We can also set new input as any valid combination of kwargs and/or args at both instantiation or on call:"
   ]
  },
  {
   "cell_type": "code",
   "execution_count": 15,
   "id": "0c8f09a7-67c4-4c6c-a021-e3fea1a16576",
   "metadata": {},
   "outputs": [
    {
     "data": {
      "text/plain": [
       "30"
      ]
     },
     "execution_count": 15,
     "metadata": {},
     "output_type": "execute_result"
    }
   ],
   "source": [
    "adder_node = Function(adder, 10, y=20)\n",
    "adder_node.run()"
   ]
  },
  {
   "cell_type": "markdown",
   "id": "c0997630-c053-42bb-8c0d-332f8bc26216",
   "metadata": {},
   "source": [
    "Finally, we can update input and then `run` together by calling an already-instantiated node. Just like at node instantiation, the input for `Function` nodes can be set by positional and/or keyword argument. Here we'll use two positional args:"
   ]
  },
  {
   "cell_type": "code",
   "execution_count": 16,
   "id": "69b59737-9e09-4b4b-a0e2-76a09de02c08",
   "metadata": {},
   "outputs": [
    {
     "data": {
      "text/plain": [
       "31"
      ]
     },
     "execution_count": 16,
     "metadata": {},
     "output_type": "execute_result"
    }
   ],
   "source": [
    "adder_node(15, 16)"
   ]
  },
  {
   "cell_type": "markdown",
   "id": "f233f3f7-9576-4400-8e92-a1f6109d7f9b",
   "metadata": {},
   "source": [
    "Note for advanced users: when the node has an executor set, running returns a futures object for the calculation, whose `.result()` will eventually be the function output. This result object can also be accessed on the node's `.result` attribute as long as it's running."
   ]
  },
  {
   "cell_type": "markdown",
   "id": "07a22cee-e340-4551-bb81-07d8be1d152b",
   "metadata": {},
   "source": [
    "## Reusable node classes\n",
    "\n",
    "If we're going to use a node many times, we may want to define a new sub-class of `Function` to handle this.\n",
    "\n",
    "The can be done directly by inheriting from `Function` and overriding it's `__init__` function and/or directly defining the `node_function` property so that the core functionality of the node (i.e. the node function and output labels) are set in stone, but even easier is to use the `function_node` decorator to do this for you! \n",
    "\n",
    "The decorator also lets us explicitly choose the names of our output channels by passing the `output_labels` argument to the decorator -- as a string to create a single channel for the returned values, or as a list of strings equal to the number of returned values in a returned tuple."
   ]
  },
  {
   "cell_type": "code",
   "execution_count": 17,
   "id": "61b43a9b-8dad-48b7-9194-2045e465793b",
   "metadata": {},
   "outputs": [],
   "source": [
    "from pyiron_workflow.function import function_node"
   ]
  },
  {
   "cell_type": "code",
   "execution_count": 18,
   "id": "647360a9-c971-4272-995c-aa01e5f5bb83",
   "metadata": {},
   "outputs": [
    {
     "name": "stdout",
     "output_type": "stream",
     "text": [
      "class name = Subtract\n",
      "label = Subtract\n",
      "default output = -1\n"
     ]
    }
   ],
   "source": [
    "@function_node(\"diff\")\n",
    "def Subtract(x: int | float = 1, y: int | float = 2) -> int | float:\n",
    "    return x - y\n",
    "\n",
    "sn = Subtract()\n",
    "print(\"class name =\", sn.__class__.__name__)\n",
    "print(\"label =\", sn.label)\n",
    "\n",
    "sn()  # Runs without updating input data, but we have defaults so that's fine\n",
    "print(\"default output =\", sn.outputs.diff.value)"
   ]
  },
  {
   "cell_type": "markdown",
   "id": "77642993-63c3-41a3-a963-a406de33553c",
   "metadata": {},
   "source": [
    "The decorator is just dynamically defining a new child of the `Function` class. These children have their behaviour available in the static method `node_function` so we can access it right from the class level, e.g. to modify the behaviour:"
   ]
  },
  {
   "cell_type": "code",
   "execution_count": 19,
   "id": "b8c845b7-7088-43d7-b106-7a6ba1c571ec",
   "metadata": {},
   "outputs": [
    {
     "name": "stdout",
     "output_type": "stream",
     "text": [
      "default output = 1\n"
     ]
    }
   ],
   "source": [
    "@function_node(\"square_diff\")\n",
    "def SubtractAndSqaure(x: int | float = 1, y: int | float = 2) -> int | float:\n",
    "    return Subtract.node_function(x, y)**2\n",
    "    \n",
    "ssq = SubtractAndSqaure()\n",
    "ssq()\n",
    "print(\"default output =\", ssq.outputs.square_diff.value)"
   ]
  },
  {
   "cell_type": "markdown",
   "id": "9b9220b0-833d-4c6a-9929-5dfa60a47d14",
   "metadata": {
    "tags": []
   },
   "source": [
    "# Connecting nodes and controlling flow\n",
    "\n",
    "Multiple nodes can be used together to build a computational graph, with each node performing a particular operation in the overall workflow.\n",
    "\n",
    "The input and output of nodes can be chained together by connecting their data channels to form a data graph.\n",
    "\n",
    "The flow of execution can be manually configured by using other \"signal\" channels to form an execution graph. However, for data graphs that are a directed acyclic graph (DAG), the execution flow can be automatically determined from the topology of the data connections!\n",
    "\n",
    "The `run` command we saw above has several boolean flags for controlling the style of execution. The two main run modes are with a \"pull\" paradigm, where everything upstream on the graph of data connections is run first then the node invoking `pull` gets run; and with a \"push\" paradigm (the default for `run`), where the node invoking `run` gets run and then runs everything downstream on the execution graph. Calling an instantiated node runs a particularly aggressive version of `pull`.\n",
    "\n",
    "We'll talk more about grouping nodes together inside a `Workflow` object, but without a parent workflow, only the `pull` method will automate execution signals; trying to push data downstream using `run` requires specifying the execution flow manually.\n",
    "\n",
    "Let's start by looking at `pull` in the example below to see how this works for a super-simple toy graph:"
   ]
  },
  {
   "cell_type": "code",
   "execution_count": 20,
   "id": "2e418abf-7059-4e1e-9b9f-b3dc0a4b5e35",
   "metadata": {
    "tags": []
   },
   "outputs": [
    {
     "name": "stderr",
     "output_type": "stream",
     "text": [
      "/Users/huber/work/pyiron/pyiron_workflow/pyiron_workflow/channels.py:164: UserWarning: The channel run was not connected to ran, andthus could not disconnect from it.\n",
      "  warn(\n"
     ]
    },
    {
     "data": {
      "text/plain": [
       "2"
      ]
     },
     "execution_count": 20,
     "metadata": {},
     "output_type": "execute_result"
    }
   ],
   "source": [
    "@function_node()\n",
    "def Linear(x):\n",
    "    return x\n",
    "\n",
    "@function_node(\"double\")\n",
    "def TimesTwo(x):\n",
    "    return 2 * x\n",
    "\n",
    "l = Linear()\n",
    "t2 = TimesTwo()\n",
    "\n",
    "l.inputs.x = 1\n",
    "t2.inputs.x = l.outputs.x\n",
    "t2.signals.input.run = l.signals.output.ran\n",
    "\n",
    "t2.pull()"
   ]
  },
  {
   "cell_type": "markdown",
   "id": "09623591-bbbb-462c-b490-f1db02c9f459",
   "metadata": {},
   "source": [
    "And, as mentioned, `__call__` is just (roughly) an alias for `pull`:"
   ]
  },
  {
   "cell_type": "code",
   "execution_count": 21,
   "id": "f3b0b700-683e-43cb-b374-48735e413bc9",
   "metadata": {},
   "outputs": [
    {
     "data": {
      "text/plain": [
       "4"
      ]
     },
     "execution_count": 21,
     "metadata": {},
     "output_type": "execute_result"
    }
   ],
   "source": [
    "l.inputs.x = 2\n",
    "t2()"
   ]
  },
  {
   "cell_type": "markdown",
   "id": "5da1ecfc-7145-4fb2-b5c0-417f050c5de4",
   "metadata": {},
   "source": [
    "Next, lets see how to do this with a \"push\" paradigm.\n",
    "\n",
    "Just like the data connections, we can connect the `.signals.inputs.run` and `.signals.output.ran` channels of two nodes, but we can also use the `>>` operator as a syntactic sugar shortcut.\n",
    "\n",
    "Note how data connections can be made with keyword arguments just like other input data definitions.\n",
    "\n",
    "With both of these together, we can write:"
   ]
  },
  {
   "cell_type": "code",
   "execution_count": 22,
   "id": "59c29856-c77e-48a1-9f17-15d4c58be588",
   "metadata": {},
   "outputs": [
    {
     "name": "stdout",
     "output_type": "stream",
     "text": [
      "10 20\n"
     ]
    }
   ],
   "source": [
    "l = Linear(x=10)\n",
    "t2 = TimesTwo(x=l.outputs.x)\n",
    "l >> t2  # Note: We can make arbitrarily long linear chains: l >> t2 >> something_else >> another_node\n",
    "l.run()\n",
    "print(t2.inputs.x, t2.outputs.double)"
   ]
  },
  {
   "cell_type": "markdown",
   "id": "f0543c2f-cc72-45e6-88f2-5ea070c64909",
   "metadata": {},
   "source": [
    "This is fine for linear chains, but when we introduce parallelization we want a different execution flow; for that we introduce `.signals.inputs.accumulate_and_run`. In contrast to `.signals.inputs.run`, which triggers are run when it receives _any_ signals, `.signals.inputs.accumulate_and_run` only fires its callback after _all_ of its connected `OutputSignal`s have pinged it at least once.\n",
    "\n",
    "This let's us set up nodes which only start running after _all_ of their up-data-stream nodes have fired their `ran` signal. This is the default behaviour when `Composite` `Workflow` or `Macro` nodes automate their execution flow for DAG data graphs. We'll look at it again near the end of the notebook when we talk about remote execution."
   ]
  },
  {
   "cell_type": "markdown",
   "id": "6d464066-4271-41be-a34f-20c78d75867c",
   "metadata": {},
   "source": [
    "# Output manipulation\n",
    "\n",
    "Most (but not all) python operations can be performed _directly on output channels_. This works by injecting new nodes after the output channels to perform the requested operation.\n",
    "\n",
    "Let's look at how we can repeat some of the above examples much more succinctly using this feature:"
   ]
  },
  {
   "cell_type": "code",
   "execution_count": 23,
   "id": "98312fbb-0e87-417c-9780-d22903cdb3f4",
   "metadata": {},
   "outputs": [
    {
     "data": {
      "text/plain": [
       "9"
      ]
     },
     "execution_count": 23,
     "metadata": {},
     "output_type": "execute_result"
    }
   ],
   "source": [
    "# Subtract and square\n",
    "\n",
    "x = Linear(x=4)\n",
    "y = Linear(x=1)\n",
    "((x.outputs.x - y.outputs.x)**2).pull()  # It's just a node so we can pull it"
   ]
  },
  {
   "cell_type": "code",
   "execution_count": 24,
   "id": "b0e8fc87-fba1-4501-882b-f162c4eadf97",
   "metadata": {},
   "outputs": [
    {
     "data": {
      "text/plain": [
       "20"
      ]
     },
     "execution_count": 24,
     "metadata": {},
     "output_type": "execute_result"
    }
   ],
   "source": [
    "# Times two\n",
    "l = Linear(x=10, run_after_init=True)\n",
    "(2*l.outputs.x).value  # These nodes will try to run right away if everything upstream is ready"
   ]
  },
  {
   "cell_type": "markdown",
   "id": "3052c26c-3559-4d61-8c93-08708293b88c",
   "metadata": {},
   "source": [
    "This also works with more sophisticated features like attribute and item access, including slicing:"
   ]
  },
  {
   "cell_type": "code",
   "execution_count": 25,
   "id": "8a195c41-233e-4076-ad77-008c93297f9c",
   "metadata": {},
   "outputs": [],
   "source": [
    "foo = [1, 2, 3]"
   ]
  },
  {
   "cell_type": "code",
   "execution_count": 26,
   "id": "6805b0c3-9103-49f4-bc29-569b0b4d6ed0",
   "metadata": {},
   "outputs": [
    {
     "data": {
      "text/plain": [
       "<function list.reverse()>"
      ]
     },
     "execution_count": 26,
     "metadata": {},
     "output_type": "execute_result"
    }
   ],
   "source": [
    "foo.reverse"
   ]
  },
  {
   "cell_type": "code",
   "execution_count": 27,
   "id": "7c4cbe66-9b0a-428b-835f-31959a7f75bb",
   "metadata": {},
   "outputs": [
    {
     "data": {
      "text/plain": [
       "[1, 2]"
      ]
     },
     "execution_count": 27,
     "metadata": {},
     "output_type": "execute_result"
    }
   ],
   "source": [
    "a_list = Linear(x=[1,2,3,4], run_after_init=True)\n",
    "a_list.outputs.x[:2].value"
   ]
  },
  {
   "cell_type": "code",
   "execution_count": 28,
   "id": "16c2d0de-de6f-4b33-84e4-aefbe5db4177",
   "metadata": {},
   "outputs": [
    {
     "data": {
      "text/plain": [
       "1"
      ]
     },
     "execution_count": 28,
     "metadata": {},
     "output_type": "execute_result"
    }
   ],
   "source": [
    "a_dict = Linear(x={\"a\": 1, \"b\": 2}, run_after_init=True)\n",
    "a_dict.outputs.x[\"a\"].value"
   ]
  },
  {
   "cell_type": "code",
   "execution_count": 29,
   "id": "30b4ed75-bb73-44bb-b6d9-fe525b924652",
   "metadata": {},
   "outputs": [
    {
     "data": {
      "text/plain": [
       "42"
      ]
     },
     "execution_count": 29,
     "metadata": {},
     "output_type": "execute_result"
    }
   ],
   "source": [
    "class Foo:\n",
    "    bar = 42\n",
    "    \n",
    "an_object = Linear(x=Foo(), run_after_init=True)\n",
    "an_object.outputs.x.bar.value"
   ]
  },
  {
   "cell_type": "markdown",
   "id": "eab9c6b6-c954-471a-8613-792590e0464f",
   "metadata": {},
   "source": [
    "Some features don't work this way, e.g. overriding the `==` operator has other deterious effects so we don't do that. Most of these operators are available as a method on output channels, based on their dunder name. E.g."
   ]
  },
  {
   "cell_type": "code",
   "execution_count": 30,
   "id": "786b1402-b595-4337-8872-fd58687c2725",
   "metadata": {},
   "outputs": [
    {
     "data": {
      "text/plain": [
       "(True, False)"
      ]
     },
     "execution_count": 30,
     "metadata": {},
     "output_type": "execute_result"
    }
   ],
   "source": [
    "a = Linear(x=42)\n",
    "b = Linear(x=42)\n",
    "c = Linear(x=0)\n",
    "\n",
    "a_eq_b = a.outputs.x.eq(b.outputs.x)\n",
    "a_eq_c = a.outputs.x.eq(c.outputs.x)\n",
    "\n",
    "(a_eq_b | a_eq_c).pull(), (a_eq_b & a_eq_c).pull()"
   ]
  },
  {
   "cell_type": "markdown",
   "id": "e5c531a3-77e4-48ad-a189-fed619e79baa",
   "metadata": {},
   "source": [
    "## Single Value nodes\n",
    "\n",
    "Many functions return just a single value. In this case, we can take advantage of the `SingleValue` node class which employs a bunch of syntactic tricks to make our lives easier.\n",
    "\n",
    "The main difference between this and it's parent the `Function` class is that attribute and item access fall back to looking for attributes and items of this single output channel. I.e. you can use a single value node in many places you'd use an output channel, including in connection formation and output manipulation\n",
    "\n",
    "Let's look at a use case for output manipulation:"
   ]
  },
  {
   "cell_type": "code",
   "execution_count": 31,
   "id": "1a4e9693-0980-4435-aecc-3331d8b608dd",
   "metadata": {},
   "outputs": [],
   "source": [
    "import numpy as np\n",
    "\n",
    "from pyiron_workflow.function import SingleValue"
   ]
  },
  {
   "cell_type": "code",
   "execution_count": 32,
   "id": "7c4d314b-33bb-4a67-bfb9-ed77fba3949c",
   "metadata": {},
   "outputs": [
    {
     "name": "stdout",
     "output_type": "stream",
     "text": [
      "<class 'numpy.ndarray'>\n",
      "[0.02040816 0.04081633 0.06122449]\n",
      "0.5\n"
     ]
    }
   ],
   "source": [
    "def linspace_node(\n",
    "    start: int | float = 0, stop: int | float = 1, num: int = 50\n",
    "):\n",
    "    linspace = np.linspace(start=start, stop=stop, num=num)\n",
    "    return linspace\n",
    "\n",
    "lin = SingleValue(linspace_node)\n",
    "lin()\n",
    "\n",
    "print(type(lin.outputs.linspace.value))  # Output is just what we expect\n",
    "print(lin[1:4].value)  # Gets items from the output\n",
    "print(lin.mean.value())  # Outputs the method on the output, which we can then call"
   ]
  },
  {
   "cell_type": "markdown",
   "id": "eef23cb0-6192-4fe6-b9cc-007e261e347a",
   "metadata": {},
   "source": [
    "Our examples above also become more compact:"
   ]
  },
  {
   "cell_type": "code",
   "execution_count": 33,
   "id": "61ae572f-197b-4a60-8d3e-e19c1b9cc6e2",
   "metadata": {},
   "outputs": [
    {
     "data": {
      "text/plain": [
       "4"
      ]
     },
     "execution_count": 33,
     "metadata": {},
     "output_type": "execute_result"
    }
   ],
   "source": [
    "from pyiron_workflow.function import single_value_node\n",
    "\n",
    "@single_value_node()\n",
    "def Linear(x):\n",
    "    return x\n",
    "\n",
    "@single_value_node(\"double\")\n",
    "def TimesTwo(x):\n",
    "    return 2 * x\n",
    "\n",
    "l = Linear(x=2)\n",
    "t2 = TimesTwo(x=l)  # Just takes the whole `l` node!\n",
    "t2.pull()"
   ]
  },
  {
   "cell_type": "markdown",
   "id": "01780601-f2fd-4730-acb8-95a7359d4b3c",
   "metadata": {},
   "source": [
    "Or even just"
   ]
  },
  {
   "cell_type": "code",
   "execution_count": 34,
   "id": "5dd7ebc2-b45f-4759-bfc4-d4dd29afe216",
   "metadata": {},
   "outputs": [
    {
     "data": {
      "text/plain": [
       "4"
      ]
     },
     "execution_count": 34,
     "metadata": {},
     "output_type": "execute_result"
    }
   ],
   "source": [
    "(2*l).value"
   ]
  },
  {
   "cell_type": "markdown",
   "id": "b2e56a64-d053-4127-bb8c-069777c1c6b5",
   "metadata": {},
   "source": [
    "Nodes can take input from multiple sources, and -- although it's usually _useful_ to give each node its own variable -- we can even instantiate nodes inside the signature for initializing another node and call that node all at once! You won't have easy access to them, but this still just builds three nodes in memory, sets their data connections, and invokes a `pull` on the outermost (downstream-most) node, which automatically creates the execution flow and runs it:"
   ]
  },
  {
   "cell_type": "code",
   "execution_count": 35,
   "id": "6569014a-815b-46dd-8b47-4e1cd4584b3b",
   "metadata": {},
   "outputs": [
    {
     "name": "stderr",
     "output_type": "stream",
     "text": [
      "/Users/huber/work/pyiron/pyiron_workflow/pyiron_workflow/channels.py:164: UserWarning: The channel run was not connected to ran, andthus could not disconnect from it.\n",
      "  warn(\n"
     ]
    },
    {
     "data": {
      "image/png": "[encoded data removed]",
      "text/plain": [
       "<Figure size 640x480 with 1 Axes>"
      ]
     },
     "metadata": {},
     "output_type": "display_data"
    }
   ],
   "source": [
    "import matplotlib.pyplot as plt\n",
    "\n",
    "@single_value_node()\n",
    "def Noise(length: int = 1):\n",
    "    array =  np.random.rand(length)\n",
    "    return array\n",
    "\n",
    "@function_node()\n",
    "def Plot(x, y):\n",
    "    fig = plt.scatter(x, y)\n",
    "    return fig\n",
    "\n",
    "plot_output = Plot(\n",
    "    x=Noise(length=10),\n",
    "    y=Noise(length=10),\n",
    ")()"
   ]
  },
  {
   "cell_type": "markdown",
   "id": "5dc12164-b663-405b-872f-756996f628bd",
   "metadata": {},
   "source": [
    "# Workflows\n",
    "\n",
    "The case where we have groups of connected nodes working together is our normal, intended use case.\n",
    "We offer a formal way to group these objects together as a `Workflow(Node)` object.\n",
    "`Workflow` also offers us a single point of entry to the codebase -- i.e. most of the time you shouldn't need the node imports used above, because the decorators are available right on the workflow class.\n",
    "\n",
    "We will also see here that we can rename our node output channels using the `output_labels: Optional[str | list[str] | tuple[str]` kwarg, in case they don't have a convenient name to start with.\n",
    "This way we can always have convenient dot-based access (and tab completion) instead of having to access things by string-based keys.\n",
    "\n",
    "Finally, when a workflow is run, unless its `automate_execution` flag has been set to `False` or the data connections form a cyclic graph, it will _automatically_ build the necessary run signals! That means for all directed acyclic graph (DAG) workflows, all we typically need to worry about is the data connections."
   ]
  },
  {
   "cell_type": "markdown",
   "id": "9b9d3881-3584-4d6f-8068-5eed05760c36",
   "metadata": {},
   "source": [
    "Here is an example showing how `Workflow` can be used as a single-point-of-import for defining new nodes:"
   ]
  },
  {
   "cell_type": "code",
   "execution_count": 36,
   "id": "1cd000bd-9b24-4c39-9cac-70a3291d0660",
   "metadata": {},
   "outputs": [],
   "source": [
    "from pyiron_workflow import Workflow\n",
    "\n",
    "@Workflow.wrap_as.single_value_node(\"is_greater\")\n",
    "def GreaterThanHalf(x: int | float | bool = 0) -> bool:\n",
    "    \"\"\"The functionality doesn't matter here, it's just an example\"\"\"\n",
    "    return x > 0.5"
   ]
  },
  {
   "cell_type": "markdown",
   "id": "8f17751c-f5bf-4b13-8275-0685d8a1629e",
   "metadata": {},
   "source": [
    "## Adding nodes to a workflow\n",
    "\n",
    "Each node can belong to exactly one workflow...but how to we create a workflow and add nodes to it\n",
    "\n",
    "All five of the approaches below are equivalent ways to add a node to a workflow. Note that when `create` is called from the workflow _class_ it just gives you access to the class being created; when it is called from a workflow _instance_, it wraps this class so that the created node has its parent value automatically set to the workflow instance that's creating it."
   ]
  },
  {
   "cell_type": "code",
   "execution_count": 37,
   "id": "7964df3c-55af-4c25-afc5-9e07accb606a",
   "metadata": {},
   "outputs": [
    {
     "name": "stdout",
     "output_type": "stream",
     "text": [
      "n1 == n1) 0.0 > 0.5 False\n",
      "n2 == n2) 0.25 > 0.5 False\n",
      "n3 == n3) 0.5 > 0.5 False\n",
      "n4 == n4) 0.75 > 0.5 True\n"
     ]
    }
   ],
   "source": [
    "n1 = GreaterThanHalf(label=\"n1\")\n",
    "\n",
    "wf = Workflow(\"my_wf\", n1)  # As args at init\n",
    "wf.add_node(GreaterThanHalf(label=\"n2\"))  # Instantiating then passing to node adder\n",
    "wf.n3 = GreaterThanHalf(label=\"will_get_overwritten_with_n3\")  # Set attribute to instance\n",
    "GreaterThanHalf(label=\"n4\", parent=wf)  # By passing the workflow to the node\n",
    "\n",
    "for i, (label, node) in enumerate(wf.nodes.items()):\n",
    "    x = i / len(wf)\n",
    "    node(x=x)\n",
    "    print(f\"{label} == {node.label}) {x} > 0.5 {node.value}\")"
   ]
  },
  {
   "cell_type": "markdown",
   "id": "77c68bcb-089c-4c92-9897-9a7ab9b087c7",
   "metadata": {},
   "source": [
    "Nodes can also be removed or replaced with the corresponding `remove_node` or `replace_node` methods."
   ]
  },
  {
   "cell_type": "markdown",
   "id": "dd5768a4-1810-4675-9389-bceb053cddfa",
   "metadata": {},
   "source": [
    "Workflows have inputs and outputs just like function nodes, but these are dynamically created to map to all _unconnected_ input and output for their underlying graph. They automatically get named by connecting the node label and channel label with a double underscore, but this can be overriden by providing an `inputs_map` and/or an `outputs_map` -- these maps can also let you expose data channels that would otherwise be hidden because they have a connection!"
   ]
  },
  {
   "cell_type": "code",
   "execution_count": 38,
   "id": "809178a5-2e6b-471d-89ef-0797db47c5ad",
   "metadata": {},
   "outputs": [
    {
     "name": "stdout",
     "output_type": "stream",
     "text": [
      "['ax', 'b__x'] ['ay', 'a + b + 2']\n"
     ]
    }
   ],
   "source": [
    "wf = Workflow(\"simple\")\n",
    "\n",
    "@Workflow.wrap_as.single_value_node()\n",
    "def AddOne(x):\n",
    "    y = x + 1\n",
    "    return y\n",
    "\n",
    "@Workflow.wrap_as.single_value_node(\"sum\")\n",
    "def Add(x, y):\n",
    "    return x + y\n",
    "\n",
    "wf.a = AddOne(0)\n",
    "wf.b = AddOne(0)\n",
    "wf.sum = Add(wf.a, wf.b)  \n",
    "wf.inputs_map = {\"a__x\": \"ax\"}\n",
    "wf.outputs_map = {\"a__y\": \"ay\", \"sum__sum\": \"a + b + 2\"}\n",
    "# Remember, with single value nodes we can pass the whole node instead of an output channel!\n",
    "\n",
    "print(wf.inputs.labels, wf.outputs.labels)"
   ]
  },
  {
   "cell_type": "markdown",
   "id": "848a45a9-dfcc-4b9e-aec5-e879d88325a2",
   "metadata": {},
   "source": [
    "When `run()` is called on a workflow, it will call `run()` on each node in its `starting_nodes` list and rely on these to propagate the execution with their run signals. If your data flow is DAG-like, all of this gets handled automatically so you just need to call `run()` on the workflow.\n",
    "\n",
    "If you do have cyclic data flows, or just want more control, you are still free to set the `starting_nodes` and run signals yourself, just don't forget to set `automate_execution=False` on the workflow."
   ]
  },
  {
   "cell_type": "markdown",
   "id": "18ba07ca-f1f9-4f05-98db-d5612f9acbb6",
   "metadata": {},
   "source": [
    "Unlike function nodes, workflow input has no intrinsic order. We can still update it by calling the workflow, but we _need_ to use keyword and not positional arguments. Runs of the workflow then return a dot-accessible dictionary based on the output channels:"
   ]
  },
  {
   "cell_type": "code",
   "execution_count": 39,
   "id": "52c48d19-10a2-4c48-ae81-eceea4129a60",
   "metadata": {},
   "outputs": [
    {
     "data": {
      "text/plain": [
       "{'ay': 3, 'a + b + 2': 7}"
      ]
     },
     "execution_count": 39,
     "metadata": {},
     "output_type": "execute_result"
    }
   ],
   "source": [
    "out = wf(ax=2, b__x=3)\n",
    "out"
   ]
  },
  {
   "cell_type": "markdown",
   "id": "a229a66b-54f0-4d79-a16f-669c5f755587",
   "metadata": {},
   "source": [
    "Note: Workflows are the \"parent-most\" node, so even though `__call__` is still invoking a `pull`, the \"run all upstream data dependencies\" part of \"run all upstream data dependencies then run yourself\" gets skipped trivially -- workflows can't have siblings or parents so there are no dependencies to run! Thus `__call__` is effectively just a `run`."
   ]
  },
  {
   "cell_type": "markdown",
   "id": "e3f4b51b-7c28-47f7-9822-b4755e12bd4d",
   "metadata": {},
   "source": [
    "We can see now why we've been trying to give succinct string labels to our `Function` node outputs instead of just arbitrary expressions! The expressions are typically not dot-accessible:"
   ]
  },
  {
   "cell_type": "code",
   "execution_count": 40,
   "id": "bb35ba3e-602d-4c9c-b046-32da9401dd1c",
   "metadata": {},
   "outputs": [
    {
     "data": {
      "text/plain": [
       "(7, 3)"
      ]
     },
     "execution_count": 40,
     "metadata": {},
     "output_type": "execute_result"
    }
   ],
   "source": [
    "out[\"a + b + 2\"], out.ay"
   ]
  },
  {
   "cell_type": "markdown",
   "id": "c67ddcd9-cea0-4f3f-96aa-491da0a4c459",
   "metadata": {},
   "source": [
    "We can also look at our graph:"
   ]
  },
  {
   "cell_type": "code",
   "execution_count": 41,
   "id": "2b0d2c85-9049-417b-8739-8a8432a1efbe",
   "metadata": {},
   "outputs": [
    {
     "data": {
      "image/svg+xml": [
       "<?xml version=\"1.0\" encoding=\"UTF-8\" standalone=\"no\"?>\n",
       "<!DOCTYPE svg PUBLIC \"-//W3C//DTD SVG 1.1//EN\"\n",
       " \"http://www.w3.org/Graphics/SVG/1.1/DTD/svg11.dtd\">\n",
       "<!-- Generated by graphviz version 8.0.5 (0)\n",
       " -->\n",
       "<!-- Title: clustersimple Pages: 1 -->\n",
       "<svg width=\"805pt\" height=\"538pt\"\n",
       " viewBox=\"0.00 0.00 804.98 538.25\" xmlns=\"http://www.w3.org/2000/svg\" xmlns:xlink=\"http://www.w3.org/1999/xlink\">\n",
       "<g id=\"graph0\" class=\"graph\" transform=\"scale(1 1) rotate(0) translate(4 534.25)\">\n",
       "<title>clustersimple</title>\n",
       "<polygon fill=\"white\" stroke=\"none\" points=\"-4,4 -4,-534.25 800.98,-534.25 800.98,4 -4,4\"/>\n",
       "<text text-anchor=\"middle\" x=\"398.49\" y=\"-4.95\" font-family=\"Times,serif\" font-size=\"14.00\">simple: Workflow</text>\n",
       "<g id=\"clust1\" class=\"cluster\">\n",
       "<title>clustersimpleInputs</title>\n",
       "<defs>\n",
       "<linearGradient id=\"clust1_l_0\" gradientUnits=\"userSpaceOnUse\" x1=\"8\" y1=\"-148.25\" x2=\"153.25\" y2=\"-148.25\" >\n",
       "<stop offset=\"0\" style=\"stop-color:#7f7f7f;stop-opacity:1.;\"/>\n",
       "<stop offset=\"1\" style=\"stop-color:#d9d9d9;stop-opacity:1.;\"/>\n",
       "</linearGradient>\n",
       "</defs>\n",
       "<polygon fill=\"url(#clust1_l_0)\" stroke=\"black\" points=\"8,-30.25 8,-266.25 153.25,-266.25 153.25,-30.25 8,-30.25\"/>\n",
       "<text text-anchor=\"middle\" x=\"80.62\" y=\"-248.95\" font-family=\"Times,serif\" font-size=\"14.00\">Inputs</text>\n",
       "</g>\n",
       "<g id=\"clust2\" class=\"cluster\">\n",
       "<title>clustersimpleOutputs</title>\n",
       "<defs>\n",
       "<linearGradient id=\"clust2_l_1\" gradientUnits=\"userSpaceOnUse\" x1=\"788.98\" y1=\"-281.25\" x2=\"687.75\" y2=\"-281.25\" >\n",
       "<stop offset=\"0\" style=\"stop-color:#7f7f7f;stop-opacity:1.;\"/>\n",
       "<stop offset=\"1\" style=\"stop-color:#d9d9d9;stop-opacity:1.;\"/>\n",
       "</linearGradient>\n",
       "</defs>\n",
       "<polygon fill=\"url(#clust2_l_1)\" stroke=\"black\" points=\"687.75,-190.25 687.75,-372.25 788.98,-372.25 788.98,-190.25 687.75,-190.25\"/>\n",
       "<text text-anchor=\"middle\" x=\"738.36\" y=\"-354.95\" font-family=\"Times,serif\" font-size=\"14.00\">Outputs</text>\n",
       "</g>\n",
       "<g id=\"clust3\" class=\"cluster\">\n",
       "<title>clustersimplea</title>\n",
       "<defs>\n",
       "<linearGradient id=\"clust3_l_2\" gradientUnits=\"userSpaceOnUse\" x1=\"290.88\" y1=\"-302.25\" x2=\"290.88\" y2=\"-522.25\" >\n",
       "<stop offset=\"0\" style=\"stop-color:#17becf;stop-opacity:1.;\"/>\n",
       "<stop offset=\"1\" style=\"stop-color:#b9ecf1;stop-opacity:1.;\"/>\n",
       "</linearGradient>\n",
       "</defs>\n",
       "<polygon fill=\"url(#clust3_l_2)\" stroke=\"black\" points=\"165.25,-302.25 165.25,-522.25 416.5,-522.25 416.5,-302.25 165.25,-302.25\"/>\n",
       "<text text-anchor=\"middle\" x=\"290.88\" y=\"-504.95\" font-family=\"Times,serif\" font-size=\"14.00\">a: AddOne</text>\n",
       "</g>\n",
       "<g id=\"clust4\" class=\"cluster\">\n",
       "<title>clustersimpleaInputs</title>\n",
       "<defs>\n",
       "<linearGradient id=\"clust4_l_3\" gradientUnits=\"userSpaceOnUse\" x1=\"173.25\" y1=\"-401.25\" x2=\"318.5\" y2=\"-401.25\" >\n",
       "<stop offset=\"0\" style=\"stop-color:#7f7f7f;stop-opacity:1.;\"/>\n",
       "<stop offset=\"1\" style=\"stop-color:#d9d9d9;stop-opacity:1.;\"/>\n",
       "</linearGradient>\n",
       "</defs>\n",
       "<polygon fill=\"url(#clust4_l_3)\" stroke=\"black\" points=\"173.25,-310.25 173.25,-492.25 318.5,-492.25 318.5,-310.25 173.25,-310.25\"/>\n",
       "<text text-anchor=\"middle\" x=\"245.88\" y=\"-474.95\" font-family=\"Times,serif\" font-size=\"14.00\">Inputs</text>\n",
       "</g>\n",
       "<g id=\"clust5\" class=\"cluster\">\n",
       "<title>clustersimpleaOutputs</title>\n",
       "<defs>\n",
       "<linearGradient id=\"clust5_l_4\" gradientUnits=\"userSpaceOnUse\" x1=\"408.5\" y1=\"-389.25\" x2=\"338.5\" y2=\"-389.25\" >\n",
       "<stop offset=\"0\" style=\"stop-color:#7f7f7f;stop-opacity:1.;\"/>\n",
       "<stop offset=\"1\" style=\"stop-color:#d9d9d9;stop-opacity:1.;\"/>\n",
       "</linearGradient>\n",
       "</defs>\n",
       "<polygon fill=\"url(#clust5_l_4)\" stroke=\"black\" points=\"338.5,-325.25 338.5,-453.25 408.5,-453.25 408.5,-325.25 338.5,-325.25\"/>\n",
       "<text text-anchor=\"middle\" x=\"373.5\" y=\"-435.95\" font-family=\"Times,serif\" font-size=\"14.00\">Outputs</text>\n",
       "</g>\n",
       "<g id=\"clust6\" class=\"cluster\">\n",
       "<title>clustersimpleb</title>\n",
       "<defs>\n",
       "<linearGradient id=\"clust6_l_5\" gradientUnits=\"userSpaceOnUse\" x1=\"290.88\" y1=\"-74.25\" x2=\"290.88\" y2=\"-294.25\" >\n",
       "<stop offset=\"0\" style=\"stop-color:#17becf;stop-opacity:1.;\"/>\n",
       "<stop offset=\"1\" style=\"stop-color:#b9ecf1;stop-opacity:1.;\"/>\n",
       "</linearGradient>\n",
       "</defs>\n",
       "<polygon fill=\"url(#clust6_l_5)\" stroke=\"black\" points=\"165.25,-74.25 165.25,-294.25 416.5,-294.25 416.5,-74.25 165.25,-74.25\"/>\n",
       "<text text-anchor=\"middle\" x=\"290.88\" y=\"-276.95\" font-family=\"Times,serif\" font-size=\"14.00\">b: AddOne</text>\n",
       "</g>\n",
       "<g id=\"clust7\" class=\"cluster\">\n",
       "<title>clustersimplebInputs</title>\n",
       "<defs>\n",
       "<linearGradient id=\"clust7_l_6\" gradientUnits=\"userSpaceOnUse\" x1=\"173.25\" y1=\"-173.25\" x2=\"318.5\" y2=\"-173.25\" >\n",
       "<stop offset=\"0\" style=\"stop-color:#7f7f7f;stop-opacity:1.;\"/>\n",
       "<stop offset=\"1\" style=\"stop-color:#d9d9d9;stop-opacity:1.;\"/>\n",
       "</linearGradient>\n",
       "</defs>\n",
       "<polygon fill=\"url(#clust7_l_6)\" stroke=\"black\" points=\"173.25,-82.25 173.25,-264.25 318.5,-264.25 318.5,-82.25 173.25,-82.25\"/>\n",
       "<text text-anchor=\"middle\" x=\"245.88\" y=\"-246.95\" font-family=\"Times,serif\" font-size=\"14.00\">Inputs</text>\n",
       "</g>\n",
       "<g id=\"clust8\" class=\"cluster\">\n",
       "<title>clustersimplebOutputs</title>\n",
       "<defs>\n",
       "<linearGradient id=\"clust8_l_7\" gradientUnits=\"userSpaceOnUse\" x1=\"408.5\" y1=\"-200.25\" x2=\"338.5\" y2=\"-200.25\" >\n",
       "<stop offset=\"0\" style=\"stop-color:#7f7f7f;stop-opacity:1.;\"/>\n",
       "<stop offset=\"1\" style=\"stop-color:#d9d9d9;stop-opacity:1.;\"/>\n",
       "</linearGradient>\n",
       "</defs>\n",
       "<polygon fill=\"url(#clust8_l_7)\" stroke=\"black\" points=\"338.5,-136.25 338.5,-264.25 408.5,-264.25 408.5,-136.25 338.5,-136.25\"/>\n",
       "<text text-anchor=\"middle\" x=\"373.5\" y=\"-246.95\" font-family=\"Times,serif\" font-size=\"14.00\">Outputs</text>\n",
       "</g>\n",
       "<g id=\"clust9\" class=\"cluster\">\n",
       "<title>clustersimplesum</title>\n",
       "<defs>\n",
       "<linearGradient id=\"clust9_l_8\" gradientUnits=\"userSpaceOnUse\" x1=\"550.12\" y1=\"-128.25\" x2=\"550.12\" y2=\"-402.25\" >\n",
       "<stop offset=\"0\" style=\"stop-color:#17becf;stop-opacity:1.;\"/>\n",
       "<stop offset=\"1\" style=\"stop-color:#b9ecf1;stop-opacity:1.;\"/>\n",
       "</linearGradient>\n",
       "</defs>\n",
       "<polygon fill=\"url(#clust9_l_8)\" stroke=\"black\" points=\"424.5,-128.25 424.5,-402.25 675.75,-402.25 675.75,-128.25 424.5,-128.25\"/>\n",
       "<text text-anchor=\"middle\" x=\"550.12\" y=\"-384.95\" font-family=\"Times,serif\" font-size=\"14.00\">sum: Add</text>\n",
       "</g>\n",
       "<g id=\"clust10\" class=\"cluster\">\n",
       "<title>clustersimplesumInputs</title>\n",
       "<defs>\n",
       "<linearGradient id=\"clust10_l_9\" gradientUnits=\"userSpaceOnUse\" x1=\"432.5\" y1=\"-254.25\" x2=\"577.75\" y2=\"-254.25\" >\n",
       "<stop offset=\"0\" style=\"stop-color:#7f7f7f;stop-opacity:1.;\"/>\n",
       "<stop offset=\"1\" style=\"stop-color:#d9d9d9;stop-opacity:1.;\"/>\n",
       "</linearGradient>\n",
       "</defs>\n",
       "<polygon fill=\"url(#clust10_l_9)\" stroke=\"black\" points=\"432.5,-136.25 432.5,-372.25 577.75,-372.25 577.75,-136.25 432.5,-136.25\"/>\n",
       "<text text-anchor=\"middle\" x=\"505.13\" y=\"-354.95\" font-family=\"Times,serif\" font-size=\"14.00\">Inputs</text>\n",
       "</g>\n",
       "<g id=\"clust11\" class=\"cluster\">\n",
       "<title>clustersimplesumOutputs</title>\n",
       "<defs>\n",
       "<linearGradient id=\"clust11_l_10\" gradientUnits=\"userSpaceOnUse\" x1=\"667.75\" y1=\"-308.25\" x2=\"597.75\" y2=\"-308.25\" >\n",
       "<stop offset=\"0\" style=\"stop-color:#7f7f7f;stop-opacity:1.;\"/>\n",
       "<stop offset=\"1\" style=\"stop-color:#d9d9d9;stop-opacity:1.;\"/>\n",
       "</linearGradient>\n",
       "</defs>\n",
       "<polygon fill=\"url(#clust11_l_10)\" stroke=\"black\" points=\"597.75,-244.25 597.75,-372.25 667.75,-372.25 667.75,-244.25 597.75,-244.25\"/>\n",
       "<text text-anchor=\"middle\" x=\"632.75\" y=\"-354.95\" font-family=\"Times,serif\" font-size=\"14.00\">Outputs</text>\n",
       "</g>\n",
       "<!-- clustersimpleInputsrun -->\n",
       "<g id=\"node1\" class=\"node\">\n",
       "<title>clustersimpleInputsrun</title>\n",
       "<polygon fill=\"#1f77b4\" stroke=\"#1f77b4\" points=\"95.62,-68.25 53.62,-68.25 53.62,-44.25 95.62,-44.25 107.62,-56.25 95.62,-68.25\"/>\n",
       "<text text-anchor=\"middle\" x=\"80.62\" y=\"-50.08\" font-family=\"Times,serif\" font-size=\"14.00\">run</text>\n",
       "</g>\n",
       "<!-- clustersimpleOutputsran -->\n",
       "<g id=\"node5\" class=\"node\">\n",
       "<title>clustersimpleOutputsran</title>\n",
       "<polygon fill=\"#1f77b4\" stroke=\"#1f77b4\" points=\"753.36,-228.25 711.36,-228.25 711.36,-204.25 753.36,-204.25 765.36,-216.25 753.36,-228.25\"/>\n",
       "<text text-anchor=\"middle\" x=\"738.36\" y=\"-210.07\" font-family=\"Times,serif\" font-size=\"14.00\">ran</text>\n",
       "</g>\n",
       "<!-- clustersimpleInputsrun&#45;&gt;clustersimpleOutputsran -->\n",
       "<!-- clustersimpleInputsaccumulate_and_run -->\n",
       "<g id=\"node2\" class=\"node\">\n",
       "<title>clustersimpleInputsaccumulate_and_run</title>\n",
       "<polygon fill=\"#1f77b4\" stroke=\"#1f77b4\" points=\"133.25,-176.25 16,-176.25 16,-152.25 133.25,-152.25 145.25,-164.25 133.25,-176.25\"/>\n",
       "<text text-anchor=\"middle\" x=\"80.62\" y=\"-158.07\" font-family=\"Times,serif\" font-size=\"14.00\">accumulate_and_run</text>\n",
       "</g>\n",
       "<!-- clustersimpleInputsax -->\n",
       "<g id=\"node3\" class=\"node\">\n",
       "<title>clustersimpleInputsax</title>\n",
       "<ellipse fill=\"#ff7f0e\" stroke=\"#ff7f0e\" cx=\"80.62\" cy=\"-218.25\" rx=\"27\" ry=\"18\"/>\n",
       "<text text-anchor=\"middle\" x=\"80.62\" y=\"-212.07\" font-family=\"Times,serif\" font-size=\"14.00\">ax</text>\n",
       "</g>\n",
       "<!-- clustersimpleaInputsx -->\n",
       "<g id=\"node10\" class=\"node\">\n",
       "<title>clustersimpleaInputsx</title>\n",
       "<ellipse fill=\"#ff7f0e\" stroke=\"#ff7f0e\" cx=\"245.88\" cy=\"-336.25\" rx=\"27\" ry=\"18\"/>\n",
       "<text text-anchor=\"middle\" x=\"245.88\" y=\"-330.07\" font-family=\"Times,serif\" font-size=\"14.00\">x</text>\n",
       "</g>\n",
       "<!-- clustersimpleInputsax&#45;&gt;clustersimpleaInputsx -->\n",
       "<g id=\"edge9\" class=\"edge\">\n",
       "<title>clustersimpleInputsax&#45;&gt;clustersimpleaInputsx</title>\n",
       "<path fill=\"none\" stroke=\"#ff7f0e\" d=\"M99.72,-231.33C114.06,-241.7 135.25,-257.01 157.03,-272.76\"/>\n",
       "<path fill=\"none\" stroke=\"#ff7f0e\" d=\"M157.03,-272.76C178.82,-288.5 201.19,-304.68 217.91,-316.76\"/>\n",
       "<polygon fill=\"#ff7f0e\" stroke=\"#ff7f0e\" points=\"215.54,-320.09 225.7,-323.11 219.65,-314.42 215.54,-320.09\"/>\n",
       "</g>\n",
       "<!-- clustersimpleInputsb__x -->\n",
       "<g id=\"node4\" class=\"node\">\n",
       "<title>clustersimpleInputsb__x</title>\n",
       "<ellipse fill=\"#ff7f0e\" stroke=\"#ff7f0e\" cx=\"80.62\" cy=\"-110.25\" rx=\"27.35\" ry=\"18\"/>\n",
       "<text text-anchor=\"middle\" x=\"80.62\" y=\"-104.08\" font-family=\"Times,serif\" font-size=\"14.00\">b__x</text>\n",
       "</g>\n",
       "<!-- clustersimplebInputsx -->\n",
       "<g id=\"node15\" class=\"node\">\n",
       "<title>clustersimplebInputsx</title>\n",
       "<ellipse fill=\"#ff7f0e\" stroke=\"#ff7f0e\" cx=\"245.88\" cy=\"-108.25\" rx=\"27\" ry=\"18\"/>\n",
       "<text text-anchor=\"middle\" x=\"245.88\" y=\"-102.08\" font-family=\"Times,serif\" font-size=\"14.00\">x</text>\n",
       "</g>\n",
       "<!-- clustersimpleInputsb__x&#45;&gt;clustersimplebInputsx -->\n",
       "<g id=\"edge10\" class=\"edge\">\n",
       "<title>clustersimpleInputsb__x&#45;&gt;clustersimplebInputsx</title>\n",
       "<path fill=\"none\" stroke=\"#ff7f0e\" d=\"M108.22,-109.92C121.72,-109.76 138.97,-109.55 156.65,-109.33\"/>\n",
       "<path fill=\"none\" stroke=\"#ff7f0e\" d=\"M156.65,-109.33C174.32,-109.11 192.41,-108.89 207.57,-108.71\"/>\n",
       "<polygon fill=\"#ff7f0e\" stroke=\"#ff7f0e\" points=\"207.61,-112.19 217.56,-108.57 207.52,-105.2 207.61,-112.19\"/>\n",
       "</g>\n",
       "<!-- clustersimpleOutputsay -->\n",
       "<g id=\"node6\" class=\"node\">\n",
       "<title>clustersimpleOutputsay</title>\n",
       "<ellipse fill=\"#ff7f0e\" stroke=\"#ff7f0e\" cx=\"738.36\" cy=\"-324.25\" rx=\"27\" ry=\"18\"/>\n",
       "<text text-anchor=\"middle\" x=\"738.36\" y=\"-318.07\" font-family=\"Times,serif\" font-size=\"14.00\">ay</text>\n",
       "</g>\n",
       "<!-- clustersimpleOutputsa + b + 2 -->\n",
       "<g id=\"node7\" class=\"node\">\n",
       "<title>clustersimpleOutputsa + b + 2</title>\n",
       "<ellipse fill=\"#ff7f0e\" stroke=\"#ff7f0e\" cx=\"738.36\" cy=\"-270.25\" rx=\"42.61\" ry=\"18\"/>\n",
       "<text text-anchor=\"middle\" x=\"738.36\" y=\"-264.07\" font-family=\"Times,serif\" font-size=\"14.00\">a + b + 2</text>\n",
       "</g>\n",
       "<!-- clustersimpleaInputsrun -->\n",
       "<g id=\"node8\" class=\"node\">\n",
       "<title>clustersimpleaInputsrun</title>\n",
       "<polygon fill=\"#1f77b4\" stroke=\"#1f77b4\" points=\"260.88,-456.25 218.88,-456.25 218.88,-432.25 260.88,-432.25 272.88,-444.25 260.88,-456.25\"/>\n",
       "<text text-anchor=\"middle\" x=\"245.88\" y=\"-438.07\" font-family=\"Times,serif\" font-size=\"14.00\">run</text>\n",
       "</g>\n",
       "<!-- clustersimpleaOutputsran -->\n",
       "<g id=\"node11\" class=\"node\">\n",
       "<title>clustersimpleaOutputsran</title>\n",
       "<polygon fill=\"#1f77b4\" stroke=\"#1f77b4\" points=\"388.5,-363.25 346.5,-363.25 346.5,-339.25 388.5,-339.25 400.5,-351.25 388.5,-363.25\"/>\n",
       "<text text-anchor=\"middle\" x=\"373.5\" y=\"-345.07\" font-family=\"Times,serif\" font-size=\"14.00\">ran</text>\n",
       "</g>\n",
       "<!-- clustersimpleaInputsrun&#45;&gt;clustersimpleaOutputsran -->\n",
       "<!-- clustersimpleaInputsaccumulate_and_run -->\n",
       "<g id=\"node9\" class=\"node\">\n",
       "<title>clustersimpleaInputsaccumulate_and_run</title>\n",
       "<polygon fill=\"#1f77b4\" stroke=\"#1f77b4\" points=\"298.5,-402.25 181.25,-402.25 181.25,-378.25 298.5,-378.25 310.5,-390.25 298.5,-402.25\"/>\n",
       "<text text-anchor=\"middle\" x=\"245.88\" y=\"-384.07\" font-family=\"Times,serif\" font-size=\"14.00\">accumulate_and_run</text>\n",
       "</g>\n",
       "<!-- clustersimplesumInputsaccumulate_and_run -->\n",
       "<g id=\"node19\" class=\"node\">\n",
       "<title>clustersimplesumInputsaccumulate_and_run</title>\n",
       "<polygon fill=\"#1f77b4\" stroke=\"#1f77b4\" points=\"557.75,-228.25 440.5,-228.25 440.5,-204.25 557.75,-204.25 569.75,-216.25 557.75,-228.25\"/>\n",
       "<text text-anchor=\"middle\" x=\"505.13\" y=\"-210.07\" font-family=\"Times,serif\" font-size=\"14.00\">accumulate_and_run</text>\n",
       "</g>\n",
       "<!-- clustersimpleaOutputsran&#45;&gt;clustersimplesumInputsaccumulate_and_run -->\n",
       "<g id=\"edge5\" class=\"edge\">\n",
       "<title>clustersimpleaOutputsran&#45;&gt;clustersimplesumInputsaccumulate_and_run</title>\n",
       "<path fill=\"none\" stroke=\"#1f77b4\" d=\"M384.87,-332.86C391.89,-320.06 401.35,-302.12 409.61,-284.08\"/>\n",
       "<path fill=\"none\" stroke=\"#1f77b4\" d=\"M409.61,-284.08C412.04,-278.77 414.37,-273.45 416.5,-268.25 420.93,-257.46 416.32,-251.57 424.5,-243.25 426.47,-241.25 428.59,-239.39 430.84,-237.67\"/>\n",
       "<polygon fill=\"#1f77b4\" stroke=\"#1f77b4\" points=\"432.54,-240.09 439.01,-231.71 428.72,-234.23 432.54,-240.09\"/>\n",
       "</g>\n",
       "<!-- clustersimpleaOutputsy -->\n",
       "<g id=\"node12\" class=\"node\">\n",
       "<title>clustersimpleaOutputsy</title>\n",
       "<ellipse fill=\"#ff7f0e\" stroke=\"#ff7f0e\" cx=\"373.5\" cy=\"-405.25\" rx=\"27\" ry=\"18\"/>\n",
       "<text text-anchor=\"middle\" x=\"373.5\" y=\"-399.07\" font-family=\"Times,serif\" font-size=\"14.00\">y</text>\n",
       "</g>\n",
       "<!-- clustersimpleaOutputsy&#45;&gt;clustersimpleOutputsay -->\n",
       "<g id=\"edge11\" class=\"edge\">\n",
       "<title>clustersimpleaOutputsy&#45;&gt;clustersimpleOutputsay</title>\n",
       "<path fill=\"none\" stroke=\"#ff7f0e\" d=\"M400.33,-407.77C431.92,-410.23 488.73,-412.75 549.53,-406.26\"/>\n",
       "<path fill=\"none\" stroke=\"#ff7f0e\" d=\"M549.53,-406.26C592.07,-401.71 636.57,-392.74 675.75,-376.25 690.96,-369.84 705.24,-358.3 716.21,-347.72\"/>\n",
       "<polygon fill=\"#ff7f0e\" stroke=\"#ff7f0e\" points=\"718.38,-350.49 722.91,-340.91 713.4,-345.57 718.38,-350.49\"/>\n",
       "</g>\n",
       "<!-- clustersimplesumInputsx -->\n",
       "<g id=\"node20\" class=\"node\">\n",
       "<title>clustersimplesumInputsx</title>\n",
       "<ellipse fill=\"#ff7f0e\" stroke=\"#ff7f0e\" cx=\"505.12\" cy=\"-270.25\" rx=\"27\" ry=\"18\"/>\n",
       "<text text-anchor=\"middle\" x=\"505.13\" y=\"-264.07\" font-family=\"Times,serif\" font-size=\"14.00\">x</text>\n",
       "</g>\n",
       "<!-- clustersimpleaOutputsy&#45;&gt;clustersimplesumInputsx -->\n",
       "<g id=\"edge6\" class=\"edge\">\n",
       "<title>clustersimpleaOutputsy&#45;&gt;clustersimplesumInputsx</title>\n",
       "<path fill=\"none\" stroke=\"#ff7f0e\" d=\"M396.8,-395.88C404.28,-391.61 411.89,-385.79 416.5,-378.25 422.49,-368.45 419.56,-344.15 419.51,-324.08\"/>\n",
       "<path fill=\"none\" stroke=\"#ff7f0e\" d=\"M419.51,-324.08C419.48,-312.55 420.39,-302.42 424.5,-297.25 434.9,-284.15 451.94,-277.37 467.59,-273.88\"/>\n",
       "<polygon fill=\"#ff7f0e\" stroke=\"#ff7f0e\" points=\"467.9,-277.19 477.11,-271.94 466.64,-270.31 467.9,-277.19\"/>\n",
       "</g>\n",
       "<!-- clustersimplebInputsrun -->\n",
       "<g id=\"node13\" class=\"node\">\n",
       "<title>clustersimplebInputsrun</title>\n",
       "<polygon fill=\"#1f77b4\" stroke=\"#1f77b4\" points=\"260.88,-228.25 218.88,-228.25 218.88,-204.25 260.88,-204.25 272.88,-216.25 260.88,-228.25\"/>\n",
       "<text text-anchor=\"middle\" x=\"245.88\" y=\"-210.07\" font-family=\"Times,serif\" font-size=\"14.00\">run</text>\n",
       "</g>\n",
       "<!-- clustersimplebOutputsran -->\n",
       "<g id=\"node16\" class=\"node\">\n",
       "<title>clustersimplebOutputsran</title>\n",
       "<polygon fill=\"#1f77b4\" stroke=\"#1f77b4\" points=\"388.5,-228.25 346.5,-228.25 346.5,-204.25 388.5,-204.25 400.5,-216.25 388.5,-228.25\"/>\n",
       "<text text-anchor=\"middle\" x=\"373.5\" y=\"-210.07\" font-family=\"Times,serif\" font-size=\"14.00\">ran</text>\n",
       "</g>\n",
       "<!-- clustersimplebInputsrun&#45;&gt;clustersimplebOutputsran -->\n",
       "<!-- clustersimplebInputsaccumulate_and_run -->\n",
       "<g id=\"node14\" class=\"node\">\n",
       "<title>clustersimplebInputsaccumulate_and_run</title>\n",
       "<polygon fill=\"#1f77b4\" stroke=\"#1f77b4\" points=\"298.5,-174.25 181.25,-174.25 181.25,-150.25 298.5,-150.25 310.5,-162.25 298.5,-174.25\"/>\n",
       "<text text-anchor=\"middle\" x=\"245.88\" y=\"-156.07\" font-family=\"Times,serif\" font-size=\"14.00\">accumulate_and_run</text>\n",
       "</g>\n",
       "<!-- clustersimplebOutputsran&#45;&gt;clustersimplesumInputsaccumulate_and_run -->\n",
       "<g id=\"edge7\" class=\"edge\">\n",
       "<title>clustersimplebOutputsran&#45;&gt;clustersimplesumInputsaccumulate_and_run</title>\n",
       "<path fill=\"none\" stroke=\"#1f77b4\" d=\"M400.73,-216.25C404.99,-216.25 409.59,-216.25 414.41,-216.25\"/>\n",
       "<path fill=\"none\" stroke=\"#1f77b4\" d=\"M414.41,-216.25C419.23,-216.25 424.27,-216.25 429.39,-216.25\"/>\n",
       "<polygon fill=\"#1f77b4\" stroke=\"#1f77b4\" points=\"429.15,-219.75 439.15,-216.25 429.15,-212.75 429.15,-219.75\"/>\n",
       "</g>\n",
       "<!-- clustersimplebOutputsy -->\n",
       "<g id=\"node17\" class=\"node\">\n",
       "<title>clustersimplebOutputsy</title>\n",
       "<ellipse fill=\"#ff7f0e\" stroke=\"#ff7f0e\" cx=\"373.5\" cy=\"-162.25\" rx=\"27\" ry=\"18\"/>\n",
       "<text text-anchor=\"middle\" x=\"373.5\" y=\"-156.07\" font-family=\"Times,serif\" font-size=\"14.00\">y</text>\n",
       "</g>\n",
       "<!-- clustersimplesumInputsy -->\n",
       "<g id=\"node21\" class=\"node\">\n",
       "<title>clustersimplesumInputsy</title>\n",
       "<ellipse fill=\"#ff7f0e\" stroke=\"#ff7f0e\" cx=\"505.12\" cy=\"-162.25\" rx=\"27\" ry=\"18\"/>\n",
       "<text text-anchor=\"middle\" x=\"505.13\" y=\"-156.07\" font-family=\"Times,serif\" font-size=\"14.00\">y</text>\n",
       "</g>\n",
       "<!-- clustersimplebOutputsy&#45;&gt;clustersimplesumInputsy -->\n",
       "<g id=\"edge8\" class=\"edge\">\n",
       "<title>clustersimplebOutputsy&#45;&gt;clustersimplesumInputsy</title>\n",
       "<path fill=\"none\" stroke=\"#ff7f0e\" d=\"M400.73,-162.25C410.26,-162.25 421.55,-162.25 433.09,-162.25\"/>\n",
       "<path fill=\"none\" stroke=\"#ff7f0e\" d=\"M433.09,-162.25C444.64,-162.25 456.45,-162.25 467.05,-162.25\"/>\n",
       "<polygon fill=\"#ff7f0e\" stroke=\"#ff7f0e\" points=\"466.93,-165.75 476.93,-162.25 466.93,-158.75 466.93,-165.75\"/>\n",
       "</g>\n",
       "<!-- clustersimplesumInputsrun -->\n",
       "<g id=\"node18\" class=\"node\">\n",
       "<title>clustersimplesumInputsrun</title>\n",
       "<polygon fill=\"#1f77b4\" stroke=\"#1f77b4\" points=\"520.12,-336.25 478.13,-336.25 478.13,-312.25 520.12,-312.25 532.12,-324.25 520.12,-336.25\"/>\n",
       "<text text-anchor=\"middle\" x=\"505.13\" y=\"-318.07\" font-family=\"Times,serif\" font-size=\"14.00\">run</text>\n",
       "</g>\n",
       "<!-- clustersimplesumOutputsran -->\n",
       "<g id=\"node22\" class=\"node\">\n",
       "<title>clustersimplesumOutputsran</title>\n",
       "<polygon fill=\"#1f77b4\" stroke=\"#1f77b4\" points=\"647.75,-336.25 605.75,-336.25 605.75,-312.25 647.75,-312.25 659.75,-324.25 647.75,-336.25\"/>\n",
       "<text text-anchor=\"middle\" x=\"632.75\" y=\"-318.07\" font-family=\"Times,serif\" font-size=\"14.00\">ran</text>\n",
       "</g>\n",
       "<!-- clustersimplesumInputsrun&#45;&gt;clustersimplesumOutputsran -->\n",
       "<!-- clustersimplesumOutputssum -->\n",
       "<g id=\"node23\" class=\"node\">\n",
       "<title>clustersimplesumOutputssum</title>\n",
       "<ellipse fill=\"#ff7f0e\" stroke=\"#ff7f0e\" cx=\"632.75\" cy=\"-270.25\" rx=\"27\" ry=\"18\"/>\n",
       "<text text-anchor=\"middle\" x=\"632.75\" y=\"-264.07\" font-family=\"Times,serif\" font-size=\"14.00\">sum</text>\n",
       "</g>\n",
       "<!-- clustersimplesumOutputssum&#45;&gt;clustersimpleOutputsa + b + 2 -->\n",
       "<g id=\"edge12\" class=\"edge\">\n",
       "<title>clustersimplesumOutputssum&#45;&gt;clustersimpleOutputsa + b + 2</title>\n",
       "<path fill=\"none\" stroke=\"#ff7f0e\" d=\"M660.16,-270.25C663.87,-270.25 667.82,-270.25 671.88,-270.25\"/>\n",
       "<path fill=\"none\" stroke=\"#ff7f0e\" d=\"M671.88,-270.25C675.94,-270.25 680.12,-270.25 684.32,-270.25\"/>\n",
       "<polygon fill=\"#ff7f0e\" stroke=\"#ff7f0e\" points=\"684.29,-273.75 694.29,-270.25 684.29,-266.75 684.29,-273.75\"/>\n",
       "</g>\n",
       "</g>\n",
       "</svg>\n"
      ],
      "text/plain": [
       "<graphviz.graphs.Digraph at 0x142cbe050>"
      ]
     },
     "execution_count": 41,
     "metadata": {},
     "output_type": "execute_result"
    }
   ],
   "source": [
    "wf.draw()"
   ]
  },
  {
   "cell_type": "markdown",
   "id": "2671dc36-42a4-466b-848d-067ef7bd1d1d",
   "metadata": {},
   "source": [
    "# Example with pre-built nodes\n",
    "\n",
    "Currently we have a handfull of pre-build nodes available for import from the `nodes` package. Let's use these to quickly put together a workflow for looking at some MD data.\n",
    "\n",
    "To access prebuilt nodes we can `.create` them. This works both from the workflow class _and_ from a workflow instance.\n",
    "\n",
    "There are a few of nodes that are always available under the `Workflow.create.standard` namespace, otherwise we need to register new node packages. This is done with the `register` method, which takes the domain (namespace/key/attribute/whatever you want to call it) under which you want to register the new nodes, and a string import path to a module that has a list of nodes under the name `nodes`, i.e. the module has the property `nodes: list[pyiron_workflow.nodes.Node]`. (This API is subject to change, as we work to improve usability and bring node packages more and more in line with \"FAIR\" principles.)\n",
    "\n",
    "You can make your own `.py` files with nodes for reuse this way, but `pyiron_workflow` also comes with a couple of packages. In this example we'll use atomistics and plotting:"
   ]
  },
  {
   "cell_type": "code",
   "execution_count": 42,
   "id": "ae500d5e-e55b-432c-8b5f-d5892193cdf5",
   "metadata": {},
   "outputs": [
    {
     "data": {
      "application/vnd.jupyter.widget-view+json": {
       "model_id": "f77a418c673c4579b9a3a6cbd090ef8e",
       "version_major": 2,
       "version_minor": 0
      },
      "text/plain": []
     },
     "metadata": {},
     "output_type": "display_data"
    },
    {
     "name": "stdout",
     "output_type": "stream",
     "text": [
      "The job JUSTAJOBNAME was saved and received the ID: 9562\n"
     ]
    },
    {
     "data": {
      "text/plain": [
       "<matplotlib.collections.PathCollection at 0x1590fb090>"
      ]
     },
     "execution_count": 42,
     "metadata": {},
     "output_type": "execute_result"
    },
    {
     "data": {
      "image/png": "[encoded data removed]",
      "text/plain": [
       "<Figure size 640x480 with 1 Axes>"
      ]
     },
     "metadata": {},
     "output_type": "display_data"
    }
   ],
   "source": [
    "wf.register(\"pyiron_atomistics\", \"pyiron_workflow.node_library.pyiron_atomistics\")\n",
    "wf.register(\"plotting\", \"pyiron_workflow.node_library.plotting\")\n",
    "\n",
    "wf = Workflow(\"with_prebuilt\")\n",
    "\n",
    "wf.structure = wf.create.pyiron_atomistics.Bulk(cubic=True, name=\"Al\")\n",
    "wf.engine = wf.create.pyiron_atomistics.Lammps(structure=wf.structure)\n",
    "wf.calc = wf.create.pyiron_atomistics.CalcMd(job=wf.engine)\n",
    "wf.plot = wf.create.plotting.Scatter(\n",
    "    x=wf.calc.outputs.steps, \n",
    "    y=wf.calc.outputs.temperature\n",
    ")\n",
    "\n",
    "out = wf.run()\n",
    "out.plot__fig"
   ]
  },
  {
   "cell_type": "markdown",
   "id": "43c09aa8-8229-4636-aaeb-9214b723c2fc",
   "metadata": {},
   "source": [
    "In case you want to see more or less of the inner workings of the nodes when visualizing a workflow, you can modify the `depth` parameter, which controls how deeply child nodes are decomposed. E.g. we can force our workflow to only show us it's basic IO by setting `depth=0`:"
   ]
  },
  {
   "cell_type": "code",
   "execution_count": 43,
   "id": "2114d0c3-cdad-43c7-9ffa-50c36d56d18f",
   "metadata": {},
   "outputs": [
    {
     "data": {
      "image/svg+xml": [
       "<?xml version=\"1.0\" encoding=\"UTF-8\" standalone=\"no\"?>\n",
       "<!DOCTYPE svg PUBLIC \"-//W3C//DTD SVG 1.1//EN\"\n",
       " \"http://www.w3.org/Graphics/SVG/1.1/DTD/svg11.dtd\">\n",
       "<!-- Generated by graphviz version 8.0.5 (0)\n",
       " -->\n",
       "<!-- Title: clusterwith_prebuilt Pages: 1 -->\n",
       "<svg width=\"492pt\" height=\"822pt\"\n",
       " viewBox=\"0.00 0.00 491.64 822.25\" xmlns=\"http://www.w3.org/2000/svg\" xmlns:xlink=\"http://www.w3.org/1999/xlink\">\n",
       "<g id=\"graph0\" class=\"graph\" transform=\"scale(1 1) rotate(0) translate(4 818.25)\">\n",
       "<title>clusterwith_prebuilt</title>\n",
       "<polygon fill=\"white\" stroke=\"none\" points=\"-4,4 -4,-818.25 487.64,-818.25 487.64,4 -4,4\"/>\n",
       "<text text-anchor=\"middle\" x=\"241.82\" y=\"-4.95\" font-family=\"Times,serif\" font-size=\"14.00\">with_prebuilt: Workflow</text>\n",
       "<g id=\"clust1\" class=\"cluster\">\n",
       "<title>clusterwith_prebuiltInputs</title>\n",
       "<defs>\n",
       "<linearGradient id=\"clust1_l_0\" gradientUnits=\"userSpaceOnUse\" x1=\"8\" y1=\"-418.25\" x2=\"227.53\" y2=\"-418.25\" >\n",
       "<stop offset=\"0\" style=\"stop-color:#7f7f7f;stop-opacity:1.;\"/>\n",
       "<stop offset=\"1\" style=\"stop-color:#d9d9d9;stop-opacity:1.;\"/>\n",
       "</linearGradient>\n",
       "</defs>\n",
       "<polygon fill=\"url(#clust1_l_0)\" stroke=\"black\" points=\"8,-30.25 8,-806.25 227.53,-806.25 227.53,-30.25 8,-30.25\"/>\n",
       "<text text-anchor=\"middle\" x=\"117.76\" y=\"-788.95\" font-family=\"Times,serif\" font-size=\"14.00\">Inputs</text>\n",
       "</g>\n",
       "<g id=\"clust2\" class=\"cluster\">\n",
       "<title>clusterwith_prebuiltOutputs</title>\n",
       "<defs>\n",
       "<linearGradient id=\"clust2_l_1\" gradientUnits=\"userSpaceOnUse\" x1=\"475.64\" y1=\"-418.25\" x2=\"247.53\" y2=\"-418.25\" >\n",
       "<stop offset=\"0\" style=\"stop-color:#7f7f7f;stop-opacity:1.;\"/>\n",
       "<stop offset=\"1\" style=\"stop-color:#d9d9d9;stop-opacity:1.;\"/>\n",
       "</linearGradient>\n",
       "</defs>\n",
       "<polygon fill=\"url(#clust2_l_1)\" stroke=\"black\" points=\"247.53,-30.25 247.53,-806.25 475.64,-806.25 475.64,-30.25 247.53,-30.25\"/>\n",
       "<text text-anchor=\"middle\" x=\"361.58\" y=\"-788.95\" font-family=\"Times,serif\" font-size=\"14.00\">Outputs</text>\n",
       "</g>\n",
       "<!-- clusterwith_prebuiltInputsrun -->\n",
       "<g id=\"node1\" class=\"node\">\n",
       "<title>clusterwith_prebuiltInputsrun</title>\n",
       "<polygon fill=\"#1f77b4\" stroke=\"#1f77b4\" points=\"132.76,-770.25 90.76,-770.25 90.76,-746.25 132.76,-746.25 144.76,-758.25 132.76,-770.25\"/>\n",
       "<text text-anchor=\"middle\" x=\"117.76\" y=\"-752.08\" font-family=\"Times,serif\" font-size=\"14.00\">run</text>\n",
       "</g>\n",
       "<!-- clusterwith_prebuiltOutputsran -->\n",
       "<g id=\"node15\" class=\"node\">\n",
       "<title>clusterwith_prebuiltOutputsran</title>\n",
       "<polygon fill=\"#1f77b4\" stroke=\"#1f77b4\" points=\"376.58,-770.25 334.58,-770.25 334.58,-746.25 376.58,-746.25 388.58,-758.25 376.58,-770.25\"/>\n",
       "<text text-anchor=\"middle\" x=\"361.58\" y=\"-752.08\" font-family=\"Times,serif\" font-size=\"14.00\">ran</text>\n",
       "</g>\n",
       "<!-- clusterwith_prebuiltInputsrun&#45;&gt;clusterwith_prebuiltOutputsran -->\n",
       "<!-- clusterwith_prebuiltInputsaccumulate_and_run -->\n",
       "<g id=\"node2\" class=\"node\">\n",
       "<title>clusterwith_prebuiltInputsaccumulate_and_run</title>\n",
       "<polygon fill=\"#1f77b4\" stroke=\"#1f77b4\" points=\"170.39,-716.25 53.14,-716.25 53.14,-692.25 170.39,-692.25 182.39,-704.25 170.39,-716.25\"/>\n",
       "<text text-anchor=\"middle\" x=\"117.76\" y=\"-698.08\" font-family=\"Times,serif\" font-size=\"14.00\">accumulate_and_run</text>\n",
       "</g>\n",
       "<!-- clusterwith_prebuiltInputsstructure__name -->\n",
       "<g id=\"node3\" class=\"node\">\n",
       "<title>clusterwith_prebuiltInputsstructure__name</title>\n",
       "<ellipse fill=\"#ff7f0e\" stroke=\"#ff7f0e\" cx=\"117.76\" cy=\"-650.25\" rx=\"67.9\" ry=\"18\"/>\n",
       "<text text-anchor=\"middle\" x=\"117.76\" y=\"-644.08\" font-family=\"Times,serif\" font-size=\"14.00\">structure__name</text>\n",
       "</g>\n",
       "<!-- clusterwith_prebuiltInputsstructure__crystalstructure -->\n",
       "<g id=\"node4\" class=\"node\">\n",
       "<title>clusterwith_prebuiltInputsstructure__crystalstructure</title>\n",
       "<ellipse fill=\"#ff7f0e\" stroke=\"#ff7f0e\" cx=\"117.76\" cy=\"-596.25\" rx=\"101.76\" ry=\"18\"/>\n",
       "<text text-anchor=\"middle\" x=\"117.76\" y=\"-590.08\" font-family=\"Times,serif\" font-size=\"14.00\">structure__crystalstructure</text>\n",
       "</g>\n",
       "<!-- clusterwith_prebuiltInputsstructure__a -->\n",
       "<g id=\"node5\" class=\"node\">\n",
       "<title>clusterwith_prebuiltInputsstructure__a</title>\n",
       "<ellipse fill=\"#ff7f0e\" stroke=\"#ff7f0e\" cx=\"117.76\" cy=\"-542.25\" rx=\"52.63\" ry=\"18\"/>\n",
       "<text text-anchor=\"middle\" x=\"117.76\" y=\"-536.08\" font-family=\"Times,serif\" font-size=\"14.00\">structure__a</text>\n",
       "</g>\n",
       "<!-- clusterwith_prebuiltInputsstructure__c -->\n",
       "<g id=\"node6\" class=\"node\">\n",
       "<title>clusterwith_prebuiltInputsstructure__c</title>\n",
       "<ellipse fill=\"#ff7f0e\" stroke=\"#ff7f0e\" cx=\"117.76\" cy=\"-488.25\" rx=\"52.63\" ry=\"18\"/>\n",
       "<text text-anchor=\"middle\" x=\"117.76\" y=\"-482.07\" font-family=\"Times,serif\" font-size=\"14.00\">structure__c</text>\n",
       "</g>\n",
       "<!-- clusterwith_prebuiltInputsstructure__covera -->\n",
       "<g id=\"node7\" class=\"node\">\n",
       "<title>clusterwith_prebuiltInputsstructure__covera</title>\n",
       "<ellipse fill=\"#ff7f0e\" stroke=\"#ff7f0e\" cx=\"117.76\" cy=\"-434.25\" rx=\"71.71\" ry=\"18\"/>\n",
       "<text text-anchor=\"middle\" x=\"117.76\" y=\"-428.07\" font-family=\"Times,serif\" font-size=\"14.00\">structure__covera</text>\n",
       "</g>\n",
       "<!-- clusterwith_prebuiltInputsstructure__u -->\n",
       "<g id=\"node8\" class=\"node\">\n",
       "<title>clusterwith_prebuiltInputsstructure__u</title>\n",
       "<ellipse fill=\"#ff7f0e\" stroke=\"#ff7f0e\" cx=\"117.76\" cy=\"-380.25\" rx=\"53.11\" ry=\"18\"/>\n",
       "<text text-anchor=\"middle\" x=\"117.76\" y=\"-374.07\" font-family=\"Times,serif\" font-size=\"14.00\">structure__u</text>\n",
       "</g>\n",
       "<!-- clusterwith_prebuiltInputsstructure__orthorhombic -->\n",
       "<g id=\"node9\" class=\"node\">\n",
       "<title>clusterwith_prebuiltInputsstructure__orthorhombic</title>\n",
       "<ellipse fill=\"#ff7f0e\" stroke=\"#ff7f0e\" cx=\"117.76\" cy=\"-326.25\" rx=\"96.04\" ry=\"18\"/>\n",
       "<text text-anchor=\"middle\" x=\"117.76\" y=\"-320.07\" font-family=\"Times,serif\" font-size=\"14.00\">structure__orthorhombic</text>\n",
       "</g>\n",
       "<!-- clusterwith_prebuiltInputsstructure__cubic -->\n",
       "<g id=\"node10\" class=\"node\">\n",
       "<title>clusterwith_prebuiltInputsstructure__cubic</title>\n",
       "<ellipse fill=\"#ff7f0e\" stroke=\"#ff7f0e\" cx=\"117.76\" cy=\"-272.25\" rx=\"67.42\" ry=\"18\"/>\n",
       "<text text-anchor=\"middle\" x=\"117.76\" y=\"-266.07\" font-family=\"Times,serif\" font-size=\"14.00\">structure__cubic</text>\n",
       "</g>\n",
       "<!-- clusterwith_prebuiltInputscalc__n_ionic_steps -->\n",
       "<g id=\"node11\" class=\"node\">\n",
       "<title>clusterwith_prebuiltInputscalc__n_ionic_steps</title>\n",
       "<ellipse fill=\"#ff7f0e\" stroke=\"#ff7f0e\" cx=\"117.76\" cy=\"-218.25\" rx=\"93.65\" ry=\"18\"/>\n",
       "<text text-anchor=\"middle\" x=\"117.76\" y=\"-212.07\" font-family=\"Times,serif\" font-size=\"14.00\">calc__n_ionic_steps: int</text>\n",
       "</g>\n",
       "<!-- clusterwith_prebuiltInputscalc__n_print -->\n",
       "<g id=\"node12\" class=\"node\">\n",
       "<title>clusterwith_prebuiltInputscalc__n_print</title>\n",
       "<ellipse fill=\"#ff7f0e\" stroke=\"#ff7f0e\" cx=\"117.76\" cy=\"-164.25\" rx=\"71.23\" ry=\"18\"/>\n",
       "<text text-anchor=\"middle\" x=\"117.76\" y=\"-158.07\" font-family=\"Times,serif\" font-size=\"14.00\">calc__n_print: int</text>\n",
       "</g>\n",
       "<!-- clusterwith_prebuiltInputscalc__temperature -->\n",
       "<g id=\"node13\" class=\"node\">\n",
       "<title>clusterwith_prebuiltInputscalc__temperature</title>\n",
       "<ellipse fill=\"#ff7f0e\" stroke=\"#ff7f0e\" cx=\"117.76\" cy=\"-110.25\" rx=\"74.1\" ry=\"18\"/>\n",
       "<text text-anchor=\"middle\" x=\"117.76\" y=\"-104.08\" font-family=\"Times,serif\" font-size=\"14.00\">calc__temperature</text>\n",
       "</g>\n",
       "<!-- clusterwith_prebuiltInputscalc__pressure -->\n",
       "<g id=\"node14\" class=\"node\">\n",
       "<title>clusterwith_prebuiltInputscalc__pressure</title>\n",
       "<ellipse fill=\"#ff7f0e\" stroke=\"#ff7f0e\" cx=\"117.76\" cy=\"-56.25\" rx=\"61.22\" ry=\"18\"/>\n",
       "<text text-anchor=\"middle\" x=\"117.76\" y=\"-50.08\" font-family=\"Times,serif\" font-size=\"14.00\">calc__pressure</text>\n",
       "</g>\n",
       "<!-- clusterwith_prebuiltOutputscalc__cells -->\n",
       "<g id=\"node16\" class=\"node\">\n",
       "<title>clusterwith_prebuiltOutputscalc__cells</title>\n",
       "<ellipse fill=\"#ff7f0e\" stroke=\"#ff7f0e\" cx=\"361.58\" cy=\"-704.25\" rx=\"48.34\" ry=\"18\"/>\n",
       "<text text-anchor=\"middle\" x=\"361.58\" y=\"-698.08\" font-family=\"Times,serif\" font-size=\"14.00\">calc__cells</text>\n",
       "</g>\n",
       "<!-- clusterwith_prebuiltOutputscalc__displacements -->\n",
       "<g id=\"node17\" class=\"node\">\n",
       "<title>clusterwith_prebuiltOutputscalc__displacements</title>\n",
       "<ellipse fill=\"#ff7f0e\" stroke=\"#ff7f0e\" cx=\"361.58\" cy=\"-650.25\" rx=\"81.73\" ry=\"18\"/>\n",
       "<text text-anchor=\"middle\" x=\"361.58\" y=\"-644.08\" font-family=\"Times,serif\" font-size=\"14.00\">calc__displacements</text>\n",
       "</g>\n",
       "<!-- clusterwith_prebuiltOutputscalc__energy_pot -->\n",
       "<g id=\"node18\" class=\"node\">\n",
       "<title>clusterwith_prebuiltOutputscalc__energy_pot</title>\n",
       "<ellipse fill=\"#ff7f0e\" stroke=\"#ff7f0e\" cx=\"361.58\" cy=\"-596.25\" rx=\"71.23\" ry=\"18\"/>\n",
       "<text text-anchor=\"middle\" x=\"361.58\" y=\"-590.08\" font-family=\"Times,serif\" font-size=\"14.00\">calc__energy_pot</text>\n",
       "</g>\n",
       "<!-- clusterwith_prebuiltOutputscalc__energy_tot -->\n",
       "<g id=\"node19\" class=\"node\">\n",
       "<title>clusterwith_prebuiltOutputscalc__energy_tot</title>\n",
       "<ellipse fill=\"#ff7f0e\" stroke=\"#ff7f0e\" cx=\"361.58\" cy=\"-542.25\" rx=\"69.33\" ry=\"18\"/>\n",
       "<text text-anchor=\"middle\" x=\"361.58\" y=\"-536.08\" font-family=\"Times,serif\" font-size=\"14.00\">calc__energy_tot</text>\n",
       "</g>\n",
       "<!-- clusterwith_prebuiltOutputscalc__force_max -->\n",
       "<g id=\"node20\" class=\"node\">\n",
       "<title>clusterwith_prebuiltOutputscalc__force_max</title>\n",
       "<ellipse fill=\"#ff7f0e\" stroke=\"#ff7f0e\" cx=\"361.58\" cy=\"-488.25\" rx=\"69.8\" ry=\"18\"/>\n",
       "<text text-anchor=\"middle\" x=\"361.58\" y=\"-482.07\" font-family=\"Times,serif\" font-size=\"14.00\">calc__force_max</text>\n",
       "</g>\n",
       "<!-- clusterwith_prebuiltOutputscalc__forces -->\n",
       "<g id=\"node21\" class=\"node\">\n",
       "<title>clusterwith_prebuiltOutputscalc__forces</title>\n",
       "<ellipse fill=\"#ff7f0e\" stroke=\"#ff7f0e\" cx=\"361.58\" cy=\"-434.25\" rx=\"53.58\" ry=\"18\"/>\n",
       "<text text-anchor=\"middle\" x=\"361.58\" y=\"-428.07\" font-family=\"Times,serif\" font-size=\"14.00\">calc__forces</text>\n",
       "</g>\n",
       "<!-- clusterwith_prebuiltOutputscalc__indices -->\n",
       "<g id=\"node22\" class=\"node\">\n",
       "<title>clusterwith_prebuiltOutputscalc__indices</title>\n",
       "<ellipse fill=\"#ff7f0e\" stroke=\"#ff7f0e\" cx=\"361.58\" cy=\"-380.25\" rx=\"56.92\" ry=\"18\"/>\n",
       "<text text-anchor=\"middle\" x=\"361.58\" y=\"-374.07\" font-family=\"Times,serif\" font-size=\"14.00\">calc__indices</text>\n",
       "</g>\n",
       "<!-- clusterwith_prebuiltOutputscalc__positions -->\n",
       "<g id=\"node23\" class=\"node\">\n",
       "<title>clusterwith_prebuiltOutputscalc__positions</title>\n",
       "<ellipse fill=\"#ff7f0e\" stroke=\"#ff7f0e\" cx=\"361.58\" cy=\"-326.25\" rx=\"63.6\" ry=\"18\"/>\n",
       "<text text-anchor=\"middle\" x=\"361.58\" y=\"-320.07\" font-family=\"Times,serif\" font-size=\"14.00\">calc__positions</text>\n",
       "</g>\n",
       "<!-- clusterwith_prebuiltOutputscalc__pressures -->\n",
       "<g id=\"node24\" class=\"node\">\n",
       "<title>clusterwith_prebuiltOutputscalc__pressures</title>\n",
       "<ellipse fill=\"#ff7f0e\" stroke=\"#ff7f0e\" cx=\"361.58\" cy=\"-272.25\" rx=\"64.56\" ry=\"18\"/>\n",
       "<text text-anchor=\"middle\" x=\"361.58\" y=\"-266.07\" font-family=\"Times,serif\" font-size=\"14.00\">calc__pressures</text>\n",
       "</g>\n",
       "<!-- clusterwith_prebuiltOutputscalc__total_displacements -->\n",
       "<g id=\"node25\" class=\"node\">\n",
       "<title>clusterwith_prebuiltOutputscalc__total_displacements</title>\n",
       "<ellipse fill=\"#ff7f0e\" stroke=\"#ff7f0e\" cx=\"361.58\" cy=\"-218.25\" rx=\"101.29\" ry=\"18\"/>\n",
       "<text text-anchor=\"middle\" x=\"361.58\" y=\"-212.07\" font-family=\"Times,serif\" font-size=\"14.00\">calc__total_displacements</text>\n",
       "</g>\n",
       "<!-- clusterwith_prebuiltOutputscalc__unwrapped_positions -->\n",
       "<g id=\"node26\" class=\"node\">\n",
       "<title>clusterwith_prebuiltOutputscalc__unwrapped_positions</title>\n",
       "<ellipse fill=\"#ff7f0e\" stroke=\"#ff7f0e\" cx=\"361.58\" cy=\"-164.25\" rx=\"106.06\" ry=\"18\"/>\n",
       "<text text-anchor=\"middle\" x=\"361.58\" y=\"-158.07\" font-family=\"Times,serif\" font-size=\"14.00\">calc__unwrapped_positions</text>\n",
       "</g>\n",
       "<!-- clusterwith_prebuiltOutputscalc__volume -->\n",
       "<g id=\"node27\" class=\"node\">\n",
       "<title>clusterwith_prebuiltOutputscalc__volume</title>\n",
       "<ellipse fill=\"#ff7f0e\" stroke=\"#ff7f0e\" cx=\"361.58\" cy=\"-110.25\" rx=\"58.83\" ry=\"18\"/>\n",
       "<text text-anchor=\"middle\" x=\"361.58\" y=\"-104.08\" font-family=\"Times,serif\" font-size=\"14.00\">calc__volume</text>\n",
       "</g>\n",
       "<!-- clusterwith_prebuiltOutputsplot__fig -->\n",
       "<g id=\"node28\" class=\"node\">\n",
       "<title>clusterwith_prebuiltOutputsplot__fig</title>\n",
       "<ellipse fill=\"#ff7f0e\" stroke=\"#ff7f0e\" cx=\"361.58\" cy=\"-56.25\" rx=\"41.18\" ry=\"18\"/>\n",
       "<text text-anchor=\"middle\" x=\"361.58\" y=\"-50.08\" font-family=\"Times,serif\" font-size=\"14.00\">plot__fig</text>\n",
       "</g>\n",
       "</g>\n",
       "</svg>\n"
      ],
      "text/plain": [
       "<graphviz.graphs.Digraph at 0x142519950>"
      ]
     },
     "execution_count": 43,
     "metadata": {},
     "output_type": "execute_result"
    }
   ],
   "source": [
    "wf.draw(depth=0)"
   ]
  },
  {
   "cell_type": "markdown",
   "id": "b2990bbf-28fb-43e2-a01d-82377d12879c",
   "metadata": {},
   "source": [
    "Note: the `draw` call returns a `graphviz.graphs.Digraphs` object; these get natively rendered alright in jupyter notebooks, as seen above, but you can also snag the object in a variable and do everything else graphviz allows, e.g. using the `render` method on the object to save it to file. Cf. the graphviz docs for details."
   ]
  },
  {
   "cell_type": "markdown",
   "id": "7a4e235d-905f-4763-a1ff-d0c3e24c591c",
   "metadata": {},
   "source": [
    "Workflows are \"living\" objects -- their IO is (re)created on access, so it is always up-to-date with the latest state of the workflow's children (who's there and who they're connected to), and (unless you explicitly tell it otherwise) a workflow will always re-compute the execution flow at run-time. This makes them incredibly convenient for working with as you put together a new computational graph, but is not particularly computationally efficeint."
   ]
  },
  {
   "cell_type": "markdown",
   "id": "d1f3b308-28b2-466b-8cf5-6bfd806c08ca",
   "metadata": {},
   "source": [
    "# Macros\n",
    "\n",
    "Once you have a workflow that you're happy with, you may want to store it as a macro so it can be stored in a human-readable way, reused, shared, and executed with more efficiency than the \"living\" `Workflow` instance. Automated conversion of an existing `Workflow` instance into a `Macro` subclass is still on the TODO list, but defining a new macro is pretty easy: they are just composite nodes that have a function defining their graph setup:"
   ]
  },
  {
   "cell_type": "code",
   "execution_count": 44,
   "id": "c71a8308-f8a1-4041-bea0-1c841e072a6d",
   "metadata": {},
   "outputs": [],
   "source": [
    "from pyiron_workflow.macro import Macro"
   ]
  },
  {
   "cell_type": "code",
   "execution_count": 45,
   "id": "2b9bb21a-73cd-444e-84a9-100e202aa422",
   "metadata": {},
   "outputs": [
    {
     "name": "stderr",
     "output_type": "stream",
     "text": [
      "/Users/huber/work/pyiron/pyiron_workflow/pyiron_workflow/channels.py:164: UserWarning: The channel run was not connected to ran, andthus could not disconnect from it.\n",
      "  warn(\n"
     ]
    },
    {
     "data": {
      "text/plain": [
       "13"
      ]
     },
     "execution_count": 45,
     "metadata": {},
     "output_type": "execute_result"
    }
   ],
   "source": [
    "@Workflow.wrap_as.single_value_node(\"result\")\n",
    "def AddOne(x):\n",
    "    return x + 1\n",
    "\n",
    "def add_three_macro(macro: Macro) -> None:\n",
    "    \"\"\"\n",
    "    The graph constructor a Macro expects must take the macro as its only argument\n",
    "    (i.e. \"self\" from the macro's perspective) and return nothing.\n",
    "    Inside, it should add nodes to the macro, wire their connections, etc.\n",
    "    \"\"\"\n",
    "    macro.add_one = AddOne(0)\n",
    "    macro.add_two = AddOne(macro.add_one)\n",
    "    macro.add_three = AddOne(macro.add_two)\n",
    "    # Just like workflows, for simple DAG macros we don't _need_\n",
    "    # to set signals and starting nodes -- the macro will build them\n",
    "    # automatically. But, if you do set both then the macro will use them\n",
    "    macro.add_one >> macro.add_two >> macro.add_three\n",
    "    macro.starting_nodes = [macro.add_one]  \n",
    "    \n",
    "macro = Macro(add_three_macro)\n",
    "macro(add_one__x=10).add_three__result"
   ]
  },
  {
   "cell_type": "markdown",
   "id": "d4f797d6-8d88-415f-bb9c-00f3e1b15e37",
   "metadata": {},
   "source": [
    "Even in the abscence of an automated converter, it should be easy to take the workflow you've been developing and copy-paste that code into a function -- then bam, you've got a macro!"
   ]
  },
  {
   "cell_type": "markdown",
   "id": "bd5099c4-1c01-4a45-a5bb-e5087595db9f",
   "metadata": {},
   "source": [
    "Of course, we can also use a decorator like for other node types. This is shown below, along with an example of how exploit label maps to give our macro IO easier-to-use names (and expose IO that would be skipped by default because it's internally connected):"
   ]
  },
  {
   "cell_type": "code",
   "execution_count": 46,
   "id": "3668f9a9-adca-48a4-84ea-13add965897c",
   "metadata": {},
   "outputs": [
    {
     "data": {
      "text/plain": [
       "{'intermediate': 102, 'plus_three': 103}"
      ]
     },
     "execution_count": 46,
     "metadata": {},
     "output_type": "execute_result"
    }
   ],
   "source": [
    "@Workflow.wrap_as.macro_node()\n",
    "def AddThree(macro: Macro) -> None:\n",
    "    \"\"\"\n",
    "    The graph constructor a Macro expects must take the macro as its only argument\n",
    "    (i.e. \"self\" from the macro's perspective) and return nothing.\n",
    "    Inside, it should add nodes to the macro, wire their connections, etc.\n",
    "    \"\"\"\n",
    "    macro.add_one = AddOne(0)\n",
    "    macro.add_two = AddOne(macro.add_one)\n",
    "    macro.add_three = AddOne(macro.add_two)\n",
    "    macro.inputs_map = {\"add_one__x\": \"x\"}\n",
    "    macro.outputs_map = {\"add_three__result\": \"plus_three\", \"add_two__result\": \"intermediate\"}\n",
    "    \n",
    "macro = AddThree()\n",
    "macro(x=100)\n",
    "macro.outputs.to_value_dict()"
   ]
  },
  {
   "cell_type": "markdown",
   "id": "22d2fdcf-0206-497d-9344-a71e3472a2c0",
   "metadata": {},
   "source": [
    "## Nesting\n",
    "\n",
    "Composite nodes can be nested to abstract workflows into simpler components -- i.e. macros can be added to workflows, and macros can be used inside of macros. This is a critically important feature because it allows us to easily create more and more complex workflows by \"composing\" simple(r) sub-graphs together!\n",
    "\n",
    "For our final example, let's define a macro for doing Lammps minimizations, then use this in a workflow to compare energies between different phases."
   ]
  },
  {
   "cell_type": "code",
   "execution_count": 47,
   "id": "9aaeeec0-5f88-4c94-a6cc-45b56d2f0111",
   "metadata": {},
   "outputs": [],
   "source": [
    "@Workflow.wrap_as.macro_node()\n",
    "def LammpsMinimize(macro):\n",
    "    macro.structure = macro.create.pyiron_atomistics.Bulk()\n",
    "    macro.engine = macro.create.pyiron_atomistics.Lammps(structure=macro.structure)\n",
    "    macro.calc = macro.create.pyiron_atomistics.CalcMin(job=macro.engine, pressure=0)\n",
    "    \n",
    "    macro.inputs_map = {\n",
    "        \"structure__name\": \"element\", \n",
    "        \"structure__crystalstructure\": \"crystalstructure\",\n",
    "        \"structure__a\": \"lattice_guess\",\n",
    "    }\n",
    "    macro.outputs_map = {\n",
    "        \"calc__energy_pot\": \"energy\",\n",
    "        \"structure__structure\": \"structure\",\n",
    "    }"
   ]
  },
  {
   "cell_type": "code",
   "execution_count": 48,
   "id": "a832e552-b3cc-411a-a258-ef21574fc439",
   "metadata": {},
   "outputs": [],
   "source": [
    "wf = Workflow(\"phase_preference\")\n",
    "wf.element = wf.create.standard.UserInput()\n",
    "wf.min_phase1 = LammpsMinimize(element=wf.element)\n",
    "wf.min_phase2 = LammpsMinimize(element=wf.element)\n",
    "\n",
    "wf.e1 = wf.min_phase1.outputs.energy[-1]\n",
    "wf.n1 = wf.min_phase1.outputs.structure.len()\n",
    "wf.e2 = wf.min_phase2.outputs.energy[-1]\n",
    "wf.n2 = wf.min_phase2.outputs.structure.len()\n",
    "wf.compare = (wf.e2 / wf.n2) - (wf.e1 / wf.n1)\n",
    "\n",
    "\n",
    "# Or we could write a single node to do that:\n",
    "\n",
    "# @Workflow.wrap_as.single_value_node()\n",
    "# def PerAtomEnergyDifference(structure1, energy1, structure2, energy2):\n",
    "#     # The unrelaxed structure is fine, we're just using it to get n_atoms\n",
    "#     sub = (energy2[-1]/len(structure2)) - (energy1[-1]/len(structure1))\n",
    "#     return sub\n",
    "\n",
    "# wf.compare = PerAtomEnergyDifference(\n",
    "#     wf.min_phase1.outputs.structure,\n",
    "#     wf.min_phase1.outputs.energy,\n",
    "#     wf.min_phase2.outputs.structure,\n",
    "#     wf.min_phase2.outputs.energy,\n",
    "# )\n",
    "\n",
    "wf.inputs_map = {\n",
    "    \"element__user_input\": \"element\",\n",
    "    \"min_phase1__crystalstructure\": \"phase1\",\n",
    "    \"min_phase2__crystalstructure\": \"phase2\",\n",
    "    \"min_phase1__lattice_guess\": \"lattice_guess1\",\n",
    "    \"min_phase2__lattice_guess\": \"lattice_guess2\",\n",
    "}"
   ]
  },
  {
   "cell_type": "code",
   "execution_count": 49,
   "id": "b764a447-236f-4cb7-952a-7cba4855087d",
   "metadata": {},
   "outputs": [
    {
     "data": {
      "image/svg+xml": [
       "<?xml version=\"1.0\" encoding=\"UTF-8\" standalone=\"no\"?>\n",
       "<!DOCTYPE svg PUBLIC \"-//W3C//DTD SVG 1.1//EN\"\n",
       " \"http://www.w3.org/Graphics/SVG/1.1/DTD/svg11.dtd\">\n",
       "<!-- Generated by graphviz version 8.0.5 (0)\n",
       " -->\n",
       "<!-- Title: clusterphase_preference Pages: 1 -->\n",
       "<svg width=\"1982pt\" height=\"2490pt\"\n",
       " viewBox=\"0.00 0.00 1982.22 2490.25\" xmlns=\"http://www.w3.org/2000/svg\" xmlns:xlink=\"http://www.w3.org/1999/xlink\">\n",
       "<g id=\"graph0\" class=\"graph\" transform=\"scale(1 1) rotate(0) translate(4 2486.25)\">\n",
       "<title>clusterphase_preference</title>\n",
       "<polygon fill=\"white\" stroke=\"none\" points=\"-4,4 -4,-2486.25 1978.22,-2486.25 1978.22,4 -4,4\"/>\n",
       "<text text-anchor=\"middle\" x=\"987.11\" y=\"-4.95\" font-family=\"Times,serif\" font-size=\"14.00\">phase_preference: Workflow</text>\n",
       "<g id=\"clust1\" class=\"cluster\">\n",
       "<title>clusterphase_preferenceInputs</title>\n",
       "<defs>\n",
       "<linearGradient id=\"clust1_l_0\" gradientUnits=\"userSpaceOnUse\" x1=\"181.25\" y1=\"-1141.25\" x2=\"490.46\" y2=\"-1141.25\" >\n",
       "<stop offset=\"0\" style=\"stop-color:#7f7f7f;stop-opacity:1.;\"/>\n",
       "<stop offset=\"1\" style=\"stop-color:#d9d9d9;stop-opacity:1.;\"/>\n",
       "</linearGradient>\n",
       "</defs>\n",
       "<polygon fill=\"url(#clust1_l_0)\" stroke=\"black\" points=\"181.25,-456.25 181.25,-1826.25 490.46,-1826.25 490.46,-456.25 181.25,-456.25\"/>\n",
       "<text text-anchor=\"middle\" x=\"335.85\" y=\"-1808.95\" font-family=\"Times,serif\" font-size=\"14.00\">Inputs</text>\n",
       "</g>\n",
       "<g id=\"clust2\" class=\"cluster\">\n",
       "<title>clusterphase_preferenceOutputs</title>\n",
       "<defs>\n",
       "<linearGradient id=\"clust2_l_1\" gradientUnits=\"userSpaceOnUse\" x1=\"1315.89\" y1=\"-1252.25\" x2=\"986.65\" y2=\"-1252.25\" >\n",
       "<stop offset=\"0\" style=\"stop-color:#7f7f7f;stop-opacity:1.;\"/>\n",
       "<stop offset=\"1\" style=\"stop-color:#d9d9d9;stop-opacity:1.;\"/>\n",
       "</linearGradient>\n",
       "</defs>\n",
       "<polygon fill=\"url(#clust2_l_1)\" stroke=\"black\" points=\"986.65,-540.25 986.65,-1964.25 1315.89,-1964.25 1315.89,-540.25 986.65,-540.25\"/>\n",
       "<text text-anchor=\"middle\" x=\"1151.27\" y=\"-1946.95\" font-family=\"Times,serif\" font-size=\"14.00\">Outputs</text>\n",
       "</g>\n",
       "<g id=\"clust3\" class=\"cluster\">\n",
       "<title>clusterphase_preferenceelement</title>\n",
       "<defs>\n",
       "<linearGradient id=\"clust3_l_2\" gradientUnits=\"userSpaceOnUse\" x1=\"203.14\" y1=\"-1834.25\" x2=\"203.14\" y2=\"-2054.25\" >\n",
       "<stop offset=\"0\" style=\"stop-color:#17becf;stop-opacity:1.;\"/>\n",
       "<stop offset=\"1\" style=\"stop-color:#b9ecf1;stop-opacity:1.;\"/>\n",
       "</linearGradient>\n",
       "</defs>\n",
       "<polygon fill=\"url(#clust3_l_2)\" stroke=\"black\" points=\"8,-1834.25 8,-2054.25 398.28,-2054.25 398.28,-1834.25 8,-1834.25\"/>\n",
       "<text text-anchor=\"middle\" x=\"203.14\" y=\"-2036.95\" font-family=\"Times,serif\" font-size=\"14.00\">element: UserInput</text>\n",
       "</g>\n",
       "<g id=\"clust4\" class=\"cluster\">\n",
       "<title>clusterphase_preferenceelementInputs</title>\n",
       "<defs>\n",
       "<linearGradient id=\"clust4_l_3\" gradientUnits=\"userSpaceOnUse\" x1=\"16\" y1=\"-1933.25\" x2=\"161.25\" y2=\"-1933.25\" >\n",
       "<stop offset=\"0\" style=\"stop-color:#7f7f7f;stop-opacity:1.;\"/>\n",
       "<stop offset=\"1\" style=\"stop-color:#d9d9d9;stop-opacity:1.;\"/>\n",
       "</linearGradient>\n",
       "</defs>\n",
       "<polygon fill=\"url(#clust4_l_3)\" stroke=\"black\" points=\"16,-1842.25 16,-2024.25 161.25,-2024.25 161.25,-1842.25 16,-1842.25\"/>\n",
       "<text text-anchor=\"middle\" x=\"88.62\" y=\"-2006.95\" font-family=\"Times,serif\" font-size=\"14.00\">Inputs</text>\n",
       "</g>\n",
       "<g id=\"clust5\" class=\"cluster\">\n",
       "<title>clusterphase_preferenceelementOutputs</title>\n",
       "<defs>\n",
       "<linearGradient id=\"clust5_l_4\" gradientUnits=\"userSpaceOnUse\" x1=\"390.28\" y1=\"-1960.25\" x2=\"281.42\" y2=\"-1960.25\" >\n",
       "<stop offset=\"0\" style=\"stop-color:#7f7f7f;stop-opacity:1.;\"/>\n",
       "<stop offset=\"1\" style=\"stop-color:#d9d9d9;stop-opacity:1.;\"/>\n",
       "</linearGradient>\n",
       "</defs>\n",
       "<polygon fill=\"url(#clust5_l_4)\" stroke=\"black\" points=\"281.42,-1896.25 281.42,-2024.25 390.28,-2024.25 390.28,-1896.25 281.42,-1896.25\"/>\n",
       "<text text-anchor=\"middle\" x=\"335.85\" y=\"-2006.95\" font-family=\"Times,serif\" font-size=\"14.00\">Outputs</text>\n",
       "</g>\n",
       "<g id=\"clust6\" class=\"cluster\">\n",
       "<title>clusterphase_preferencemin_phase1</title>\n",
       "<defs>\n",
       "<linearGradient id=\"clust6_l_5\" gradientUnits=\"userSpaceOnUse\" x1=\"738.55\" y1=\"-1378.25\" x2=\"738.55\" y2=\"-2246.25\" >\n",
       "<stop offset=\"0\" style=\"stop-color:#8c564b;stop-opacity:1.;\"/>\n",
       "<stop offset=\"1\" style=\"stop-color:#dcccc9;stop-opacity:1.;\"/>\n",
       "</linearGradient>\n",
       "</defs>\n",
       "<polygon fill=\"url(#clust6_l_5)\" stroke=\"black\" points=\"502.46,-1378.25 502.46,-2246.25 974.65,-2246.25 974.65,-1378.25 502.46,-1378.25\"/>\n",
       "<text text-anchor=\"middle\" x=\"738.55\" y=\"-2228.95\" font-family=\"Times,serif\" font-size=\"14.00\">min_phase1: LammpsMinimize</text>\n",
       "</g>\n",
       "<g id=\"clust7\" class=\"cluster\">\n",
       "<title>clusterphase_preferencemin_phase1Inputs</title>\n",
       "<defs>\n",
       "<linearGradient id=\"clust7_l_6\" gradientUnits=\"userSpaceOnUse\" x1=\"510.46\" y1=\"-1747.25\" x2=\"718.54\" y2=\"-1747.25\" >\n",
       "<stop offset=\"0\" style=\"stop-color:#7f7f7f;stop-opacity:1.;\"/>\n",
       "<stop offset=\"1\" style=\"stop-color:#d9d9d9;stop-opacity:1.;\"/>\n",
       "</linearGradient>\n",
       "</defs>\n",
       "<polygon fill=\"url(#clust7_l_6)\" stroke=\"black\" points=\"510.46,-1386.25 510.46,-2108.25 718.54,-2108.25 718.54,-1386.25 510.46,-1386.25\"/>\n",
       "<text text-anchor=\"middle\" x=\"614.5\" y=\"-2090.95\" font-family=\"Times,serif\" font-size=\"14.00\">Inputs</text>\n",
       "</g>\n",
       "<g id=\"clust8\" class=\"cluster\">\n",
       "<title>clusterphase_preferencemin_phase1Outputs</title>\n",
       "<defs>\n",
       "<linearGradient id=\"clust8_l_7\" gradientUnits=\"userSpaceOnUse\" x1=\"966.65\" y1=\"-1801.25\" x2=\"738.54\" y2=\"-1801.25\" >\n",
       "<stop offset=\"0\" style=\"stop-color:#7f7f7f;stop-opacity:1.;\"/>\n",
       "<stop offset=\"1\" style=\"stop-color:#d9d9d9;stop-opacity:1.;\"/>\n",
       "</linearGradient>\n",
       "</defs>\n",
       "<polygon fill=\"url(#clust8_l_7)\" stroke=\"black\" points=\"738.54,-1386.25 738.54,-2216.25 966.65,-2216.25 966.65,-1386.25 738.54,-1386.25\"/>\n",
       "<text text-anchor=\"middle\" x=\"852.59\" y=\"-2198.95\" font-family=\"Times,serif\" font-size=\"14.00\">Outputs</text>\n",
       "</g>\n",
       "<g id=\"clust9\" class=\"cluster\">\n",
       "<title>clusterphase_preferencemin_phase2</title>\n",
       "<defs>\n",
       "<linearGradient id=\"clust9_l_8\" gradientUnits=\"userSpaceOnUse\" x1=\"738.55\" y1=\"-502.25\" x2=\"738.55\" y2=\"-1370.25\" >\n",
       "<stop offset=\"0\" style=\"stop-color:#8c564b;stop-opacity:1.;\"/>\n",
       "<stop offset=\"1\" style=\"stop-color:#dcccc9;stop-opacity:1.;\"/>\n",
       "</linearGradient>\n",
       "</defs>\n",
       "<polygon fill=\"url(#clust9_l_8)\" stroke=\"black\" points=\"502.46,-502.25 502.46,-1370.25 974.65,-1370.25 974.65,-502.25 502.46,-502.25\"/>\n",
       "<text text-anchor=\"middle\" x=\"738.55\" y=\"-1352.95\" font-family=\"Times,serif\" font-size=\"14.00\">min_phase2: LammpsMinimize</text>\n",
       "</g>\n",
       "<g id=\"clust10\" class=\"cluster\">\n",
       "<title>clusterphase_preferencemin_phase2Inputs</title>\n",
       "<defs>\n",
       "<linearGradient id=\"clust10_l_9\" gradientUnits=\"userSpaceOnUse\" x1=\"510.46\" y1=\"-979.25\" x2=\"718.54\" y2=\"-979.25\" >\n",
       "<stop offset=\"0\" style=\"stop-color:#7f7f7f;stop-opacity:1.;\"/>\n",
       "<stop offset=\"1\" style=\"stop-color:#d9d9d9;stop-opacity:1.;\"/>\n",
       "</linearGradient>\n",
       "</defs>\n",
       "<polygon fill=\"url(#clust10_l_9)\" stroke=\"black\" points=\"510.46,-618.25 510.46,-1340.25 718.54,-1340.25 718.54,-618.25 510.46,-618.25\"/>\n",
       "<text text-anchor=\"middle\" x=\"614.5\" y=\"-1322.95\" font-family=\"Times,serif\" font-size=\"14.00\">Inputs</text>\n",
       "</g>\n",
       "<g id=\"clust11\" class=\"cluster\">\n",
       "<title>clusterphase_preferencemin_phase2Outputs</title>\n",
       "<defs>\n",
       "<linearGradient id=\"clust11_l_10\" gradientUnits=\"userSpaceOnUse\" x1=\"966.65\" y1=\"-925.25\" x2=\"738.54\" y2=\"-925.25\" >\n",
       "<stop offset=\"0\" style=\"stop-color:#7f7f7f;stop-opacity:1.;\"/>\n",
       "<stop offset=\"1\" style=\"stop-color:#d9d9d9;stop-opacity:1.;\"/>\n",
       "</linearGradient>\n",
       "</defs>\n",
       "<polygon fill=\"url(#clust11_l_10)\" stroke=\"black\" points=\"738.54,-510.25 738.54,-1340.25 966.65,-1340.25 966.65,-510.25 738.54,-510.25\"/>\n",
       "<text text-anchor=\"middle\" x=\"852.59\" y=\"-1322.95\" font-family=\"Times,serif\" font-size=\"14.00\">Outputs</text>\n",
       "</g>\n",
       "<g id=\"clust12\" class=\"cluster\">\n",
       "<title>clusterphase_preferencee1</title>\n",
       "<defs>\n",
       "<linearGradient id=\"clust12_l_11\" gradientUnits=\"userSpaceOnUse\" x1=\"1251.68\" y1=\"-1972.25\" x2=\"1251.68\" y2=\"-2246.25\" >\n",
       "<stop offset=\"0\" style=\"stop-color:#17becf;stop-opacity:1.;\"/>\n",
       "<stop offset=\"1\" style=\"stop-color:#b9ecf1;stop-opacity:1.;\"/>\n",
       "</linearGradient>\n",
       "</defs>\n",
       "<polygon fill=\"url(#clust12_l_11)\" stroke=\"black\" points=\"1070.65,-1972.25 1070.65,-2246.25 1432.72,-2246.25 1432.72,-1972.25 1070.65,-1972.25\"/>\n",
       "<text text-anchor=\"middle\" x=\"1251.68\" y=\"-2228.95\" font-family=\"Times,serif\" font-size=\"14.00\">e1: GetItem</text>\n",
       "</g>\n",
       "<g id=\"clust13\" class=\"cluster\">\n",
       "<title>clusterphase_preferencee1Inputs</title>\n",
       "<defs>\n",
       "<linearGradient id=\"clust13_l_12\" gradientUnits=\"userSpaceOnUse\" x1=\"1078.65\" y1=\"-2098.25\" x2=\"1223.9\" y2=\"-2098.25\" >\n",
       "<stop offset=\"0\" style=\"stop-color:#7f7f7f;stop-opacity:1.;\"/>\n",
       "<stop offset=\"1\" style=\"stop-color:#d9d9d9;stop-opacity:1.;\"/>\n",
       "</linearGradient>\n",
       "</defs>\n",
       "<polygon fill=\"url(#clust13_l_12)\" stroke=\"black\" points=\"1078.65,-1980.25 1078.65,-2216.25 1223.9,-2216.25 1223.9,-1980.25 1078.65,-1980.25\"/>\n",
       "<text text-anchor=\"middle\" x=\"1151.27\" y=\"-2198.95\" font-family=\"Times,serif\" font-size=\"14.00\">Inputs</text>\n",
       "</g>\n",
       "<g id=\"clust14\" class=\"cluster\">\n",
       "<title>clusterphase_preferencee1Outputs</title>\n",
       "<defs>\n",
       "<linearGradient id=\"clust14_l_13\" gradientUnits=\"userSpaceOnUse\" x1=\"1424.72\" y1=\"-2152.25\" x2=\"1335.89\" y2=\"-2152.25\" >\n",
       "<stop offset=\"0\" style=\"stop-color:#7f7f7f;stop-opacity:1.;\"/>\n",
       "<stop offset=\"1\" style=\"stop-color:#d9d9d9;stop-opacity:1.;\"/>\n",
       "</linearGradient>\n",
       "</defs>\n",
       "<polygon fill=\"url(#clust14_l_13)\" stroke=\"black\" points=\"1335.89,-2088.25 1335.89,-2216.25 1424.72,-2216.25 1424.72,-2088.25 1335.89,-2088.25\"/>\n",
       "<text text-anchor=\"middle\" x=\"1380.3\" y=\"-2198.95\" font-family=\"Times,serif\" font-size=\"14.00\">Outputs</text>\n",
       "</g>\n",
       "<g id=\"clust15\" class=\"cluster\">\n",
       "<title>clusterphase_preferencen1</title>\n",
       "<defs>\n",
       "<linearGradient id=\"clust15_l_14\" gradientUnits=\"userSpaceOnUse\" x1=\"1246.97\" y1=\"-2254.25\" x2=\"1246.97\" y2=\"-2474.25\" >\n",
       "<stop offset=\"0\" style=\"stop-color:#17becf;stop-opacity:1.;\"/>\n",
       "<stop offset=\"1\" style=\"stop-color:#b9ecf1;stop-opacity:1.;\"/>\n",
       "</linearGradient>\n",
       "</defs>\n",
       "<polygon fill=\"url(#clust15_l_14)\" stroke=\"black\" points=\"1070.65,-2254.25 1070.65,-2474.25 1423.3,-2474.25 1423.3,-2254.25 1070.65,-2254.25\"/>\n",
       "<text text-anchor=\"middle\" x=\"1246.97\" y=\"-2456.95\" font-family=\"Times,serif\" font-size=\"14.00\">n1: Length</text>\n",
       "</g>\n",
       "<g id=\"clust16\" class=\"cluster\">\n",
       "<title>clusterphase_preferencen1Inputs</title>\n",
       "<defs>\n",
       "<linearGradient id=\"clust16_l_15\" gradientUnits=\"userSpaceOnUse\" x1=\"1078.65\" y1=\"-2353.25\" x2=\"1223.9\" y2=\"-2353.25\" >\n",
       "<stop offset=\"0\" style=\"stop-color:#7f7f7f;stop-opacity:1.;\"/>\n",
       "<stop offset=\"1\" style=\"stop-color:#d9d9d9;stop-opacity:1.;\"/>\n",
       "</linearGradient>\n",
       "</defs>\n",
       "<polygon fill=\"url(#clust16_l_15)\" stroke=\"black\" points=\"1078.65,-2262.25 1078.65,-2444.25 1223.9,-2444.25 1223.9,-2262.25 1078.65,-2262.25\"/>\n",
       "<text text-anchor=\"middle\" x=\"1151.27\" y=\"-2426.95\" font-family=\"Times,serif\" font-size=\"14.00\">Inputs</text>\n",
       "</g>\n",
       "<g id=\"clust17\" class=\"cluster\">\n",
       "<title>clusterphase_preferencen1Outputs</title>\n",
       "<defs>\n",
       "<linearGradient id=\"clust17_l_16\" gradientUnits=\"userSpaceOnUse\" x1=\"1415.3\" y1=\"-2353.25\" x2=\"1345.3\" y2=\"-2353.25\" >\n",
       "<stop offset=\"0\" style=\"stop-color:#7f7f7f;stop-opacity:1.;\"/>\n",
       "<stop offset=\"1\" style=\"stop-color:#d9d9d9;stop-opacity:1.;\"/>\n",
       "</linearGradient>\n",
       "</defs>\n",
       "<polygon fill=\"url(#clust17_l_16)\" stroke=\"black\" points=\"1345.3,-2289.25 1345.3,-2417.25 1415.3,-2417.25 1415.3,-2289.25 1345.3,-2289.25\"/>\n",
       "<text text-anchor=\"middle\" x=\"1380.3\" y=\"-2399.95\" font-family=\"Times,serif\" font-size=\"14.00\">Outputs</text>\n",
       "</g>\n",
       "<g id=\"clust18\" class=\"cluster\">\n",
       "<title>clusterphase_preferencee2</title>\n",
       "<defs>\n",
       "<linearGradient id=\"clust18_l_17\" gradientUnits=\"userSpaceOnUse\" x1=\"1251.68\" y1=\"-30.25\" x2=\"1251.68\" y2=\"-304.25\" >\n",
       "<stop offset=\"0\" style=\"stop-color:#17becf;stop-opacity:1.;\"/>\n",
       "<stop offset=\"1\" style=\"stop-color:#b9ecf1;stop-opacity:1.;\"/>\n",
       "</linearGradient>\n",
       "</defs>\n",
       "<polygon fill=\"url(#clust18_l_17)\" stroke=\"black\" points=\"1070.65,-30.25 1070.65,-304.25 1432.72,-304.25 1432.72,-30.25 1070.65,-30.25\"/>\n",
       "<text text-anchor=\"middle\" x=\"1251.68\" y=\"-286.95\" font-family=\"Times,serif\" font-size=\"14.00\">e2: GetItem</text>\n",
       "</g>\n",
       "<g id=\"clust19\" class=\"cluster\">\n",
       "<title>clusterphase_preferencee2Inputs</title>\n",
       "<defs>\n",
       "<linearGradient id=\"clust19_l_18\" gradientUnits=\"userSpaceOnUse\" x1=\"1078.65\" y1=\"-156.25\" x2=\"1223.9\" y2=\"-156.25\" >\n",
       "<stop offset=\"0\" style=\"stop-color:#7f7f7f;stop-opacity:1.;\"/>\n",
       "<stop offset=\"1\" style=\"stop-color:#d9d9d9;stop-opacity:1.;\"/>\n",
       "</linearGradient>\n",
       "</defs>\n",
       "<polygon fill=\"url(#clust19_l_18)\" stroke=\"black\" points=\"1078.65,-38.25 1078.65,-274.25 1223.9,-274.25 1223.9,-38.25 1078.65,-38.25\"/>\n",
       "<text text-anchor=\"middle\" x=\"1151.27\" y=\"-256.95\" font-family=\"Times,serif\" font-size=\"14.00\">Inputs</text>\n",
       "</g>\n",
       "<g id=\"clust20\" class=\"cluster\">\n",
       "<title>clusterphase_preferencee2Outputs</title>\n",
       "<defs>\n",
       "<linearGradient id=\"clust20_l_19\" gradientUnits=\"userSpaceOnUse\" x1=\"1424.72\" y1=\"-210.25\" x2=\"1335.89\" y2=\"-210.25\" >\n",
       "<stop offset=\"0\" style=\"stop-color:#7f7f7f;stop-opacity:1.;\"/>\n",
       "<stop offset=\"1\" style=\"stop-color:#d9d9d9;stop-opacity:1.;\"/>\n",
       "</linearGradient>\n",
       "</defs>\n",
       "<polygon fill=\"url(#clust20_l_19)\" stroke=\"black\" points=\"1335.89,-146.25 1335.89,-274.25 1424.72,-274.25 1424.72,-146.25 1335.89,-146.25\"/>\n",
       "<text text-anchor=\"middle\" x=\"1380.3\" y=\"-256.95\" font-family=\"Times,serif\" font-size=\"14.00\">Outputs</text>\n",
       "</g>\n",
       "<g id=\"clust21\" class=\"cluster\">\n",
       "<title>clusterphase_preferencen2</title>\n",
       "<defs>\n",
       "<linearGradient id=\"clust21_l_20\" gradientUnits=\"userSpaceOnUse\" x1=\"1246.97\" y1=\"-312.25\" x2=\"1246.97\" y2=\"-532.25\" >\n",
       "<stop offset=\"0\" style=\"stop-color:#17becf;stop-opacity:1.;\"/>\n",
       "<stop offset=\"1\" style=\"stop-color:#b9ecf1;stop-opacity:1.;\"/>\n",
       "</linearGradient>\n",
       "</defs>\n",
       "<polygon fill=\"url(#clust21_l_20)\" stroke=\"black\" points=\"1070.65,-312.25 1070.65,-532.25 1423.3,-532.25 1423.3,-312.25 1070.65,-312.25\"/>\n",
       "<text text-anchor=\"middle\" x=\"1246.97\" y=\"-514.95\" font-family=\"Times,serif\" font-size=\"14.00\">n2: Length</text>\n",
       "</g>\n",
       "<g id=\"clust22\" class=\"cluster\">\n",
       "<title>clusterphase_preferencen2Inputs</title>\n",
       "<defs>\n",
       "<linearGradient id=\"clust22_l_21\" gradientUnits=\"userSpaceOnUse\" x1=\"1078.65\" y1=\"-411.25\" x2=\"1223.9\" y2=\"-411.25\" >\n",
       "<stop offset=\"0\" style=\"stop-color:#7f7f7f;stop-opacity:1.;\"/>\n",
       "<stop offset=\"1\" style=\"stop-color:#d9d9d9;stop-opacity:1.;\"/>\n",
       "</linearGradient>\n",
       "</defs>\n",
       "<polygon fill=\"url(#clust22_l_21)\" stroke=\"black\" points=\"1078.65,-320.25 1078.65,-502.25 1223.9,-502.25 1223.9,-320.25 1078.65,-320.25\"/>\n",
       "<text text-anchor=\"middle\" x=\"1151.27\" y=\"-484.95\" font-family=\"Times,serif\" font-size=\"14.00\">Inputs</text>\n",
       "</g>\n",
       "<g id=\"clust23\" class=\"cluster\">\n",
       "<title>clusterphase_preferencen2Outputs</title>\n",
       "<defs>\n",
       "<linearGradient id=\"clust23_l_22\" gradientUnits=\"userSpaceOnUse\" x1=\"1415.3\" y1=\"-438.25\" x2=\"1345.3\" y2=\"-438.25\" >\n",
       "<stop offset=\"0\" style=\"stop-color:#7f7f7f;stop-opacity:1.;\"/>\n",
       "<stop offset=\"1\" style=\"stop-color:#d9d9d9;stop-opacity:1.;\"/>\n",
       "</linearGradient>\n",
       "</defs>\n",
       "<polygon fill=\"url(#clust23_l_22)\" stroke=\"black\" points=\"1345.3,-374.25 1345.3,-502.25 1415.3,-502.25 1415.3,-374.25 1345.3,-374.25\"/>\n",
       "<text text-anchor=\"middle\" x=\"1380.3\" y=\"-484.95\" font-family=\"Times,serif\" font-size=\"14.00\">Outputs</text>\n",
       "</g>\n",
       "<g id=\"clust24\" class=\"cluster\">\n",
       "<title>clusterphase_preferencee2__getitem_Divide_n2__len</title>\n",
       "<defs>\n",
       "<linearGradient id=\"clust24_l_23\" gradientUnits=\"userSpaceOnUse\" x1=\"1573.85\" y1=\"-576.25\" x2=\"1573.85\" y2=\"-850.25\" >\n",
       "<stop offset=\"0\" style=\"stop-color:#17becf;stop-opacity:1.;\"/>\n",
       "<stop offset=\"1\" style=\"stop-color:#b9ecf1;stop-opacity:1.;\"/>\n",
       "</linearGradient>\n",
       "</defs>\n",
       "<polygon fill=\"url(#clust24_l_23)\" stroke=\"black\" points=\"1440.72,-576.25 1440.72,-850.25 1706.97,-850.25 1706.97,-576.25 1440.72,-576.25\"/>\n",
       "<text text-anchor=\"middle\" x=\"1573.85\" y=\"-832.95\" font-family=\"Times,serif\" font-size=\"14.00\">e2__getitem_Divide_n2__len: Divide</text>\n",
       "</g>\n",
       "<g id=\"clust25\" class=\"cluster\">\n",
       "<title>clusterphase_preferencee2__getitem_Divide_n2__lenInputs</title>\n",
       "<defs>\n",
       "<linearGradient id=\"clust25_l_24\" gradientUnits=\"userSpaceOnUse\" x1=\"1448.72\" y1=\"-702.25\" x2=\"1593.97\" y2=\"-702.25\" >\n",
       "<stop offset=\"0\" style=\"stop-color:#7f7f7f;stop-opacity:1.;\"/>\n",
       "<stop offset=\"1\" style=\"stop-color:#d9d9d9;stop-opacity:1.;\"/>\n",
       "</linearGradient>\n",
       "</defs>\n",
       "<polygon fill=\"url(#clust25_l_24)\" stroke=\"black\" points=\"1448.72,-584.25 1448.72,-820.25 1593.97,-820.25 1593.97,-584.25 1448.72,-584.25\"/>\n",
       "<text text-anchor=\"middle\" x=\"1521.34\" y=\"-802.95\" font-family=\"Times,serif\" font-size=\"14.00\">Inputs</text>\n",
       "</g>\n",
       "<g id=\"clust26\" class=\"cluster\">\n",
       "<title>clusterphase_preferencee2__getitem_Divide_n2__lenOutputs</title>\n",
       "<defs>\n",
       "<linearGradient id=\"clust26_l_25\" gradientUnits=\"userSpaceOnUse\" x1=\"1698.97\" y1=\"-756.25\" x2=\"1613.97\" y2=\"-756.25\" >\n",
       "<stop offset=\"0\" style=\"stop-color:#7f7f7f;stop-opacity:1.;\"/>\n",
       "<stop offset=\"1\" style=\"stop-color:#d9d9d9;stop-opacity:1.;\"/>\n",
       "</linearGradient>\n",
       "</defs>\n",
       "<polygon fill=\"url(#clust26_l_25)\" stroke=\"black\" points=\"1613.97,-692.25 1613.97,-820.25 1698.97,-820.25 1698.97,-692.25 1613.97,-692.25\"/>\n",
       "<text text-anchor=\"middle\" x=\"1656.47\" y=\"-802.95\" font-family=\"Times,serif\" font-size=\"14.00\">Outputs</text>\n",
       "</g>\n",
       "<g id=\"clust27\" class=\"cluster\">\n",
       "<title>clusterphase_preferencee1__getitem_Divide_n1__len</title>\n",
       "<defs>\n",
       "<linearGradient id=\"clust27_l_26\" gradientUnits=\"userSpaceOnUse\" x1=\"1573.85\" y1=\"-2080.25\" x2=\"1573.85\" y2=\"-2354.25\" >\n",
       "<stop offset=\"0\" style=\"stop-color:#17becf;stop-opacity:1.;\"/>\n",
       "<stop offset=\"1\" style=\"stop-color:#b9ecf1;stop-opacity:1.;\"/>\n",
       "</linearGradient>\n",
       "</defs>\n",
       "<polygon fill=\"url(#clust27_l_26)\" stroke=\"black\" points=\"1440.72,-2080.25 1440.72,-2354.25 1706.97,-2354.25 1706.97,-2080.25 1440.72,-2080.25\"/>\n",
       "<text text-anchor=\"middle\" x=\"1573.85\" y=\"-2336.95\" font-family=\"Times,serif\" font-size=\"14.00\">e1__getitem_Divide_n1__len: Divide</text>\n",
       "</g>\n",
       "<g id=\"clust28\" class=\"cluster\">\n",
       "<title>clusterphase_preferencee1__getitem_Divide_n1__lenInputs</title>\n",
       "<defs>\n",
       "<linearGradient id=\"clust28_l_27\" gradientUnits=\"userSpaceOnUse\" x1=\"1448.72\" y1=\"-2206.25\" x2=\"1593.97\" y2=\"-2206.25\" >\n",
       "<stop offset=\"0\" style=\"stop-color:#7f7f7f;stop-opacity:1.;\"/>\n",
       "<stop offset=\"1\" style=\"stop-color:#d9d9d9;stop-opacity:1.;\"/>\n",
       "</linearGradient>\n",
       "</defs>\n",
       "<polygon fill=\"url(#clust28_l_27)\" stroke=\"black\" points=\"1448.72,-2088.25 1448.72,-2324.25 1593.97,-2324.25 1593.97,-2088.25 1448.72,-2088.25\"/>\n",
       "<text text-anchor=\"middle\" x=\"1521.34\" y=\"-2306.95\" font-family=\"Times,serif\" font-size=\"14.00\">Inputs</text>\n",
       "</g>\n",
       "<g id=\"clust29\" class=\"cluster\">\n",
       "<title>clusterphase_preferencee1__getitem_Divide_n1__lenOutputs</title>\n",
       "<defs>\n",
       "<linearGradient id=\"clust29_l_28\" gradientUnits=\"userSpaceOnUse\" x1=\"1698.97\" y1=\"-2206.25\" x2=\"1613.97\" y2=\"-2206.25\" >\n",
       "<stop offset=\"0\" style=\"stop-color:#7f7f7f;stop-opacity:1.;\"/>\n",
       "<stop offset=\"1\" style=\"stop-color:#d9d9d9;stop-opacity:1.;\"/>\n",
       "</linearGradient>\n",
       "</defs>\n",
       "<polygon fill=\"url(#clust29_l_28)\" stroke=\"black\" points=\"1613.97,-2142.25 1613.97,-2270.25 1698.97,-2270.25 1698.97,-2142.25 1613.97,-2142.25\"/>\n",
       "<text text-anchor=\"middle\" x=\"1656.47\" y=\"-2252.95\" font-family=\"Times,serif\" font-size=\"14.00\">Outputs</text>\n",
       "</g>\n",
       "<g id=\"clust30\" class=\"cluster\">\n",
       "<title>clusterphase_preferencecompare</title>\n",
       "<defs>\n",
       "<linearGradient id=\"clust30_l_29\" gradientUnits=\"userSpaceOnUse\" x1=\"1840.6\" y1=\"-684.25\" x2=\"1840.6\" y2=\"-958.25\" >\n",
       "<stop offset=\"0\" style=\"stop-color:#17becf;stop-opacity:1.;\"/>\n",
       "<stop offset=\"1\" style=\"stop-color:#b9ecf1;stop-opacity:1.;\"/>\n",
       "</linearGradient>\n",
       "</defs>\n",
       "<polygon fill=\"url(#clust30_l_29)\" stroke=\"black\" points=\"1714.97,-684.25 1714.97,-958.25 1966.22,-958.25 1966.22,-684.25 1714.97,-684.25\"/>\n",
       "<text text-anchor=\"middle\" x=\"1840.6\" y=\"-940.95\" font-family=\"Times,serif\" font-size=\"14.00\">compare: Subtract</text>\n",
       "</g>\n",
       "<g id=\"clust31\" class=\"cluster\">\n",
       "<title>clusterphase_preferencecompareInputs</title>\n",
       "<defs>\n",
       "<linearGradient id=\"clust31_l_30\" gradientUnits=\"userSpaceOnUse\" x1=\"1722.97\" y1=\"-810.25\" x2=\"1868.22\" y2=\"-810.25\" >\n",
       "<stop offset=\"0\" style=\"stop-color:#7f7f7f;stop-opacity:1.;\"/>\n",
       "<stop offset=\"1\" style=\"stop-color:#d9d9d9;stop-opacity:1.;\"/>\n",
       "</linearGradient>\n",
       "</defs>\n",
       "<polygon fill=\"url(#clust31_l_30)\" stroke=\"black\" points=\"1722.97,-692.25 1722.97,-928.25 1868.22,-928.25 1868.22,-692.25 1722.97,-692.25\"/>\n",
       "<text text-anchor=\"middle\" x=\"1795.6\" y=\"-910.95\" font-family=\"Times,serif\" font-size=\"14.00\">Inputs</text>\n",
       "</g>\n",
       "<g id=\"clust32\" class=\"cluster\">\n",
       "<title>clusterphase_preferencecompareOutputs</title>\n",
       "<defs>\n",
       "<linearGradient id=\"clust32_l_31\" gradientUnits=\"userSpaceOnUse\" x1=\"1958.22\" y1=\"-810.25\" x2=\"1888.22\" y2=\"-810.25\" >\n",
       "<stop offset=\"0\" style=\"stop-color:#7f7f7f;stop-opacity:1.;\"/>\n",
       "<stop offset=\"1\" style=\"stop-color:#d9d9d9;stop-opacity:1.;\"/>\n",
       "</linearGradient>\n",
       "</defs>\n",
       "<polygon fill=\"url(#clust32_l_31)\" stroke=\"black\" points=\"1888.22,-746.25 1888.22,-874.25 1958.22,-874.25 1958.22,-746.25 1888.22,-746.25\"/>\n",
       "<text text-anchor=\"middle\" x=\"1923.22\" y=\"-856.95\" font-family=\"Times,serif\" font-size=\"14.00\">Outputs</text>\n",
       "</g>\n",
       "<!-- clusterphase_preferenceInputsrun -->\n",
       "<g id=\"node1\" class=\"node\">\n",
       "<title>clusterphase_preferenceInputsrun</title>\n",
       "<polygon fill=\"#1f77b4\" stroke=\"#1f77b4\" points=\"350.85,-548.25 308.85,-548.25 308.85,-524.25 350.85,-524.25 362.85,-536.25 350.85,-548.25\"/>\n",
       "<text text-anchor=\"middle\" x=\"335.85\" y=\"-530.08\" font-family=\"Times,serif\" font-size=\"14.00\">run</text>\n",
       "</g>\n",
       "<!-- clusterphase_preferenceOutputsran -->\n",
       "<g id=\"node26\" class=\"node\">\n",
       "<title>clusterphase_preferenceOutputsran</title>\n",
       "<polygon fill=\"#1f77b4\" stroke=\"#1f77b4\" points=\"1166.27,-632.25 1124.27,-632.25 1124.27,-608.25 1166.27,-608.25 1178.27,-620.25 1166.27,-632.25\"/>\n",
       "<text text-anchor=\"middle\" x=\"1151.27\" y=\"-614.08\" font-family=\"Times,serif\" font-size=\"14.00\">ran</text>\n",
       "</g>\n",
       "<!-- clusterphase_preferenceInputsrun&#45;&gt;clusterphase_preferenceOutputsran -->\n",
       "<!-- clusterphase_preferenceInputsaccumulate_and_run -->\n",
       "<g id=\"node2\" class=\"node\">\n",
       "<title>clusterphase_preferenceInputsaccumulate_and_run</title>\n",
       "<polygon fill=\"#1f77b4\" stroke=\"#1f77b4\" points=\"388.48,-1736.25 271.23,-1736.25 271.23,-1712.25 388.48,-1712.25 400.48,-1724.25 388.48,-1736.25\"/>\n",
       "<text text-anchor=\"middle\" x=\"335.85\" y=\"-1718.08\" font-family=\"Times,serif\" font-size=\"14.00\">accumulate_and_run</text>\n",
       "</g>\n",
       "<!-- clusterphase_preferenceInputselement -->\n",
       "<g id=\"node3\" class=\"node\">\n",
       "<title>clusterphase_preferenceInputselement</title>\n",
       "<ellipse fill=\"#ff7f0e\" stroke=\"#ff7f0e\" cx=\"335.85\" cy=\"-1670.25\" rx=\"37.84\" ry=\"18\"/>\n",
       "<text text-anchor=\"middle\" x=\"335.85\" y=\"-1664.08\" font-family=\"Times,serif\" font-size=\"14.00\">element</text>\n",
       "</g>\n",
       "<!-- clusterphase_preferenceelementInputsuser_input -->\n",
       "<g id=\"node54\" class=\"node\">\n",
       "<title>clusterphase_preferenceelementInputsuser_input</title>\n",
       "<ellipse fill=\"#ff7f0e\" stroke=\"#ff7f0e\" cx=\"88.62\" cy=\"-1868.25\" rx=\"46.43\" ry=\"18\"/>\n",
       "<text text-anchor=\"middle\" x=\"88.62\" y=\"-1862.08\" font-family=\"Times,serif\" font-size=\"14.00\">user_input</text>\n",
       "</g>\n",
       "<!-- clusterphase_preferenceInputselement&#45;&gt;clusterphase_preferenceelementInputsuser_input -->\n",
       "<g id=\"edge24\" class=\"edge\">\n",
       "<title>clusterphase_preferenceInputselement&#45;&gt;clusterphase_preferenceelementInputsuser_input</title>\n",
       "<path fill=\"none\" stroke=\"#ff7f0e\" d=\"M297.87,-1668.05C264.39,-1667.94 215.25,-1672.65 181.25,-1697.25 174.53,-1702.11 168.25,-1707.62 162.4,-1713.61\"/>\n",
       "<path fill=\"none\" stroke=\"#ff7f0e\" d=\"M162.4,-1713.61C126.18,-1750.66 106.1,-1805.99 96.61,-1839.45\"/>\n",
       "<polygon fill=\"#ff7f0e\" stroke=\"#ff7f0e\" points=\"92.98,-1838.47 93.76,-1849.03 99.74,-1840.29 92.98,-1838.47\"/>\n",
       "</g>\n",
       "<!-- clusterphase_preferenceInputsphase1 -->\n",
       "<g id=\"node4\" class=\"node\">\n",
       "<title>clusterphase_preferenceInputsphase1</title>\n",
       "<ellipse fill=\"#ff7f0e\" stroke=\"#ff7f0e\" cx=\"335.85\" cy=\"-1400.25\" rx=\"34.03\" ry=\"18\"/>\n",
       "<text text-anchor=\"middle\" x=\"335.85\" y=\"-1394.08\" font-family=\"Times,serif\" font-size=\"14.00\">phase1</text>\n",
       "</g>\n",
       "<!-- clusterphase_preferencemin_phase1Inputscrystalstructure -->\n",
       "<g id=\"node60\" class=\"node\">\n",
       "<title>clusterphase_preferencemin_phase1Inputscrystalstructure</title>\n",
       "<ellipse fill=\"#ff7f0e\" stroke=\"#ff7f0e\" cx=\"614.5\" cy=\"-1628.25\" rx=\"63.13\" ry=\"18\"/>\n",
       "<text text-anchor=\"middle\" x=\"614.5\" y=\"-1622.08\" font-family=\"Times,serif\" font-size=\"14.00\">crystalstructure</text>\n",
       "</g>\n",
       "<!-- clusterphase_preferenceInputsphase1&#45;&gt;clusterphase_preferencemin_phase1Inputscrystalstructure -->\n",
       "<g id=\"edge25\" class=\"edge\">\n",
       "<title>clusterphase_preferenceInputsphase1&#45;&gt;clusterphase_preferencemin_phase1Inputscrystalstructure</title>\n",
       "<path fill=\"none\" stroke=\"#ff7f0e\" d=\"M368.99,-1395.56C404.39,-1392.4 460.3,-1393.74 490.46,-1427.25 497.51,-1435.09 499.77,-1449.36 499.81,-1466.57\"/>\n",
       "<path fill=\"none\" stroke=\"#ff7f0e\" d=\"M499.81,-1466.57C499.94,-1512.6 484.27,-1579.68 502.46,-1601.25 512.18,-1612.78 525.93,-1619.85 540.45,-1624.08\"/>\n",
       "<polygon fill=\"#ff7f0e\" stroke=\"#ff7f0e\" points=\"539.56,-1627.71 550.11,-1626.68 541.22,-1620.91 539.56,-1627.71\"/>\n",
       "</g>\n",
       "<!-- clusterphase_preferenceInputslattice_guess1 -->\n",
       "<g id=\"node5\" class=\"node\">\n",
       "<title>clusterphase_preferenceInputslattice_guess1</title>\n",
       "<ellipse fill=\"#ff7f0e\" stroke=\"#ff7f0e\" cx=\"335.85\" cy=\"-1346.25\" rx=\"58.83\" ry=\"18\"/>\n",
       "<text text-anchor=\"middle\" x=\"335.85\" y=\"-1340.08\" font-family=\"Times,serif\" font-size=\"14.00\">lattice_guess1</text>\n",
       "</g>\n",
       "<!-- clusterphase_preferencemin_phase1Inputslattice_guess -->\n",
       "<g id=\"node61\" class=\"node\">\n",
       "<title>clusterphase_preferencemin_phase1Inputslattice_guess</title>\n",
       "<ellipse fill=\"#ff7f0e\" stroke=\"#ff7f0e\" cx=\"614.5\" cy=\"-1574.25\" rx=\"54.54\" ry=\"18\"/>\n",
       "<text text-anchor=\"middle\" x=\"614.5\" y=\"-1568.08\" font-family=\"Times,serif\" font-size=\"14.00\">lattice_guess</text>\n",
       "</g>\n",
       "<!-- clusterphase_preferenceInputslattice_guess1&#45;&gt;clusterphase_preferencemin_phase1Inputslattice_guess -->\n",
       "<g id=\"edge26\" class=\"edge\">\n",
       "<title>clusterphase_preferenceInputslattice_guess1&#45;&gt;clusterphase_preferencemin_phase1Inputslattice_guess</title>\n",
       "<path fill=\"none\" stroke=\"#ff7f0e\" d=\"M392.1,-1340.42C425.54,-1340.19 466.28,-1346.38 490.46,-1373.25 499.8,-1383.63 500.72,-1405.26 499.25,-1430.08\"/>\n",
       "<path fill=\"none\" stroke=\"#ff7f0e\" d=\"M499.25,-1430.08C496.64,-1474.16 486.47,-1528.29 502.46,-1547.25 514.11,-1561.07 531.54,-1568.47 549.15,-1572.27\"/>\n",
       "<polygon fill=\"#ff7f0e\" stroke=\"#ff7f0e\" points=\"548.04,-1575.81 558.5,-1574.12 549.26,-1568.92 548.04,-1575.81\"/>\n",
       "</g>\n",
       "<!-- clusterphase_preferenceInputsmin_phase1__structure__c -->\n",
       "<g id=\"node6\" class=\"node\">\n",
       "<title>clusterphase_preferenceInputsmin_phase1__structure__c</title>\n",
       "<ellipse fill=\"#ff7f0e\" stroke=\"#ff7f0e\" cx=\"335.85\" cy=\"-1292.25\" rx=\"103.19\" ry=\"18\"/>\n",
       "<text text-anchor=\"middle\" x=\"335.85\" y=\"-1286.08\" font-family=\"Times,serif\" font-size=\"14.00\">min_phase1__structure__c</text>\n",
       "</g>\n",
       "<!-- clusterphase_preferencemin_phase1Inputsstructure__c -->\n",
       "<g id=\"node62\" class=\"node\">\n",
       "<title>clusterphase_preferencemin_phase1Inputsstructure__c</title>\n",
       "<ellipse fill=\"#ff7f0e\" stroke=\"#ff7f0e\" cx=\"614.5\" cy=\"-1520.25\" rx=\"52.63\" ry=\"18\"/>\n",
       "<text text-anchor=\"middle\" x=\"614.5\" y=\"-1514.08\" font-family=\"Times,serif\" font-size=\"14.00\">structure__c</text>\n",
       "</g>\n",
       "<!-- clusterphase_preferenceInputsmin_phase1__structure__c&#45;&gt;clusterphase_preferencemin_phase1Inputsstructure__c -->\n",
       "<g id=\"edge27\" class=\"edge\">\n",
       "<title>clusterphase_preferenceInputsmin_phase1__structure__c&#45;&gt;clusterphase_preferencemin_phase1Inputsstructure__c</title>\n",
       "<path fill=\"none\" stroke=\"#ff7f0e\" d=\"M439.05,-1291.2C458.56,-1295.82 477.05,-1304.36 490.46,-1319.25 503.19,-1333.39 500.29,-1368.45 496.99,-1403.98\"/>\n",
       "<path fill=\"none\" stroke=\"#ff7f0e\" d=\"M496.99,-1403.98C493.58,-1440.82 489.74,-1478.17 502.46,-1493.25 514.48,-1507.51 532.66,-1514.94 550.84,-1518.63\"/>\n",
       "<polygon fill=\"#ff7f0e\" stroke=\"#ff7f0e\" points=\"550.07,-1522.21 560.5,-1520.39 551.21,-1515.31 550.07,-1522.21\"/>\n",
       "</g>\n",
       "<!-- clusterphase_preferenceInputsmin_phase1__structure__covera -->\n",
       "<g id=\"node7\" class=\"node\">\n",
       "<title>clusterphase_preferenceInputsmin_phase1__structure__covera</title>\n",
       "<ellipse fill=\"#ff7f0e\" stroke=\"#ff7f0e\" cx=\"335.85\" cy=\"-1238.25\" rx=\"122.28\" ry=\"18\"/>\n",
       "<text text-anchor=\"middle\" x=\"335.85\" y=\"-1232.08\" font-family=\"Times,serif\" font-size=\"14.00\">min_phase1__structure__covera</text>\n",
       "</g>\n",
       "<!-- clusterphase_preferencemin_phase1Inputsstructure__covera -->\n",
       "<g id=\"node63\" class=\"node\">\n",
       "<title>clusterphase_preferencemin_phase1Inputsstructure__covera</title>\n",
       "<ellipse fill=\"#ff7f0e\" stroke=\"#ff7f0e\" cx=\"614.5\" cy=\"-1466.25\" rx=\"71.71\" ry=\"18\"/>\n",
       "<text text-anchor=\"middle\" x=\"614.5\" y=\"-1460.08\" font-family=\"Times,serif\" font-size=\"14.00\">structure__covera</text>\n",
       "</g>\n",
       "<!-- clusterphase_preferenceInputsmin_phase1__structure__covera&#45;&gt;clusterphase_preferencemin_phase1Inputsstructure__covera -->\n",
       "<g id=\"edge28\" class=\"edge\">\n",
       "<title>clusterphase_preferenceInputsmin_phase1__structure__covera&#45;&gt;clusterphase_preferencemin_phase1Inputsstructure__covera</title>\n",
       "<path fill=\"none\" stroke=\"#ff7f0e\" d=\"M455.32,-1242.14C468.65,-1247.18 480.86,-1254.58 490.46,-1265.25 503.11,-1279.3 500.32,-1314.01 497.06,-1349.31\"/>\n",
       "<path fill=\"none\" stroke=\"#ff7f0e\" d=\"M497.06,-1349.31C493.62,-1386.36 489.66,-1424.08 502.46,-1439.25 510.6,-1448.91 521.56,-1455.43 533.44,-1459.78\"/>\n",
       "<polygon fill=\"#ff7f0e\" stroke=\"#ff7f0e\" points=\"531.99,-1463.31 542.58,-1462.95 534.08,-1456.63 531.99,-1463.31\"/>\n",
       "</g>\n",
       "<!-- clusterphase_preferenceInputsmin_phase1__structure__u -->\n",
       "<g id=\"node8\" class=\"node\">\n",
       "<title>clusterphase_preferenceInputsmin_phase1__structure__u</title>\n",
       "<ellipse fill=\"#ff7f0e\" stroke=\"#ff7f0e\" cx=\"335.85\" cy=\"-1184.25\" rx=\"103.67\" ry=\"18\"/>\n",
       "<text text-anchor=\"middle\" x=\"335.85\" y=\"-1178.08\" font-family=\"Times,serif\" font-size=\"14.00\">min_phase1__structure__u</text>\n",
       "</g>\n",
       "<!-- clusterphase_preferencemin_phase1Inputsstructure__u -->\n",
       "<g id=\"node64\" class=\"node\">\n",
       "<title>clusterphase_preferencemin_phase1Inputsstructure__u</title>\n",
       "<ellipse fill=\"#ff7f0e\" stroke=\"#ff7f0e\" cx=\"614.5\" cy=\"-1412.25\" rx=\"53.11\" ry=\"18\"/>\n",
       "<text text-anchor=\"middle\" x=\"614.5\" y=\"-1406.08\" font-family=\"Times,serif\" font-size=\"14.00\">structure__u</text>\n",
       "</g>\n",
       "<!-- clusterphase_preferenceInputsmin_phase1__structure__u&#45;&gt;clusterphase_preferencemin_phase1Inputsstructure__u -->\n",
       "<g id=\"edge29\" class=\"edge\">\n",
       "<title>clusterphase_preferenceInputsmin_phase1__structure__u&#45;&gt;clusterphase_preferencemin_phase1Inputsstructure__u</title>\n",
       "<path fill=\"none\" stroke=\"#ff7f0e\" d=\"M439.6,-1183.61C458.84,-1188.25 477.08,-1196.7 490.46,-1211.25 502.12,-1223.93 499.01,-1258.21 497.41,-1289.67\"/>\n",
       "<path fill=\"none\" stroke=\"#ff7f0e\" d=\"M497.41,-1289.67C496.26,-1312.41 495.89,-1333.67 502.46,-1344.25 516.95,-1367.59 542.7,-1384.09 565.76,-1394.99\"/>\n",
       "<polygon fill=\"#ff7f0e\" stroke=\"#ff7f0e\" points=\"564.22,-1398.58 574.77,-1399.46 567.07,-1392.19 564.22,-1398.58\"/>\n",
       "</g>\n",
       "<!-- clusterphase_preferenceInputsmin_phase1__structure__orthorhombic -->\n",
       "<g id=\"node9\" class=\"node\">\n",
       "<title>clusterphase_preferenceInputsmin_phase1__structure__orthorhombic</title>\n",
       "<ellipse fill=\"#ff7f0e\" stroke=\"#ff7f0e\" cx=\"335.85\" cy=\"-1778.25\" rx=\"146.6\" ry=\"18\"/>\n",
       "<text text-anchor=\"middle\" x=\"335.85\" y=\"-1772.08\" font-family=\"Times,serif\" font-size=\"14.00\">min_phase1__structure__orthorhombic</text>\n",
       "</g>\n",
       "<!-- clusterphase_preferencemin_phase1Inputsstructure__orthorhombic -->\n",
       "<g id=\"node65\" class=\"node\">\n",
       "<title>clusterphase_preferencemin_phase1Inputsstructure__orthorhombic</title>\n",
       "<ellipse fill=\"#ff7f0e\" stroke=\"#ff7f0e\" cx=\"614.5\" cy=\"-1898.25\" rx=\"96.04\" ry=\"18\"/>\n",
       "<text text-anchor=\"middle\" x=\"614.5\" y=\"-1892.08\" font-family=\"Times,serif\" font-size=\"14.00\">structure__orthorhombic</text>\n",
       "</g>\n",
       "<!-- clusterphase_preferenceInputsmin_phase1__structure__orthorhombic&#45;&gt;clusterphase_preferencemin_phase1Inputsstructure__orthorhombic -->\n",
       "<g id=\"edge30\" class=\"edge\">\n",
       "<title>clusterphase_preferenceInputsmin_phase1__structure__orthorhombic&#45;&gt;clusterphase_preferencemin_phase1Inputsstructure__orthorhombic</title>\n",
       "<path fill=\"none\" stroke=\"#ff7f0e\" d=\"M363.55,-1796.28C383.04,-1809 411.37,-1826.63 442.28,-1843.05\"/>\n",
       "<path fill=\"none\" stroke=\"#ff7f0e\" d=\"M442.28,-1843.05C461.84,-1853.45 482.42,-1863.36 502.46,-1871.25 513.2,-1875.48 524.79,-1879.18 536.3,-1882.38\"/>\n",
       "<polygon fill=\"#ff7f0e\" stroke=\"#ff7f0e\" points=\"535.25,-1885.98 545.81,-1885.17 537.05,-1879.22 535.25,-1885.98\"/>\n",
       "</g>\n",
       "<!-- clusterphase_preferenceInputsmin_phase1__structure__cubic -->\n",
       "<g id=\"node10\" class=\"node\">\n",
       "<title>clusterphase_preferenceInputsmin_phase1__structure__cubic</title>\n",
       "<ellipse fill=\"#ff7f0e\" stroke=\"#ff7f0e\" cx=\"335.85\" cy=\"-1616.25\" rx=\"117.98\" ry=\"18\"/>\n",
       "<text text-anchor=\"middle\" x=\"335.85\" y=\"-1610.08\" font-family=\"Times,serif\" font-size=\"14.00\">min_phase1__structure__cubic</text>\n",
       "</g>\n",
       "<!-- clusterphase_preferencemin_phase1Inputsstructure__cubic -->\n",
       "<g id=\"node66\" class=\"node\">\n",
       "<title>clusterphase_preferencemin_phase1Inputsstructure__cubic</title>\n",
       "<ellipse fill=\"#ff7f0e\" stroke=\"#ff7f0e\" cx=\"614.5\" cy=\"-1844.25\" rx=\"67.42\" ry=\"18\"/>\n",
       "<text text-anchor=\"middle\" x=\"614.5\" y=\"-1838.08\" font-family=\"Times,serif\" font-size=\"14.00\">structure__cubic</text>\n",
       "</g>\n",
       "<!-- clusterphase_preferenceInputsmin_phase1__structure__cubic&#45;&gt;clusterphase_preferencemin_phase1Inputsstructure__cubic -->\n",
       "<g id=\"edge31\" class=\"edge\">\n",
       "<title>clusterphase_preferenceInputsmin_phase1__structure__cubic&#45;&gt;clusterphase_preferencemin_phase1Inputsstructure__cubic</title>\n",
       "<path fill=\"none\" stroke=\"#ff7f0e\" d=\"M452.67,-1619.17C467.02,-1624.21 480.22,-1631.88 490.46,-1643.25 503.18,-1657.38 500.29,-1692.39 497,-1727.89\"/>\n",
       "<path fill=\"none\" stroke=\"#ff7f0e\" d=\"M497,-1727.89C493.58,-1764.76 489.73,-1802.15 502.46,-1817.25 511.43,-1827.89 523.81,-1834.72 537.07,-1839.04\"/>\n",
       "<polygon fill=\"#ff7f0e\" stroke=\"#ff7f0e\" points=\"535.77,-1842.59 546.34,-1841.87 537.63,-1835.84 535.77,-1842.59\"/>\n",
       "</g>\n",
       "<!-- clusterphase_preferenceInputsmin_phase1__calc__n_ionic_steps -->\n",
       "<g id=\"node11\" class=\"node\">\n",
       "<title>clusterphase_preferenceInputsmin_phase1__calc__n_ionic_steps</title>\n",
       "<ellipse fill=\"#ff7f0e\" stroke=\"#ff7f0e\" cx=\"335.85\" cy=\"-1562.25\" rx=\"144.22\" ry=\"18\"/>\n",
       "<text text-anchor=\"middle\" x=\"335.85\" y=\"-1556.08\" font-family=\"Times,serif\" font-size=\"14.00\">min_phase1__calc__n_ionic_steps: int</text>\n",
       "</g>\n",
       "<!-- clusterphase_preferencemin_phase1Inputscalc__n_ionic_steps -->\n",
       "<g id=\"node67\" class=\"node\">\n",
       "<title>clusterphase_preferencemin_phase1Inputscalc__n_ionic_steps</title>\n",
       "<ellipse fill=\"#ff7f0e\" stroke=\"#ff7f0e\" cx=\"614.5\" cy=\"-1790.25\" rx=\"93.65\" ry=\"18\"/>\n",
       "<text text-anchor=\"middle\" x=\"614.5\" y=\"-1784.08\" font-family=\"Times,serif\" font-size=\"14.00\">calc__n_ionic_steps: int</text>\n",
       "</g>\n",
       "<!-- clusterphase_preferenceInputsmin_phase1__calc__n_ionic_steps&#45;&gt;clusterphase_preferencemin_phase1Inputscalc__n_ionic_steps -->\n",
       "<g id=\"edge32\" class=\"edge\">\n",
       "<title>clusterphase_preferenceInputsmin_phase1__calc__n_ionic_steps&#45;&gt;clusterphase_preferencemin_phase1Inputscalc__n_ionic_steps</title>\n",
       "<path fill=\"none\" stroke=\"#ff7f0e\" d=\"M465.26,-1570.46C474.7,-1575.16 483.3,-1581.3 490.46,-1589.25 502.86,-1603.03 500.42,-1636.67 497.24,-1671.26\"/>\n",
       "<path fill=\"none\" stroke=\"#ff7f0e\" d=\"M497.24,-1671.26C493.78,-1708.96 489.42,-1747.8 502.46,-1763.25 507.47,-1769.19 513.55,-1773.95 520.25,-1777.74\"/>\n",
       "<polygon fill=\"#ff7f0e\" stroke=\"#ff7f0e\" points=\"518.21,-1781.13 528.74,-1782.34 521.26,-1774.83 518.21,-1781.13\"/>\n",
       "</g>\n",
       "<!-- clusterphase_preferenceInputsmin_phase1__calc__n_print -->\n",
       "<g id=\"node12\" class=\"node\">\n",
       "<title>clusterphase_preferenceInputsmin_phase1__calc__n_print</title>\n",
       "<ellipse fill=\"#ff7f0e\" stroke=\"#ff7f0e\" cx=\"335.85\" cy=\"-1508.25\" rx=\"121.8\" ry=\"18\"/>\n",
       "<text text-anchor=\"middle\" x=\"335.85\" y=\"-1502.08\" font-family=\"Times,serif\" font-size=\"14.00\">min_phase1__calc__n_print: int</text>\n",
       "</g>\n",
       "<!-- clusterphase_preferencemin_phase1Inputscalc__n_print -->\n",
       "<g id=\"node68\" class=\"node\">\n",
       "<title>clusterphase_preferencemin_phase1Inputscalc__n_print</title>\n",
       "<ellipse fill=\"#ff7f0e\" stroke=\"#ff7f0e\" cx=\"614.5\" cy=\"-1736.25\" rx=\"71.23\" ry=\"18\"/>\n",
       "<text text-anchor=\"middle\" x=\"614.5\" y=\"-1730.08\" font-family=\"Times,serif\" font-size=\"14.00\">calc__n_print: int</text>\n",
       "</g>\n",
       "<!-- clusterphase_preferenceInputsmin_phase1__calc__n_print&#45;&gt;clusterphase_preferencemin_phase1Inputscalc__n_print -->\n",
       "<g id=\"edge33\" class=\"edge\">\n",
       "<title>clusterphase_preferenceInputsmin_phase1__calc__n_print&#45;&gt;clusterphase_preferencemin_phase1Inputscalc__n_print</title>\n",
       "<path fill=\"none\" stroke=\"#ff7f0e\" d=\"M455.32,-1512.14C468.65,-1517.18 480.86,-1524.58 490.46,-1535.25 503.12,-1549.32 500.32,-1584.09 497.04,-1619.44\"/>\n",
       "<path fill=\"none\" stroke=\"#ff7f0e\" d=\"M497.04,-1619.44C493.62,-1656.45 489.68,-1694.09 502.46,-1709.25 510.65,-1718.97 521.7,-1725.51 533.65,-1729.86\"/>\n",
       "<polygon fill=\"#ff7f0e\" stroke=\"#ff7f0e\" points=\"532.28,-1733.41 542.87,-1733.02 534.35,-1726.72 532.28,-1733.41\"/>\n",
       "</g>\n",
       "<!-- clusterphase_preferenceInputsmin_phase1__calc__pressure -->\n",
       "<g id=\"node13\" class=\"node\">\n",
       "<title>clusterphase_preferenceInputsmin_phase1__calc__pressure</title>\n",
       "<ellipse fill=\"#ff7f0e\" stroke=\"#ff7f0e\" cx=\"335.85\" cy=\"-1454.25\" rx=\"111.78\" ry=\"18\"/>\n",
       "<text text-anchor=\"middle\" x=\"335.85\" y=\"-1448.08\" font-family=\"Times,serif\" font-size=\"14.00\">min_phase1__calc__pressure</text>\n",
       "</g>\n",
       "<!-- clusterphase_preferencemin_phase1Inputscalc__pressure -->\n",
       "<g id=\"node69\" class=\"node\">\n",
       "<title>clusterphase_preferencemin_phase1Inputscalc__pressure</title>\n",
       "<ellipse fill=\"#ff7f0e\" stroke=\"#ff7f0e\" cx=\"614.5\" cy=\"-1682.25\" rx=\"61.22\" ry=\"18\"/>\n",
       "<text text-anchor=\"middle\" x=\"614.5\" y=\"-1676.08\" font-family=\"Times,serif\" font-size=\"14.00\">calc__pressure</text>\n",
       "</g>\n",
       "<!-- clusterphase_preferenceInputsmin_phase1__calc__pressure&#45;&gt;clusterphase_preferencemin_phase1Inputscalc__pressure -->\n",
       "<g id=\"edge34\" class=\"edge\">\n",
       "<title>clusterphase_preferenceInputsmin_phase1__calc__pressure&#45;&gt;clusterphase_preferencemin_phase1Inputscalc__pressure</title>\n",
       "<path fill=\"none\" stroke=\"#ff7f0e\" d=\"M447.67,-1455.53C463.95,-1460.5 479.05,-1468.57 490.46,-1481.25 503.21,-1495.42 500.28,-1530.55 496.98,-1566.14\"/>\n",
       "<path fill=\"none\" stroke=\"#ff7f0e\" d=\"M496.98,-1566.14C493.57,-1602.93 489.76,-1640.19 502.46,-1655.25 512.64,-1667.33 527.23,-1674.5 542.5,-1678.66\"/>\n",
       "<polygon fill=\"#ff7f0e\" stroke=\"#ff7f0e\" points=\"541.61,-1682.27 552.14,-1681.08 543.16,-1675.45 541.61,-1682.27\"/>\n",
       "</g>\n",
       "<!-- clusterphase_preferenceInputsphase2 -->\n",
       "<g id=\"node14\" class=\"node\">\n",
       "<title>clusterphase_preferenceInputsphase2</title>\n",
       "<ellipse fill=\"#ff7f0e\" stroke=\"#ff7f0e\" cx=\"335.85\" cy=\"-860.25\" rx=\"34.03\" ry=\"18\"/>\n",
       "<text text-anchor=\"middle\" x=\"335.85\" y=\"-854.08\" font-family=\"Times,serif\" font-size=\"14.00\">phase2</text>\n",
       "</g>\n",
       "<!-- clusterphase_preferencemin_phase2Inputscrystalstructure -->\n",
       "<g id=\"node88\" class=\"node\">\n",
       "<title>clusterphase_preferencemin_phase2Inputscrystalstructure</title>\n",
       "<ellipse fill=\"#ff7f0e\" stroke=\"#ff7f0e\" cx=\"614.5\" cy=\"-860.25\" rx=\"63.13\" ry=\"18\"/>\n",
       "<text text-anchor=\"middle\" x=\"614.5\" y=\"-854.08\" font-family=\"Times,serif\" font-size=\"14.00\">crystalstructure</text>\n",
       "</g>\n",
       "<!-- clusterphase_preferenceInputsphase2&#45;&gt;clusterphase_preferencemin_phase2Inputscrystalstructure -->\n",
       "<g id=\"edge35\" class=\"edge\">\n",
       "<title>clusterphase_preferenceInputsphase2&#45;&gt;clusterphase_preferencemin_phase2Inputscrystalstructure</title>\n",
       "<path fill=\"none\" stroke=\"#ff7f0e\" d=\"M370.22,-860.25C391.17,-860.25 419.92,-860.25 450.31,-860.25\"/>\n",
       "<path fill=\"none\" stroke=\"#ff7f0e\" d=\"M450.31,-860.25C480.71,-860.25 512.77,-860.25 540.34,-860.25\"/>\n",
       "<polygon fill=\"#ff7f0e\" stroke=\"#ff7f0e\" points=\"540.12,-863.75 550.12,-860.25 540.12,-856.75 540.12,-863.75\"/>\n",
       "</g>\n",
       "<!-- clusterphase_preferenceInputslattice_guess2 -->\n",
       "<g id=\"node15\" class=\"node\">\n",
       "<title>clusterphase_preferenceInputslattice_guess2</title>\n",
       "<ellipse fill=\"#ff7f0e\" stroke=\"#ff7f0e\" cx=\"335.85\" cy=\"-806.25\" rx=\"58.83\" ry=\"18\"/>\n",
       "<text text-anchor=\"middle\" x=\"335.85\" y=\"-800.08\" font-family=\"Times,serif\" font-size=\"14.00\">lattice_guess2</text>\n",
       "</g>\n",
       "<!-- clusterphase_preferencemin_phase2Inputslattice_guess -->\n",
       "<g id=\"node89\" class=\"node\">\n",
       "<title>clusterphase_preferencemin_phase2Inputslattice_guess</title>\n",
       "<ellipse fill=\"#ff7f0e\" stroke=\"#ff7f0e\" cx=\"614.5\" cy=\"-806.25\" rx=\"54.54\" ry=\"18\"/>\n",
       "<text text-anchor=\"middle\" x=\"614.5\" y=\"-800.08\" font-family=\"Times,serif\" font-size=\"14.00\">lattice_guess</text>\n",
       "</g>\n",
       "<!-- clusterphase_preferenceInputslattice_guess2&#45;&gt;clusterphase_preferencemin_phase2Inputslattice_guess -->\n",
       "<g id=\"edge36\" class=\"edge\">\n",
       "<title>clusterphase_preferenceInputslattice_guess2&#45;&gt;clusterphase_preferencemin_phase2Inputslattice_guess</title>\n",
       "<path fill=\"none\" stroke=\"#ff7f0e\" d=\"M395.18,-806.25C417.64,-806.25 444.38,-806.25 471.31,-806.25\"/>\n",
       "<path fill=\"none\" stroke=\"#ff7f0e\" d=\"M471.31,-806.25C498.25,-806.25 525.38,-806.25 548.61,-806.25\"/>\n",
       "<polygon fill=\"#ff7f0e\" stroke=\"#ff7f0e\" points=\"548.47,-809.75 558.47,-806.25 548.47,-802.75 548.47,-809.75\"/>\n",
       "</g>\n",
       "<!-- clusterphase_preferenceInputsmin_phase2__structure__c -->\n",
       "<g id=\"node16\" class=\"node\">\n",
       "<title>clusterphase_preferenceInputsmin_phase2__structure__c</title>\n",
       "<ellipse fill=\"#ff7f0e\" stroke=\"#ff7f0e\" cx=\"335.85\" cy=\"-752.25\" rx=\"103.19\" ry=\"18\"/>\n",
       "<text text-anchor=\"middle\" x=\"335.85\" y=\"-746.08\" font-family=\"Times,serif\" font-size=\"14.00\">min_phase2__structure__c</text>\n",
       "</g>\n",
       "<!-- clusterphase_preferencemin_phase2Inputsstructure__c -->\n",
       "<g id=\"node90\" class=\"node\">\n",
       "<title>clusterphase_preferencemin_phase2Inputsstructure__c</title>\n",
       "<ellipse fill=\"#ff7f0e\" stroke=\"#ff7f0e\" cx=\"614.5\" cy=\"-752.25\" rx=\"52.63\" ry=\"18\"/>\n",
       "<text text-anchor=\"middle\" x=\"614.5\" y=\"-746.08\" font-family=\"Times,serif\" font-size=\"14.00\">structure__c</text>\n",
       "</g>\n",
       "<!-- clusterphase_preferenceInputsmin_phase2__structure__c&#45;&gt;clusterphase_preferencemin_phase2Inputsstructure__c -->\n",
       "<g id=\"edge37\" class=\"edge\">\n",
       "<title>clusterphase_preferenceInputsmin_phase2__structure__c&#45;&gt;clusterphase_preferencemin_phase2Inputsstructure__c</title>\n",
       "<path fill=\"none\" stroke=\"#ff7f0e\" d=\"M439.47,-752.25C458.12,-752.25 477.7,-752.25 496.73,-752.25\"/>\n",
       "<path fill=\"none\" stroke=\"#ff7f0e\" d=\"M496.73,-752.25C515.75,-752.25 534.21,-752.25 550.63,-752.25\"/>\n",
       "<polygon fill=\"#ff7f0e\" stroke=\"#ff7f0e\" points=\"550.44,-755.75 560.44,-752.25 550.44,-748.75 550.44,-755.75\"/>\n",
       "</g>\n",
       "<!-- clusterphase_preferenceInputsmin_phase2__structure__covera -->\n",
       "<g id=\"node17\" class=\"node\">\n",
       "<title>clusterphase_preferenceInputsmin_phase2__structure__covera</title>\n",
       "<ellipse fill=\"#ff7f0e\" stroke=\"#ff7f0e\" cx=\"335.85\" cy=\"-698.25\" rx=\"122.28\" ry=\"18\"/>\n",
       "<text text-anchor=\"middle\" x=\"335.85\" y=\"-692.08\" font-family=\"Times,serif\" font-size=\"14.00\">min_phase2__structure__covera</text>\n",
       "</g>\n",
       "<!-- clusterphase_preferencemin_phase2Inputsstructure__covera -->\n",
       "<g id=\"node91\" class=\"node\">\n",
       "<title>clusterphase_preferencemin_phase2Inputsstructure__covera</title>\n",
       "<ellipse fill=\"#ff7f0e\" stroke=\"#ff7f0e\" cx=\"614.5\" cy=\"-698.25\" rx=\"71.71\" ry=\"18\"/>\n",
       "<text text-anchor=\"middle\" x=\"614.5\" y=\"-692.08\" font-family=\"Times,serif\" font-size=\"14.00\">structure__covera</text>\n",
       "</g>\n",
       "<!-- clusterphase_preferenceInputsmin_phase2__structure__covera&#45;&gt;clusterphase_preferencemin_phase2Inputsstructure__covera -->\n",
       "<g id=\"edge38\" class=\"edge\">\n",
       "<title>clusterphase_preferenceInputsmin_phase2__structure__covera&#45;&gt;clusterphase_preferencemin_phase2Inputsstructure__covera</title>\n",
       "<path fill=\"none\" stroke=\"#ff7f0e\" d=\"M458.6,-698.25C470.98,-698.25 483.55,-698.25 495.9,-698.25\"/>\n",
       "<path fill=\"none\" stroke=\"#ff7f0e\" d=\"M495.9,-698.25C508.24,-698.25 520.36,-698.25 531.85,-698.25\"/>\n",
       "<polygon fill=\"#ff7f0e\" stroke=\"#ff7f0e\" points=\"531.56,-701.75 541.56,-698.25 531.56,-694.75 531.56,-701.75\"/>\n",
       "</g>\n",
       "<!-- clusterphase_preferenceInputsmin_phase2__structure__u -->\n",
       "<g id=\"node18\" class=\"node\">\n",
       "<title>clusterphase_preferenceInputsmin_phase2__structure__u</title>\n",
       "<ellipse fill=\"#ff7f0e\" stroke=\"#ff7f0e\" cx=\"335.85\" cy=\"-644.25\" rx=\"103.67\" ry=\"18\"/>\n",
       "<text text-anchor=\"middle\" x=\"335.85\" y=\"-638.08\" font-family=\"Times,serif\" font-size=\"14.00\">min_phase2__structure__u</text>\n",
       "</g>\n",
       "<!-- clusterphase_preferencemin_phase2Inputsstructure__u -->\n",
       "<g id=\"node92\" class=\"node\">\n",
       "<title>clusterphase_preferencemin_phase2Inputsstructure__u</title>\n",
       "<ellipse fill=\"#ff7f0e\" stroke=\"#ff7f0e\" cx=\"614.5\" cy=\"-644.25\" rx=\"53.11\" ry=\"18\"/>\n",
       "<text text-anchor=\"middle\" x=\"614.5\" y=\"-638.08\" font-family=\"Times,serif\" font-size=\"14.00\">structure__u</text>\n",
       "</g>\n",
       "<!-- clusterphase_preferenceInputsmin_phase2__structure__u&#45;&gt;clusterphase_preferencemin_phase2Inputsstructure__u -->\n",
       "<g id=\"edge39\" class=\"edge\">\n",
       "<title>clusterphase_preferenceInputsmin_phase2__structure__u&#45;&gt;clusterphase_preferencemin_phase2Inputsstructure__u</title>\n",
       "<path fill=\"none\" stroke=\"#ff7f0e\" d=\"M439.87,-644.25C458.43,-644.25 477.9,-644.25 496.82,-644.25\"/>\n",
       "<path fill=\"none\" stroke=\"#ff7f0e\" d=\"M496.82,-644.25C515.74,-644.25 534.1,-644.25 550.45,-644.25\"/>\n",
       "<polygon fill=\"#ff7f0e\" stroke=\"#ff7f0e\" points=\"550.21,-647.75 560.21,-644.25 550.21,-640.75 550.21,-647.75\"/>\n",
       "</g>\n",
       "<!-- clusterphase_preferenceInputsmin_phase2__structure__orthorhombic -->\n",
       "<g id=\"node19\" class=\"node\">\n",
       "<title>clusterphase_preferenceInputsmin_phase2__structure__orthorhombic</title>\n",
       "<ellipse fill=\"#ff7f0e\" stroke=\"#ff7f0e\" cx=\"335.85\" cy=\"-1130.25\" rx=\"146.6\" ry=\"18\"/>\n",
       "<text text-anchor=\"middle\" x=\"335.85\" y=\"-1124.08\" font-family=\"Times,serif\" font-size=\"14.00\">min_phase2__structure__orthorhombic</text>\n",
       "</g>\n",
       "<!-- clusterphase_preferencemin_phase2Inputsstructure__orthorhombic -->\n",
       "<g id=\"node93\" class=\"node\">\n",
       "<title>clusterphase_preferencemin_phase2Inputsstructure__orthorhombic</title>\n",
       "<ellipse fill=\"#ff7f0e\" stroke=\"#ff7f0e\" cx=\"614.5\" cy=\"-1130.25\" rx=\"96.04\" ry=\"18\"/>\n",
       "<text text-anchor=\"middle\" x=\"614.5\" y=\"-1124.08\" font-family=\"Times,serif\" font-size=\"14.00\">structure__orthorhombic</text>\n",
       "</g>\n",
       "<!-- clusterphase_preferenceInputsmin_phase2__structure__orthorhombic&#45;&gt;clusterphase_preferencemin_phase2Inputsstructure__orthorhombic -->\n",
       "<g id=\"edge40\" class=\"edge\">\n",
       "<title>clusterphase_preferenceInputsmin_phase2__structure__orthorhombic&#45;&gt;clusterphase_preferencemin_phase2Inputsstructure__orthorhombic</title>\n",
       "<path fill=\"none\" stroke=\"#ff7f0e\" d=\"M482.87,-1130.25C486.98,-1130.25 491.08,-1130.25 495.15,-1130.25\"/>\n",
       "<path fill=\"none\" stroke=\"#ff7f0e\" d=\"M495.15,-1130.25C499.23,-1130.25 503.28,-1130.25 507.29,-1130.25\"/>\n",
       "<polygon fill=\"#ff7f0e\" stroke=\"#ff7f0e\" points=\"507.13,-1133.75 517.13,-1130.25 507.13,-1126.75 507.13,-1133.75\"/>\n",
       "</g>\n",
       "<!-- clusterphase_preferenceInputsmin_phase2__structure__cubic -->\n",
       "<g id=\"node20\" class=\"node\">\n",
       "<title>clusterphase_preferenceInputsmin_phase2__structure__cubic</title>\n",
       "<ellipse fill=\"#ff7f0e\" stroke=\"#ff7f0e\" cx=\"335.85\" cy=\"-1076.25\" rx=\"117.98\" ry=\"18\"/>\n",
       "<text text-anchor=\"middle\" x=\"335.85\" y=\"-1070.08\" font-family=\"Times,serif\" font-size=\"14.00\">min_phase2__structure__cubic</text>\n",
       "</g>\n",
       "<!-- clusterphase_preferencemin_phase2Inputsstructure__cubic -->\n",
       "<g id=\"node94\" class=\"node\">\n",
       "<title>clusterphase_preferencemin_phase2Inputsstructure__cubic</title>\n",
       "<ellipse fill=\"#ff7f0e\" stroke=\"#ff7f0e\" cx=\"614.5\" cy=\"-1076.25\" rx=\"67.42\" ry=\"18\"/>\n",
       "<text text-anchor=\"middle\" x=\"614.5\" y=\"-1070.08\" font-family=\"Times,serif\" font-size=\"14.00\">structure__cubic</text>\n",
       "</g>\n",
       "<!-- clusterphase_preferenceInputsmin_phase2__structure__cubic&#45;&gt;clusterphase_preferencemin_phase2Inputsstructure__cubic -->\n",
       "<g id=\"edge41\" class=\"edge\">\n",
       "<title>clusterphase_preferenceInputsmin_phase2__structure__cubic&#45;&gt;clusterphase_preferencemin_phase2Inputsstructure__cubic</title>\n",
       "<path fill=\"none\" stroke=\"#ff7f0e\" d=\"M454.17,-1076.25C468.03,-1076.25 482.17,-1076.25 496.02,-1076.25\"/>\n",
       "<path fill=\"none\" stroke=\"#ff7f0e\" d=\"M496.02,-1076.25C509.87,-1076.25 523.44,-1076.25 536.15,-1076.25\"/>\n",
       "<polygon fill=\"#ff7f0e\" stroke=\"#ff7f0e\" points=\"535.82,-1079.75 545.82,-1076.25 535.82,-1072.75 535.82,-1079.75\"/>\n",
       "</g>\n",
       "<!-- clusterphase_preferenceInputsmin_phase2__calc__n_ionic_steps -->\n",
       "<g id=\"node21\" class=\"node\">\n",
       "<title>clusterphase_preferenceInputsmin_phase2__calc__n_ionic_steps</title>\n",
       "<ellipse fill=\"#ff7f0e\" stroke=\"#ff7f0e\" cx=\"335.85\" cy=\"-1022.25\" rx=\"144.22\" ry=\"18\"/>\n",
       "<text text-anchor=\"middle\" x=\"335.85\" y=\"-1016.08\" font-family=\"Times,serif\" font-size=\"14.00\">min_phase2__calc__n_ionic_steps: int</text>\n",
       "</g>\n",
       "<!-- clusterphase_preferencemin_phase2Inputscalc__n_ionic_steps -->\n",
       "<g id=\"node95\" class=\"node\">\n",
       "<title>clusterphase_preferencemin_phase2Inputscalc__n_ionic_steps</title>\n",
       "<ellipse fill=\"#ff7f0e\" stroke=\"#ff7f0e\" cx=\"614.5\" cy=\"-1022.25\" rx=\"93.65\" ry=\"18\"/>\n",
       "<text text-anchor=\"middle\" x=\"614.5\" y=\"-1016.08\" font-family=\"Times,serif\" font-size=\"14.00\">calc__n_ionic_steps: int</text>\n",
       "</g>\n",
       "<!-- clusterphase_preferenceInputsmin_phase2__calc__n_ionic_steps&#45;&gt;clusterphase_preferencemin_phase2Inputscalc__n_ionic_steps -->\n",
       "<g id=\"edge42\" class=\"edge\">\n",
       "<title>clusterphase_preferenceInputsmin_phase2__calc__n_ionic_steps&#45;&gt;clusterphase_preferencemin_phase2Inputscalc__n_ionic_steps</title>\n",
       "<path fill=\"none\" stroke=\"#ff7f0e\" d=\"M480.44,-1022.25C485.36,-1022.25 490.28,-1022.25 495.16,-1022.25\"/>\n",
       "<path fill=\"none\" stroke=\"#ff7f0e\" d=\"M495.16,-1022.25C500.04,-1022.25 504.89,-1022.25 509.67,-1022.25\"/>\n",
       "<polygon fill=\"#ff7f0e\" stroke=\"#ff7f0e\" points=\"509.37,-1025.75 519.37,-1022.25 509.37,-1018.75 509.37,-1025.75\"/>\n",
       "</g>\n",
       "<!-- clusterphase_preferenceInputsmin_phase2__calc__n_print -->\n",
       "<g id=\"node22\" class=\"node\">\n",
       "<title>clusterphase_preferenceInputsmin_phase2__calc__n_print</title>\n",
       "<ellipse fill=\"#ff7f0e\" stroke=\"#ff7f0e\" cx=\"335.85\" cy=\"-968.25\" rx=\"121.8\" ry=\"18\"/>\n",
       "<text text-anchor=\"middle\" x=\"335.85\" y=\"-962.08\" font-family=\"Times,serif\" font-size=\"14.00\">min_phase2__calc__n_print: int</text>\n",
       "</g>\n",
       "<!-- clusterphase_preferencemin_phase2Inputscalc__n_print -->\n",
       "<g id=\"node96\" class=\"node\">\n",
       "<title>clusterphase_preferencemin_phase2Inputscalc__n_print</title>\n",
       "<ellipse fill=\"#ff7f0e\" stroke=\"#ff7f0e\" cx=\"614.5\" cy=\"-968.25\" rx=\"71.23\" ry=\"18\"/>\n",
       "<text text-anchor=\"middle\" x=\"614.5\" y=\"-962.08\" font-family=\"Times,serif\" font-size=\"14.00\">calc__n_print: int</text>\n",
       "</g>\n",
       "<!-- clusterphase_preferenceInputsmin_phase2__calc__n_print&#45;&gt;clusterphase_preferencemin_phase2Inputscalc__n_print -->\n",
       "<g id=\"edge43\" class=\"edge\">\n",
       "<title>clusterphase_preferenceInputsmin_phase2__calc__n_print&#45;&gt;clusterphase_preferencemin_phase2Inputscalc__n_print</title>\n",
       "<path fill=\"none\" stroke=\"#ff7f0e\" d=\"M457.79,-968.25C470.34,-968.25 483.09,-968.25 495.6,-968.25\"/>\n",
       "<path fill=\"none\" stroke=\"#ff7f0e\" d=\"M495.6,-968.25C508.12,-968.25 520.41,-968.25 532.05,-968.25\"/>\n",
       "<polygon fill=\"#ff7f0e\" stroke=\"#ff7f0e\" points=\"531.9,-971.75 541.9,-968.25 531.9,-964.75 531.9,-971.75\"/>\n",
       "</g>\n",
       "<!-- clusterphase_preferenceInputsmin_phase2__calc__pressure -->\n",
       "<g id=\"node23\" class=\"node\">\n",
       "<title>clusterphase_preferenceInputsmin_phase2__calc__pressure</title>\n",
       "<ellipse fill=\"#ff7f0e\" stroke=\"#ff7f0e\" cx=\"335.85\" cy=\"-914.25\" rx=\"111.78\" ry=\"18\"/>\n",
       "<text text-anchor=\"middle\" x=\"335.85\" y=\"-908.08\" font-family=\"Times,serif\" font-size=\"14.00\">min_phase2__calc__pressure</text>\n",
       "</g>\n",
       "<!-- clusterphase_preferencemin_phase2Inputscalc__pressure -->\n",
       "<g id=\"node97\" class=\"node\">\n",
       "<title>clusterphase_preferencemin_phase2Inputscalc__pressure</title>\n",
       "<ellipse fill=\"#ff7f0e\" stroke=\"#ff7f0e\" cx=\"614.5\" cy=\"-914.25\" rx=\"61.22\" ry=\"18\"/>\n",
       "<text text-anchor=\"middle\" x=\"614.5\" y=\"-908.08\" font-family=\"Times,serif\" font-size=\"14.00\">calc__pressure</text>\n",
       "</g>\n",
       "<!-- clusterphase_preferenceInputsmin_phase2__calc__pressure&#45;&gt;clusterphase_preferencemin_phase2Inputscalc__pressure -->\n",
       "<g id=\"edge44\" class=\"edge\">\n",
       "<title>clusterphase_preferenceInputsmin_phase2__calc__pressure&#45;&gt;clusterphase_preferencemin_phase2Inputscalc__pressure</title>\n",
       "<path fill=\"none\" stroke=\"#ff7f0e\" d=\"M447.78,-914.25C463.71,-914.25 480.14,-914.25 496.19,-914.25\"/>\n",
       "<path fill=\"none\" stroke=\"#ff7f0e\" d=\"M496.19,-914.25C512.24,-914.25 527.9,-914.25 542.28,-914.25\"/>\n",
       "<polygon fill=\"#ff7f0e\" stroke=\"#ff7f0e\" points=\"542.04,-917.75 552.04,-914.25 542.04,-910.75 542.04,-917.75\"/>\n",
       "</g>\n",
       "<!-- clusterphase_preferenceInputse1__item -->\n",
       "<g id=\"node24\" class=\"node\">\n",
       "<title>clusterphase_preferenceInputse1__item</title>\n",
       "<ellipse fill=\"#ff7f0e\" stroke=\"#ff7f0e\" cx=\"335.85\" cy=\"-590.25\" rx=\"42.61\" ry=\"18\"/>\n",
       "<text text-anchor=\"middle\" x=\"335.85\" y=\"-584.08\" font-family=\"Times,serif\" font-size=\"14.00\">e1__item</text>\n",
       "</g>\n",
       "<!-- clusterphase_preferencee1Inputsitem -->\n",
       "<g id=\"node116\" class=\"node\">\n",
       "<title>clusterphase_preferencee1Inputsitem</title>\n",
       "<ellipse fill=\"#ff7f0e\" stroke=\"#ff7f0e\" cx=\"1151.27\" cy=\"-2006.25\" rx=\"27\" ry=\"18\"/>\n",
       "<text text-anchor=\"middle\" x=\"1151.27\" y=\"-2000.08\" font-family=\"Times,serif\" font-size=\"14.00\">item</text>\n",
       "</g>\n",
       "<!-- clusterphase_preferenceInputse1__item&#45;&gt;clusterphase_preferencee1Inputsitem -->\n",
       "<g id=\"edge45\" class=\"edge\">\n",
       "<title>clusterphase_preferenceInputse1__item&#45;&gt;clusterphase_preferencee1Inputsitem</title>\n",
       "<path fill=\"none\" stroke=\"#ff7f0e\" d=\"M376.1,-583.93C407.2,-578.78 451.71,-571.1 490.46,-563.25 702.82,-520.22 820.8,-353.66 974.65,-506.25 983.15,-514.68 985.48,-642.5 985.18,-819.37\"/>\n",
       "<path fill=\"none\" stroke=\"#ff7f0e\" d=\"M985.18,-819.37C984.46,-1242.35 968.75,-1945.9 986.65,-1968.25 1016.52,-2005.54 1075.17,-2010.66 1113.53,-2009.52\"/>\n",
       "<polygon fill=\"#ff7f0e\" stroke=\"#ff7f0e\" points=\"1113.42,-2012.98 1123.25,-2009.02 1113.1,-2005.99 1113.42,-2012.98\"/>\n",
       "</g>\n",
       "<!-- clusterphase_preferenceInputse2__item -->\n",
       "<g id=\"node25\" class=\"node\">\n",
       "<title>clusterphase_preferenceInputse2__item</title>\n",
       "<ellipse fill=\"#ff7f0e\" stroke=\"#ff7f0e\" cx=\"335.85\" cy=\"-482.25\" rx=\"42.61\" ry=\"18\"/>\n",
       "<text text-anchor=\"middle\" x=\"335.85\" y=\"-476.07\" font-family=\"Times,serif\" font-size=\"14.00\">e2__item</text>\n",
       "</g>\n",
       "<!-- clusterphase_preferencee2Inputsitem -->\n",
       "<g id=\"node127\" class=\"node\">\n",
       "<title>clusterphase_preferencee2Inputsitem</title>\n",
       "<ellipse fill=\"#ff7f0e\" stroke=\"#ff7f0e\" cx=\"1151.27\" cy=\"-64.25\" rx=\"27\" ry=\"18\"/>\n",
       "<text text-anchor=\"middle\" x=\"1151.27\" y=\"-58.08\" font-family=\"Times,serif\" font-size=\"14.00\">item</text>\n",
       "</g>\n",
       "<!-- clusterphase_preferenceInputse2__item&#45;&gt;clusterphase_preferencee2Inputsitem -->\n",
       "<g id=\"edge46\" class=\"edge\">\n",
       "<title>clusterphase_preferenceInputse2__item&#45;&gt;clusterphase_preferencee2Inputsitem</title>\n",
       "<path fill=\"none\" stroke=\"#ff7f0e\" d=\"M356.63,-466.16C401.24,-430.42 517.11,-340.62 660.18,-253.03\"/>\n",
       "<path fill=\"none\" stroke=\"#ff7f0e\" d=\"M660.18,-253.03C760.66,-191.52 874.57,-131.1 986.65,-91.25 1028.57,-76.35 1079.5,-69.6 1113.29,-66.59\"/>\n",
       "<polygon fill=\"#ff7f0e\" stroke=\"#ff7f0e\" points=\"1113.37,-70.01 1123.05,-65.71 1112.8,-63.03 1113.37,-70.01\"/>\n",
       "</g>\n",
       "<!-- clusterphase_preferenceOutputsmin_phase1__calc__cells -->\n",
       "<g id=\"node27\" class=\"node\">\n",
       "<title>clusterphase_preferenceOutputsmin_phase1__calc__cells</title>\n",
       "<ellipse fill=\"#ff7f0e\" stroke=\"#ff7f0e\" cx=\"1151.27\" cy=\"-1592.25\" rx=\"98.9\" ry=\"18\"/>\n",
       "<text text-anchor=\"middle\" x=\"1151.27\" y=\"-1586.08\" font-family=\"Times,serif\" font-size=\"14.00\">min_phase1__calc__cells</text>\n",
       "</g>\n",
       "<!-- clusterphase_preferenceOutputsmin_phase1__calc__displacements -->\n",
       "<g id=\"node28\" class=\"node\">\n",
       "<title>clusterphase_preferenceOutputsmin_phase1__calc__displacements</title>\n",
       "<ellipse fill=\"#ff7f0e\" stroke=\"#ff7f0e\" cx=\"1151.27\" cy=\"-1538.25\" rx=\"132.29\" ry=\"18\"/>\n",
       "<text text-anchor=\"middle\" x=\"1151.27\" y=\"-1532.08\" font-family=\"Times,serif\" font-size=\"14.00\">min_phase1__calc__displacements</text>\n",
       "</g>\n",
       "<!-- clusterphase_preferenceOutputsmin_phase1__calc__energy_tot -->\n",
       "<g id=\"node29\" class=\"node\">\n",
       "<title>clusterphase_preferenceOutputsmin_phase1__calc__energy_tot</title>\n",
       "<ellipse fill=\"#ff7f0e\" stroke=\"#ff7f0e\" cx=\"1151.27\" cy=\"-1484.25\" rx=\"119.89\" ry=\"18\"/>\n",
       "<text text-anchor=\"middle\" x=\"1151.27\" y=\"-1478.08\" font-family=\"Times,serif\" font-size=\"14.00\">min_phase1__calc__energy_tot</text>\n",
       "</g>\n",
       "<!-- clusterphase_preferenceOutputsmin_phase1__calc__force_max -->\n",
       "<g id=\"node30\" class=\"node\">\n",
       "<title>clusterphase_preferenceOutputsmin_phase1__calc__force_max</title>\n",
       "<ellipse fill=\"#ff7f0e\" stroke=\"#ff7f0e\" cx=\"1151.27\" cy=\"-1430.25\" rx=\"120.37\" ry=\"18\"/>\n",
       "<text text-anchor=\"middle\" x=\"1151.27\" y=\"-1424.08\" font-family=\"Times,serif\" font-size=\"14.00\">min_phase1__calc__force_max</text>\n",
       "</g>\n",
       "<!-- clusterphase_preferenceOutputsmin_phase1__calc__forces -->\n",
       "<g id=\"node31\" class=\"node\">\n",
       "<title>clusterphase_preferenceOutputsmin_phase1__calc__forces</title>\n",
       "<ellipse fill=\"#ff7f0e\" stroke=\"#ff7f0e\" cx=\"1151.27\" cy=\"-1376.25\" rx=\"104.15\" ry=\"18\"/>\n",
       "<text text-anchor=\"middle\" x=\"1151.27\" y=\"-1370.08\" font-family=\"Times,serif\" font-size=\"14.00\">min_phase1__calc__forces</text>\n",
       "</g>\n",
       "<!-- clusterphase_preferenceOutputsmin_phase1__calc__indices -->\n",
       "<g id=\"node32\" class=\"node\">\n",
       "<title>clusterphase_preferenceOutputsmin_phase1__calc__indices</title>\n",
       "<ellipse fill=\"#ff7f0e\" stroke=\"#ff7f0e\" cx=\"1151.27\" cy=\"-1322.25\" rx=\"107.49\" ry=\"18\"/>\n",
       "<text text-anchor=\"middle\" x=\"1151.27\" y=\"-1316.08\" font-family=\"Times,serif\" font-size=\"14.00\">min_phase1__calc__indices</text>\n",
       "</g>\n",
       "<!-- clusterphase_preferenceOutputsmin_phase1__calc__positions -->\n",
       "<g id=\"node33\" class=\"node\">\n",
       "<title>clusterphase_preferenceOutputsmin_phase1__calc__positions</title>\n",
       "<ellipse fill=\"#ff7f0e\" stroke=\"#ff7f0e\" cx=\"1151.27\" cy=\"-1916.25\" rx=\"114.17\" ry=\"18\"/>\n",
       "<text text-anchor=\"middle\" x=\"1151.27\" y=\"-1910.08\" font-family=\"Times,serif\" font-size=\"14.00\">min_phase1__calc__positions</text>\n",
       "</g>\n",
       "<!-- clusterphase_preferenceOutputsmin_phase1__calc__pressures -->\n",
       "<g id=\"node34\" class=\"node\">\n",
       "<title>clusterphase_preferenceOutputsmin_phase1__calc__pressures</title>\n",
       "<ellipse fill=\"#ff7f0e\" stroke=\"#ff7f0e\" cx=\"1151.27\" cy=\"-1862.25\" rx=\"115.12\" ry=\"18\"/>\n",
       "<text text-anchor=\"middle\" x=\"1151.27\" y=\"-1856.08\" font-family=\"Times,serif\" font-size=\"14.00\">min_phase1__calc__pressures</text>\n",
       "</g>\n",
       "<!-- clusterphase_preferenceOutputsmin_phase1__calc__steps -->\n",
       "<g id=\"node35\" class=\"node\">\n",
       "<title>clusterphase_preferenceOutputsmin_phase1__calc__steps</title>\n",
       "<ellipse fill=\"#ff7f0e\" stroke=\"#ff7f0e\" cx=\"1151.27\" cy=\"-1808.25\" rx=\"100.33\" ry=\"18\"/>\n",
       "<text text-anchor=\"middle\" x=\"1151.27\" y=\"-1802.08\" font-family=\"Times,serif\" font-size=\"14.00\">min_phase1__calc__steps</text>\n",
       "</g>\n",
       "<!-- clusterphase_preferenceOutputsmin_phase1__calc__total_displacements -->\n",
       "<g id=\"node36\" class=\"node\">\n",
       "<title>clusterphase_preferenceOutputsmin_phase1__calc__total_displacements</title>\n",
       "<ellipse fill=\"#ff7f0e\" stroke=\"#ff7f0e\" cx=\"1151.27\" cy=\"-1754.25\" rx=\"151.85\" ry=\"18\"/>\n",
       "<text text-anchor=\"middle\" x=\"1151.27\" y=\"-1748.08\" font-family=\"Times,serif\" font-size=\"14.00\">min_phase1__calc__total_displacements</text>\n",
       "</g>\n",
       "<!-- clusterphase_preferenceOutputsmin_phase1__calc__unwrapped_positions -->\n",
       "<g id=\"node37\" class=\"node\">\n",
       "<title>clusterphase_preferenceOutputsmin_phase1__calc__unwrapped_positions</title>\n",
       "<ellipse fill=\"#ff7f0e\" stroke=\"#ff7f0e\" cx=\"1151.27\" cy=\"-1700.25\" rx=\"156.62\" ry=\"18\"/>\n",
       "<text text-anchor=\"middle\" x=\"1151.27\" y=\"-1694.08\" font-family=\"Times,serif\" font-size=\"14.00\">min_phase1__calc__unwrapped_positions</text>\n",
       "</g>\n",
       "<!-- clusterphase_preferenceOutputsmin_phase1__calc__volume -->\n",
       "<g id=\"node38\" class=\"node\">\n",
       "<title>clusterphase_preferenceOutputsmin_phase1__calc__volume</title>\n",
       "<ellipse fill=\"#ff7f0e\" stroke=\"#ff7f0e\" cx=\"1151.27\" cy=\"-1646.25\" rx=\"109.4\" ry=\"18\"/>\n",
       "<text text-anchor=\"middle\" x=\"1151.27\" y=\"-1640.08\" font-family=\"Times,serif\" font-size=\"14.00\">min_phase1__calc__volume</text>\n",
       "</g>\n",
       "<!-- clusterphase_preferenceOutputsmin_phase2__calc__cells -->\n",
       "<g id=\"node39\" class=\"node\">\n",
       "<title>clusterphase_preferenceOutputsmin_phase2__calc__cells</title>\n",
       "<ellipse fill=\"#ff7f0e\" stroke=\"#ff7f0e\" cx=\"1151.27\" cy=\"-944.25\" rx=\"98.9\" ry=\"18\"/>\n",
       "<text text-anchor=\"middle\" x=\"1151.27\" y=\"-938.08\" font-family=\"Times,serif\" font-size=\"14.00\">min_phase2__calc__cells</text>\n",
       "</g>\n",
       "<!-- clusterphase_preferenceOutputsmin_phase2__calc__displacements -->\n",
       "<g id=\"node40\" class=\"node\">\n",
       "<title>clusterphase_preferenceOutputsmin_phase2__calc__displacements</title>\n",
       "<ellipse fill=\"#ff7f0e\" stroke=\"#ff7f0e\" cx=\"1151.27\" cy=\"-890.25\" rx=\"132.29\" ry=\"18\"/>\n",
       "<text text-anchor=\"middle\" x=\"1151.27\" y=\"-884.08\" font-family=\"Times,serif\" font-size=\"14.00\">min_phase2__calc__displacements</text>\n",
       "</g>\n",
       "<!-- clusterphase_preferenceOutputsmin_phase2__calc__energy_tot -->\n",
       "<g id=\"node41\" class=\"node\">\n",
       "<title>clusterphase_preferenceOutputsmin_phase2__calc__energy_tot</title>\n",
       "<ellipse fill=\"#ff7f0e\" stroke=\"#ff7f0e\" cx=\"1151.27\" cy=\"-836.25\" rx=\"119.89\" ry=\"18\"/>\n",
       "<text text-anchor=\"middle\" x=\"1151.27\" y=\"-830.08\" font-family=\"Times,serif\" font-size=\"14.00\">min_phase2__calc__energy_tot</text>\n",
       "</g>\n",
       "<!-- clusterphase_preferenceOutputsmin_phase2__calc__force_max -->\n",
       "<g id=\"node42\" class=\"node\">\n",
       "<title>clusterphase_preferenceOutputsmin_phase2__calc__force_max</title>\n",
       "<ellipse fill=\"#ff7f0e\" stroke=\"#ff7f0e\" cx=\"1151.27\" cy=\"-782.25\" rx=\"120.37\" ry=\"18\"/>\n",
       "<text text-anchor=\"middle\" x=\"1151.27\" y=\"-776.08\" font-family=\"Times,serif\" font-size=\"14.00\">min_phase2__calc__force_max</text>\n",
       "</g>\n",
       "<!-- clusterphase_preferenceOutputsmin_phase2__calc__forces -->\n",
       "<g id=\"node43\" class=\"node\">\n",
       "<title>clusterphase_preferenceOutputsmin_phase2__calc__forces</title>\n",
       "<ellipse fill=\"#ff7f0e\" stroke=\"#ff7f0e\" cx=\"1151.27\" cy=\"-728.25\" rx=\"104.15\" ry=\"18\"/>\n",
       "<text text-anchor=\"middle\" x=\"1151.27\" y=\"-722.08\" font-family=\"Times,serif\" font-size=\"14.00\">min_phase2__calc__forces</text>\n",
       "</g>\n",
       "<!-- clusterphase_preferenceOutputsmin_phase2__calc__indices -->\n",
       "<g id=\"node44\" class=\"node\">\n",
       "<title>clusterphase_preferenceOutputsmin_phase2__calc__indices</title>\n",
       "<ellipse fill=\"#ff7f0e\" stroke=\"#ff7f0e\" cx=\"1151.27\" cy=\"-674.25\" rx=\"107.49\" ry=\"18\"/>\n",
       "<text text-anchor=\"middle\" x=\"1151.27\" y=\"-668.08\" font-family=\"Times,serif\" font-size=\"14.00\">min_phase2__calc__indices</text>\n",
       "</g>\n",
       "<!-- clusterphase_preferenceOutputsmin_phase2__calc__positions -->\n",
       "<g id=\"node45\" class=\"node\">\n",
       "<title>clusterphase_preferenceOutputsmin_phase2__calc__positions</title>\n",
       "<ellipse fill=\"#ff7f0e\" stroke=\"#ff7f0e\" cx=\"1151.27\" cy=\"-1268.25\" rx=\"114.17\" ry=\"18\"/>\n",
       "<text text-anchor=\"middle\" x=\"1151.27\" y=\"-1262.08\" font-family=\"Times,serif\" font-size=\"14.00\">min_phase2__calc__positions</text>\n",
       "</g>\n",
       "<!-- clusterphase_preferenceOutputsmin_phase2__calc__pressures -->\n",
       "<g id=\"node46\" class=\"node\">\n",
       "<title>clusterphase_preferenceOutputsmin_phase2__calc__pressures</title>\n",
       "<ellipse fill=\"#ff7f0e\" stroke=\"#ff7f0e\" cx=\"1151.27\" cy=\"-1214.25\" rx=\"115.12\" ry=\"18\"/>\n",
       "<text text-anchor=\"middle\" x=\"1151.27\" y=\"-1208.08\" font-family=\"Times,serif\" font-size=\"14.00\">min_phase2__calc__pressures</text>\n",
       "</g>\n",
       "<!-- clusterphase_preferenceOutputsmin_phase2__calc__steps -->\n",
       "<g id=\"node47\" class=\"node\">\n",
       "<title>clusterphase_preferenceOutputsmin_phase2__calc__steps</title>\n",
       "<ellipse fill=\"#ff7f0e\" stroke=\"#ff7f0e\" cx=\"1151.27\" cy=\"-1160.25\" rx=\"100.33\" ry=\"18\"/>\n",
       "<text text-anchor=\"middle\" x=\"1151.27\" y=\"-1154.08\" font-family=\"Times,serif\" font-size=\"14.00\">min_phase2__calc__steps</text>\n",
       "</g>\n",
       "<!-- clusterphase_preferenceOutputsmin_phase2__calc__total_displacements -->\n",
       "<g id=\"node48\" class=\"node\">\n",
       "<title>clusterphase_preferenceOutputsmin_phase2__calc__total_displacements</title>\n",
       "<ellipse fill=\"#ff7f0e\" stroke=\"#ff7f0e\" cx=\"1151.27\" cy=\"-1106.25\" rx=\"151.85\" ry=\"18\"/>\n",
       "<text text-anchor=\"middle\" x=\"1151.27\" y=\"-1100.08\" font-family=\"Times,serif\" font-size=\"14.00\">min_phase2__calc__total_displacements</text>\n",
       "</g>\n",
       "<!-- clusterphase_preferenceOutputsmin_phase2__calc__unwrapped_positions -->\n",
       "<g id=\"node49\" class=\"node\">\n",
       "<title>clusterphase_preferenceOutputsmin_phase2__calc__unwrapped_positions</title>\n",
       "<ellipse fill=\"#ff7f0e\" stroke=\"#ff7f0e\" cx=\"1151.27\" cy=\"-1052.25\" rx=\"156.62\" ry=\"18\"/>\n",
       "<text text-anchor=\"middle\" x=\"1151.27\" y=\"-1046.08\" font-family=\"Times,serif\" font-size=\"14.00\">min_phase2__calc__unwrapped_positions</text>\n",
       "</g>\n",
       "<!-- clusterphase_preferenceOutputsmin_phase2__calc__volume -->\n",
       "<g id=\"node50\" class=\"node\">\n",
       "<title>clusterphase_preferenceOutputsmin_phase2__calc__volume</title>\n",
       "<ellipse fill=\"#ff7f0e\" stroke=\"#ff7f0e\" cx=\"1151.27\" cy=\"-998.25\" rx=\"109.4\" ry=\"18\"/>\n",
       "<text text-anchor=\"middle\" x=\"1151.27\" y=\"-992.08\" font-family=\"Times,serif\" font-size=\"14.00\">min_phase2__calc__volume</text>\n",
       "</g>\n",
       "<!-- clusterphase_preferenceOutputscompare__sub -->\n",
       "<g id=\"node51\" class=\"node\">\n",
       "<title>clusterphase_preferenceOutputscompare__sub</title>\n",
       "<ellipse fill=\"#ff7f0e\" stroke=\"#ff7f0e\" cx=\"1151.27\" cy=\"-566.25\" rx=\"60.74\" ry=\"18\"/>\n",
       "<text text-anchor=\"middle\" x=\"1151.27\" y=\"-560.08\" font-family=\"Times,serif\" font-size=\"14.00\">compare__sub</text>\n",
       "</g>\n",
       "<!-- clusterphase_preferenceelementInputsrun -->\n",
       "<g id=\"node52\" class=\"node\">\n",
       "<title>clusterphase_preferenceelementInputsrun</title>\n",
       "<polygon fill=\"#1f77b4\" stroke=\"#1f77b4\" points=\"103.62,-1988.25 61.62,-1988.25 61.62,-1964.25 103.62,-1964.25 115.62,-1976.25 103.62,-1988.25\"/>\n",
       "<text text-anchor=\"middle\" x=\"88.62\" y=\"-1970.08\" font-family=\"Times,serif\" font-size=\"14.00\">run</text>\n",
       "</g>\n",
       "<!-- clusterphase_preferenceelementOutputsran -->\n",
       "<g id=\"node55\" class=\"node\">\n",
       "<title>clusterphase_preferenceelementOutputsran</title>\n",
       "<polygon fill=\"#1f77b4\" stroke=\"#1f77b4\" points=\"350.85,-1988.25 308.85,-1988.25 308.85,-1964.25 350.85,-1964.25 362.85,-1976.25 350.85,-1988.25\"/>\n",
       "<text text-anchor=\"middle\" x=\"335.85\" y=\"-1970.08\" font-family=\"Times,serif\" font-size=\"14.00\">ran</text>\n",
       "</g>\n",
       "<!-- clusterphase_preferenceelementInputsrun&#45;&gt;clusterphase_preferenceelementOutputsran -->\n",
       "<!-- clusterphase_preferenceelementInputsaccumulate_and_run -->\n",
       "<g id=\"node53\" class=\"node\">\n",
       "<title>clusterphase_preferenceelementInputsaccumulate_and_run</title>\n",
       "<polygon fill=\"#1f77b4\" stroke=\"#1f77b4\" points=\"141.25,-1934.25 24,-1934.25 24,-1910.25 141.25,-1910.25 153.25,-1922.25 141.25,-1934.25\"/>\n",
       "<text text-anchor=\"middle\" x=\"88.62\" y=\"-1916.08\" font-family=\"Times,serif\" font-size=\"14.00\">accumulate_and_run</text>\n",
       "</g>\n",
       "<!-- clusterphase_preferenceelementOutputsuser_input -->\n",
       "<g id=\"node56\" class=\"node\">\n",
       "<title>clusterphase_preferenceelementOutputsuser_input</title>\n",
       "<ellipse fill=\"#ff7f0e\" stroke=\"#ff7f0e\" cx=\"335.85\" cy=\"-1922.25\" rx=\"46.43\" ry=\"18\"/>\n",
       "<text text-anchor=\"middle\" x=\"335.85\" y=\"-1916.08\" font-family=\"Times,serif\" font-size=\"14.00\">user_input</text>\n",
       "</g>\n",
       "<!-- clusterphase_preferencemin_phase1Inputselement -->\n",
       "<g id=\"node59\" class=\"node\">\n",
       "<title>clusterphase_preferencemin_phase1Inputselement</title>\n",
       "<ellipse fill=\"#ff7f0e\" stroke=\"#ff7f0e\" cx=\"614.5\" cy=\"-1952.25\" rx=\"37.84\" ry=\"18\"/>\n",
       "<text text-anchor=\"middle\" x=\"614.5\" y=\"-1946.08\" font-family=\"Times,serif\" font-size=\"14.00\">element</text>\n",
       "</g>\n",
       "<!-- clusterphase_preferenceelementOutputsuser_input&#45;&gt;clusterphase_preferencemin_phase1Inputselement -->\n",
       "<g id=\"edge12\" class=\"edge\">\n",
       "<title>clusterphase_preferenceelementOutputsuser_input&#45;&gt;clusterphase_preferencemin_phase1Inputselement</title>\n",
       "<path fill=\"none\" stroke=\"#ff7f0e\" d=\"M380.99,-1927.04C406.36,-1929.79 439.78,-1933.41 473.34,-1937.05\"/>\n",
       "<path fill=\"none\" stroke=\"#ff7f0e\" d=\"M473.34,-1937.05C506.9,-1940.69 540.61,-1944.35 566.55,-1947.16\"/>\n",
       "<polygon fill=\"#ff7f0e\" stroke=\"#ff7f0e\" points=\"566.13,-1950.74 576.45,-1948.34 566.88,-1943.78 566.13,-1950.74\"/>\n",
       "</g>\n",
       "<!-- clusterphase_preferencemin_phase2Inputselement -->\n",
       "<g id=\"node87\" class=\"node\">\n",
       "<title>clusterphase_preferencemin_phase2Inputselement</title>\n",
       "<ellipse fill=\"#ff7f0e\" stroke=\"#ff7f0e\" cx=\"614.5\" cy=\"-1184.25\" rx=\"37.84\" ry=\"18\"/>\n",
       "<text text-anchor=\"middle\" x=\"614.5\" y=\"-1178.08\" font-family=\"Times,serif\" font-size=\"14.00\">element</text>\n",
       "</g>\n",
       "<!-- clusterphase_preferenceelementOutputsuser_input&#45;&gt;clusterphase_preferencemin_phase2Inputselement -->\n",
       "<g id=\"edge13\" class=\"edge\">\n",
       "<title>clusterphase_preferenceelementOutputsuser_input&#45;&gt;clusterphase_preferencemin_phase2Inputselement</title>\n",
       "<path fill=\"none\" stroke=\"#ff7f0e\" d=\"M373.9,-1911.65C410.74,-1898.93 465.28,-1873.68 490.46,-1830.25 498.04,-1817.16 497.12,-1701.08 495.53,-1572.83\"/>\n",
       "<path fill=\"none\" stroke=\"#ff7f0e\" d=\"M495.53,-1572.83C493.5,-1409.43 490.4,-1226.28 502.46,-1211.25 517.39,-1192.63 542.81,-1185.55 565.56,-1183.27\"/>\n",
       "<polygon fill=\"#ff7f0e\" stroke=\"#ff7f0e\" points=\"565.73,-1186.7 575.46,-1182.51 565.24,-1179.71 565.73,-1186.7\"/>\n",
       "</g>\n",
       "<!-- clusterphase_preferencemin_phase1Inputsrun -->\n",
       "<g id=\"node57\" class=\"node\">\n",
       "<title>clusterphase_preferencemin_phase1Inputsrun</title>\n",
       "<polygon fill=\"#1f77b4\" stroke=\"#1f77b4\" points=\"629.5,-2072.25 587.5,-2072.25 587.5,-2048.25 629.5,-2048.25 641.5,-2060.25 629.5,-2072.25\"/>\n",
       "<text text-anchor=\"middle\" x=\"614.5\" y=\"-2054.07\" font-family=\"Times,serif\" font-size=\"14.00\">run</text>\n",
       "</g>\n",
       "<!-- clusterphase_preferencemin_phase1Outputsran -->\n",
       "<g id=\"node70\" class=\"node\">\n",
       "<title>clusterphase_preferencemin_phase1Outputsran</title>\n",
       "<polygon fill=\"#1f77b4\" stroke=\"#1f77b4\" points=\"867.59,-2180.25 825.59,-2180.25 825.59,-2156.25 867.59,-2156.25 879.59,-2168.25 867.59,-2180.25\"/>\n",
       "<text text-anchor=\"middle\" x=\"852.59\" y=\"-2162.07\" font-family=\"Times,serif\" font-size=\"14.00\">ran</text>\n",
       "</g>\n",
       "<!-- clusterphase_preferencemin_phase1Inputsrun&#45;&gt;clusterphase_preferencemin_phase1Outputsran -->\n",
       "<!-- clusterphase_preferencemin_phase1Inputsaccumulate_and_run -->\n",
       "<g id=\"node58\" class=\"node\">\n",
       "<title>clusterphase_preferencemin_phase1Inputsaccumulate_and_run</title>\n",
       "<polygon fill=\"#1f77b4\" stroke=\"#1f77b4\" points=\"667.12,-2018.25 549.87,-2018.25 549.87,-1994.25 667.12,-1994.25 679.12,-2006.25 667.12,-2018.25\"/>\n",
       "<text text-anchor=\"middle\" x=\"614.5\" y=\"-2000.08\" font-family=\"Times,serif\" font-size=\"14.00\">accumulate_and_run</text>\n",
       "</g>\n",
       "<!-- clusterphase_preferencemin_phase1Outputsstructure -->\n",
       "<g id=\"node71\" class=\"node\">\n",
       "<title>clusterphase_preferencemin_phase1Outputsstructure</title>\n",
       "<ellipse fill=\"#ff7f0e\" stroke=\"#ff7f0e\" cx=\"852.59\" cy=\"-2114.25\" rx=\"40.23\" ry=\"18\"/>\n",
       "<text text-anchor=\"middle\" x=\"852.59\" y=\"-2108.07\" font-family=\"Times,serif\" font-size=\"14.00\">structure</text>\n",
       "</g>\n",
       "<!-- clusterphase_preferencen1Inputsobj -->\n",
       "<g id=\"node121\" class=\"node\">\n",
       "<title>clusterphase_preferencen1Inputsobj</title>\n",
       "<ellipse fill=\"#ff7f0e\" stroke=\"#ff7f0e\" cx=\"1151.27\" cy=\"-2288.25\" rx=\"27\" ry=\"18\"/>\n",
       "<text text-anchor=\"middle\" x=\"1151.27\" y=\"-2282.07\" font-family=\"Times,serif\" font-size=\"14.00\">obj</text>\n",
       "</g>\n",
       "<!-- clusterphase_preferencemin_phase1Outputsstructure&#45;&gt;clusterphase_preferencen1Inputsobj -->\n",
       "<g id=\"edge14\" class=\"edge\">\n",
       "<title>clusterphase_preferencemin_phase1Outputsstructure&#45;&gt;clusterphase_preferencen1Inputsobj</title>\n",
       "<path fill=\"none\" stroke=\"#ff7f0e\" d=\"M892.96,-2112.28C919.8,-2113.2 954.08,-2119.21 974.65,-2141.25 992.91,-2160.81 978.04,-2179.87 978.96,-2200.05\"/>\n",
       "<path fill=\"none\" stroke=\"#ff7f0e\" d=\"M978.96,-2200.05C979.27,-2206.64 981.26,-2213.36 986.65,-2220.25 1017.61,-2259.83 1075.7,-2276.59 1113.67,-2283.53\"/>\n",
       "<polygon fill=\"#ff7f0e\" stroke=\"#ff7f0e\" points=\"1112.84,-2287.11 1123.28,-2285.31 1114,-2280.21 1112.84,-2287.11\"/>\n",
       "</g>\n",
       "<!-- clusterphase_preferencemin_phase1Outputscalc__cells -->\n",
       "<g id=\"node72\" class=\"node\">\n",
       "<title>clusterphase_preferencemin_phase1Outputscalc__cells</title>\n",
       "<ellipse fill=\"#ff7f0e\" stroke=\"#ff7f0e\" cx=\"852.59\" cy=\"-1682.25\" rx=\"48.34\" ry=\"18\"/>\n",
       "<text text-anchor=\"middle\" x=\"852.59\" y=\"-1676.08\" font-family=\"Times,serif\" font-size=\"14.00\">calc__cells</text>\n",
       "</g>\n",
       "<!-- clusterphase_preferencemin_phase1Outputscalc__cells&#45;&gt;clusterphase_preferenceOutputsmin_phase1__calc__cells -->\n",
       "<g id=\"edge47\" class=\"edge\">\n",
       "<title>clusterphase_preferencemin_phase1Outputscalc__cells&#45;&gt;clusterphase_preferenceOutputsmin_phase1__calc__cells</title>\n",
       "<path fill=\"none\" stroke=\"#ff7f0e\" d=\"M901.15,-1682.39C925.81,-1680.03 954.83,-1673.14 974.65,-1655.25 978.57,-1651.71 979.96,-1647.93 980.4,-1644.07\"/>\n",
       "<path fill=\"none\" stroke=\"#ff7f0e\" d=\"M980.4,-1644.07C981.37,-1635.61 977.84,-1626.77 986.65,-1619.25 1002.06,-1606.1 1021.36,-1598.14 1041.24,-1593.51\"/>\n",
       "<polygon fill=\"#ff7f0e\" stroke=\"#ff7f0e\" points=\"1041.9,-1596.75 1051,-1591.33 1040.51,-1589.89 1041.9,-1596.75\"/>\n",
       "</g>\n",
       "<!-- clusterphase_preferencemin_phase1Outputscalc__displacements -->\n",
       "<g id=\"node73\" class=\"node\">\n",
       "<title>clusterphase_preferencemin_phase1Outputscalc__displacements</title>\n",
       "<ellipse fill=\"#ff7f0e\" stroke=\"#ff7f0e\" cx=\"852.59\" cy=\"-1628.25\" rx=\"81.73\" ry=\"18\"/>\n",
       "<text text-anchor=\"middle\" x=\"852.59\" y=\"-1622.08\" font-family=\"Times,serif\" font-size=\"14.00\">calc__displacements</text>\n",
       "</g>\n",
       "<!-- clusterphase_preferencemin_phase1Outputscalc__displacements&#45;&gt;clusterphase_preferenceOutputsmin_phase1__calc__displacements -->\n",
       "<g id=\"edge48\" class=\"edge\">\n",
       "<title>clusterphase_preferencemin_phase1Outputscalc__displacements&#45;&gt;clusterphase_preferenceOutputsmin_phase1__calc__displacements</title>\n",
       "<path fill=\"none\" stroke=\"#ff7f0e\" d=\"M931.27,-1623.16C947.1,-1618.96 962.58,-1612.14 974.65,-1601.25 979.05,-1597.28 980.25,-1593.01 980.52,-1588.66\"/>\n",
       "<path fill=\"none\" stroke=\"#ff7f0e\" d=\"M980.52,-1588.66C981.02,-1580.64 978.32,-1572.35 986.65,-1565.25 995.2,-1557.96 1004.94,-1552.26 1015.32,-1547.84\"/>\n",
       "<polygon fill=\"#ff7f0e\" stroke=\"#ff7f0e\" points=\"1016.34,-1550.82 1024.45,-1543.99 1013.85,-1544.28 1016.34,-1550.82\"/>\n",
       "</g>\n",
       "<!-- clusterphase_preferencemin_phase1Outputsenergy -->\n",
       "<g id=\"node74\" class=\"node\">\n",
       "<title>clusterphase_preferencemin_phase1Outputsenergy</title>\n",
       "<ellipse fill=\"#ff7f0e\" stroke=\"#ff7f0e\" cx=\"852.59\" cy=\"-2060.25\" rx=\"33.55\" ry=\"18\"/>\n",
       "<text text-anchor=\"middle\" x=\"852.59\" y=\"-2054.07\" font-family=\"Times,serif\" font-size=\"14.00\">energy</text>\n",
       "</g>\n",
       "<!-- clusterphase_preferencee1Inputsobj -->\n",
       "<g id=\"node115\" class=\"node\">\n",
       "<title>clusterphase_preferencee1Inputsobj</title>\n",
       "<ellipse fill=\"#ff7f0e\" stroke=\"#ff7f0e\" cx=\"1151.27\" cy=\"-2060.25\" rx=\"27\" ry=\"18\"/>\n",
       "<text text-anchor=\"middle\" x=\"1151.27\" y=\"-2054.07\" font-family=\"Times,serif\" font-size=\"14.00\">obj</text>\n",
       "</g>\n",
       "<!-- clusterphase_preferencemin_phase1Outputsenergy&#45;&gt;clusterphase_preferencee1Inputsobj -->\n",
       "<g id=\"edge15\" class=\"edge\">\n",
       "<title>clusterphase_preferencemin_phase1Outputsenergy&#45;&gt;clusterphase_preferencee1Inputsobj</title>\n",
       "<path fill=\"none\" stroke=\"#ff7f0e\" d=\"M886.48,-2060.25C914.34,-2060.25 956.43,-2060.25 998.85,-2060.25\"/>\n",
       "<path fill=\"none\" stroke=\"#ff7f0e\" d=\"M998.85,-2060.25C1041.27,-2060.25 1084.03,-2060.25 1113.24,-2060.25\"/>\n",
       "<polygon fill=\"#ff7f0e\" stroke=\"#ff7f0e\" points=\"1113.17,-2063.75 1123.17,-2060.25 1113.17,-2056.75 1113.17,-2063.75\"/>\n",
       "</g>\n",
       "<!-- clusterphase_preferencemin_phase1Outputscalc__energy_tot -->\n",
       "<g id=\"node75\" class=\"node\">\n",
       "<title>clusterphase_preferencemin_phase1Outputscalc__energy_tot</title>\n",
       "<ellipse fill=\"#ff7f0e\" stroke=\"#ff7f0e\" cx=\"852.59\" cy=\"-1574.25\" rx=\"69.33\" ry=\"18\"/>\n",
       "<text text-anchor=\"middle\" x=\"852.59\" y=\"-1568.08\" font-family=\"Times,serif\" font-size=\"14.00\">calc__energy_tot</text>\n",
       "</g>\n",
       "<!-- clusterphase_preferencemin_phase1Outputscalc__energy_tot&#45;&gt;clusterphase_preferenceOutputsmin_phase1__calc__energy_tot -->\n",
       "<g id=\"edge49\" class=\"edge\">\n",
       "<title>clusterphase_preferencemin_phase1Outputscalc__energy_tot&#45;&gt;clusterphase_preferenceOutputsmin_phase1__calc__energy_tot</title>\n",
       "<path fill=\"none\" stroke=\"#ff7f0e\" d=\"M921.51,-1571.42C940.6,-1567.59 960.1,-1560.38 974.65,-1547.25 978.82,-1543.48 980.12,-1539.44 980.47,-1535.33\"/>\n",
       "<path fill=\"none\" stroke=\"#ff7f0e\" d=\"M980.47,-1535.33C981.18,-1527.09 978.1,-1518.55 986.65,-1511.25 997.3,-1502.17 1009.8,-1495.56 1023.07,-1490.82\"/>\n",
       "<polygon fill=\"#ff7f0e\" stroke=\"#ff7f0e\" points=\"1023.88,-1493.91 1032.35,-1487.54 1021.76,-1487.24 1023.88,-1493.91\"/>\n",
       "</g>\n",
       "<!-- clusterphase_preferencemin_phase1Outputscalc__force_max -->\n",
       "<g id=\"node76\" class=\"node\">\n",
       "<title>clusterphase_preferencemin_phase1Outputscalc__force_max</title>\n",
       "<ellipse fill=\"#ff7f0e\" stroke=\"#ff7f0e\" cx=\"852.59\" cy=\"-1520.25\" rx=\"69.8\" ry=\"18\"/>\n",
       "<text text-anchor=\"middle\" x=\"852.59\" y=\"-1514.08\" font-family=\"Times,serif\" font-size=\"14.00\">calc__force_max</text>\n",
       "</g>\n",
       "<!-- clusterphase_preferencemin_phase1Outputscalc__force_max&#45;&gt;clusterphase_preferenceOutputsmin_phase1__calc__force_max -->\n",
       "<g id=\"edge50\" class=\"edge\">\n",
       "<title>clusterphase_preferencemin_phase1Outputscalc__force_max&#45;&gt;clusterphase_preferenceOutputsmin_phase1__calc__force_max</title>\n",
       "<path fill=\"none\" stroke=\"#ff7f0e\" d=\"M921.82,-1517.36C940.82,-1513.51 960.18,-1506.31 974.65,-1493.25 978.82,-1489.49 980.12,-1485.45 980.47,-1481.33\"/>\n",
       "<path fill=\"none\" stroke=\"#ff7f0e\" d=\"M980.47,-1481.33C981.18,-1473.1 978.09,-1464.55 986.65,-1457.25 997.21,-1448.24 1009.59,-1441.67 1022.74,-1436.93\"/>\n",
       "<polygon fill=\"#ff7f0e\" stroke=\"#ff7f0e\" points=\"1023.48,-1440.05 1031.93,-1433.66 1021.34,-1433.39 1023.48,-1440.05\"/>\n",
       "</g>\n",
       "<!-- clusterphase_preferencemin_phase1Outputscalc__forces -->\n",
       "<g id=\"node77\" class=\"node\">\n",
       "<title>clusterphase_preferencemin_phase1Outputscalc__forces</title>\n",
       "<ellipse fill=\"#ff7f0e\" stroke=\"#ff7f0e\" cx=\"852.59\" cy=\"-1466.25\" rx=\"53.58\" ry=\"18\"/>\n",
       "<text text-anchor=\"middle\" x=\"852.59\" y=\"-1460.08\" font-family=\"Times,serif\" font-size=\"14.00\">calc__forces</text>\n",
       "</g>\n",
       "<!-- clusterphase_preferencemin_phase1Outputscalc__forces&#45;&gt;clusterphase_preferenceOutputsmin_phase1__calc__forces -->\n",
       "<g id=\"edge51\" class=\"edge\">\n",
       "<title>clusterphase_preferencemin_phase1Outputscalc__forces&#45;&gt;clusterphase_preferenceOutputsmin_phase1__calc__forces</title>\n",
       "<path fill=\"none\" stroke=\"#ff7f0e\" d=\"M906.58,-1465.8C929.97,-1462.98 956.27,-1455.84 974.65,-1439.25 978.62,-1435.67 979.99,-1431.84 980.42,-1427.93\"/>\n",
       "<path fill=\"none\" stroke=\"#ff7f0e\" d=\"M980.42,-1427.93C981.34,-1419.51 977.89,-1410.73 986.65,-1403.25 1000.75,-1391.22 1018.1,-1383.54 1036.18,-1378.77\"/>\n",
       "<polygon fill=\"#ff7f0e\" stroke=\"#ff7f0e\" points=\"1036.94,-1381.95 1045.89,-1376.29 1035.36,-1375.14 1036.94,-1381.95\"/>\n",
       "</g>\n",
       "<!-- clusterphase_preferencemin_phase1Outputscalc__indices -->\n",
       "<g id=\"node78\" class=\"node\">\n",
       "<title>clusterphase_preferencemin_phase1Outputscalc__indices</title>\n",
       "<ellipse fill=\"#ff7f0e\" stroke=\"#ff7f0e\" cx=\"852.59\" cy=\"-1412.25\" rx=\"56.92\" ry=\"18\"/>\n",
       "<text text-anchor=\"middle\" x=\"852.59\" y=\"-1406.08\" font-family=\"Times,serif\" font-size=\"14.00\">calc__indices</text>\n",
       "</g>\n",
       "<!-- clusterphase_preferencemin_phase1Outputscalc__indices&#45;&gt;clusterphase_preferenceOutputsmin_phase1__calc__indices -->\n",
       "<g id=\"edge52\" class=\"edge\">\n",
       "<title>clusterphase_preferencemin_phase1Outputscalc__indices&#45;&gt;clusterphase_preferenceOutputsmin_phase1__calc__indices</title>\n",
       "<path fill=\"none\" stroke=\"#ff7f0e\" d=\"M881.22,-1396.36C901.83,-1385.05 931.52,-1369.84 961.72,-1358.06\"/>\n",
       "<path fill=\"none\" stroke=\"#ff7f0e\" d=\"M961.72,-1358.06C970.05,-1354.81 978.42,-1351.82 986.65,-1349.25 1006.98,-1342.9 1029.23,-1337.96 1050.59,-1334.15\"/>\n",
       "<polygon fill=\"#ff7f0e\" stroke=\"#ff7f0e\" points=\"1051.06,-1337.45 1060.33,-1332.32 1049.88,-1330.55 1051.06,-1337.45\"/>\n",
       "</g>\n",
       "<!-- clusterphase_preferencemin_phase1Outputscalc__positions -->\n",
       "<g id=\"node79\" class=\"node\">\n",
       "<title>clusterphase_preferencemin_phase1Outputscalc__positions</title>\n",
       "<ellipse fill=\"#ff7f0e\" stroke=\"#ff7f0e\" cx=\"852.59\" cy=\"-2006.25\" rx=\"63.6\" ry=\"18\"/>\n",
       "<text text-anchor=\"middle\" x=\"852.59\" y=\"-2000.08\" font-family=\"Times,serif\" font-size=\"14.00\">calc__positions</text>\n",
       "</g>\n",
       "<!-- clusterphase_preferencemin_phase1Outputscalc__positions&#45;&gt;clusterphase_preferenceOutputsmin_phase1__calc__positions -->\n",
       "<g id=\"edge53\" class=\"edge\">\n",
       "<title>clusterphase_preferencemin_phase1Outputscalc__positions&#45;&gt;clusterphase_preferenceOutputsmin_phase1__calc__positions</title>\n",
       "<path fill=\"none\" stroke=\"#ff7f0e\" d=\"M905.79,-1996.1C927.28,-1991.54 952.31,-1985.72 974.65,-1979.25 984.18,-1976.49 993.94,-1973.49 1003.74,-1970.35\"/>\n",
       "<path fill=\"none\" stroke=\"#ff7f0e\" d=\"M1003.74,-1970.35C1037.06,-1959.66 1070.85,-1947.3 1097.58,-1937.1\"/>\n",
       "<polygon fill=\"#ff7f0e\" stroke=\"#ff7f0e\" points=\"1098.38,-1940.16 1106.46,-1933.31 1095.87,-1933.62 1098.38,-1940.16\"/>\n",
       "</g>\n",
       "<!-- clusterphase_preferencemin_phase1Outputscalc__pressures -->\n",
       "<g id=\"node80\" class=\"node\">\n",
       "<title>clusterphase_preferencemin_phase1Outputscalc__pressures</title>\n",
       "<ellipse fill=\"#ff7f0e\" stroke=\"#ff7f0e\" cx=\"852.59\" cy=\"-1952.25\" rx=\"64.56\" ry=\"18\"/>\n",
       "<text text-anchor=\"middle\" x=\"852.59\" y=\"-1946.08\" font-family=\"Times,serif\" font-size=\"14.00\">calc__pressures</text>\n",
       "</g>\n",
       "<!-- clusterphase_preferencemin_phase1Outputscalc__pressures&#45;&gt;clusterphase_preferenceOutputsmin_phase1__calc__pressures -->\n",
       "<g id=\"edge54\" class=\"edge\">\n",
       "<title>clusterphase_preferencemin_phase1Outputscalc__pressures&#45;&gt;clusterphase_preferenceOutputsmin_phase1__calc__pressures</title>\n",
       "<path fill=\"none\" stroke=\"#ff7f0e\" d=\"M917.11,-1950.25C937.57,-1946.66 958.98,-1939.39 974.65,-1925.25 978.72,-1921.58 980.05,-1917.65 980.44,-1913.65\"/>\n",
       "<path fill=\"none\" stroke=\"#ff7f0e\" d=\"M980.44,-1913.65C981.26,-1905.31 977.99,-1896.64 986.65,-1889.25 998.22,-1879.38 1011.98,-1872.44 1026.53,-1867.63\"/>\n",
       "<polygon fill=\"#ff7f0e\" stroke=\"#ff7f0e\" points=\"1027.11,-1870.81 1035.71,-1864.63 1025.13,-1864.1 1027.11,-1870.81\"/>\n",
       "</g>\n",
       "<!-- clusterphase_preferencemin_phase1Outputscalc__steps -->\n",
       "<g id=\"node81\" class=\"node\">\n",
       "<title>clusterphase_preferencemin_phase1Outputscalc__steps</title>\n",
       "<ellipse fill=\"#ff7f0e\" stroke=\"#ff7f0e\" cx=\"852.59\" cy=\"-1898.25\" rx=\"49.77\" ry=\"18\"/>\n",
       "<text text-anchor=\"middle\" x=\"852.59\" y=\"-1892.08\" font-family=\"Times,serif\" font-size=\"14.00\">calc__steps</text>\n",
       "</g>\n",
       "<!-- clusterphase_preferencemin_phase1Outputscalc__steps&#45;&gt;clusterphase_preferenceOutputsmin_phase1__calc__steps -->\n",
       "<g id=\"edge55\" class=\"edge\">\n",
       "<title>clusterphase_preferencemin_phase1Outputscalc__steps&#45;&gt;clusterphase_preferenceOutputsmin_phase1__calc__steps</title>\n",
       "<path fill=\"none\" stroke=\"#ff7f0e\" d=\"M902.64,-1898.24C926.97,-1895.75 955.23,-1888.78 974.65,-1871.25 978.62,-1867.66 979.99,-1863.83 980.42,-1859.91\"/>\n",
       "<path fill=\"none\" stroke=\"#ff7f0e\" d=\"M980.42,-1859.91C981.33,-1851.5 977.89,-1842.72 986.65,-1835.25 1001.78,-1822.34 1020.66,-1814.43 1040.17,-1809.77\"/>\n",
       "<polygon fill=\"#ff7f0e\" stroke=\"#ff7f0e\" points=\"1040.65,-1813.03 1049.72,-1807.56 1039.22,-1806.18 1040.65,-1813.03\"/>\n",
       "</g>\n",
       "<!-- clusterphase_preferencemin_phase1Outputscalc__total_displacements -->\n",
       "<g id=\"node82\" class=\"node\">\n",
       "<title>clusterphase_preferencemin_phase1Outputscalc__total_displacements</title>\n",
       "<ellipse fill=\"#ff7f0e\" stroke=\"#ff7f0e\" cx=\"852.59\" cy=\"-1844.25\" rx=\"101.29\" ry=\"18\"/>\n",
       "<text text-anchor=\"middle\" x=\"852.59\" y=\"-1838.08\" font-family=\"Times,serif\" font-size=\"14.00\">calc__total_displacements</text>\n",
       "</g>\n",
       "<!-- clusterphase_preferencemin_phase1Outputscalc__total_displacements&#45;&gt;clusterphase_preferenceOutputsmin_phase1__calc__total_displacements -->\n",
       "<g id=\"edge56\" class=\"edge\">\n",
       "<title>clusterphase_preferencemin_phase1Outputscalc__total_displacements&#45;&gt;clusterphase_preferenceOutputsmin_phase1__calc__total_displacements</title>\n",
       "<path fill=\"none\" stroke=\"#ff7f0e\" d=\"M942.49,-1835.69C954.29,-1831.48 965.46,-1825.55 974.65,-1817.25 979.42,-1812.95 980.43,-1808.29 980.57,-1803.57\"/>\n",
       "<path fill=\"none\" stroke=\"#ff7f0e\" d=\"M980.57,-1803.57C980.8,-1795.89 978.7,-1788.03 986.65,-1781.25 992.97,-1775.86 999.94,-1771.34 1007.34,-1767.56\"/>\n",
       "<polygon fill=\"#ff7f0e\" stroke=\"#ff7f0e\" points=\"1008.66,-1770.36 1016.3,-1763.02 1005.75,-1763.99 1008.66,-1770.36\"/>\n",
       "</g>\n",
       "<!-- clusterphase_preferencemin_phase1Outputscalc__unwrapped_positions -->\n",
       "<g id=\"node83\" class=\"node\">\n",
       "<title>clusterphase_preferencemin_phase1Outputscalc__unwrapped_positions</title>\n",
       "<ellipse fill=\"#ff7f0e\" stroke=\"#ff7f0e\" cx=\"852.59\" cy=\"-1790.25\" rx=\"106.06\" ry=\"18\"/>\n",
       "<text text-anchor=\"middle\" x=\"852.59\" y=\"-1784.08\" font-family=\"Times,serif\" font-size=\"14.00\">calc__unwrapped_positions</text>\n",
       "</g>\n",
       "<!-- clusterphase_preferencemin_phase1Outputscalc__unwrapped_positions&#45;&gt;clusterphase_preferenceOutputsmin_phase1__calc__unwrapped_positions -->\n",
       "<g id=\"edge57\" class=\"edge\">\n",
       "<title>clusterphase_preferencemin_phase1Outputscalc__unwrapped_positions&#45;&gt;clusterphase_preferenceOutputsmin_phase1__calc__unwrapped_positions</title>\n",
       "<path fill=\"none\" stroke=\"#ff7f0e\" d=\"M944.33,-1781.01C955.45,-1776.85 965.94,-1771.11 974.65,-1763.25 979.51,-1758.86 980.47,-1754.1 980.58,-1749.28\"/>\n",
       "<path fill=\"none\" stroke=\"#ff7f0e\" d=\"M980.58,-1749.28C980.75,-1741.69 978.8,-1733.95 986.65,-1727.25 992.67,-1722.11 999.29,-1717.77 1006.3,-1714.1\"/>\n",
       "<polygon fill=\"#ff7f0e\" stroke=\"#ff7f0e\" points=\"1007.53,-1716.93 1015.1,-1709.52 1004.56,-1710.59 1007.53,-1716.93\"/>\n",
       "</g>\n",
       "<!-- clusterphase_preferencemin_phase1Outputscalc__volume -->\n",
       "<g id=\"node84\" class=\"node\">\n",
       "<title>clusterphase_preferencemin_phase1Outputscalc__volume</title>\n",
       "<ellipse fill=\"#ff7f0e\" stroke=\"#ff7f0e\" cx=\"852.59\" cy=\"-1736.25\" rx=\"58.83\" ry=\"18\"/>\n",
       "<text text-anchor=\"middle\" x=\"852.59\" y=\"-1730.08\" font-family=\"Times,serif\" font-size=\"14.00\">calc__volume</text>\n",
       "</g>\n",
       "<!-- clusterphase_preferencemin_phase1Outputscalc__volume&#45;&gt;clusterphase_preferenceOutputsmin_phase1__calc__volume -->\n",
       "<g id=\"edge58\" class=\"edge\">\n",
       "<title>clusterphase_preferencemin_phase1Outputscalc__volume&#45;&gt;clusterphase_preferenceOutputsmin_phase1__calc__volume</title>\n",
       "<path fill=\"none\" stroke=\"#ff7f0e\" d=\"M911.5,-1735.15C933.59,-1731.94 957.55,-1724.69 974.65,-1709.25 978.64,-1705.64 980.01,-1701.79 980.42,-1697.85\"/>\n",
       "<path fill=\"none\" stroke=\"#ff7f0e\" d=\"M980.42,-1697.85C981.32,-1689.46 977.91,-1680.7 986.65,-1673.25 999.53,-1662.26 1015.12,-1654.9 1031.5,-1650.07\"/>\n",
       "<polygon fill=\"#ff7f0e\" stroke=\"#ff7f0e\" points=\"1032,-1653.3 1040.79,-1647.39 1030.23,-1646.53 1032,-1653.3\"/>\n",
       "</g>\n",
       "<!-- clusterphase_preferencemin_phase2Inputsrun -->\n",
       "<g id=\"node85\" class=\"node\">\n",
       "<title>clusterphase_preferencemin_phase2Inputsrun</title>\n",
       "<polygon fill=\"#1f77b4\" stroke=\"#1f77b4\" points=\"629.5,-1304.25 587.5,-1304.25 587.5,-1280.25 629.5,-1280.25 641.5,-1292.25 629.5,-1304.25\"/>\n",
       "<text text-anchor=\"middle\" x=\"614.5\" y=\"-1286.08\" font-family=\"Times,serif\" font-size=\"14.00\">run</text>\n",
       "</g>\n",
       "<!-- clusterphase_preferencemin_phase2Outputsran -->\n",
       "<g id=\"node98\" class=\"node\">\n",
       "<title>clusterphase_preferencemin_phase2Outputsran</title>\n",
       "<polygon fill=\"#1f77b4\" stroke=\"#1f77b4\" points=\"867.59,-1304.25 825.59,-1304.25 825.59,-1280.25 867.59,-1280.25 879.59,-1292.25 867.59,-1304.25\"/>\n",
       "<text text-anchor=\"middle\" x=\"852.59\" y=\"-1286.08\" font-family=\"Times,serif\" font-size=\"14.00\">ran</text>\n",
       "</g>\n",
       "<!-- clusterphase_preferencemin_phase2Inputsrun&#45;&gt;clusterphase_preferencemin_phase2Outputsran -->\n",
       "<!-- clusterphase_preferencemin_phase2Inputsaccumulate_and_run -->\n",
       "<g id=\"node86\" class=\"node\">\n",
       "<title>clusterphase_preferencemin_phase2Inputsaccumulate_and_run</title>\n",
       "<polygon fill=\"#1f77b4\" stroke=\"#1f77b4\" points=\"667.12,-1250.25 549.87,-1250.25 549.87,-1226.25 667.12,-1226.25 679.12,-1238.25 667.12,-1250.25\"/>\n",
       "<text text-anchor=\"middle\" x=\"614.5\" y=\"-1232.08\" font-family=\"Times,serif\" font-size=\"14.00\">accumulate_and_run</text>\n",
       "</g>\n",
       "<!-- clusterphase_preferencemin_phase2Outputsstructure -->\n",
       "<g id=\"node99\" class=\"node\">\n",
       "<title>clusterphase_preferencemin_phase2Outputsstructure</title>\n",
       "<ellipse fill=\"#ff7f0e\" stroke=\"#ff7f0e\" cx=\"852.59\" cy=\"-590.25\" rx=\"40.23\" ry=\"18\"/>\n",
       "<text text-anchor=\"middle\" x=\"852.59\" y=\"-584.08\" font-family=\"Times,serif\" font-size=\"14.00\">structure</text>\n",
       "</g>\n",
       "<!-- clusterphase_preferencen2Inputsobj -->\n",
       "<g id=\"node132\" class=\"node\">\n",
       "<title>clusterphase_preferencen2Inputsobj</title>\n",
       "<ellipse fill=\"#ff7f0e\" stroke=\"#ff7f0e\" cx=\"1151.27\" cy=\"-346.25\" rx=\"27\" ry=\"18\"/>\n",
       "<text text-anchor=\"middle\" x=\"1151.27\" y=\"-340.07\" font-family=\"Times,serif\" font-size=\"14.00\">obj</text>\n",
       "</g>\n",
       "<!-- clusterphase_preferencemin_phase2Outputsstructure&#45;&gt;clusterphase_preferencen2Inputsobj -->\n",
       "<g id=\"edge16\" class=\"edge\">\n",
       "<title>clusterphase_preferencemin_phase2Outputsstructure&#45;&gt;clusterphase_preferencen2Inputsobj</title>\n",
       "<path fill=\"none\" stroke=\"#ff7f0e\" d=\"M892.7,-592.78C919.96,-592.22 954.85,-586.41 974.65,-563.25 991.55,-543.48 981.48,-488.06 977.81,-441\"/>\n",
       "<path fill=\"none\" stroke=\"#ff7f0e\" d=\"M977.81,-441C975.51,-411.53 975.72,-385.34 986.65,-373.25 1018.29,-338.27 1076.44,-337 1114.22,-340.62\"/>\n",
       "<polygon fill=\"#ff7f0e\" stroke=\"#ff7f0e\" points=\"1113.43,-344.17 1123.76,-341.81 1114.22,-337.21 1113.43,-344.17\"/>\n",
       "</g>\n",
       "<!-- clusterphase_preferencemin_phase2Outputscalc__cells -->\n",
       "<g id=\"node100\" class=\"node\">\n",
       "<title>clusterphase_preferencemin_phase2Outputscalc__cells</title>\n",
       "<ellipse fill=\"#ff7f0e\" stroke=\"#ff7f0e\" cx=\"852.59\" cy=\"-914.25\" rx=\"48.34\" ry=\"18\"/>\n",
       "<text text-anchor=\"middle\" x=\"852.59\" y=\"-908.08\" font-family=\"Times,serif\" font-size=\"14.00\">calc__cells</text>\n",
       "</g>\n",
       "<!-- clusterphase_preferencemin_phase2Outputscalc__cells&#45;&gt;clusterphase_preferenceOutputsmin_phase2__calc__cells -->\n",
       "<g id=\"edge59\" class=\"edge\">\n",
       "<title>clusterphase_preferencemin_phase2Outputscalc__cells&#45;&gt;clusterphase_preferenceOutputsmin_phase2__calc__cells</title>\n",
       "<path fill=\"none\" stroke=\"#ff7f0e\" d=\"M899.62,-918.9C920.02,-920.97 945.45,-923.54 972.23,-926.25\"/>\n",
       "<path fill=\"none\" stroke=\"#ff7f0e\" d=\"M972.23,-926.25C999.01,-928.95 1027.14,-931.8 1052.92,-934.41\"/>\n",
       "<polygon fill=\"#ff7f0e\" stroke=\"#ff7f0e\" points=\"1052.47,-937.98 1062.77,-935.5 1053.17,-931.01 1052.47,-937.98\"/>\n",
       "</g>\n",
       "<!-- clusterphase_preferencemin_phase2Outputscalc__displacements -->\n",
       "<g id=\"node101\" class=\"node\">\n",
       "<title>clusterphase_preferencemin_phase2Outputscalc__displacements</title>\n",
       "<ellipse fill=\"#ff7f0e\" stroke=\"#ff7f0e\" cx=\"852.59\" cy=\"-860.25\" rx=\"81.73\" ry=\"18\"/>\n",
       "<text text-anchor=\"middle\" x=\"852.59\" y=\"-854.08\" font-family=\"Times,serif\" font-size=\"14.00\">calc__displacements</text>\n",
       "</g>\n",
       "<!-- clusterphase_preferencemin_phase2Outputscalc__displacements&#45;&gt;clusterphase_preferenceOutputsmin_phase2__calc__displacements -->\n",
       "<g id=\"edge60\" class=\"edge\">\n",
       "<title>clusterphase_preferencemin_phase2Outputscalc__displacements&#45;&gt;clusterphase_preferenceOutputsmin_phase2__calc__displacements</title>\n",
       "<path fill=\"none\" stroke=\"#ff7f0e\" d=\"M927.69,-867.74C943.56,-869.35 960.95,-871.11 978.8,-872.91\"/>\n",
       "<path fill=\"none\" stroke=\"#ff7f0e\" d=\"M978.8,-872.91C996.65,-874.72 1014.96,-876.57 1032.65,-878.36\"/>\n",
       "<polygon fill=\"#ff7f0e\" stroke=\"#ff7f0e\" points=\"1032.25,-881.93 1042.55,-879.46 1032.95,-874.97 1032.25,-881.93\"/>\n",
       "</g>\n",
       "<!-- clusterphase_preferencemin_phase2Outputsenergy -->\n",
       "<g id=\"node102\" class=\"node\">\n",
       "<title>clusterphase_preferencemin_phase2Outputsenergy</title>\n",
       "<ellipse fill=\"#ff7f0e\" stroke=\"#ff7f0e\" cx=\"852.59\" cy=\"-536.25\" rx=\"33.55\" ry=\"18\"/>\n",
       "<text text-anchor=\"middle\" x=\"852.59\" y=\"-530.08\" font-family=\"Times,serif\" font-size=\"14.00\">energy</text>\n",
       "</g>\n",
       "<!-- clusterphase_preferencee2Inputsobj -->\n",
       "<g id=\"node126\" class=\"node\">\n",
       "<title>clusterphase_preferencee2Inputsobj</title>\n",
       "<ellipse fill=\"#ff7f0e\" stroke=\"#ff7f0e\" cx=\"1151.27\" cy=\"-118.25\" rx=\"27\" ry=\"18\"/>\n",
       "<text text-anchor=\"middle\" x=\"1151.27\" y=\"-112.08\" font-family=\"Times,serif\" font-size=\"14.00\">obj</text>\n",
       "</g>\n",
       "<!-- clusterphase_preferencemin_phase2Outputsenergy&#45;&gt;clusterphase_preferencee2Inputsobj -->\n",
       "<g id=\"edge17\" class=\"edge\">\n",
       "<title>clusterphase_preferencemin_phase2Outputsenergy&#45;&gt;clusterphase_preferencee2Inputsobj</title>\n",
       "<path fill=\"none\" stroke=\"#ff7f0e\" d=\"M863.09,-518.81C884.94,-477.85 939.19,-371.33 968.96,-270.59\"/>\n",
       "<path fill=\"none\" stroke=\"#ff7f0e\" d=\"M968.96,-270.59C970.98,-263.78 972.88,-256.99 974.65,-250.25 980.62,-227.54 970.46,-162.26 986.65,-145.25 1019.07,-111.17 1076.75,-109.59 1114.24,-112.91\"/>\n",
       "<polygon fill=\"#ff7f0e\" stroke=\"#ff7f0e\" points=\"1113.4,-116.45 1123.71,-114.01 1114.13,-109.49 1113.4,-116.45\"/>\n",
       "</g>\n",
       "<!-- clusterphase_preferencemin_phase2Outputscalc__energy_tot -->\n",
       "<g id=\"node103\" class=\"node\">\n",
       "<title>clusterphase_preferencemin_phase2Outputscalc__energy_tot</title>\n",
       "<ellipse fill=\"#ff7f0e\" stroke=\"#ff7f0e\" cx=\"852.59\" cy=\"-806.25\" rx=\"69.33\" ry=\"18\"/>\n",
       "<text text-anchor=\"middle\" x=\"852.59\" y=\"-800.08\" font-family=\"Times,serif\" font-size=\"14.00\">calc__energy_tot</text>\n",
       "</g>\n",
       "<!-- clusterphase_preferencemin_phase2Outputscalc__energy_tot&#45;&gt;clusterphase_preferenceOutputsmin_phase2__calc__energy_tot -->\n",
       "<g id=\"edge61\" class=\"edge\">\n",
       "<title>clusterphase_preferencemin_phase2Outputscalc__energy_tot&#45;&gt;clusterphase_preferenceOutputsmin_phase2__calc__energy_tot</title>\n",
       "<path fill=\"none\" stroke=\"#ff7f0e\" d=\"M917.6,-812.72C935.39,-814.52 955.6,-816.56 976.5,-818.68\"/>\n",
       "<path fill=\"none\" stroke=\"#ff7f0e\" d=\"M976.5,-818.68C997.41,-820.79 1019,-822.98 1039.57,-825.06\"/>\n",
       "<polygon fill=\"#ff7f0e\" stroke=\"#ff7f0e\" points=\"1039.18,-828.64 1049.49,-826.16 1039.89,-821.67 1039.18,-828.64\"/>\n",
       "</g>\n",
       "<!-- clusterphase_preferencemin_phase2Outputscalc__force_max -->\n",
       "<g id=\"node104\" class=\"node\">\n",
       "<title>clusterphase_preferencemin_phase2Outputscalc__force_max</title>\n",
       "<ellipse fill=\"#ff7f0e\" stroke=\"#ff7f0e\" cx=\"852.59\" cy=\"-752.25\" rx=\"69.8\" ry=\"18\"/>\n",
       "<text text-anchor=\"middle\" x=\"852.59\" y=\"-746.08\" font-family=\"Times,serif\" font-size=\"14.00\">calc__force_max</text>\n",
       "</g>\n",
       "<!-- clusterphase_preferencemin_phase2Outputscalc__force_max&#45;&gt;clusterphase_preferenceOutputsmin_phase2__calc__force_max -->\n",
       "<g id=\"edge62\" class=\"edge\">\n",
       "<title>clusterphase_preferencemin_phase2Outputscalc__force_max&#45;&gt;clusterphase_preferenceOutputsmin_phase2__calc__force_max</title>\n",
       "<path fill=\"none\" stroke=\"#ff7f0e\" d=\"M918.33,-758.8C936.06,-760.59 956.15,-762.62 976.91,-764.72\"/>\n",
       "<path fill=\"none\" stroke=\"#ff7f0e\" d=\"M976.91,-764.72C997.67,-766.82 1019.11,-768.99 1039.53,-771.05\"/>\n",
       "<polygon fill=\"#ff7f0e\" stroke=\"#ff7f0e\" points=\"1039.07,-774.62 1049.37,-772.15 1039.77,-767.66 1039.07,-774.62\"/>\n",
       "</g>\n",
       "<!-- clusterphase_preferencemin_phase2Outputscalc__forces -->\n",
       "<g id=\"node105\" class=\"node\">\n",
       "<title>clusterphase_preferencemin_phase2Outputscalc__forces</title>\n",
       "<ellipse fill=\"#ff7f0e\" stroke=\"#ff7f0e\" cx=\"852.59\" cy=\"-698.25\" rx=\"53.58\" ry=\"18\"/>\n",
       "<text text-anchor=\"middle\" x=\"852.59\" y=\"-692.08\" font-family=\"Times,serif\" font-size=\"14.00\">calc__forces</text>\n",
       "</g>\n",
       "<!-- clusterphase_preferencemin_phase2Outputscalc__forces&#45;&gt;clusterphase_preferenceOutputsmin_phase2__calc__forces -->\n",
       "<g id=\"edge63\" class=\"edge\">\n",
       "<title>clusterphase_preferencemin_phase2Outputscalc__forces&#45;&gt;clusterphase_preferenceOutputsmin_phase2__calc__forces</title>\n",
       "<path fill=\"none\" stroke=\"#ff7f0e\" d=\"M904.26,-703.37C924.1,-705.38 948.15,-707.81 973.34,-710.36\"/>\n",
       "<path fill=\"none\" stroke=\"#ff7f0e\" d=\"M973.34,-710.36C998.53,-712.91 1024.87,-715.57 1049.29,-718.04\"/>\n",
       "<polygon fill=\"#ff7f0e\" stroke=\"#ff7f0e\" points=\"1048.93,-721.62 1059.23,-719.15 1049.63,-714.66 1048.93,-721.62\"/>\n",
       "</g>\n",
       "<!-- clusterphase_preferencemin_phase2Outputscalc__indices -->\n",
       "<g id=\"node106\" class=\"node\">\n",
       "<title>clusterphase_preferencemin_phase2Outputscalc__indices</title>\n",
       "<ellipse fill=\"#ff7f0e\" stroke=\"#ff7f0e\" cx=\"852.59\" cy=\"-644.25\" rx=\"56.92\" ry=\"18\"/>\n",
       "<text text-anchor=\"middle\" x=\"852.59\" y=\"-638.08\" font-family=\"Times,serif\" font-size=\"14.00\">calc__indices</text>\n",
       "</g>\n",
       "<!-- clusterphase_preferencemin_phase2Outputscalc__indices&#45;&gt;clusterphase_preferenceOutputsmin_phase2__calc__indices -->\n",
       "<g id=\"edge64\" class=\"edge\">\n",
       "<title>clusterphase_preferencemin_phase2Outputscalc__indices&#45;&gt;clusterphase_preferenceOutputsmin_phase2__calc__indices</title>\n",
       "<path fill=\"none\" stroke=\"#ff7f0e\" d=\"M907.32,-649.68C926.8,-651.65 950.02,-654 974.25,-656.45\"/>\n",
       "<path fill=\"none\" stroke=\"#ff7f0e\" d=\"M974.25,-656.45C998.49,-658.9 1023.75,-661.46 1047.32,-663.84\"/>\n",
       "<polygon fill=\"#ff7f0e\" stroke=\"#ff7f0e\" points=\"1046.9,-667.42 1057.21,-664.94 1047.61,-660.45 1046.9,-667.42\"/>\n",
       "</g>\n",
       "<!-- clusterphase_preferencemin_phase2Outputscalc__positions -->\n",
       "<g id=\"node107\" class=\"node\">\n",
       "<title>clusterphase_preferencemin_phase2Outputscalc__positions</title>\n",
       "<ellipse fill=\"#ff7f0e\" stroke=\"#ff7f0e\" cx=\"852.59\" cy=\"-1238.25\" rx=\"63.6\" ry=\"18\"/>\n",
       "<text text-anchor=\"middle\" x=\"852.59\" y=\"-1232.08\" font-family=\"Times,serif\" font-size=\"14.00\">calc__positions</text>\n",
       "</g>\n",
       "<!-- clusterphase_preferencemin_phase2Outputscalc__positions&#45;&gt;clusterphase_preferenceOutputsmin_phase2__calc__positions -->\n",
       "<g id=\"edge65\" class=\"edge\">\n",
       "<title>clusterphase_preferencemin_phase2Outputscalc__positions&#45;&gt;clusterphase_preferenceOutputsmin_phase2__calc__positions</title>\n",
       "<path fill=\"none\" stroke=\"#ff7f0e\" d=\"M912.92,-1244.25C931.55,-1246.13 953.15,-1248.32 975.58,-1250.59\"/>\n",
       "<path fill=\"none\" stroke=\"#ff7f0e\" d=\"M975.58,-1250.59C998.01,-1252.85 1021.27,-1255.21 1043.22,-1257.43\"/>\n",
       "<polygon fill=\"#ff7f0e\" stroke=\"#ff7f0e\" points=\"1042.67,-1260.99 1052.97,-1258.51 1043.37,-1254.02 1042.67,-1260.99\"/>\n",
       "</g>\n",
       "<!-- clusterphase_preferencemin_phase2Outputscalc__pressures -->\n",
       "<g id=\"node108\" class=\"node\">\n",
       "<title>clusterphase_preferencemin_phase2Outputscalc__pressures</title>\n",
       "<ellipse fill=\"#ff7f0e\" stroke=\"#ff7f0e\" cx=\"852.59\" cy=\"-1184.25\" rx=\"64.56\" ry=\"18\"/>\n",
       "<text text-anchor=\"middle\" x=\"852.59\" y=\"-1178.08\" font-family=\"Times,serif\" font-size=\"14.00\">calc__pressures</text>\n",
       "</g>\n",
       "<!-- clusterphase_preferencemin_phase2Outputscalc__pressures&#45;&gt;clusterphase_preferenceOutputsmin_phase2__calc__pressures -->\n",
       "<g id=\"edge66\" class=\"edge\">\n",
       "<title>clusterphase_preferencemin_phase2Outputscalc__pressures&#45;&gt;clusterphase_preferenceOutputsmin_phase2__calc__pressures</title>\n",
       "<path fill=\"none\" stroke=\"#ff7f0e\" d=\"M913.99,-1190.36C932.46,-1192.22 953.77,-1194.38 975.89,-1196.62\"/>\n",
       "<path fill=\"none\" stroke=\"#ff7f0e\" d=\"M975.89,-1196.62C998,-1198.85 1020.91,-1201.17 1042.57,-1203.36\"/>\n",
       "<polygon fill=\"#ff7f0e\" stroke=\"#ff7f0e\" points=\"1042.16,-1206.94 1052.46,-1204.46 1042.86,-1199.97 1042.16,-1206.94\"/>\n",
       "</g>\n",
       "<!-- clusterphase_preferencemin_phase2Outputscalc__steps -->\n",
       "<g id=\"node109\" class=\"node\">\n",
       "<title>clusterphase_preferencemin_phase2Outputscalc__steps</title>\n",
       "<ellipse fill=\"#ff7f0e\" stroke=\"#ff7f0e\" cx=\"852.59\" cy=\"-1130.25\" rx=\"49.77\" ry=\"18\"/>\n",
       "<text text-anchor=\"middle\" x=\"852.59\" y=\"-1124.08\" font-family=\"Times,serif\" font-size=\"14.00\">calc__steps</text>\n",
       "</g>\n",
       "<!-- clusterphase_preferencemin_phase2Outputscalc__steps&#45;&gt;clusterphase_preferenceOutputsmin_phase2__calc__steps -->\n",
       "<g id=\"edge67\" class=\"edge\">\n",
       "<title>clusterphase_preferencemin_phase2Outputscalc__steps&#45;&gt;clusterphase_preferenceOutputsmin_phase2__calc__steps</title>\n",
       "<path fill=\"none\" stroke=\"#ff7f0e\" d=\"M900.93,-1135.04C921.21,-1137.09 946.27,-1139.62 972.63,-1142.29\"/>\n",
       "<path fill=\"none\" stroke=\"#ff7f0e\" d=\"M972.63,-1142.29C998.98,-1144.95 1026.62,-1147.75 1052.04,-1150.32\"/>\n",
       "<polygon fill=\"#ff7f0e\" stroke=\"#ff7f0e\" points=\"1051.44,-1153.87 1061.74,-1151.4 1052.14,-1146.91 1051.44,-1153.87\"/>\n",
       "</g>\n",
       "<!-- clusterphase_preferencemin_phase2Outputscalc__total_displacements -->\n",
       "<g id=\"node110\" class=\"node\">\n",
       "<title>clusterphase_preferencemin_phase2Outputscalc__total_displacements</title>\n",
       "<ellipse fill=\"#ff7f0e\" stroke=\"#ff7f0e\" cx=\"852.59\" cy=\"-1076.25\" rx=\"101.29\" ry=\"18\"/>\n",
       "<text text-anchor=\"middle\" x=\"852.59\" y=\"-1070.08\" font-family=\"Times,serif\" font-size=\"14.00\">calc__total_displacements</text>\n",
       "</g>\n",
       "<!-- clusterphase_preferencemin_phase2Outputscalc__total_displacements&#45;&gt;clusterphase_preferenceOutputsmin_phase2__calc__total_displacements -->\n",
       "<g id=\"edge68\" class=\"edge\">\n",
       "<title>clusterphase_preferencemin_phase2Outputscalc__total_displacements&#45;&gt;clusterphase_preferenceOutputsmin_phase2__calc__total_displacements</title>\n",
       "<path fill=\"none\" stroke=\"#ff7f0e\" d=\"M941.4,-1085.13C954.19,-1086.42 967.69,-1087.79 981.44,-1089.18\"/>\n",
       "<path fill=\"none\" stroke=\"#ff7f0e\" d=\"M981.44,-1089.18C995.19,-1090.57 1009.17,-1091.98 1022.92,-1093.37\"/>\n",
       "<polygon fill=\"#ff7f0e\" stroke=\"#ff7f0e\" points=\"1022.5,-1096.95 1032.8,-1094.47 1023.2,-1089.98 1022.5,-1096.95\"/>\n",
       "</g>\n",
       "<!-- clusterphase_preferencemin_phase2Outputscalc__unwrapped_positions -->\n",
       "<g id=\"node111\" class=\"node\">\n",
       "<title>clusterphase_preferencemin_phase2Outputscalc__unwrapped_positions</title>\n",
       "<ellipse fill=\"#ff7f0e\" stroke=\"#ff7f0e\" cx=\"852.59\" cy=\"-1022.25\" rx=\"106.06\" ry=\"18\"/>\n",
       "<text text-anchor=\"middle\" x=\"852.59\" y=\"-1016.08\" font-family=\"Times,serif\" font-size=\"14.00\">calc__unwrapped_positions</text>\n",
       "</g>\n",
       "<!-- clusterphase_preferencemin_phase2Outputscalc__unwrapped_positions&#45;&gt;clusterphase_preferenceOutputsmin_phase2__calc__unwrapped_positions -->\n",
       "<g id=\"edge69\" class=\"edge\">\n",
       "<title>clusterphase_preferencemin_phase2Outputscalc__unwrapped_positions&#45;&gt;clusterphase_preferenceOutputsmin_phase2__calc__unwrapped_positions</title>\n",
       "<path fill=\"none\" stroke=\"#ff7f0e\" d=\"M944.62,-1031.45C956.71,-1032.68 969.4,-1033.96 982.29,-1035.26\"/>\n",
       "<path fill=\"none\" stroke=\"#ff7f0e\" d=\"M982.29,-1035.26C995.18,-1036.57 1008.27,-1037.89 1021.17,-1039.19\"/>\n",
       "<polygon fill=\"#ff7f0e\" stroke=\"#ff7f0e\" points=\"1020.47,-1042.74 1030.77,-1040.27 1021.17,-1035.78 1020.47,-1042.74\"/>\n",
       "</g>\n",
       "<!-- clusterphase_preferencemin_phase2Outputscalc__volume -->\n",
       "<g id=\"node112\" class=\"node\">\n",
       "<title>clusterphase_preferencemin_phase2Outputscalc__volume</title>\n",
       "<ellipse fill=\"#ff7f0e\" stroke=\"#ff7f0e\" cx=\"852.59\" cy=\"-968.25\" rx=\"58.83\" ry=\"18\"/>\n",
       "<text text-anchor=\"middle\" x=\"852.59\" y=\"-962.08\" font-family=\"Times,serif\" font-size=\"14.00\">calc__volume</text>\n",
       "</g>\n",
       "<!-- clusterphase_preferencemin_phase2Outputscalc__volume&#45;&gt;clusterphase_preferenceOutputsmin_phase2__calc__volume -->\n",
       "<g id=\"edge70\" class=\"edge\">\n",
       "<title>clusterphase_preferencemin_phase2Outputscalc__volume&#45;&gt;clusterphase_preferenceOutputsmin_phase2__calc__volume</title>\n",
       "<path fill=\"none\" stroke=\"#ff7f0e\" d=\"M909.05,-973.86C928.3,-975.8 951.05,-978.1 974.76,-980.5\"/>\n",
       "<path fill=\"none\" stroke=\"#ff7f0e\" d=\"M974.76,-980.5C998.47,-982.9 1023.13,-985.39 1046.22,-987.73\"/>\n",
       "<polygon fill=\"#ff7f0e\" stroke=\"#ff7f0e\" points=\"1045.59,-991.28 1055.89,-988.81 1046.29,-984.32 1045.59,-991.28\"/>\n",
       "</g>\n",
       "<!-- clusterphase_preferencee1Inputsrun -->\n",
       "<g id=\"node113\" class=\"node\">\n",
       "<title>clusterphase_preferencee1Inputsrun</title>\n",
       "<polygon fill=\"#1f77b4\" stroke=\"#1f77b4\" points=\"1166.27,-2180.25 1124.27,-2180.25 1124.27,-2156.25 1166.27,-2156.25 1178.27,-2168.25 1166.27,-2180.25\"/>\n",
       "<text text-anchor=\"middle\" x=\"1151.27\" y=\"-2162.07\" font-family=\"Times,serif\" font-size=\"14.00\">run</text>\n",
       "</g>\n",
       "<!-- clusterphase_preferencee1Outputsran -->\n",
       "<g id=\"node117\" class=\"node\">\n",
       "<title>clusterphase_preferencee1Outputsran</title>\n",
       "<polygon fill=\"#1f77b4\" stroke=\"#1f77b4\" points=\"1395.3,-2180.25 1353.3,-2180.25 1353.3,-2156.25 1395.3,-2156.25 1407.3,-2168.25 1395.3,-2180.25\"/>\n",
       "<text text-anchor=\"middle\" x=\"1380.3\" y=\"-2162.07\" font-family=\"Times,serif\" font-size=\"14.00\">ran</text>\n",
       "</g>\n",
       "<!-- clusterphase_preferencee1Inputsrun&#45;&gt;clusterphase_preferencee1Outputsran -->\n",
       "<!-- clusterphase_preferencee1Inputsaccumulate_and_run -->\n",
       "<g id=\"node114\" class=\"node\">\n",
       "<title>clusterphase_preferencee1Inputsaccumulate_and_run</title>\n",
       "<polygon fill=\"#1f77b4\" stroke=\"#1f77b4\" points=\"1203.9,-2126.25 1086.65,-2126.25 1086.65,-2102.25 1203.9,-2102.25 1215.9,-2114.25 1203.9,-2126.25\"/>\n",
       "<text text-anchor=\"middle\" x=\"1151.27\" y=\"-2108.07\" font-family=\"Times,serif\" font-size=\"14.00\">accumulate_and_run</text>\n",
       "</g>\n",
       "<!-- clusterphase_preferencee1Outputsgetitem -->\n",
       "<g id=\"node118\" class=\"node\">\n",
       "<title>clusterphase_preferencee1Outputsgetitem</title>\n",
       "<ellipse fill=\"#ff7f0e\" stroke=\"#ff7f0e\" cx=\"1380.3\" cy=\"-2114.25\" rx=\"36.41\" ry=\"18\"/>\n",
       "<text text-anchor=\"middle\" x=\"1380.3\" y=\"-2108.07\" font-family=\"Times,serif\" font-size=\"14.00\">getitem</text>\n",
       "</g>\n",
       "<!-- clusterphase_preferencee1__getitem_Divide_n1__lenInputsobj -->\n",
       "<g id=\"node143\" class=\"node\">\n",
       "<title>clusterphase_preferencee1__getitem_Divide_n1__lenInputsobj</title>\n",
       "<ellipse fill=\"#ff7f0e\" stroke=\"#ff7f0e\" cx=\"1521.34\" cy=\"-2114.25\" rx=\"27\" ry=\"18\"/>\n",
       "<text text-anchor=\"middle\" x=\"1521.34\" y=\"-2108.07\" font-family=\"Times,serif\" font-size=\"14.00\">obj</text>\n",
       "</g>\n",
       "<!-- clusterphase_preferencee1Outputsgetitem&#45;&gt;clusterphase_preferencee1__getitem_Divide_n1__lenInputsobj -->\n",
       "<g id=\"edge18\" class=\"edge\">\n",
       "<title>clusterphase_preferencee1Outputsgetitem&#45;&gt;clusterphase_preferencee1__getitem_Divide_n1__lenInputsobj</title>\n",
       "<path fill=\"none\" stroke=\"#ff7f0e\" d=\"M1417.11,-2114.25C1427.22,-2114.25 1438.6,-2114.25 1450,-2114.25\"/>\n",
       "<path fill=\"none\" stroke=\"#ff7f0e\" d=\"M1450,-2114.25C1461.4,-2114.25 1472.83,-2114.25 1483.06,-2114.25\"/>\n",
       "<polygon fill=\"#ff7f0e\" stroke=\"#ff7f0e\" points=\"1482.88,-2117.75 1492.88,-2114.25 1482.88,-2110.75 1482.88,-2117.75\"/>\n",
       "</g>\n",
       "<!-- clusterphase_preferencen1Inputsrun -->\n",
       "<g id=\"node119\" class=\"node\">\n",
       "<title>clusterphase_preferencen1Inputsrun</title>\n",
       "<polygon fill=\"#1f77b4\" stroke=\"#1f77b4\" points=\"1166.27,-2408.25 1124.27,-2408.25 1124.27,-2384.25 1166.27,-2384.25 1178.27,-2396.25 1166.27,-2408.25\"/>\n",
       "<text text-anchor=\"middle\" x=\"1151.27\" y=\"-2390.07\" font-family=\"Times,serif\" font-size=\"14.00\">run</text>\n",
       "</g>\n",
       "<!-- clusterphase_preferencen1Outputsran -->\n",
       "<g id=\"node122\" class=\"node\">\n",
       "<title>clusterphase_preferencen1Outputsran</title>\n",
       "<polygon fill=\"#1f77b4\" stroke=\"#1f77b4\" points=\"1395.3,-2381.25 1353.3,-2381.25 1353.3,-2357.25 1395.3,-2357.25 1407.3,-2369.25 1395.3,-2381.25\"/>\n",
       "<text text-anchor=\"middle\" x=\"1380.3\" y=\"-2363.07\" font-family=\"Times,serif\" font-size=\"14.00\">ran</text>\n",
       "</g>\n",
       "<!-- clusterphase_preferencen1Inputsrun&#45;&gt;clusterphase_preferencen1Outputsran -->\n",
       "<!-- clusterphase_preferencen1Inputsaccumulate_and_run -->\n",
       "<g id=\"node120\" class=\"node\">\n",
       "<title>clusterphase_preferencen1Inputsaccumulate_and_run</title>\n",
       "<polygon fill=\"#1f77b4\" stroke=\"#1f77b4\" points=\"1203.9,-2354.25 1086.65,-2354.25 1086.65,-2330.25 1203.9,-2330.25 1215.9,-2342.25 1203.9,-2354.25\"/>\n",
       "<text text-anchor=\"middle\" x=\"1151.27\" y=\"-2336.07\" font-family=\"Times,serif\" font-size=\"14.00\">accumulate_and_run</text>\n",
       "</g>\n",
       "<!-- clusterphase_preferencen1Outputslen -->\n",
       "<g id=\"node123\" class=\"node\">\n",
       "<title>clusterphase_preferencen1Outputslen</title>\n",
       "<ellipse fill=\"#ff7f0e\" stroke=\"#ff7f0e\" cx=\"1380.3\" cy=\"-2315.25\" rx=\"27\" ry=\"18\"/>\n",
       "<text text-anchor=\"middle\" x=\"1380.3\" y=\"-2309.07\" font-family=\"Times,serif\" font-size=\"14.00\">len</text>\n",
       "</g>\n",
       "<!-- clusterphase_preferencee1__getitem_Divide_n1__lenInputsother -->\n",
       "<g id=\"node144\" class=\"node\">\n",
       "<title>clusterphase_preferencee1__getitem_Divide_n1__lenInputsother</title>\n",
       "<ellipse fill=\"#ff7f0e\" stroke=\"#ff7f0e\" cx=\"1521.34\" cy=\"-2168.25\" rx=\"27.83\" ry=\"18\"/>\n",
       "<text text-anchor=\"middle\" x=\"1521.34\" y=\"-2162.07\" font-family=\"Times,serif\" font-size=\"14.00\">other</text>\n",
       "</g>\n",
       "<!-- clusterphase_preferencen1Outputslen&#45;&gt;clusterphase_preferencee1__getitem_Divide_n1__lenInputsother -->\n",
       "<g id=\"edge19\" class=\"edge\">\n",
       "<title>clusterphase_preferencen1Outputslen&#45;&gt;clusterphase_preferencee1__getitem_Divide_n1__lenInputsother</title>\n",
       "<path fill=\"none\" stroke=\"#ff7f0e\" d=\"M1391.58,-2298.56C1402.17,-2280.89 1418.81,-2251.82 1430.85,-2224.56\"/>\n",
       "<path fill=\"none\" stroke=\"#ff7f0e\" d=\"M1430.85,-2224.56C1431.48,-2223.12 1432.11,-2221.68 1432.72,-2220.25 1437.29,-2209.52 1432.54,-2203.57 1440.72,-2195.25 1451.91,-2183.86 1468.09,-2177.27 1482.94,-2173.46\"/>\n",
       "<polygon fill=\"#ff7f0e\" stroke=\"#ff7f0e\" points=\"1483.42,-2176.72 1492.43,-2171.15 1481.91,-2169.89 1483.42,-2176.72\"/>\n",
       "</g>\n",
       "<!-- clusterphase_preferencee2Inputsrun -->\n",
       "<g id=\"node124\" class=\"node\">\n",
       "<title>clusterphase_preferencee2Inputsrun</title>\n",
       "<polygon fill=\"#1f77b4\" stroke=\"#1f77b4\" points=\"1166.27,-238.25 1124.27,-238.25 1124.27,-214.25 1166.27,-214.25 1178.27,-226.25 1166.27,-238.25\"/>\n",
       "<text text-anchor=\"middle\" x=\"1151.27\" y=\"-220.07\" font-family=\"Times,serif\" font-size=\"14.00\">run</text>\n",
       "</g>\n",
       "<!-- clusterphase_preferencee2Outputsran -->\n",
       "<g id=\"node128\" class=\"node\">\n",
       "<title>clusterphase_preferencee2Outputsran</title>\n",
       "<polygon fill=\"#1f77b4\" stroke=\"#1f77b4\" points=\"1395.3,-238.25 1353.3,-238.25 1353.3,-214.25 1395.3,-214.25 1407.3,-226.25 1395.3,-238.25\"/>\n",
       "<text text-anchor=\"middle\" x=\"1380.3\" y=\"-220.07\" font-family=\"Times,serif\" font-size=\"14.00\">ran</text>\n",
       "</g>\n",
       "<!-- clusterphase_preferencee2Inputsrun&#45;&gt;clusterphase_preferencee2Outputsran -->\n",
       "<!-- clusterphase_preferencee2Inputsaccumulate_and_run -->\n",
       "<g id=\"node125\" class=\"node\">\n",
       "<title>clusterphase_preferencee2Inputsaccumulate_and_run</title>\n",
       "<polygon fill=\"#1f77b4\" stroke=\"#1f77b4\" points=\"1203.9,-184.25 1086.65,-184.25 1086.65,-160.25 1203.9,-160.25 1215.9,-172.25 1203.9,-184.25\"/>\n",
       "<text text-anchor=\"middle\" x=\"1151.27\" y=\"-166.07\" font-family=\"Times,serif\" font-size=\"14.00\">accumulate_and_run</text>\n",
       "</g>\n",
       "<!-- clusterphase_preferencee2Outputsgetitem -->\n",
       "<g id=\"node129\" class=\"node\">\n",
       "<title>clusterphase_preferencee2Outputsgetitem</title>\n",
       "<ellipse fill=\"#ff7f0e\" stroke=\"#ff7f0e\" cx=\"1380.3\" cy=\"-172.25\" rx=\"36.41\" ry=\"18\"/>\n",
       "<text text-anchor=\"middle\" x=\"1380.3\" y=\"-166.07\" font-family=\"Times,serif\" font-size=\"14.00\">getitem</text>\n",
       "</g>\n",
       "<!-- clusterphase_preferencee2__getitem_Divide_n2__lenInputsobj -->\n",
       "<g id=\"node137\" class=\"node\">\n",
       "<title>clusterphase_preferencee2__getitem_Divide_n2__lenInputsobj</title>\n",
       "<ellipse fill=\"#ff7f0e\" stroke=\"#ff7f0e\" cx=\"1521.34\" cy=\"-610.25\" rx=\"27\" ry=\"18\"/>\n",
       "<text text-anchor=\"middle\" x=\"1521.34\" y=\"-604.08\" font-family=\"Times,serif\" font-size=\"14.00\">obj</text>\n",
       "</g>\n",
       "<!-- clusterphase_preferencee2Outputsgetitem&#45;&gt;clusterphase_preferencee2__getitem_Divide_n2__lenInputsobj -->\n",
       "<g id=\"edge20\" class=\"edge\">\n",
       "<title>clusterphase_preferencee2Outputsgetitem&#45;&gt;clusterphase_preferencee2__getitem_Divide_n2__lenInputsobj</title>\n",
       "<path fill=\"none\" stroke=\"#ff7f0e\" d=\"M1410.94,-182.33C1419.08,-186.41 1427.17,-191.94 1432.72,-199.25 1454.24,-227.65 1472.1,-294.21 1485.95,-365.68\"/>\n",
       "<path fill=\"none\" stroke=\"#ff7f0e\" d=\"M1485.95,-365.68C1501.9,-447.95 1512.54,-536.72 1517.37,-581.26\"/>\n",
       "<polygon fill=\"#ff7f0e\" stroke=\"#ff7f0e\" points=\"1513.97,-581.37 1518.51,-590.95 1520.93,-580.63 1513.97,-581.37\"/>\n",
       "</g>\n",
       "<!-- clusterphase_preferencen2Inputsrun -->\n",
       "<g id=\"node130\" class=\"node\">\n",
       "<title>clusterphase_preferencen2Inputsrun</title>\n",
       "<polygon fill=\"#1f77b4\" stroke=\"#1f77b4\" points=\"1166.27,-466.25 1124.27,-466.25 1124.27,-442.25 1166.27,-442.25 1178.27,-454.25 1166.27,-466.25\"/>\n",
       "<text text-anchor=\"middle\" x=\"1151.27\" y=\"-448.07\" font-family=\"Times,serif\" font-size=\"14.00\">run</text>\n",
       "</g>\n",
       "<!-- clusterphase_preferencen2Outputsran -->\n",
       "<g id=\"node133\" class=\"node\">\n",
       "<title>clusterphase_preferencen2Outputsran</title>\n",
       "<polygon fill=\"#1f77b4\" stroke=\"#1f77b4\" points=\"1395.3,-466.25 1353.3,-466.25 1353.3,-442.25 1395.3,-442.25 1407.3,-454.25 1395.3,-466.25\"/>\n",
       "<text text-anchor=\"middle\" x=\"1380.3\" y=\"-448.07\" font-family=\"Times,serif\" font-size=\"14.00\">ran</text>\n",
       "</g>\n",
       "<!-- clusterphase_preferencen2Inputsrun&#45;&gt;clusterphase_preferencen2Outputsran -->\n",
       "<!-- clusterphase_preferencen2Inputsaccumulate_and_run -->\n",
       "<g id=\"node131\" class=\"node\">\n",
       "<title>clusterphase_preferencen2Inputsaccumulate_and_run</title>\n",
       "<polygon fill=\"#1f77b4\" stroke=\"#1f77b4\" points=\"1203.9,-412.25 1086.65,-412.25 1086.65,-388.25 1203.9,-388.25 1215.9,-400.25 1203.9,-412.25\"/>\n",
       "<text text-anchor=\"middle\" x=\"1151.27\" y=\"-394.07\" font-family=\"Times,serif\" font-size=\"14.00\">accumulate_and_run</text>\n",
       "</g>\n",
       "<!-- clusterphase_preferencen2Outputslen -->\n",
       "<g id=\"node134\" class=\"node\">\n",
       "<title>clusterphase_preferencen2Outputslen</title>\n",
       "<ellipse fill=\"#ff7f0e\" stroke=\"#ff7f0e\" cx=\"1380.3\" cy=\"-400.25\" rx=\"27\" ry=\"18\"/>\n",
       "<text text-anchor=\"middle\" x=\"1380.3\" y=\"-394.07\" font-family=\"Times,serif\" font-size=\"14.00\">len</text>\n",
       "</g>\n",
       "<!-- clusterphase_preferencee2__getitem_Divide_n2__lenInputsother -->\n",
       "<g id=\"node138\" class=\"node\">\n",
       "<title>clusterphase_preferencee2__getitem_Divide_n2__lenInputsother</title>\n",
       "<ellipse fill=\"#ff7f0e\" stroke=\"#ff7f0e\" cx=\"1521.34\" cy=\"-664.25\" rx=\"27.83\" ry=\"18\"/>\n",
       "<text text-anchor=\"middle\" x=\"1521.34\" y=\"-658.08\" font-family=\"Times,serif\" font-size=\"14.00\">other</text>\n",
       "</g>\n",
       "<!-- clusterphase_preferencen2Outputslen&#45;&gt;clusterphase_preferencee2__getitem_Divide_n2__lenInputsother -->\n",
       "<g id=\"edge21\" class=\"edge\">\n",
       "<title>clusterphase_preferencen2Outputslen&#45;&gt;clusterphase_preferencee2__getitem_Divide_n2__lenInputsother</title>\n",
       "<path fill=\"none\" stroke=\"#ff7f0e\" d=\"M1405.82,-407.09C1415.91,-411.22 1426.64,-417.61 1432.72,-427.25 1439.39,-437.83 1437.2,-491.95 1435.88,-542.82\"/>\n",
       "<path fill=\"none\" stroke=\"#ff7f0e\" d=\"M1435.88,-542.82C1434.73,-586.91 1434.23,-628.56 1440.72,-637.25 1450.57,-650.46 1467.23,-657.27 1482.77,-660.76\"/>\n",
       "<polygon fill=\"#ff7f0e\" stroke=\"#ff7f0e\" points=\"1481.78,-664.32 1492.25,-662.68 1483.04,-657.43 1481.78,-664.32\"/>\n",
       "</g>\n",
       "<!-- clusterphase_preferencee2__getitem_Divide_n2__lenInputsrun -->\n",
       "<g id=\"node135\" class=\"node\">\n",
       "<title>clusterphase_preferencee2__getitem_Divide_n2__lenInputsrun</title>\n",
       "<polygon fill=\"#1f77b4\" stroke=\"#1f77b4\" points=\"1536.34,-784.25 1494.34,-784.25 1494.34,-760.25 1536.34,-760.25 1548.34,-772.25 1536.34,-784.25\"/>\n",
       "<text text-anchor=\"middle\" x=\"1521.34\" y=\"-766.08\" font-family=\"Times,serif\" font-size=\"14.00\">run</text>\n",
       "</g>\n",
       "<!-- clusterphase_preferencee2__getitem_Divide_n2__lenOutputsran -->\n",
       "<g id=\"node139\" class=\"node\">\n",
       "<title>clusterphase_preferencee2__getitem_Divide_n2__lenOutputsran</title>\n",
       "<polygon fill=\"#1f77b4\" stroke=\"#1f77b4\" points=\"1671.47,-784.25 1629.47,-784.25 1629.47,-760.25 1671.47,-760.25 1683.47,-772.25 1671.47,-784.25\"/>\n",
       "<text text-anchor=\"middle\" x=\"1656.47\" y=\"-766.08\" font-family=\"Times,serif\" font-size=\"14.00\">ran</text>\n",
       "</g>\n",
       "<!-- clusterphase_preferencee2__getitem_Divide_n2__lenInputsrun&#45;&gt;clusterphase_preferencee2__getitem_Divide_n2__lenOutputsran -->\n",
       "<!-- clusterphase_preferencee2__getitem_Divide_n2__lenInputsaccumulate_and_run -->\n",
       "<g id=\"node136\" class=\"node\">\n",
       "<title>clusterphase_preferencee2__getitem_Divide_n2__lenInputsaccumulate_and_run</title>\n",
       "<polygon fill=\"#1f77b4\" stroke=\"#1f77b4\" points=\"1573.97,-730.25 1456.72,-730.25 1456.72,-706.25 1573.97,-706.25 1585.97,-718.25 1573.97,-730.25\"/>\n",
       "<text text-anchor=\"middle\" x=\"1521.34\" y=\"-712.08\" font-family=\"Times,serif\" font-size=\"14.00\">accumulate_and_run</text>\n",
       "</g>\n",
       "<!-- clusterphase_preferencee2__getitem_Divide_n2__lenOutputstruediv -->\n",
       "<g id=\"node140\" class=\"node\">\n",
       "<title>clusterphase_preferencee2__getitem_Divide_n2__lenOutputstruediv</title>\n",
       "<ellipse fill=\"#ff7f0e\" stroke=\"#ff7f0e\" cx=\"1656.47\" cy=\"-718.25\" rx=\"34.5\" ry=\"18\"/>\n",
       "<text text-anchor=\"middle\" x=\"1656.47\" y=\"-712.08\" font-family=\"Times,serif\" font-size=\"14.00\">truediv</text>\n",
       "</g>\n",
       "<!-- clusterphase_preferencecompareInputsobj -->\n",
       "<g id=\"node149\" class=\"node\">\n",
       "<title>clusterphase_preferencecompareInputsobj</title>\n",
       "<ellipse fill=\"#ff7f0e\" stroke=\"#ff7f0e\" cx=\"1795.6\" cy=\"-718.25\" rx=\"27\" ry=\"18\"/>\n",
       "<text text-anchor=\"middle\" x=\"1795.6\" y=\"-712.08\" font-family=\"Times,serif\" font-size=\"14.00\">obj</text>\n",
       "</g>\n",
       "<!-- clusterphase_preferencee2__getitem_Divide_n2__lenOutputstruediv&#45;&gt;clusterphase_preferencecompareInputsobj -->\n",
       "<g id=\"edge22\" class=\"edge\">\n",
       "<title>clusterphase_preferencee2__getitem_Divide_n2__lenOutputstruediv&#45;&gt;clusterphase_preferencecompareInputsobj</title>\n",
       "<path fill=\"none\" stroke=\"#ff7f0e\" d=\"M1691.37,-718.25C1701.41,-718.25 1712.79,-718.25 1724.24,-718.25\"/>\n",
       "<path fill=\"none\" stroke=\"#ff7f0e\" d=\"M1724.24,-718.25C1735.69,-718.25 1747.21,-718.25 1757.51,-718.25\"/>\n",
       "<polygon fill=\"#ff7f0e\" stroke=\"#ff7f0e\" points=\"1757.4,-721.75 1767.4,-718.25 1757.4,-714.75 1757.4,-721.75\"/>\n",
       "</g>\n",
       "<!-- clusterphase_preferencee1__getitem_Divide_n1__lenInputsrun -->\n",
       "<g id=\"node141\" class=\"node\">\n",
       "<title>clusterphase_preferencee1__getitem_Divide_n1__lenInputsrun</title>\n",
       "<polygon fill=\"#1f77b4\" stroke=\"#1f77b4\" points=\"1536.34,-2288.25 1494.34,-2288.25 1494.34,-2264.25 1536.34,-2264.25 1548.34,-2276.25 1536.34,-2288.25\"/>\n",
       "<text text-anchor=\"middle\" x=\"1521.34\" y=\"-2270.07\" font-family=\"Times,serif\" font-size=\"14.00\">run</text>\n",
       "</g>\n",
       "<!-- clusterphase_preferencee1__getitem_Divide_n1__lenOutputsran -->\n",
       "<g id=\"node145\" class=\"node\">\n",
       "<title>clusterphase_preferencee1__getitem_Divide_n1__lenOutputsran</title>\n",
       "<polygon fill=\"#1f77b4\" stroke=\"#1f77b4\" points=\"1671.47,-2234.25 1629.47,-2234.25 1629.47,-2210.25 1671.47,-2210.25 1683.47,-2222.25 1671.47,-2234.25\"/>\n",
       "<text text-anchor=\"middle\" x=\"1656.47\" y=\"-2216.07\" font-family=\"Times,serif\" font-size=\"14.00\">ran</text>\n",
       "</g>\n",
       "<!-- clusterphase_preferencee1__getitem_Divide_n1__lenInputsrun&#45;&gt;clusterphase_preferencee1__getitem_Divide_n1__lenOutputsran -->\n",
       "<!-- clusterphase_preferencee1__getitem_Divide_n1__lenInputsaccumulate_and_run -->\n",
       "<g id=\"node142\" class=\"node\">\n",
       "<title>clusterphase_preferencee1__getitem_Divide_n1__lenInputsaccumulate_and_run</title>\n",
       "<polygon fill=\"#1f77b4\" stroke=\"#1f77b4\" points=\"1573.97,-2234.25 1456.72,-2234.25 1456.72,-2210.25 1573.97,-2210.25 1585.97,-2222.25 1573.97,-2234.25\"/>\n",
       "<text text-anchor=\"middle\" x=\"1521.34\" y=\"-2216.07\" font-family=\"Times,serif\" font-size=\"14.00\">accumulate_and_run</text>\n",
       "</g>\n",
       "<!-- clusterphase_preferencee1__getitem_Divide_n1__lenOutputstruediv -->\n",
       "<g id=\"node146\" class=\"node\">\n",
       "<title>clusterphase_preferencee1__getitem_Divide_n1__lenOutputstruediv</title>\n",
       "<ellipse fill=\"#ff7f0e\" stroke=\"#ff7f0e\" cx=\"1656.47\" cy=\"-2168.25\" rx=\"34.5\" ry=\"18\"/>\n",
       "<text text-anchor=\"middle\" x=\"1656.47\" y=\"-2162.07\" font-family=\"Times,serif\" font-size=\"14.00\">truediv</text>\n",
       "</g>\n",
       "<!-- clusterphase_preferencecompareInputsother -->\n",
       "<g id=\"node150\" class=\"node\">\n",
       "<title>clusterphase_preferencecompareInputsother</title>\n",
       "<ellipse fill=\"#ff7f0e\" stroke=\"#ff7f0e\" cx=\"1795.6\" cy=\"-772.25\" rx=\"27.83\" ry=\"18\"/>\n",
       "<text text-anchor=\"middle\" x=\"1795.6\" y=\"-766.08\" font-family=\"Times,serif\" font-size=\"14.00\">other</text>\n",
       "</g>\n",
       "<!-- clusterphase_preferencee1__getitem_Divide_n1__lenOutputstruediv&#45;&gt;clusterphase_preferencecompareInputsother -->\n",
       "<g id=\"edge23\" class=\"edge\">\n",
       "<title>clusterphase_preferencee1__getitem_Divide_n1__lenOutputstruediv&#45;&gt;clusterphase_preferencecompareInputsother</title>\n",
       "<path fill=\"none\" stroke=\"#ff7f0e\" d=\"M1657.96,-2149.83C1660.17,-2066.39 1669.71,-1713.94 1681.34,-1389.95\"/>\n",
       "<path fill=\"none\" stroke=\"#ff7f0e\" d=\"M1681.34,-1389.95C1692.14,-1089.16 1704.75,-812.9 1714.97,-799.25 1724.86,-786.06 1741.52,-779.25 1757.05,-775.76\"/>\n",
       "<polygon fill=\"#ff7f0e\" stroke=\"#ff7f0e\" points=\"1757.33,-779.09 1766.53,-773.84 1756.06,-772.2 1757.33,-779.09\"/>\n",
       "</g>\n",
       "<!-- clusterphase_preferencecompareInputsrun -->\n",
       "<g id=\"node147\" class=\"node\">\n",
       "<title>clusterphase_preferencecompareInputsrun</title>\n",
       "<polygon fill=\"#1f77b4\" stroke=\"#1f77b4\" points=\"1810.6,-892.25 1768.6,-892.25 1768.6,-868.25 1810.6,-868.25 1822.6,-880.25 1810.6,-892.25\"/>\n",
       "<text text-anchor=\"middle\" x=\"1795.6\" y=\"-874.08\" font-family=\"Times,serif\" font-size=\"14.00\">run</text>\n",
       "</g>\n",
       "<!-- clusterphase_preferencecompareOutputsran -->\n",
       "<g id=\"node151\" class=\"node\">\n",
       "<title>clusterphase_preferencecompareOutputsran</title>\n",
       "<polygon fill=\"#1f77b4\" stroke=\"#1f77b4\" points=\"1938.22,-838.25 1896.22,-838.25 1896.22,-814.25 1938.22,-814.25 1950.22,-826.25 1938.22,-838.25\"/>\n",
       "<text text-anchor=\"middle\" x=\"1923.22\" y=\"-820.08\" font-family=\"Times,serif\" font-size=\"14.00\">ran</text>\n",
       "</g>\n",
       "<!-- clusterphase_preferencecompareInputsrun&#45;&gt;clusterphase_preferencecompareOutputsran -->\n",
       "<!-- clusterphase_preferencecompareInputsaccumulate_and_run -->\n",
       "<g id=\"node148\" class=\"node\">\n",
       "<title>clusterphase_preferencecompareInputsaccumulate_and_run</title>\n",
       "<polygon fill=\"#1f77b4\" stroke=\"#1f77b4\" points=\"1848.22,-838.25 1730.97,-838.25 1730.97,-814.25 1848.22,-814.25 1860.22,-826.25 1848.22,-838.25\"/>\n",
       "<text text-anchor=\"middle\" x=\"1795.6\" y=\"-820.08\" font-family=\"Times,serif\" font-size=\"14.00\">accumulate_and_run</text>\n",
       "</g>\n",
       "<!-- clusterphase_preferencecompareOutputssub -->\n",
       "<g id=\"node152\" class=\"node\">\n",
       "<title>clusterphase_preferencecompareOutputssub</title>\n",
       "<ellipse fill=\"#ff7f0e\" stroke=\"#ff7f0e\" cx=\"1923.22\" cy=\"-772.25\" rx=\"27\" ry=\"18\"/>\n",
       "<text text-anchor=\"middle\" x=\"1923.22\" y=\"-766.08\" font-family=\"Times,serif\" font-size=\"14.00\">sub</text>\n",
       "</g>\n",
       "<!-- clusterphase_preferencecompareOutputssub&#45;&gt;clusterphase_preferenceOutputscompare__sub -->\n",
       "<g id=\"edge71\" class=\"edge\">\n",
       "<title>clusterphase_preferencecompareOutputssub&#45;&gt;clusterphase_preferenceOutputscompare__sub</title>\n",
       "<path fill=\"none\" stroke=\"#ff7f0e\" d=\"M1914.01,-754.88C1904.77,-736.69 1888.39,-708.05 1868.22,-688.25 1789.68,-611.16 1767.53,-558.25 1657.47,-558.25 1619.49,-558.25 1592.02,-558.25 1572.17,-558.25\"/>\n",
       "<path fill=\"none\" stroke=\"#ff7f0e\" d=\"M1572.17,-558.25C1520.34,-558.25 1520.34,-558.25 1520.34,-558.25 1416.62,-558.25 1296.51,-561.46 1222.45,-563.82\"/>\n",
       "<polygon fill=\"#ff7f0e\" stroke=\"#ff7f0e\" points=\"1222.75,-560.34 1212.87,-564.16 1222.98,-567.34 1222.75,-560.34\"/>\n",
       "</g>\n",
       "</g>\n",
       "</svg>\n"
      ],
      "text/plain": [
       "<graphviz.graphs.Digraph at 0x1591ab990>"
      ]
     },
     "execution_count": 49,
     "metadata": {},
     "output_type": "execute_result"
    }
   ],
   "source": [
    "wf.draw()"
   ]
  },
  {
   "cell_type": "code",
   "execution_count": 50,
   "id": "b51bef25-86c5-4d57-80c1-ab733e703caf",
   "metadata": {},
   "outputs": [
    {
     "name": "stdout",
     "output_type": "stream",
     "text": [
      "The job JUSTAJOBNAME was saved and received the ID: 9562\n",
      "The job JUSTAJOBNAME was saved and received the ID: 9562\n",
      "Al: E(hcp) - E(fcc) = 1.17 eV/atom\n"
     ]
    }
   ],
   "source": [
    "out = wf(element=\"Al\", phase1=\"fcc\", phase2=\"hcp\", lattice_guess1=4, lattice_guess2=4)\n",
    "print(f\"{wf.inputs.element.value}: E({wf.inputs.phase2.value}) - E({wf.inputs.phase1.value}) = {out.compare__sub:.2f} eV/atom\")"
   ]
  },
  {
   "cell_type": "code",
   "execution_count": 51,
   "id": "091e2386-0081-436c-a736-23d019bd9b91",
   "metadata": {},
   "outputs": [
    {
     "name": "stderr",
     "output_type": "stream",
     "text": [
      "/Users/huber/work/pyiron/pyiron_workflow/pyiron_workflow/channels.py:164: UserWarning: The channel ran was not connected to accumulate_and_run, andthus could not disconnect from it.\n",
      "  warn(\n"
     ]
    },
    {
     "name": "stdout",
     "output_type": "stream",
     "text": [
      "The job JUSTAJOBNAME was saved and received the ID: 9562\n",
      "The job JUSTAJOBNAME was saved and received the ID: 9562\n",
      "Mg: E(hcp) - E(fcc) = -4.54 eV/atom\n"
     ]
    }
   ],
   "source": [
    "out = wf(element=\"Mg\", phase1=\"fcc\", phase2=\"hcp\", lattice_guess1=3, lattice_guess2=3)\n",
    "print(f\"{wf.inputs.element.value}: E({wf.inputs.phase2.value}) - E({wf.inputs.phase1.value}) = {out.compare__sub:.2f} eV/atom\")"
   ]
  },
  {
   "cell_type": "markdown",
   "id": "7985d84f-b842-4a8d-95d5-eca3d19a78c8",
   "metadata": {},
   "source": [
    "We can also replace entire node in a workflow or macro with a new node, booting the old one out and inserting the new one including all its connections. Because the connections are recreated, the replacement node _must_ have compatible IO to the node being replaced.\n",
    "\n",
    "There are several syntacic approaches for doing this, including invoking replacement methods from the workflow (or macro) or from the node being replaced, or a new (compatible!) class can be assigned directly to an existing node. We'll use the last approach, which makes a new instance of the supplied class and replaces the target node with it.\n",
    "\n",
    "Let's replace the calculation type for phase 1 -- let's switch it from a `CalcMin` to a `CalcStatic`; both of these take a `job` as input and give `structure` and `energy` as output, so we won't have any trouble connecting our new node in lieue of the old one."
   ]
  },
  {
   "cell_type": "code",
   "execution_count": 52,
   "id": "4cdffdca-48d3-4486-9045-48102c7e5f31",
   "metadata": {},
   "outputs": [
    {
     "name": "stderr",
     "output_type": "stream",
     "text": [
      "/Users/huber/work/pyiron/pyiron_workflow/pyiron_workflow/channels.py:164: UserWarning: The channel job was not connected to job, andthus could not disconnect from it.\n",
      "  warn(\n",
      "/Users/huber/work/pyiron/pyiron_workflow/pyiron_workflow/channels.py:164: UserWarning: The channel accumulate_and_run was not connected to ran, andthus could not disconnect from it.\n",
      "  warn(\n",
      "/Users/huber/work/pyiron/pyiron_workflow/pyiron_workflow/channels.py:164: UserWarning: The channel element was not connected to user_input, andthus could not disconnect from it.\n",
      "  warn(\n",
      "/Users/huber/work/pyiron/pyiron_workflow/pyiron_workflow/channels.py:164: UserWarning: The channel structure was not connected to obj, andthus could not disconnect from it.\n",
      "  warn(\n",
      "/Users/huber/work/pyiron/pyiron_workflow/pyiron_workflow/channels.py:164: UserWarning: The channel energy was not connected to obj, andthus could not disconnect from it.\n",
      "  warn(\n"
     ]
    }
   ],
   "source": [
    "replacee = wf.min_phase1.calc \n",
    "wf.min_phase1.calc = Macro.create.pyiron_atomistics.CalcStatic"
   ]
  },
  {
   "cell_type": "markdown",
   "id": "8dd7d2f9-313d-4e38-b467-823c48d0afa0",
   "metadata": {},
   "source": [
    "Since we're no longer allowing our first phase to relax while the second phase still can, we would expect the second phase to have a much lower energy than the first one. If our lattice guess for the first phase is bad enough, this could even switch the preferred phase!\n",
    "\n",
    "Look at Al's fcc-hcp energy difference using this new workflow. We'll always let hcp relax, but freeze the fcc cell so we can see the impact of a good and bad lattice guess."
   ]
  },
  {
   "cell_type": "code",
   "execution_count": 53,
   "id": "ed4a3a22-fc3a-44c9-9d4f-c65bc1288889",
   "metadata": {},
   "outputs": [
    {
     "name": "stderr",
     "output_type": "stream",
     "text": [
      "/Users/huber/work/pyiron/pyiron_workflow/pyiron_workflow/channels.py:164: UserWarning: The channel ran was not connected to accumulate_and_run, andthus could not disconnect from it.\n",
      "  warn(\n"
     ]
    },
    {
     "name": "stdout",
     "output_type": "stream",
     "text": [
      "The job JUSTAJOBNAME was saved and received the ID: 9562\n",
      "The job JUSTAJOBNAME was saved and received the ID: 9562\n",
      "Al: E(hcp) - E(fcc) = -5.57 eV/atom\n"
     ]
    }
   ],
   "source": [
    "# Bad guess\n",
    "out = wf(element=\"Al\", phase1=\"fcc\", phase2=\"hcp\", lattice_guess1=3, lattice_guess2=3.1)\n",
    "print(f\"{wf.inputs.element.value}: E({wf.inputs.phase2.value}) - E({wf.inputs.phase1.value}) = {out.compare__sub:.2f} eV/atom\")"
   ]
  },
  {
   "cell_type": "code",
   "execution_count": 54,
   "id": "5a985cbf-c308-4369-9223-b8a37edb8ab1",
   "metadata": {},
   "outputs": [
    {
     "name": "stderr",
     "output_type": "stream",
     "text": [
      "/Users/huber/work/pyiron/pyiron_workflow/pyiron_workflow/channels.py:164: UserWarning: The channel ran was not connected to accumulate_and_run, andthus could not disconnect from it.\n",
      "  warn(\n"
     ]
    },
    {
     "name": "stdout",
     "output_type": "stream",
     "text": [
      "The job JUSTAJOBNAME was saved and received the ID: 9562\n",
      "The job JUSTAJOBNAME was saved and received the ID: 9562\n",
      "Al: E(hcp) - E(fcc) = 0.03 eV/atom\n"
     ]
    }
   ],
   "source": [
    "# Good guess\n",
    "out = wf(element=\"Al\", phase1=\"fcc\", phase2=\"hcp\", lattice_guess1=4.05, lattice_guess2=3.2)\n",
    "print(f\"{wf.inputs.element.value}: E({wf.inputs.phase2.value}) - E({wf.inputs.phase1.value}) = {out.compare__sub:.2f} eV/atom\")"
   ]
  },
  {
   "cell_type": "markdown",
   "id": "e5e75718-137f-43e6-b484-5ebe4ab22bf8",
   "metadata": {},
   "source": [
    "Now that we have nested macros, we can finally discuss the subtle difference between `__call__` and `pull`:\n",
    "\n",
    "Each `Macro` instance is its own little walled garden, where it's child nodes have no connections apart from those to other children of the same macro (you can forceably change this, since we're all adults here, but it won't happen by default and isn't recommended). Under the hood this is accomplished by the macro IO \"linking\" itself to its childrens' IO, so that updates to macro input values are always immediately propagated to children, and macro output gets synchronized with its childrens' output at the end of every run. Because of this we can think of these children all having the same \"scope\", i.e. siblings among the same parent.\n",
    "\n",
    "`pull` has a keyword argument to determine whether upstream data dependencies are restricted to be _in scope_, or if the parent node (if any) should also consider all _its_ data dependencies as well, and so on up until we hit the parent-most macro or workflow.\n",
    "\n",
    "For `pull` this parameter defaults to `False`, so that the pull stops at the parent node. For `__call__` it defaults to `True`, so that the search for data dependencies punches right through parents and all the way up. The danger is that this might be expensive if there's an costly node somewhere in the dependency!\n",
    "\n",
    "Note that the entire \"pull\" paradigm does currently play nicely with remote execution. If some of your nodes have an executor specified, you will need to `.run` your graph (or `__call__` a `Workflow` if that's your parent-most object)."
   ]
  },
  {
   "cell_type": "markdown",
   "id": "f447531e-3e8c-4c7e-a579-5f9c56b75a5b",
   "metadata": {},
   "source": [
    "# Here be dragons\n",
    "\n",
    "While everything in the workflows sub-module is under development, the following complex features are _even more likely_ to see substantial modifications to their interface and behaviour. Nonetheless, they're fun so let's look at them."
   ]
  },
  {
   "cell_type": "markdown",
   "id": "069cc8e8-f8b9-4382-a424-b3b2dd2bf739",
   "metadata": {},
   "source": [
    "## Parallelization\n",
    "\n",
    "You can currently run nodes in different process by setting that node's `executor` to an instance of a compliant executor object -- i.e. that takes the standard `submit` method of `concurrent.futures.Executor`, returns a `concurrent.futures.Future` (or sub-class), and can handle serializing dynamically defined objects. We make a handful of such compliant executors available on the creator. There is a toy `CloudpickleProcessPoolExecutor` which is a minimal example of compliance and useful for learning, but we also link to the executors provided by `pympipool`. Depending on your installation of `pympipool`, it's possible that only the `PyMPIExecutor` will be available, and this is what is provided by default under the creator's `Executor` attribute. The more complex flux- and slurm- based executors have not yet been tested. In the future,  we may also leverage the `Submitter` in `pyiron_contrib.tinybase` so that multiple nodes can lean on the same resources.\n",
    "\n",
    "Here's a simple example of executor usage:"
   ]
  },
  {
   "cell_type": "code",
   "execution_count": 55,
   "id": "aa575249-b209-4e0c-9ea6-a82bc69dc833",
   "metadata": {},
   "outputs": [
    {
     "name": "stdout",
     "output_type": "stream",
     "text": [
      "None 1\n",
      "<Future at 0x15872c9d0 state=pending> <class 'pyiron_workflow.channels.NotData'>\n"
     ]
    }
   ],
   "source": [
    "wf = Workflow(\"with_executor\")\n",
    "wf.a1 = wf.create.standard.Add(0, 1)\n",
    "wf.a2 = wf.create.standard.Add(2, 3)\n",
    "wf.b = wf.a1 + wf.a2\n",
    "\n",
    "wf.a2.executor = wf.create.Executor()\n",
    "wf()\n",
    "\n",
    "print(wf.a1.future, wf.a1.outputs.add.value)\n",
    "print(wf.a2.future, wf.a2.outputs.add.value)"
   ]
  },
  {
   "cell_type": "markdown",
   "id": "a15cf16b-90d5-4bf4-bc8e-e65a3ee06fa4",
   "metadata": {},
   "source": [
    "We can see that the regularly-executing node gets its output as usual, but the node with an executor gets its `future` attribute populated and isn't finished yet"
   ]
  },
  {
   "cell_type": "code",
   "execution_count": 56,
   "id": "c1b7b4e9-1c76-470c-ba6e-a58ea3f611f6",
   "metadata": {},
   "outputs": [
    {
     "name": "stdout",
     "output_type": "stream",
     "text": [
      "Finally 5\n",
      "b (Add) output single-value: 6\n"
     ]
    }
   ],
   "source": [
    "print(\"Finally\", wf.a2.future.result())\n",
    "print(wf.b)"
   ]
  },
  {
   "cell_type": "markdown",
   "id": "4dd4159e-6e01-492a-8986-f07e26e68954",
   "metadata": {},
   "source": [
    "When you're all done, it's best practice to shut down your `pympipool` executor to make sure you don't leave any dangling process (similar to how opened files should be closed). This can be done with a convience method from the parent-most object, which will recursively shut down all executors:"
   ]
  },
  {
   "cell_type": "code",
   "execution_count": 57,
   "id": "7e98058b-a791-4cb1-ae2c-864ad7e56cee",
   "metadata": {},
   "outputs": [],
   "source": [
    "wf.executor_shutdown()"
   ]
  },
  {
   "cell_type": "markdown",
   "id": "56206b10-6851-4ffa-ad43-432ad46d272a",
   "metadata": {},
   "source": [
    "Alternatively, we can use the `with` context for executors, as along as it encompasses our entire workflow. This might be useful if you are working with a single executor. In this case the `with` context handles shutdown cleanly without our help:"
   ]
  },
  {
   "cell_type": "code",
   "execution_count": 58,
   "id": "0d1b4005-488e-492f-adcb-8ad7235e4fe3",
   "metadata": {},
   "outputs": [
    {
     "name": "stdout",
     "output_type": "stream",
     "text": [
      "None 1\n",
      "<Future at 0x15bb49bd0 state=pending> <class 'pyiron_workflow.channels.NotData'>\n",
      "Finally 5\n",
      "b (Add) output single-value: 6\n"
     ]
    }
   ],
   "source": [
    "with Workflow.create.Executor() as executor:\n",
    "    wf = Workflow(\"with_executor\")\n",
    "    wf.a1 = wf.create.standard.Add(0, 1)\n",
    "    wf.a2 = wf.create.standard.Add(2, 3)\n",
    "    wf.b = wf.a1 + wf.a2\n",
    "\n",
    "    wf.a2.executor = executor\n",
    "    wf()\n",
    "    \n",
    "    print(wf.a1.future, wf.a1.outputs.add.value)\n",
    "    print(wf.a2.future, wf.a2.outputs.add.value)\n",
    "    \n",
    "    print(\"Finally\", wf.a2.future.result())\n",
    "    print(wf.b)"
   ]
  },
  {
   "cell_type": "markdown",
   "id": "26d7fb8e-4071-482d-bbb4-31689e87c3d5",
   "metadata": {},
   "source": [
    "For DAGs, workflows and macros automated execution flow makes use of the `.signals.inputs.accumulate_and_run` signal to run as soon as _all_ the up-data-stream nodes have finished.\n",
    "\n",
    "Before we wrap up our conversation of executors, let's make both linear and accumulating workflows by-hand, and see the time difference parallelization can bring"
   ]
  },
  {
   "cell_type": "code",
   "execution_count": 59,
   "id": "d03ca074-35a0-4e0d-9377-d4eaa5521f85",
   "metadata": {},
   "outputs": [],
   "source": [
    "from time import perf_counter, sleep\n",
    "\n",
    "from pyiron_workflow.channels import NotData\n",
    "\n",
    "@Workflow.wrap_as.single_value_node()\n",
    "def Wait(t):\n",
    "    sleep(t)\n",
    "    return True\n",
    "    \n",
    "t = 2"
   ]
  },
  {
   "cell_type": "code",
   "execution_count": 60,
   "id": "a7c07aa0-84fc-4f43-aa4f-6498c0837d76",
   "metadata": {},
   "outputs": [
    {
     "name": "stdout",
     "output_type": "stream",
     "text": [
      "6.018927805998828\n"
     ]
    }
   ],
   "source": [
    "wf = Workflow(\"serial\")\n",
    "wf.a = Wait(t)\n",
    "wf.b = Wait(t)\n",
    "wf.c = Wait(t)\n",
    "wf.d = wf.create.standard.UserInput(t)\n",
    "wf.automate_execution = False\n",
    "wf.a >> wf.b >> wf.c >> wf.d\n",
    "wf.starting_nodes = [wf.a]\n",
    "t0 = perf_counter()\n",
    "out = wf()\n",
    "while wf.outputs.d__user_input.value is NotData:\n",
    "    sleep(0.001)\n",
    "dt_serial = perf_counter() - t0\n",
    "\n",
    "print(dt_serial)"
   ]
  },
  {
   "cell_type": "code",
   "execution_count": 61,
   "id": "b062ab5f-9b98-4843-8925-b93bf4c173f8",
   "metadata": {},
   "outputs": [
    {
     "name": "stdout",
     "output_type": "stream",
     "text": [
      "3.0853979130042717\n"
     ]
    }
   ],
   "source": [
    "wf = Workflow(\"parallel\")\n",
    "wf.a = Wait(t)\n",
    "wf.b = Wait(t)\n",
    "wf.c = Wait(t)\n",
    "wf.d = wf.create.standard.UserInput(t)\n",
    "wf.automate_execution = False\n",
    "wf.d << wf.a, wf.b, wf.c\n",
    "wf.starting_nodes = [wf.a, wf.b, wf.c]\n",
    "\n",
    "\n",
    "with wf.create.Executor(max_workers=3, cores_per_worker=1) as executor:\n",
    "    wf.a.executor = executor\n",
    "    wf.b.executor = executor\n",
    "    wf.c.executor = executor\n",
    "\n",
    "    t1 = perf_counter()\n",
    "    out = wf()\n",
    "    while wf.outputs.d__user_input.value is NotData:\n",
    "        sleep(0.001)\n",
    "    dt_parallel = perf_counter() - t1\n",
    "\n",
    "print(dt_parallel)"
   ]
  },
  {
   "cell_type": "markdown",
   "id": "8655ab85-f3e1-4828-b2c4-43425f45717c",
   "metadata": {},
   "source": [
    "Note how we've used the `<<` syntax to load up the `accumulate_and_run` input signal with multiple connections at once (as opposed to the forwards-syntactic sugar that connects one item at a time to `run`), and leveraging a single executor in a `with` statement. But most of all, note the speedup! There is some overhead for shipping things off to an executor -- we don't want to do it for operations that are taking mere ms -- but the bar is not super high. Serializing different nodes may take different amounts of time depending on how complex they are, so check for yourself the tradeoff between executing your nodes in parallel or serial."
   ]
  },
  {
   "cell_type": "markdown",
   "id": "b6a3b48f-eda6-4947-a1b2-22abfa394293",
   "metadata": {},
   "source": [
    "#### Executor limitations\n",
    "\n",
    "Unfortunately, _nested_ executors are not yet working. So if you set a macro to use an executor, none of its (grand...)children may specify an executor.\n",
    "\n",
    "Note also that right now our treatment of DAGs is quite rudimentary, and the data flow is (unless cyclic) converted into a _linear_ execution pattern. \n",
    "This is practical and robust, but highly inefficient when combined with nodes that can run in parallel, i.e. with \"executors\".\n",
    "Going forward, we will exploit the same infrastructure of data flow DAGs and run signals to build up more sophisticated execution patterns which support parallelization."
   ]
  },
  {
   "cell_type": "markdown",
   "id": "1f012460-19af-45f7-98aa-a0ad5b8e6faa",
   "metadata": {},
   "source": [
    "## Meta-nodes and flow control\n",
    "\n",
    "A meta-node is a function that produces a node _class_ instedad of a node _instance_.\n",
    "Right now, these are used to produce parameterized flow-control nodes, which take an node class as input and return a new macro class that builds some graph using the passed node class, e.g. for- and while-loops.\n",
    "\n",
    "### For-loops\n",
    "\n",
    "One meta node is a for-loop builder, which creates a macro with $n$ internal instances of the \"loop body\" node class, and a new IO interface.\n",
    "The new input allows you to specify which input channels are being looped over -- such that the macro input for this channel is interpreted as list-like and distributed to all the copies of the nodes separately --, and which is _not_ being looped over -- and thus interpreted as the loop body node would normally interpret the input and passed to all copies equally.\n",
    "All of the loop body outputs are then collected as a list of length $n$.\n",
    "\n",
    "We follow a convention that inputs and outputs being looped over are indicated by their channel labels being ALL CAPS.\n",
    "\n",
    "In the example below, we loop over the bulk structure node to create structures with different lattice constants:"
   ]
  },
  {
   "cell_type": "code",
   "execution_count": 62,
   "id": "0b373764-b389-4c24-8086-f3d33a4f7fd7",
   "metadata": {},
   "outputs": [
    {
     "data": {
      "text/plain": [
       "[14.829749999999995,\n",
       " 15.407468749999998,\n",
       " 15.999999999999998,\n",
       " 16.60753125,\n",
       " 17.230249999999995]"
      ]
     },
     "execution_count": 62,
     "metadata": {},
     "output_type": "execute_result"
    }
   ],
   "source": [
    "n = 5\n",
    "\n",
    "bulk_loop = Workflow.create.meta.for_loop(\n",
    "    Workflow.create.pyiron_atomistics.Bulk,\n",
    "    n,\n",
    "    iterate_on=(\"a\",),\n",
    ")()\n",
    "\n",
    "out = bulk_loop(\n",
    "    name=\"Al\",  # Sent equally to each body node\n",
    "    A=np.linspace(3.9, 4.1, n).tolist(),  # Distributed across body nodes\n",
    ")\n",
    "\n",
    "[struct.cell.volume for struct in out.STRUCTURE]  \n",
    "# output is a list collected from copies of the body node, as indicated by CAPS label"
   ]
  },
  {
   "cell_type": "markdown",
   "id": "4e7ed210-dbc2-4afa-825e-b91168baff25",
   "metadata": {},
   "source": [
    "## While-loops\n",
    "\n",
    "We can also create a while-loop, which takes both a body node and a condition node. The condition node must be a `SingleValue` returning a `bool` type. Instead of creating copies of the body node, the body node gets re-run until the condition node returns `False`.\n",
    "\n",
    "You _must_ specify the data connection so that the body node passes information to the condition node. You may optionally also loop output of the body node back to input of the body node to change the input at each iteration. Right now this is done with horribly ugly string tuples, but we're still working on it."
   ]
  },
  {
   "cell_type": "code",
   "execution_count": 63,
   "id": "0dd04b4c-e3e7-4072-ad34-58f2c1e4f596",
   "metadata": {},
   "outputs": [
    {
     "name": "stderr",
     "output_type": "stream",
     "text": [
      "/Users/huber/work/pyiron/pyiron_workflow/pyiron_workflow/channels.py:164: UserWarning: The channel run was not connected to true, andthus could not disconnect from it.\n",
      "  warn(\n",
      "/Users/huber/work/pyiron/pyiron_workflow/pyiron_workflow/channels.py:164: UserWarning: The channel run was not connected to ran, andthus could not disconnect from it.\n",
      "  warn(\n"
     ]
    }
   ],
   "source": [
    "@Workflow.wrap_as.single_value_node()\n",
    "def Add(a, b):\n",
    "    print(f\"{a} + {b} = {a + b}\")\n",
    "    return a + b\n",
    "\n",
    "@Workflow.wrap_as.single_value_node()\n",
    "def LessThanTen(value):\n",
    "    return value < 10\n",
    "\n",
    "AddWhile = Workflow.create.meta.while_loop(\n",
    "    loop_body_class=Add,\n",
    "    condition_class=LessThanTen,\n",
    "    internal_connection_map=[\n",
    "        (\"Add\", \"a + b\", \"LessThanTen\", \"value\"),\n",
    "        (\"Add\", \"a + b\", \"Add\", \"a\")\n",
    "    ],\n",
    "    inputs_map={\"Add__a\": \"a\", \"Add__b\": \"b\"},\n",
    "    outputs_map={\"Add__a + b\": \"total\"}\n",
    ")\n",
    "\n",
    "wf = Workflow(\"do_while\")\n",
    "wf.add_while = AddWhile()\n",
    "\n",
    "wf.inputs_map = {\n",
    "    \"add_while__a\": \"a\",\n",
    "    \"add_while__b\": \"b\"\n",
    "}\n",
    "wf.outputs_map = {\n",
    "    \"add_while__total\": \"total\",  # Rename this output\n",
    "    \"add_while__switch__truth\": None  # Disable this output\n",
    "}"
   ]
  },
  {
   "cell_type": "markdown",
   "id": "eb810e1e-4d13-4cb1-94cc-6d191b8c568d",
   "metadata": {},
   "source": [
    "Note that initializing the `a` and `b` input to numeric values when we call the workflow below does not destroy the connection made between the body node input and output -- so the first run of the body node uses the initial value passed, but then it updates its own input for subsequent calls!"
   ]
  },
  {
   "cell_type": "code",
   "execution_count": 64,
   "id": "2dfb967b-41ac-4463-b606-3e315e617f2a",
   "metadata": {},
   "outputs": [
    {
     "name": "stdout",
     "output_type": "stream",
     "text": [
      "1 + 2 = 3\n",
      "3 + 2 = 5\n",
      "5 + 2 = 7\n",
      "7 + 2 = 9\n",
      "9 + 2 = 11\n",
      "Finally {'total': 11}\n"
     ]
    }
   ],
   "source": [
    "response = wf(a=1, b=2)\n",
    "print(\"Finally\", response)"
   ]
  },
  {
   "cell_type": "code",
   "execution_count": 65,
   "id": "2e87f858-b327-4f6b-9237-c8a557f29aeb",
   "metadata": {},
   "outputs": [
    {
     "name": "stdout",
     "output_type": "stream",
     "text": [
      "0.676 > 0.2\n",
      "0.208 > 0.2\n",
      "0.919 > 0.2\n",
      "0.834 > 0.2\n",
      "0.952 > 0.2\n",
      "0.031 <= 0.2\n",
      "Finally 0.031\n"
     ]
    }
   ],
   "source": [
    "@Workflow.wrap_as.single_value_node(\"random\")\n",
    "def Random(length: int | None = None):\n",
    "    return np.random.random(length)\n",
    "\n",
    "@Workflow.wrap_as.single_value_node()\n",
    "def GreaterThan(x: float, threshold: float):\n",
    "    gt = x > threshold\n",
    "    symbol = \">\" if gt else \"<=\"\n",
    "    print(f\"{x:.3f} {symbol} {threshold}\")\n",
    "    return gt\n",
    "\n",
    "RandomWhile = Workflow.create.meta.while_loop(\n",
    "    loop_body_class=Random,\n",
    "    condition_class=GreaterThan,\n",
    "    internal_connection_map=[(\"Random\", \"random\", \"GreaterThan\", \"x\")],\n",
    "    outputs_map={\"Random__random\": \"capped_result\"}\n",
    ")\n",
    "\n",
    "# Define workflow\n",
    "\n",
    "wf = Workflow(\"random_until_small_enough\")\n",
    "\n",
    "## Wire together the while loop and its condition\n",
    "\n",
    "wf.random_while = RandomWhile()\n",
    "\n",
    "## Give convenient labels\n",
    "wf.inputs_map = {\"random_while__GreaterThan__threshold\": \"threshold\"}\n",
    "wf.outputs_map = {\"random_while__capped_result\": \"capped_result\"}\n",
    "\n",
    "print(f\"Finally {wf(threshold=0.2).capped_result:.3f}\")"
   ]
  },
  {
   "cell_type": "markdown",
   "id": "1f29fde8-1645-444e-99dc-3ec465461c7e",
   "metadata": {},
   "source": [
    "## Serialization for data storage\n",
    "\n",
    "Serialization for storage doesn't exist yet. There are a million little things to do for `pyiron_workflow`, but data persistence is the last big missing piece for 1.0.0."
   ]
  },
  {
   "cell_type": "code",
   "execution_count": null,
   "id": "f40bfd6f-3fbf-4c2b-aeee-534ed4bcc970",
   "metadata": {},
   "outputs": [],
   "source": []
  }
 ],
 "metadata": {
  "kernelspec": {
   "display_name": "Python 3 (ipykernel)",
   "language": "python",
   "name": "python3"
  },
  "language_info": {
   "codemirror_mode": {
    "name": "ipython",
    "version": 3
   },
   "file_extension": ".py",
   "mimetype": "text/x-python",
   "name": "python",
   "nbconvert_exporter": "python",
   "pygments_lexer": "ipython3",
   "version": "3.11.4"
  }
 },
 "nbformat": 4,
 "nbformat_minor": 5
}
