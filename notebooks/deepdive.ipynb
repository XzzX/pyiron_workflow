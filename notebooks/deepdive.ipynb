{
 "cells": [
  {
   "cell_type": "markdown",
   "id": "5edfe456-c5b8-4347-a74f-1fb19fdff91b",
   "metadata": {},
   "source": [
    "# Pyiron workflows: A ground-up walkthrough of syntax and features\n",
    "\n",
    "Contents:\n",
    "- From function to node\n",
    "- Making reusable node classes\n",
    "- Connecting nodes to form a graph\n",
    "- SingleValue nodes and syntactic sugar\n",
    "- Workflows: keeping your computational graphs organized\n",
    "- Node packages: making nodes re-usable\n",
    "- Macro nodes: complex computations by composing sub-graphs\n",
    "- Dragons and the future: remote execution, cyclic flows, and more\n",
    "\n",
    "To jump straight to how to use `pyiron_workflow`, go look at the quickstart guide -- this jumps straight to using `Workflow` as a single-point-of-access, creating nodes with decorators, and leveraging node packages to form complex graphs.\n",
    "\n",
    "Here we start from the ground up and do \"silly\" things like importing _just_ the `Function` class directly from the `pyiron_workflow` package. This isn't meant to show actual practical, recommended use-styles, but rather is indended as a pedagogical deep-dive that builds knowledge from the ground up. While the quickstart is aimed at users who just want to get running, this is intended for people who want to develop nodes for others to use, or for people who are stuck or seeing unexpected behaviour and want a better understanding of what `pyiron_workflow` is doing under the hood.\n",
    "\n",
    "The next recommendation is to simply read the class and method docstrings directly!"
   ]
  },
  {
   "cell_type": "markdown",
   "id": "f4e75528-3ea7-4feb-8167-533d439f798d",
   "metadata": {},
   "source": [
    "## Instantiating a node\n",
    "\n",
    "Simple nodes can be defined on-the-fly by passing any callable to a special `Node` class, `Function(Node)`, which transforms the function into a class. Instances of this node have input and output, can be connected to other nodes in a workflow, and can run the function it stores.\n",
    "\n",
    "Input and output channels are _automatically_ extracted from the signature and return value(s) of the function. (Note: \"Nodized\" functions must have _at most_ one `return` expression!)"
   ]
  },
  {
   "cell_type": "code",
   "execution_count": 1,
   "id": "8aca3b9b-9ba6-497a-ba9e-abdb15a6a5df",
   "metadata": {},
   "outputs": [],
   "source": [
    "from pyiron_workflow.function import Function"
   ]
  },
  {
   "cell_type": "code",
   "execution_count": 2,
   "id": "2502bc6b-d961-43d1-b2d9-66b20e2740d7",
   "metadata": {},
   "outputs": [],
   "source": [
    "def plus_minus_one(x):\n",
    "    return x+1, x-1\n",
    "\n",
    "pm_node = Function(plus_minus_one)"
   ]
  },
  {
   "cell_type": "markdown",
   "id": "5d15f0c2-b36d-4960-86b3-40d769f78528",
   "metadata": {},
   "source": [
    "This has automatically created a node with input and output data channels whose labels are gathered by inspecting the function:"
   ]
  },
  {
   "cell_type": "code",
   "execution_count": 3,
   "id": "840f4c07-4b21-4bcc-b15c-9847c6c1b048",
   "metadata": {},
   "outputs": [
    {
     "name": "stdout",
     "output_type": "stream",
     "text": [
      "['x'] ['x+1', 'x-1']\n"
     ]
    }
   ],
   "source": [
    "print(pm_node.inputs.labels, pm_node.outputs.labels)"
   ]
  },
  {
   "cell_type": "markdown",
   "id": "22ee2a49-47d1-4cec-bb25-8441ea01faf7",
   "metadata": {},
   "source": [
    "The output is still empty (`NotData`) because we haven't `run()` the node:"
   ]
  },
  {
   "cell_type": "code",
   "execution_count": 4,
   "id": "613a90fa-66ed-49f8-ba8c-2f83a54253cd",
   "metadata": {},
   "outputs": [
    {
     "name": "stdout",
     "output_type": "stream",
     "text": [
      "{'x+1': <class 'pyiron_workflow.channels.NotData'>, 'x-1': <class 'pyiron_workflow.channels.NotData'>}\n"
     ]
    }
   ],
   "source": [
    "print(pm_node.outputs.to_value_dict())"
   ]
  },
  {
   "cell_type": "markdown",
   "id": "0374e277-55ab-45d2-8058-b06365bd07af",
   "metadata": {},
   "source": [
    "If we try that now though, we'll just get a type error because the input is not set! "
   ]
  },
  {
   "cell_type": "code",
   "execution_count": 5,
   "id": "05196cd8-97c7-4f08-ae3a-ad6a076512f7",
   "metadata": {},
   "outputs": [],
   "source": [
    "# pm_node.run()"
   ]
  },
  {
   "cell_type": "markdown",
   "id": "48b0db5a-548e-4195-8361-76763ddf0474",
   "metadata": {},
   "source": [
    "Not only will you get the expected error, but `pm_node` will also set its `failed` attribute to `True` -- this will prevent it from being `ready` again until you manually reset `pm_node.failed = False`."
   ]
  },
  {
   "cell_type": "code",
   "execution_count": 6,
   "id": "b6c00a4e-0c39-4283-ac00-53c3d07f7f10",
   "metadata": {},
   "outputs": [],
   "source": [
    "# pm_node.failed = False"
   ]
  },
  {
   "cell_type": "markdown",
   "id": "84af4b04-79b4-4944-a4c9-131af915d254",
   "metadata": {},
   "source": [
    "If we update the input, we'll give the node enough data to work with:"
   ]
  },
  {
   "cell_type": "code",
   "execution_count": 7,
   "id": "b1500a40-f4f2-4c06-ad78-aaebcf3e9a50",
   "metadata": {},
   "outputs": [
    {
     "name": "stdout",
     "output_type": "stream",
     "text": [
      "{'x+1': 6, 'x-1': 4}\n"
     ]
    }
   ],
   "source": [
    "pm_node.inputs.x = 5\n",
    "pm_node.run()\n",
    "print(pm_node.outputs.to_value_dict())"
   ]
  },
  {
   "cell_type": "markdown",
   "id": "c54a691e-a075-4d41-bc0f-3a990857a27a",
   "metadata": {},
   "source": [
    "Alternatively, the `run()` command just return the function's return value:"
   ]
  },
  {
   "cell_type": "code",
   "execution_count": 8,
   "id": "e845843c-61f4-4e5c-ac1a-d005787c2841",
   "metadata": {},
   "outputs": [
    {
     "data": {
      "text/plain": [
       "(6, 4)"
      ]
     },
     "execution_count": 8,
     "metadata": {},
     "output_type": "execute_result"
    }
   ],
   "source": [
    "out = pm_node.run()\n",
    "out"
   ]
  },
  {
   "cell_type": "markdown",
   "id": "df4520d7-856e-4bc8-817f-5b2e22c1ddce",
   "metadata": {},
   "source": [
    "We can give our function defaults so that it's ready to go from the beginning. Let's also take the opportunity to give our output channel a better name so we can get it by dot-access."
   ]
  },
  {
   "cell_type": "code",
   "execution_count": 9,
   "id": "ab1ac28a-6e69-491f-882f-da4a43162dd7",
   "metadata": {},
   "outputs": [
    {
     "data": {
      "text/plain": [
       "1"
      ]
     },
     "execution_count": 9,
     "metadata": {},
     "output_type": "execute_result"
    }
   ],
   "source": [
    "def adder(x: int = 0, y: int = 1) -> int:\n",
    "    sum_ = x + y\n",
    "    return sum_\n",
    "\n",
    "adder_node = Function(adder)\n",
    "adder_node.run()\n",
    "adder_node.outputs.sum_.value  # We use `value` to see the data the channel holds"
   ]
  },
  {
   "cell_type": "markdown",
   "id": "58ed9b25-6dde-488d-9582-d49d405793c6",
   "metadata": {},
   "source": [
    "This node also exploits type hinting! Like the variable names, these hints get scraped automatically and added to the channels:"
   ]
  },
  {
   "cell_type": "code",
   "execution_count": 10,
   "id": "09eee102-f8f1-4d2d-806f-01254c2483dc",
   "metadata": {},
   "outputs": [
    {
     "data": {
      "text/plain": [
       "(int, int, int)"
      ]
     },
     "execution_count": 10,
     "metadata": {},
     "output_type": "execute_result"
    }
   ],
   "source": [
    "adder_node.inputs.x.type_hint, adder_node.inputs.y.type_hint, adder_node.outputs.sum_.type_hint"
   ]
  },
  {
   "cell_type": "markdown",
   "id": "8382ba4d-9bf7-4057-8da8-0ee411d95c18",
   "metadata": {},
   "source": [
    "New values are checked against the node type hint, so trying to assign an incommensurate value will raise an error:"
   ]
  },
  {
   "cell_type": "code",
   "execution_count": 11,
   "id": "ac0fe993-6c82-48c8-a780-cbd0c97fc386",
   "metadata": {},
   "outputs": [],
   "source": [
    "# adder_node.inputs.x = \"not an integer\""
   ]
  },
  {
   "cell_type": "markdown",
   "id": "fb2eb642-4fe8-4ab7-b969-288150e43112",
   "metadata": {},
   "source": [
    "We can bypass this by deactivating the `strict_hinting`, or by assigning a new value directly to the private `_value` attribute. The `run()` will also perform a check that input values conform to type hints before computing anything. Failing at this stage won't actually cause the node to have a `failed` status, so you can just re-run it once the input is fixed."
   ]
  },
  {
   "cell_type": "code",
   "execution_count": 12,
   "id": "a63b2cc0-9030-45ad-8d37-d11e16e61369",
   "metadata": {},
   "outputs": [],
   "source": [
    "adder_node.inputs.x._value = \"not an integer\"\n",
    "# adder_node.run()"
   ]
  },
  {
   "cell_type": "code",
   "execution_count": 13,
   "id": "3ed72790-899b-408b-bdfd-ebcf03f4c7e3",
   "metadata": {},
   "outputs": [],
   "source": [
    "# adder_node.failed = False  # Reset if you force-failed by messing with the private value"
   ]
  },
  {
   "cell_type": "code",
   "execution_count": 14,
   "id": "15742a49-4c23-4d4a-84d9-9bf19677544c",
   "metadata": {},
   "outputs": [
    {
     "data": {
      "text/plain": [
       "3"
      ]
     },
     "execution_count": 14,
     "metadata": {},
     "output_type": "execute_result"
    }
   ],
   "source": [
    "adder_node.inputs.x = 2\n",
    "adder_node.run()"
   ]
  },
  {
   "cell_type": "markdown",
   "id": "416ba898-21ee-4638-820f-0f04a98a6706",
   "metadata": {},
   "source": [
    "We can also set new input as any valid combination of kwargs and/or args at both instantiation or on call:"
   ]
  },
  {
   "cell_type": "code",
   "execution_count": 15,
   "id": "0c8f09a7-67c4-4c6c-a021-e3fea1a16576",
   "metadata": {},
   "outputs": [
    {
     "data": {
      "text/plain": [
       "30"
      ]
     },
     "execution_count": 15,
     "metadata": {},
     "output_type": "execute_result"
    }
   ],
   "source": [
    "adder_node = Function(adder, 10, y=20)\n",
    "adder_node.run()"
   ]
  },
  {
   "cell_type": "markdown",
   "id": "c0997630-c053-42bb-8c0d-332f8bc26216",
   "metadata": {},
   "source": [
    "Finally, we can update input and then `run` together by calling an already-instantiated node. Just like at node instantiation, the input for `Function` nodes can be set by positional and/or keyword argument. Here we'll use two positional args:"
   ]
  },
  {
   "cell_type": "code",
   "execution_count": 16,
   "id": "69b59737-9e09-4b4b-a0e2-76a09de02c08",
   "metadata": {},
   "outputs": [
    {
     "data": {
      "text/plain": [
       "31"
      ]
     },
     "execution_count": 16,
     "metadata": {},
     "output_type": "execute_result"
    }
   ],
   "source": [
    "adder_node(15, 16)"
   ]
  },
  {
   "cell_type": "markdown",
   "id": "f233f3f7-9576-4400-8e92-a1f6109d7f9b",
   "metadata": {},
   "source": [
    "Note for advanced users: when the node has an executor set, running returns a futures object for the calculation, whose `.result()` will eventually be the function output. This result object can also be accessed on the node's `.result` attribute as long as it's running."
   ]
  },
  {
   "cell_type": "markdown",
   "id": "07a22cee-e340-4551-bb81-07d8be1d152b",
   "metadata": {},
   "source": [
    "## Reusable node classes\n",
    "\n",
    "If we're going to use a node many times, we may want to define a new sub-class of `Function` to handle this.\n",
    "\n",
    "The can be done directly by inheriting from `Function` and overriding it's `__init__` function and/or directly defining the `node_function` property so that the core functionality of the node (i.e. the node function and output labels) are set in stone, but even easier is to use the `function_node` decorator to do this for you! \n",
    "\n",
    "The decorator also lets us explicitly choose the names of our output channels by passing the `output_labels` argument to the decorator -- as a string to create a single channel for the returned values, or as a list of strings equal to the number of returned values in a returned tuple."
   ]
  },
  {
   "cell_type": "code",
   "execution_count": 17,
   "id": "61b43a9b-8dad-48b7-9194-2045e465793b",
   "metadata": {},
   "outputs": [],
   "source": [
    "from pyiron_workflow.function import function_node"
   ]
  },
  {
   "cell_type": "code",
   "execution_count": 18,
   "id": "647360a9-c971-4272-995c-aa01e5f5bb83",
   "metadata": {},
   "outputs": [
    {
     "name": "stdout",
     "output_type": "stream",
     "text": [
      "class name = SubtractNode\n",
      "label = subtract_node\n",
      "default output = -1\n"
     ]
    }
   ],
   "source": [
    "@function_node(\"diff\")\n",
    "def subtract_node(x: int | float = 1, y: int | float = 2) -> int | float:\n",
    "    return x - y\n",
    "\n",
    "sn = subtract_node()\n",
    "print(\"class name =\", sn.__class__.__name__)\n",
    "print(\"label =\", sn.label)\n",
    "\n",
    "sn()  # Runs without updating input data, but we have defaults so that's fine\n",
    "print(\"default output =\", sn.outputs.diff.value)"
   ]
  },
  {
   "cell_type": "markdown",
   "id": "77642993-63c3-41a3-a963-a406de33553c",
   "metadata": {},
   "source": [
    "The decorator is just dynamically defining a new child of the `Function` class. These children have their behaviour available in the static method `node_function` so we can access it right from the class level, e.g. to modify the behaviour:"
   ]
  },
  {
   "cell_type": "code",
   "execution_count": 19,
   "id": "b8c845b7-7088-43d7-b106-7a6ba1c571ec",
   "metadata": {},
   "outputs": [
    {
     "name": "stdout",
     "output_type": "stream",
     "text": [
      "default output = 1\n"
     ]
    }
   ],
   "source": [
    "@function_node(\"square_diff\")\n",
    "def subtract_and_sqaure_node(x: int | float = 1, y: int | float = 2) -> int | float:\n",
    "    return subtract_node.node_function(x, y)**2\n",
    "    \n",
    "ssq = subtract_and_sqaure_node()\n",
    "ssq()\n",
    "print(\"default output =\", ssq.outputs.square_diff.value)"
   ]
  },
  {
   "cell_type": "markdown",
   "id": "9b9220b0-833d-4c6a-9929-5dfa60a47d14",
   "metadata": {
    "tags": []
   },
   "source": [
    "# Connecting nodes and controlling flow\n",
    "\n",
    "Multiple nodes can be used together to build a computational graph, with each node performing a particular operation in the overall workflow.\n",
    "\n",
    "The input and output of nodes can be chained together by connecting their data channels to form a data graph.\n",
    "\n",
    "The flow of execution can be manually configured by using other \"signal\" channels to form an execution graph. However, for data graphs that are a directed acyclic graph (DAG), the execution flow can be automatically determined from the topology of the data connections!\n",
    "\n",
    "The `run` command we saw above has several boolean flags for controlling the style of execution. The two main run modes are with a \"pull\" paradigm, where everything upstream on the graph of data connections is run first then the node invoking `pull` gets run; and with a \"push\" paradigm (the default for `run`), where the node invoking `run` gets run and then runs everything downstream on the execution graph. Calling an instantiated node runs a particularly aggressive version of `pull`.\n",
    "\n",
    "We'll talk more about grouping nodes together inside a `Workflow` object, but without a parent workflow, only the `pull` method will automate execution signals; trying to push data downstream using `run` requires specifying the execution flow manually.\n",
    "\n",
    "Let's start by looking at `pull` in the example below to see how this works for a super-simple toy graph:"
   ]
  },
  {
   "cell_type": "code",
   "execution_count": 20,
   "id": "2e418abf-7059-4e1e-9b9f-b3dc0a4b5e35",
   "metadata": {
    "tags": []
   },
   "outputs": [
    {
     "name": "stderr",
     "output_type": "stream",
     "text": [
      "/Users/huber/work/pyiron/pyiron_workflow/pyiron_workflow/channels.py:158: UserWarning: The channel run was not connected to ran, andthus could not disconnect from it.\n",
      "  warn(\n"
     ]
    },
    {
     "data": {
      "text/plain": [
       "2"
      ]
     },
     "execution_count": 20,
     "metadata": {},
     "output_type": "execute_result"
    }
   ],
   "source": [
    "@function_node()\n",
    "def linear(x):\n",
    "    return x\n",
    "\n",
    "@function_node(\"double\")\n",
    "def times_two(x):\n",
    "    return 2 * x\n",
    "\n",
    "l = linear()\n",
    "t2 = times_two()\n",
    "\n",
    "l.inputs.x = 1\n",
    "t2.inputs.x = l.outputs.x\n",
    "t2.signals.input.run = l.signals.output.ran\n",
    "\n",
    "t2.pull()"
   ]
  },
  {
   "cell_type": "markdown",
   "id": "09623591-bbbb-462c-b490-f1db02c9f459",
   "metadata": {},
   "source": [
    "And, as mentioned, `__call__` is just (roughly) an alias for `pull`:"
   ]
  },
  {
   "cell_type": "code",
   "execution_count": 21,
   "id": "f3b0b700-683e-43cb-b374-48735e413bc9",
   "metadata": {},
   "outputs": [
    {
     "data": {
      "text/plain": [
       "4"
      ]
     },
     "execution_count": 21,
     "metadata": {},
     "output_type": "execute_result"
    }
   ],
   "source": [
    "l.inputs.x = 2\n",
    "t2()"
   ]
  },
  {
   "cell_type": "markdown",
   "id": "5da1ecfc-7145-4fb2-b5c0-417f050c5de4",
   "metadata": {},
   "source": [
    "Next, lets see how to do this with a \"push\" paradigm.\n",
    "\n",
    "Just like the data connections, we can connect the `.signals.inputs.run` and `.signals.output.ran` channels of two nodes, but we can also use the `>` operator as a syntactic sugar shortcut.\n",
    "\n",
    "Note how data connections can be made with keyword arguments just like other input data definitions.\n",
    "\n",
    "With both of these together, we can write:"
   ]
  },
  {
   "cell_type": "code",
   "execution_count": 22,
   "id": "59c29856-c77e-48a1-9f17-15d4c58be588",
   "metadata": {},
   "outputs": [
    {
     "name": "stdout",
     "output_type": "stream",
     "text": [
      "10 20\n"
     ]
    }
   ],
   "source": [
    "l = linear(x=10)\n",
    "t2 = times_two(x=l.outputs.x)\n",
    "l > t2  # Note: We can make arbitrarily long linear chains: l > t2 > something_else > another_node\n",
    "l.run()\n",
    "print(t2.inputs.x, t2.outputs.double)"
   ]
  },
  {
   "cell_type": "markdown",
   "id": "f0543c2f-cc72-45e6-88f2-5ea070c64909",
   "metadata": {},
   "source": [
    "This is fine for linear chains, but when we introduce parallelization we want a different execution flow; for that we introduce `.signals.inputs.accumulate_and_run`. In contrast to `.signals.inputs.run`, which triggers are run when it receives _any_ signals, `.signals.inputs.accumulate_and_run` only fires its callback after _all_ of its connected `OutputSignal`s have pinged it at least once.\n",
    "\n",
    "This let's us set up nodes which only start running after _all_ of their up-data-stream nodes have fired their `ran` signal. This is the default behaviour when `Composite` `Workflow` or `Macro` nodes automate their execution flow for DAG data graphs. We'll look at it again near the end of the notebook when we talk about remote execution."
   ]
  },
  {
   "cell_type": "markdown",
   "id": "e5c531a3-77e4-48ad-a189-fed619e79baa",
   "metadata": {},
   "source": [
    "## Single Value nodes\n",
    "\n",
    "Many functions return just a single value. In this case, we can take advantage of the `SingleValue` node class which employs a bunch of syntactic tricks to make our lives easier.\n",
    "\n",
    "The main difference between this and it's parent the `Function` class is that attribute and item access fall back to looking for attributes and items of this single output value.\n",
    "\n",
    "Let's look at a use case:"
   ]
  },
  {
   "cell_type": "code",
   "execution_count": 23,
   "id": "1a4e9693-0980-4435-aecc-3331d8b608dd",
   "metadata": {},
   "outputs": [],
   "source": [
    "import numpy as np\n",
    "\n",
    "from pyiron_workflow.function import SingleValue"
   ]
  },
  {
   "cell_type": "code",
   "execution_count": 24,
   "id": "7c4d314b-33bb-4a67-bfb9-ed77fba3949c",
   "metadata": {},
   "outputs": [
    {
     "name": "stdout",
     "output_type": "stream",
     "text": [
      "<class 'numpy.ndarray'>\n",
      "[0.02040816 0.04081633 0.06122449]\n",
      "0.5\n"
     ]
    }
   ],
   "source": [
    "def linspace_node(\n",
    "    start: int | float = 0, stop: int | float = 1, num: int = 50\n",
    "):\n",
    "    linspace = np.linspace(start=start, stop=stop, num=num)\n",
    "    return linspace\n",
    "\n",
    "lin = SingleValue(linspace_node)\n",
    "lin()\n",
    "\n",
    "print(type(lin.outputs.linspace.value))  # Output is just what we expect\n",
    "print(lin[1:4])  # Gets items from the output\n",
    "print(lin.mean())  # Finds the method on the output -- a special feature of SingleValueNode"
   ]
  },
  {
   "cell_type": "markdown",
   "id": "eef23cb0-6192-4fe6-b9cc-007e261e347a",
   "metadata": {},
   "source": [
    "The other advantage is that single value nodes can also be connected directly to input, since there is only one possible data connection. Of course it has a construction decorator just like `Function`, so let's replace `@function_node` with `@single_value_node` in one of our examples above to see how it tightens up the syntax a bit:"
   ]
  },
  {
   "cell_type": "code",
   "execution_count": 25,
   "id": "61ae572f-197b-4a60-8d3e-e19c1b9cc6e2",
   "metadata": {},
   "outputs": [
    {
     "data": {
      "text/plain": [
       "4"
      ]
     },
     "execution_count": 25,
     "metadata": {},
     "output_type": "execute_result"
    }
   ],
   "source": [
    "from pyiron_workflow.function import single_value_node\n",
    "\n",
    "@single_value_node()\n",
    "def linear(x):\n",
    "    return x\n",
    "\n",
    "@single_value_node(\"double\")\n",
    "def times_two(x):\n",
    "    return 2 * x\n",
    "\n",
    "l = linear(x=2)\n",
    "t2 = times_two(x=l)  # Just takes the whole `l` node!\n",
    "t2.pull()"
   ]
  },
  {
   "cell_type": "markdown",
   "id": "b2e56a64-d053-4127-bb8c-069777c1c6b5",
   "metadata": {},
   "source": [
    "Nodes can take input from multiple sources, and -- although it's usually _useful_ to give each node its own variable -- we can even instantiate nodes inside the signature for initializing another node and call that node all at once! You won't have easy access to them, but this still just builds three nodes in memory, sets their data connections, and invokes a `pull` on the outermost (downstream-most) node, which automatically creates the execution flow and runs it:"
   ]
  },
  {
   "cell_type": "code",
   "execution_count": 26,
   "id": "6569014a-815b-46dd-8b47-4e1cd4584b3b",
   "metadata": {},
   "outputs": [
    {
     "name": "stderr",
     "output_type": "stream",
     "text": [
      "/Users/huber/work/pyiron/pyiron_workflow/pyiron_workflow/channels.py:158: UserWarning: The channel run was not connected to ran, andthus could not disconnect from it.\n",
      "  warn(\n"
     ]
    },
    {
     "data": {
      "image/png": "[encoded data removed]",
      "text/plain": [
       "<Figure size 640x480 with 1 Axes>"
      ]
     },
     "metadata": {},
     "output_type": "display_data"
    }
   ],
   "source": [
    "import matplotlib.pyplot as plt\n",
    "\n",
    "@single_value_node()\n",
    "def noise(length: int = 1):\n",
    "    array =  np.random.rand(length)\n",
    "    return array\n",
    "\n",
    "@function_node()\n",
    "def plot(x, y):\n",
    "    fig = plt.scatter(x, y)\n",
    "    return fig\n",
    "\n",
    "plot_output = plot(\n",
    "    x=noise(length=10),\n",
    "    y=noise(length=10),\n",
    ")()"
   ]
  },
  {
   "cell_type": "markdown",
   "id": "5dc12164-b663-405b-872f-756996f628bd",
   "metadata": {},
   "source": [
    "# Workflows\n",
    "\n",
    "The case where we have groups of connected nodes working together is our normal, intended use case.\n",
    "We offer a formal way to group these objects together as a `Workflow(Node)` object.\n",
    "`Workflow` also offers us a single point of entry to the codebase -- i.e. most of the time you shouldn't need the node imports used above, because the decorators are available right on the workflow class.\n",
    "\n",
    "We will also see here that we can rename our node output channels using the `output_labels: Optional[str | list[str] | tuple[str]` kwarg, in case they don't have a convenient name to start with.\n",
    "This way we can always have convenient dot-based access (and tab completion) instead of having to access things by string-based keys.\n",
    "\n",
    "Finally, when a workflow is run, unless its `automate_execution` flag has been set to `False` or the data connections form a cyclic graph, it will _automatically_ build the necessary run signals! That means for all directed acyclic graph (DAG) workflows, all we typically need to worry about is the data connections."
   ]
  },
  {
   "cell_type": "markdown",
   "id": "9b9d3881-3584-4d6f-8068-5eed05760c36",
   "metadata": {},
   "source": [
    "Here is an example showing how `Workflow` can be used as a single-point-of-import for defining new nodes:"
   ]
  },
  {
   "cell_type": "code",
   "execution_count": 27,
   "id": "1cd000bd-9b24-4c39-9cac-70a3291d0660",
   "metadata": {},
   "outputs": [],
   "source": [
    "from pyiron_workflow import Workflow\n",
    "\n",
    "@Workflow.wrap_as.single_value_node(\"is_greater\")\n",
    "def greater_than_half(x: int | float | bool = 0) -> bool:\n",
    "    \"\"\"The functionality doesn't matter here, it's just an example\"\"\"\n",
    "    return x > 0.5"
   ]
  },
  {
   "cell_type": "markdown",
   "id": "8f17751c-f5bf-4b13-8275-0685d8a1629e",
   "metadata": {},
   "source": [
    "## Adding nodes to a workflow\n",
    "\n",
    "Each node can belong to exactly one workflow...but how to we create a workflow and add nodes to it\n",
    "\n",
    "All five of the approaches below are equivalent ways to add a node to a workflow. Note that when `create` is called from the workflow _class_ it just gives you access to the class being created; when it is called from a workflow _instance_, it wraps this class so that the created node has its parent value automatically set to the workflow instance that's creating it."
   ]
  },
  {
   "cell_type": "code",
   "execution_count": 28,
   "id": "7964df3c-55af-4c25-afc5-9e07accb606a",
   "metadata": {},
   "outputs": [
    {
     "name": "stdout",
     "output_type": "stream",
     "text": [
      "n1 == n1) 0.0 > 0.5 False\n",
      "n2 == n2) 0.2 > 0.5 False\n",
      "n3 == n3) 0.4 > 0.5 False\n",
      "n4 == n4) 0.6 > 0.5 True\n",
      "n5 == n5) 0.8 > 0.5 True\n"
     ]
    }
   ],
   "source": [
    "n1 = greater_than_half(label=\"n1\")\n",
    "\n",
    "wf = Workflow(\"my_wf\", n1)  # As args at init\n",
    "wf.create.SingleValue(n1.node_function, output_labels=\"p1\", label=\"n2\")  \n",
    "# ^ Instantiating from the class with a function\n",
    "wf.add(greater_than_half(label=\"n3\"))  # Instantiating then passing to node adder\n",
    "wf.n4 = greater_than_half(label=\"will_get_overwritten_with_n4\")  # Set attribute to instance\n",
    "greater_than_half(label=\"n5\", parent=wf)  # By passing the workflow to the node\n",
    "\n",
    "for i, (label, node) in enumerate(wf.nodes.items()):\n",
    "    x = i / len(wf)\n",
    "    node(x=x)\n",
    "    print(f\"{label} == {node.label}) {x} > 0.5 {node.single_value}\")"
   ]
  },
  {
   "cell_type": "markdown",
   "id": "dd5768a4-1810-4675-9389-bceb053cddfa",
   "metadata": {},
   "source": [
    "Workflows have inputs and outputs just like function nodes, but these are dynamically created to map to all _unconnected_ input and output for their underlying graph. They automatically get named by connecting the node label and channel label with a double underscore, but this can be overriden by providing an `inputs_map` and/or an `outputs_map` -- these maps can also let you expose data channels that would otherwise be hidden because they have a connection!"
   ]
  },
  {
   "cell_type": "code",
   "execution_count": 29,
   "id": "809178a5-2e6b-471d-89ef-0797db47c5ad",
   "metadata": {},
   "outputs": [
    {
     "name": "stdout",
     "output_type": "stream",
     "text": [
      "['ax', 'b__x'] ['ay', 'a + b + 2']\n"
     ]
    }
   ],
   "source": [
    "wf = Workflow(\"simple\")\n",
    "\n",
    "@Workflow.wrap_as.single_value_node()\n",
    "def add_one(x):\n",
    "    y = x + 1\n",
    "    return y\n",
    "\n",
    "@Workflow.wrap_as.single_value_node(\"sum\")\n",
    "def add_node(x, y):\n",
    "    return x + y\n",
    "\n",
    "wf.a = add_one(0)\n",
    "wf.b = add_one(0)\n",
    "wf.sum = add_node(wf.a, wf.b)  \n",
    "wf.inputs_map = {\"a__x\": \"ax\"}\n",
    "wf.outputs_map = {\"a__y\": \"ay\", \"sum__sum\": \"a + b + 2\"}\n",
    "# Remember, with single value nodes we can pass the whole node instead of an output channel!\n",
    "\n",
    "print(wf.inputs.labels, wf.outputs.labels)"
   ]
  },
  {
   "cell_type": "markdown",
   "id": "848a45a9-dfcc-4b9e-aec5-e879d88325a2",
   "metadata": {},
   "source": [
    "When `run()` is called on a workflow, it will call `run()` on each node in its `starting_nodes` list and rely on these to propagate the execution with their run signals. If your data flow is DAG-like, all of this gets handled automatically so you just need to call `run()` on the workflow.\n",
    "\n",
    "If you do have cyclic data flows, or just want more control, you are still free to set the `starting_nodes` and run signals yourself, just don't forget to set `automate_execution=False` on the workflow."
   ]
  },
  {
   "cell_type": "markdown",
   "id": "18ba07ca-f1f9-4f05-98db-d5612f9acbb6",
   "metadata": {},
   "source": [
    "Unlike function nodes, workflow input has no intrinsic order. We can still update it by calling the workflow, but we _need_ to use keyword and not positional arguments. Runs of the workflow then return a dot-accessible dictionary based on the output channels:"
   ]
  },
  {
   "cell_type": "code",
   "execution_count": 30,
   "id": "52c48d19-10a2-4c48-ae81-eceea4129a60",
   "metadata": {},
   "outputs": [
    {
     "data": {
      "text/plain": [
       "{'ay': 3, 'a + b + 2': 7}"
      ]
     },
     "execution_count": 30,
     "metadata": {},
     "output_type": "execute_result"
    }
   ],
   "source": [
    "out = wf(ax=2, b__x=3)\n",
    "out"
   ]
  },
  {
   "cell_type": "markdown",
   "id": "a229a66b-54f0-4d79-a16f-669c5f755587",
   "metadata": {},
   "source": [
    "Note: Workflows are the \"parent-most\" node, so even though `__call__` is still invoking a `pull`, the \"run all upstream data dependencies\" part of \"run all upstream data dependencies then run yourself\" gets skipped trivially -- workflows can't have siblings or parents so there are no dependencies to run! Thus `__call__` is effectively just a `run`."
   ]
  },
  {
   "cell_type": "markdown",
   "id": "e3f4b51b-7c28-47f7-9822-b4755e12bd4d",
   "metadata": {},
   "source": [
    "We can see now why we've been trying to give succinct string labels to our `Function` node outputs instead of just arbitrary expressions! The expressions are typically not dot-accessible:"
   ]
  },
  {
   "cell_type": "code",
   "execution_count": 31,
   "id": "bb35ba3e-602d-4c9c-b046-32da9401dd1c",
   "metadata": {},
   "outputs": [
    {
     "data": {
      "text/plain": [
       "(7, 3)"
      ]
     },
     "execution_count": 31,
     "metadata": {},
     "output_type": "execute_result"
    }
   ],
   "source": [
    "out[\"a + b + 2\"], out.ay"
   ]
  },
  {
   "cell_type": "markdown",
   "id": "c67ddcd9-cea0-4f3f-96aa-491da0a4c459",
   "metadata": {},
   "source": [
    "We can also look at our graph:"
   ]
  },
  {
   "cell_type": "code",
   "execution_count": 32,
   "id": "2b0d2c85-9049-417b-8739-8a8432a1efbe",
   "metadata": {},
   "outputs": [
    {
     "data": {
      "image/svg+xml": [
       "<?xml version=\"1.0\" encoding=\"UTF-8\" standalone=\"no\"?>\n",
       "<!DOCTYPE svg PUBLIC \"-//W3C//DTD SVG 1.1//EN\"\n",
       " \"http://www.w3.org/Graphics/SVG/1.1/DTD/svg11.dtd\">\n",
       "<!-- Generated by graphviz version 8.0.5 (0)\n",
       " -->\n",
       "<!-- Title: clustersimple Pages: 1 -->\n",
       "<svg width=\"805pt\" height=\"538pt\"\n",
       " viewBox=\"0.00 0.00 804.98 538.25\" xmlns=\"http://www.w3.org/2000/svg\" xmlns:xlink=\"http://www.w3.org/1999/xlink\">\n",
       "<g id=\"graph0\" class=\"graph\" transform=\"scale(1 1) rotate(0) translate(4 534.25)\">\n",
       "<title>clustersimple</title>\n",
       "<polygon fill=\"white\" stroke=\"none\" points=\"-4,4 -4,-534.25 800.98,-534.25 800.98,4 -4,4\"/>\n",
       "<text text-anchor=\"middle\" x=\"398.49\" y=\"-4.95\" font-family=\"Times,serif\" font-size=\"14.00\">simple: Workflow</text>\n",
       "<g id=\"clust1\" class=\"cluster\">\n",
       "<title>clustersimpleInputs</title>\n",
       "<defs>\n",
       "<linearGradient id=\"clust1_l_0\" gradientUnits=\"userSpaceOnUse\" x1=\"8\" y1=\"-148.25\" x2=\"153.25\" y2=\"-148.25\" >\n",
       "<stop offset=\"0\" style=\"stop-color:#7f7f7f;stop-opacity:1.;\"/>\n",
       "<stop offset=\"1\" style=\"stop-color:#d9d9d9;stop-opacity:1.;\"/>\n",
       "</linearGradient>\n",
       "</defs>\n",
       "<polygon fill=\"url(#clust1_l_0)\" stroke=\"black\" points=\"8,-30.25 8,-266.25 153.25,-266.25 153.25,-30.25 8,-30.25\"/>\n",
       "<text text-anchor=\"middle\" x=\"80.62\" y=\"-248.95\" font-family=\"Times,serif\" font-size=\"14.00\">Inputs</text>\n",
       "</g>\n",
       "<g id=\"clust2\" class=\"cluster\">\n",
       "<title>clustersimpleOutputs</title>\n",
       "<defs>\n",
       "<linearGradient id=\"clust2_l_1\" gradientUnits=\"userSpaceOnUse\" x1=\"788.98\" y1=\"-281.25\" x2=\"687.75\" y2=\"-281.25\" >\n",
       "<stop offset=\"0\" style=\"stop-color:#7f7f7f;stop-opacity:1.;\"/>\n",
       "<stop offset=\"1\" style=\"stop-color:#d9d9d9;stop-opacity:1.;\"/>\n",
       "</linearGradient>\n",
       "</defs>\n",
       "<polygon fill=\"url(#clust2_l_1)\" stroke=\"black\" points=\"687.75,-190.25 687.75,-372.25 788.98,-372.25 788.98,-190.25 687.75,-190.25\"/>\n",
       "<text text-anchor=\"middle\" x=\"738.36\" y=\"-354.95\" font-family=\"Times,serif\" font-size=\"14.00\">Outputs</text>\n",
       "</g>\n",
       "<g id=\"clust3\" class=\"cluster\">\n",
       "<title>clustersimplea</title>\n",
       "<defs>\n",
       "<linearGradient id=\"clust3_l_2\" gradientUnits=\"userSpaceOnUse\" x1=\"290.88\" y1=\"-302.25\" x2=\"290.88\" y2=\"-522.25\" >\n",
       "<stop offset=\"0\" style=\"stop-color:#17becf;stop-opacity:1.;\"/>\n",
       "<stop offset=\"1\" style=\"stop-color:#b9ecf1;stop-opacity:1.;\"/>\n",
       "</linearGradient>\n",
       "</defs>\n",
       "<polygon fill=\"url(#clust3_l_2)\" stroke=\"black\" points=\"165.25,-302.25 165.25,-522.25 416.5,-522.25 416.5,-302.25 165.25,-302.25\"/>\n",
       "<text text-anchor=\"middle\" x=\"290.88\" y=\"-504.95\" font-family=\"Times,serif\" font-size=\"14.00\">a: AddOne</text>\n",
       "</g>\n",
       "<g id=\"clust4\" class=\"cluster\">\n",
       "<title>clustersimpleaInputs</title>\n",
       "<defs>\n",
       "<linearGradient id=\"clust4_l_3\" gradientUnits=\"userSpaceOnUse\" x1=\"173.25\" y1=\"-401.25\" x2=\"318.5\" y2=\"-401.25\" >\n",
       "<stop offset=\"0\" style=\"stop-color:#7f7f7f;stop-opacity:1.;\"/>\n",
       "<stop offset=\"1\" style=\"stop-color:#d9d9d9;stop-opacity:1.;\"/>\n",
       "</linearGradient>\n",
       "</defs>\n",
       "<polygon fill=\"url(#clust4_l_3)\" stroke=\"black\" points=\"173.25,-310.25 173.25,-492.25 318.5,-492.25 318.5,-310.25 173.25,-310.25\"/>\n",
       "<text text-anchor=\"middle\" x=\"245.88\" y=\"-474.95\" font-family=\"Times,serif\" font-size=\"14.00\">Inputs</text>\n",
       "</g>\n",
       "<g id=\"clust5\" class=\"cluster\">\n",
       "<title>clustersimpleaOutputs</title>\n",
       "<defs>\n",
       "<linearGradient id=\"clust5_l_4\" gradientUnits=\"userSpaceOnUse\" x1=\"408.5\" y1=\"-389.25\" x2=\"338.5\" y2=\"-389.25\" >\n",
       "<stop offset=\"0\" style=\"stop-color:#7f7f7f;stop-opacity:1.;\"/>\n",
       "<stop offset=\"1\" style=\"stop-color:#d9d9d9;stop-opacity:1.;\"/>\n",
       "</linearGradient>\n",
       "</defs>\n",
       "<polygon fill=\"url(#clust5_l_4)\" stroke=\"black\" points=\"338.5,-325.25 338.5,-453.25 408.5,-453.25 408.5,-325.25 338.5,-325.25\"/>\n",
       "<text text-anchor=\"middle\" x=\"373.5\" y=\"-435.95\" font-family=\"Times,serif\" font-size=\"14.00\">Outputs</text>\n",
       "</g>\n",
       "<g id=\"clust6\" class=\"cluster\">\n",
       "<title>clustersimpleb</title>\n",
       "<defs>\n",
       "<linearGradient id=\"clust6_l_5\" gradientUnits=\"userSpaceOnUse\" x1=\"290.88\" y1=\"-74.25\" x2=\"290.88\" y2=\"-294.25\" >\n",
       "<stop offset=\"0\" style=\"stop-color:#17becf;stop-opacity:1.;\"/>\n",
       "<stop offset=\"1\" style=\"stop-color:#b9ecf1;stop-opacity:1.;\"/>\n",
       "</linearGradient>\n",
       "</defs>\n",
       "<polygon fill=\"url(#clust6_l_5)\" stroke=\"black\" points=\"165.25,-74.25 165.25,-294.25 416.5,-294.25 416.5,-74.25 165.25,-74.25\"/>\n",
       "<text text-anchor=\"middle\" x=\"290.88\" y=\"-276.95\" font-family=\"Times,serif\" font-size=\"14.00\">b: AddOne</text>\n",
       "</g>\n",
       "<g id=\"clust8\" class=\"cluster\">\n",
       "<title>clustersimplebOutputs</title>\n",
       "<defs>\n",
       "<linearGradient id=\"clust8_l_6\" gradientUnits=\"userSpaceOnUse\" x1=\"408.5\" y1=\"-200.25\" x2=\"338.5\" y2=\"-200.25\" >\n",
       "<stop offset=\"0\" style=\"stop-color:#7f7f7f;stop-opacity:1.;\"/>\n",
       "<stop offset=\"1\" style=\"stop-color:#d9d9d9;stop-opacity:1.;\"/>\n",
       "</linearGradient>\n",
       "</defs>\n",
       "<polygon fill=\"url(#clust8_l_6)\" stroke=\"black\" points=\"338.5,-136.25 338.5,-264.25 408.5,-264.25 408.5,-136.25 338.5,-136.25\"/>\n",
       "<text text-anchor=\"middle\" x=\"373.5\" y=\"-246.95\" font-family=\"Times,serif\" font-size=\"14.00\">Outputs</text>\n",
       "</g>\n",
       "<g id=\"clust7\" class=\"cluster\">\n",
       "<title>clustersimplebInputs</title>\n",
       "<defs>\n",
       "<linearGradient id=\"clust7_l_7\" gradientUnits=\"userSpaceOnUse\" x1=\"173.25\" y1=\"-173.25\" x2=\"318.5\" y2=\"-173.25\" >\n",
       "<stop offset=\"0\" style=\"stop-color:#7f7f7f;stop-opacity:1.;\"/>\n",
       "<stop offset=\"1\" style=\"stop-color:#d9d9d9;stop-opacity:1.;\"/>\n",
       "</linearGradient>\n",
       "</defs>\n",
       "<polygon fill=\"url(#clust7_l_7)\" stroke=\"black\" points=\"173.25,-82.25 173.25,-264.25 318.5,-264.25 318.5,-82.25 173.25,-82.25\"/>\n",
       "<text text-anchor=\"middle\" x=\"245.88\" y=\"-246.95\" font-family=\"Times,serif\" font-size=\"14.00\">Inputs</text>\n",
       "</g>\n",
       "<g id=\"clust9\" class=\"cluster\">\n",
       "<title>clustersimplesum</title>\n",
       "<defs>\n",
       "<linearGradient id=\"clust9_l_8\" gradientUnits=\"userSpaceOnUse\" x1=\"550.12\" y1=\"-128.25\" x2=\"550.12\" y2=\"-402.25\" >\n",
       "<stop offset=\"0\" style=\"stop-color:#17becf;stop-opacity:1.;\"/>\n",
       "<stop offset=\"1\" style=\"stop-color:#b9ecf1;stop-opacity:1.;\"/>\n",
       "</linearGradient>\n",
       "</defs>\n",
       "<polygon fill=\"url(#clust9_l_8)\" stroke=\"black\" points=\"424.5,-128.25 424.5,-402.25 675.75,-402.25 675.75,-128.25 424.5,-128.25\"/>\n",
       "<text text-anchor=\"middle\" x=\"550.12\" y=\"-384.95\" font-family=\"Times,serif\" font-size=\"14.00\">sum: AddNode</text>\n",
       "</g>\n",
       "<g id=\"clust10\" class=\"cluster\">\n",
       "<title>clustersimplesumInputs</title>\n",
       "<defs>\n",
       "<linearGradient id=\"clust10_l_9\" gradientUnits=\"userSpaceOnUse\" x1=\"432.5\" y1=\"-254.25\" x2=\"577.75\" y2=\"-254.25\" >\n",
       "<stop offset=\"0\" style=\"stop-color:#7f7f7f;stop-opacity:1.;\"/>\n",
       "<stop offset=\"1\" style=\"stop-color:#d9d9d9;stop-opacity:1.;\"/>\n",
       "</linearGradient>\n",
       "</defs>\n",
       "<polygon fill=\"url(#clust10_l_9)\" stroke=\"black\" points=\"432.5,-136.25 432.5,-372.25 577.75,-372.25 577.75,-136.25 432.5,-136.25\"/>\n",
       "<text text-anchor=\"middle\" x=\"505.13\" y=\"-354.95\" font-family=\"Times,serif\" font-size=\"14.00\">Inputs</text>\n",
       "</g>\n",
       "<g id=\"clust11\" class=\"cluster\">\n",
       "<title>clustersimplesumOutputs</title>\n",
       "<defs>\n",
       "<linearGradient id=\"clust11_l_10\" gradientUnits=\"userSpaceOnUse\" x1=\"667.75\" y1=\"-308.25\" x2=\"597.75\" y2=\"-308.25\" >\n",
       "<stop offset=\"0\" style=\"stop-color:#7f7f7f;stop-opacity:1.;\"/>\n",
       "<stop offset=\"1\" style=\"stop-color:#d9d9d9;stop-opacity:1.;\"/>\n",
       "</linearGradient>\n",
       "</defs>\n",
       "<polygon fill=\"url(#clust11_l_10)\" stroke=\"black\" points=\"597.75,-244.25 597.75,-372.25 667.75,-372.25 667.75,-244.25 597.75,-244.25\"/>\n",
       "<text text-anchor=\"middle\" x=\"632.75\" y=\"-354.95\" font-family=\"Times,serif\" font-size=\"14.00\">Outputs</text>\n",
       "</g>\n",
       "<!-- clustersimpleInputsrun -->\n",
       "<g id=\"node1\" class=\"node\">\n",
       "<title>clustersimpleInputsrun</title>\n",
       "<polygon fill=\"#1f77b4\" stroke=\"#1f77b4\" points=\"95.62,-68.25 53.62,-68.25 53.62,-44.25 95.62,-44.25 107.62,-56.25 95.62,-68.25\"/>\n",
       "<text text-anchor=\"middle\" x=\"80.62\" y=\"-50.08\" font-family=\"Times,serif\" font-size=\"14.00\">run</text>\n",
       "</g>\n",
       "<!-- clustersimpleOutputsran -->\n",
       "<g id=\"node5\" class=\"node\">\n",
       "<title>clustersimpleOutputsran</title>\n",
       "<polygon fill=\"#1f77b4\" stroke=\"#1f77b4\" points=\"753.36,-228.25 711.36,-228.25 711.36,-204.25 753.36,-204.25 765.36,-216.25 753.36,-228.25\"/>\n",
       "<text text-anchor=\"middle\" x=\"738.36\" y=\"-210.07\" font-family=\"Times,serif\" font-size=\"14.00\">ran</text>\n",
       "</g>\n",
       "<!-- clustersimpleInputsrun&#45;&gt;clustersimpleOutputsran -->\n",
       "<!-- clustersimpleInputsaccumulate_and_run -->\n",
       "<g id=\"node2\" class=\"node\">\n",
       "<title>clustersimpleInputsaccumulate_and_run</title>\n",
       "<polygon fill=\"#1f77b4\" stroke=\"#1f77b4\" points=\"133.25,-176.25 16,-176.25 16,-152.25 133.25,-152.25 145.25,-164.25 133.25,-176.25\"/>\n",
       "<text text-anchor=\"middle\" x=\"80.62\" y=\"-158.07\" font-family=\"Times,serif\" font-size=\"14.00\">accumulate_and_run</text>\n",
       "</g>\n",
       "<!-- clustersimpleInputsax -->\n",
       "<g id=\"node3\" class=\"node\">\n",
       "<title>clustersimpleInputsax</title>\n",
       "<ellipse fill=\"#ff7f0e\" stroke=\"#ff7f0e\" cx=\"80.62\" cy=\"-218.25\" rx=\"27\" ry=\"18\"/>\n",
       "<text text-anchor=\"middle\" x=\"80.62\" y=\"-212.07\" font-family=\"Times,serif\" font-size=\"14.00\">ax</text>\n",
       "</g>\n",
       "<!-- clustersimpleaInputsx -->\n",
       "<g id=\"node10\" class=\"node\">\n",
       "<title>clustersimpleaInputsx</title>\n",
       "<ellipse fill=\"#ff7f0e\" stroke=\"#ff7f0e\" cx=\"245.88\" cy=\"-336.25\" rx=\"27\" ry=\"18\"/>\n",
       "<text text-anchor=\"middle\" x=\"245.88\" y=\"-330.07\" font-family=\"Times,serif\" font-size=\"14.00\">x</text>\n",
       "</g>\n",
       "<!-- clustersimpleInputsax&#45;&gt;clustersimpleaInputsx -->\n",
       "<g id=\"edge9\" class=\"edge\">\n",
       "<title>clustersimpleInputsax&#45;&gt;clustersimpleaInputsx</title>\n",
       "<path fill=\"none\" stroke=\"#ff7f0e\" d=\"M99.72,-231.33C114.06,-241.7 135.25,-257.01 157.03,-272.76\"/>\n",
       "<path fill=\"none\" stroke=\"#ff7f0e\" d=\"M157.03,-272.76C178.82,-288.5 201.19,-304.68 217.91,-316.76\"/>\n",
       "<polygon fill=\"#ff7f0e\" stroke=\"#ff7f0e\" points=\"215.54,-320.09 225.7,-323.11 219.65,-314.42 215.54,-320.09\"/>\n",
       "</g>\n",
       "<!-- clustersimpleInputsb__x -->\n",
       "<g id=\"node4\" class=\"node\">\n",
       "<title>clustersimpleInputsb__x</title>\n",
       "<ellipse fill=\"#ff7f0e\" stroke=\"#ff7f0e\" cx=\"80.62\" cy=\"-110.25\" rx=\"27.35\" ry=\"18\"/>\n",
       "<text text-anchor=\"middle\" x=\"80.62\" y=\"-104.08\" font-family=\"Times,serif\" font-size=\"14.00\">b__x</text>\n",
       "</g>\n",
       "<!-- clustersimplebInputsx -->\n",
       "<g id=\"node15\" class=\"node\">\n",
       "<title>clustersimplebInputsx</title>\n",
       "<ellipse fill=\"#ff7f0e\" stroke=\"#ff7f0e\" cx=\"245.88\" cy=\"-108.25\" rx=\"27\" ry=\"18\"/>\n",
       "<text text-anchor=\"middle\" x=\"245.88\" y=\"-102.08\" font-family=\"Times,serif\" font-size=\"14.00\">x</text>\n",
       "</g>\n",
       "<!-- clustersimpleInputsb__x&#45;&gt;clustersimplebInputsx -->\n",
       "<g id=\"edge10\" class=\"edge\">\n",
       "<title>clustersimpleInputsb__x&#45;&gt;clustersimplebInputsx</title>\n",
       "<path fill=\"none\" stroke=\"#ff7f0e\" d=\"M108.22,-109.92C121.72,-109.76 138.97,-109.55 156.65,-109.33\"/>\n",
       "<path fill=\"none\" stroke=\"#ff7f0e\" d=\"M156.65,-109.33C174.32,-109.11 192.41,-108.89 207.57,-108.71\"/>\n",
       "<polygon fill=\"#ff7f0e\" stroke=\"#ff7f0e\" points=\"207.61,-112.19 217.56,-108.57 207.52,-105.2 207.61,-112.19\"/>\n",
       "</g>\n",
       "<!-- clustersimpleOutputsay -->\n",
       "<g id=\"node6\" class=\"node\">\n",
       "<title>clustersimpleOutputsay</title>\n",
       "<ellipse fill=\"#ff7f0e\" stroke=\"#ff7f0e\" cx=\"738.36\" cy=\"-324.25\" rx=\"27\" ry=\"18\"/>\n",
       "<text text-anchor=\"middle\" x=\"738.36\" y=\"-318.07\" font-family=\"Times,serif\" font-size=\"14.00\">ay</text>\n",
       "</g>\n",
       "<!-- clustersimpleOutputsa + b + 2 -->\n",
       "<g id=\"node7\" class=\"node\">\n",
       "<title>clustersimpleOutputsa + b + 2</title>\n",
       "<ellipse fill=\"#ff7f0e\" stroke=\"#ff7f0e\" cx=\"738.36\" cy=\"-270.25\" rx=\"42.61\" ry=\"18\"/>\n",
       "<text text-anchor=\"middle\" x=\"738.36\" y=\"-264.07\" font-family=\"Times,serif\" font-size=\"14.00\">a + b + 2</text>\n",
       "</g>\n",
       "<!-- clustersimpleaInputsrun -->\n",
       "<g id=\"node8\" class=\"node\">\n",
       "<title>clustersimpleaInputsrun</title>\n",
       "<polygon fill=\"#1f77b4\" stroke=\"#1f77b4\" points=\"260.88,-456.25 218.88,-456.25 218.88,-432.25 260.88,-432.25 272.88,-444.25 260.88,-456.25\"/>\n",
       "<text text-anchor=\"middle\" x=\"245.88\" y=\"-438.07\" font-family=\"Times,serif\" font-size=\"14.00\">run</text>\n",
       "</g>\n",
       "<!-- clustersimpleaOutputsran -->\n",
       "<g id=\"node11\" class=\"node\">\n",
       "<title>clustersimpleaOutputsran</title>\n",
       "<polygon fill=\"#1f77b4\" stroke=\"#1f77b4\" points=\"388.5,-363.25 346.5,-363.25 346.5,-339.25 388.5,-339.25 400.5,-351.25 388.5,-363.25\"/>\n",
       "<text text-anchor=\"middle\" x=\"373.5\" y=\"-345.07\" font-family=\"Times,serif\" font-size=\"14.00\">ran</text>\n",
       "</g>\n",
       "<!-- clustersimpleaInputsrun&#45;&gt;clustersimpleaOutputsran -->\n",
       "<!-- clustersimpleaInputsaccumulate_and_run -->\n",
       "<g id=\"node9\" class=\"node\">\n",
       "<title>clustersimpleaInputsaccumulate_and_run</title>\n",
       "<polygon fill=\"#1f77b4\" stroke=\"#1f77b4\" points=\"298.5,-402.25 181.25,-402.25 181.25,-378.25 298.5,-378.25 310.5,-390.25 298.5,-402.25\"/>\n",
       "<text text-anchor=\"middle\" x=\"245.88\" y=\"-384.07\" font-family=\"Times,serif\" font-size=\"14.00\">accumulate_and_run</text>\n",
       "</g>\n",
       "<!-- clustersimplesumInputsaccumulate_and_run -->\n",
       "<g id=\"node19\" class=\"node\">\n",
       "<title>clustersimplesumInputsaccumulate_and_run</title>\n",
       "<polygon fill=\"#1f77b4\" stroke=\"#1f77b4\" points=\"557.75,-228.25 440.5,-228.25 440.5,-204.25 557.75,-204.25 569.75,-216.25 557.75,-228.25\"/>\n",
       "<text text-anchor=\"middle\" x=\"505.13\" y=\"-210.07\" font-family=\"Times,serif\" font-size=\"14.00\">accumulate_and_run</text>\n",
       "</g>\n",
       "<!-- clustersimpleaOutputsran&#45;&gt;clustersimplesumInputsaccumulate_and_run -->\n",
       "<g id=\"edge5\" class=\"edge\">\n",
       "<title>clustersimpleaOutputsran&#45;&gt;clustersimplesumInputsaccumulate_and_run</title>\n",
       "<path fill=\"none\" stroke=\"#1f77b4\" d=\"M384.87,-332.86C391.89,-320.06 401.35,-302.12 409.61,-284.08\"/>\n",
       "<path fill=\"none\" stroke=\"#1f77b4\" d=\"M409.61,-284.08C412.04,-278.77 414.37,-273.45 416.5,-268.25 420.93,-257.46 416.32,-251.57 424.5,-243.25 426.47,-241.25 428.59,-239.39 430.84,-237.67\"/>\n",
       "<polygon fill=\"#1f77b4\" stroke=\"#1f77b4\" points=\"432.54,-240.09 439.01,-231.71 428.72,-234.23 432.54,-240.09\"/>\n",
       "</g>\n",
       "<!-- clustersimpleaOutputsy -->\n",
       "<g id=\"node12\" class=\"node\">\n",
       "<title>clustersimpleaOutputsy</title>\n",
       "<ellipse fill=\"#ff7f0e\" stroke=\"#ff7f0e\" cx=\"373.5\" cy=\"-405.25\" rx=\"27\" ry=\"18\"/>\n",
       "<text text-anchor=\"middle\" x=\"373.5\" y=\"-399.07\" font-family=\"Times,serif\" font-size=\"14.00\">y</text>\n",
       "</g>\n",
       "<!-- clustersimpleaOutputsy&#45;&gt;clustersimpleOutputsay -->\n",
       "<g id=\"edge11\" class=\"edge\">\n",
       "<title>clustersimpleaOutputsy&#45;&gt;clustersimpleOutputsay</title>\n",
       "<path fill=\"none\" stroke=\"#ff7f0e\" d=\"M400.33,-407.77C431.92,-410.23 488.73,-412.75 549.53,-406.26\"/>\n",
       "<path fill=\"none\" stroke=\"#ff7f0e\" d=\"M549.53,-406.26C592.07,-401.71 636.57,-392.74 675.75,-376.25 690.96,-369.84 705.24,-358.3 716.21,-347.72\"/>\n",
       "<polygon fill=\"#ff7f0e\" stroke=\"#ff7f0e\" points=\"718.38,-350.49 722.91,-340.91 713.4,-345.57 718.38,-350.49\"/>\n",
       "</g>\n",
       "<!-- clustersimplesumInputsx -->\n",
       "<g id=\"node20\" class=\"node\">\n",
       "<title>clustersimplesumInputsx</title>\n",
       "<ellipse fill=\"#ff7f0e\" stroke=\"#ff7f0e\" cx=\"505.12\" cy=\"-270.25\" rx=\"27\" ry=\"18\"/>\n",
       "<text text-anchor=\"middle\" x=\"505.13\" y=\"-264.07\" font-family=\"Times,serif\" font-size=\"14.00\">x</text>\n",
       "</g>\n",
       "<!-- clustersimpleaOutputsy&#45;&gt;clustersimplesumInputsx -->\n",
       "<g id=\"edge6\" class=\"edge\">\n",
       "<title>clustersimpleaOutputsy&#45;&gt;clustersimplesumInputsx</title>\n",
       "<path fill=\"none\" stroke=\"#ff7f0e\" d=\"M396.8,-395.88C404.28,-391.61 411.89,-385.79 416.5,-378.25 422.49,-368.45 419.56,-344.15 419.51,-324.08\"/>\n",
       "<path fill=\"none\" stroke=\"#ff7f0e\" d=\"M419.51,-324.08C419.48,-312.55 420.39,-302.42 424.5,-297.25 434.9,-284.15 451.94,-277.37 467.59,-273.88\"/>\n",
       "<polygon fill=\"#ff7f0e\" stroke=\"#ff7f0e\" points=\"467.9,-277.19 477.11,-271.94 466.64,-270.31 467.9,-277.19\"/>\n",
       "</g>\n",
       "<!-- clustersimplebInputsrun -->\n",
       "<g id=\"node13\" class=\"node\">\n",
       "<title>clustersimplebInputsrun</title>\n",
       "<polygon fill=\"#1f77b4\" stroke=\"#1f77b4\" points=\"260.88,-228.25 218.88,-228.25 218.88,-204.25 260.88,-204.25 272.88,-216.25 260.88,-228.25\"/>\n",
       "<text text-anchor=\"middle\" x=\"245.88\" y=\"-210.07\" font-family=\"Times,serif\" font-size=\"14.00\">run</text>\n",
       "</g>\n",
       "<!-- clustersimplebOutputsran -->\n",
       "<g id=\"node16\" class=\"node\">\n",
       "<title>clustersimplebOutputsran</title>\n",
       "<polygon fill=\"#1f77b4\" stroke=\"#1f77b4\" points=\"388.5,-228.25 346.5,-228.25 346.5,-204.25 388.5,-204.25 400.5,-216.25 388.5,-228.25\"/>\n",
       "<text text-anchor=\"middle\" x=\"373.5\" y=\"-210.07\" font-family=\"Times,serif\" font-size=\"14.00\">ran</text>\n",
       "</g>\n",
       "<!-- clustersimplebInputsrun&#45;&gt;clustersimplebOutputsran -->\n",
       "<!-- clustersimplebInputsaccumulate_and_run -->\n",
       "<g id=\"node14\" class=\"node\">\n",
       "<title>clustersimplebInputsaccumulate_and_run</title>\n",
       "<polygon fill=\"#1f77b4\" stroke=\"#1f77b4\" points=\"298.5,-174.25 181.25,-174.25 181.25,-150.25 298.5,-150.25 310.5,-162.25 298.5,-174.25\"/>\n",
       "<text text-anchor=\"middle\" x=\"245.88\" y=\"-156.07\" font-family=\"Times,serif\" font-size=\"14.00\">accumulate_and_run</text>\n",
       "</g>\n",
       "<!-- clustersimplebOutputsran&#45;&gt;clustersimplesumInputsaccumulate_and_run -->\n",
       "<g id=\"edge7\" class=\"edge\">\n",
       "<title>clustersimplebOutputsran&#45;&gt;clustersimplesumInputsaccumulate_and_run</title>\n",
       "<path fill=\"none\" stroke=\"#1f77b4\" d=\"M400.73,-216.25C404.99,-216.25 409.59,-216.25 414.41,-216.25\"/>\n",
       "<path fill=\"none\" stroke=\"#1f77b4\" d=\"M414.41,-216.25C419.23,-216.25 424.27,-216.25 429.39,-216.25\"/>\n",
       "<polygon fill=\"#1f77b4\" stroke=\"#1f77b4\" points=\"429.15,-219.75 439.15,-216.25 429.15,-212.75 429.15,-219.75\"/>\n",
       "</g>\n",
       "<!-- clustersimplebOutputsy -->\n",
       "<g id=\"node17\" class=\"node\">\n",
       "<title>clustersimplebOutputsy</title>\n",
       "<ellipse fill=\"#ff7f0e\" stroke=\"#ff7f0e\" cx=\"373.5\" cy=\"-162.25\" rx=\"27\" ry=\"18\"/>\n",
       "<text text-anchor=\"middle\" x=\"373.5\" y=\"-156.07\" font-family=\"Times,serif\" font-size=\"14.00\">y</text>\n",
       "</g>\n",
       "<!-- clustersimplesumInputsy -->\n",
       "<g id=\"node21\" class=\"node\">\n",
       "<title>clustersimplesumInputsy</title>\n",
       "<ellipse fill=\"#ff7f0e\" stroke=\"#ff7f0e\" cx=\"505.12\" cy=\"-162.25\" rx=\"27\" ry=\"18\"/>\n",
       "<text text-anchor=\"middle\" x=\"505.13\" y=\"-156.07\" font-family=\"Times,serif\" font-size=\"14.00\">y</text>\n",
       "</g>\n",
       "<!-- clustersimplebOutputsy&#45;&gt;clustersimplesumInputsy -->\n",
       "<g id=\"edge8\" class=\"edge\">\n",
       "<title>clustersimplebOutputsy&#45;&gt;clustersimplesumInputsy</title>\n",
       "<path fill=\"none\" stroke=\"#ff7f0e\" d=\"M400.73,-162.25C410.26,-162.25 421.55,-162.25 433.09,-162.25\"/>\n",
       "<path fill=\"none\" stroke=\"#ff7f0e\" d=\"M433.09,-162.25C444.64,-162.25 456.45,-162.25 467.05,-162.25\"/>\n",
       "<polygon fill=\"#ff7f0e\" stroke=\"#ff7f0e\" points=\"466.93,-165.75 476.93,-162.25 466.93,-158.75 466.93,-165.75\"/>\n",
       "</g>\n",
       "<!-- clustersimplesumInputsrun -->\n",
       "<g id=\"node18\" class=\"node\">\n",
       "<title>clustersimplesumInputsrun</title>\n",
       "<polygon fill=\"#1f77b4\" stroke=\"#1f77b4\" points=\"520.12,-336.25 478.13,-336.25 478.13,-312.25 520.12,-312.25 532.12,-324.25 520.12,-336.25\"/>\n",
       "<text text-anchor=\"middle\" x=\"505.13\" y=\"-318.07\" font-family=\"Times,serif\" font-size=\"14.00\">run</text>\n",
       "</g>\n",
       "<!-- clustersimplesumOutputsran -->\n",
       "<g id=\"node22\" class=\"node\">\n",
       "<title>clustersimplesumOutputsran</title>\n",
       "<polygon fill=\"#1f77b4\" stroke=\"#1f77b4\" points=\"647.75,-336.25 605.75,-336.25 605.75,-312.25 647.75,-312.25 659.75,-324.25 647.75,-336.25\"/>\n",
       "<text text-anchor=\"middle\" x=\"632.75\" y=\"-318.07\" font-family=\"Times,serif\" font-size=\"14.00\">ran</text>\n",
       "</g>\n",
       "<!-- clustersimplesumInputsrun&#45;&gt;clustersimplesumOutputsran -->\n",
       "<!-- clustersimplesumOutputssum -->\n",
       "<g id=\"node23\" class=\"node\">\n",
       "<title>clustersimplesumOutputssum</title>\n",
       "<ellipse fill=\"#ff7f0e\" stroke=\"#ff7f0e\" cx=\"632.75\" cy=\"-270.25\" rx=\"27\" ry=\"18\"/>\n",
       "<text text-anchor=\"middle\" x=\"632.75\" y=\"-264.07\" font-family=\"Times,serif\" font-size=\"14.00\">sum</text>\n",
       "</g>\n",
       "<!-- clustersimplesumOutputssum&#45;&gt;clustersimpleOutputsa + b + 2 -->\n",
       "<g id=\"edge12\" class=\"edge\">\n",
       "<title>clustersimplesumOutputssum&#45;&gt;clustersimpleOutputsa + b + 2</title>\n",
       "<path fill=\"none\" stroke=\"#ff7f0e\" d=\"M660.16,-270.25C663.87,-270.25 667.82,-270.25 671.88,-270.25\"/>\n",
       "<path fill=\"none\" stroke=\"#ff7f0e\" d=\"M671.88,-270.25C675.94,-270.25 680.12,-270.25 684.32,-270.25\"/>\n",
       "<polygon fill=\"#ff7f0e\" stroke=\"#ff7f0e\" points=\"684.29,-273.75 694.29,-270.25 684.29,-266.75 684.29,-273.75\"/>\n",
       "</g>\n",
       "</g>\n",
       "</svg>\n"
      ],
      "text/plain": [
       "<graphviz.graphs.Digraph at 0x140487290>"
      ]
     },
     "execution_count": 32,
     "metadata": {},
     "output_type": "execute_result"
    }
   ],
   "source": [
    "wf.draw()"
   ]
  },
  {
   "cell_type": "markdown",
   "id": "2671dc36-42a4-466b-848d-067ef7bd1d1d",
   "metadata": {},
   "source": [
    "# Example with pre-built nodes\n",
    "\n",
    "Currently we have a handfull of pre-build nodes available for import from the `nodes` package. Let's use these to quickly put together a workflow for looking at some MD data.\n",
    "\n",
    "To access prebuilt nodes we can `.create` them. This works both from the workflow class _and_ from a workflow instance. In the latter case, created nodes automatically take the creating workflow instance as their `parent`.\n",
    "\n",
    "There are a few of nodes that are always available under the `Workflow.create.standard` namespace, otherwise we need to register new node packages. This is done with the `register` method, which takes the domain (namespace/key/attribute/whatever you want to call it) under which you want to register the new nodes, and a string import path to a module that has a list of nodes under the name `nodes`, i.e. the module has the property `nodes: list[pyiron_workflow.nodes.Node]`. (This API is subject to change, as we work to improve usability and bring node packages more and more in line with \"FAIR\" principles.)\n",
    "\n",
    "You can make your own `.py` files with nodes for reuse this way, but `pyiron_workflow` also comes with a couple of packages. In this example we'll use atomistics and plotting:"
   ]
  },
  {
   "cell_type": "code",
   "execution_count": 33,
   "id": "ae500d5e-e55b-432c-8b5f-d5892193cdf5",
   "metadata": {},
   "outputs": [
    {
     "data": {
      "application/vnd.jupyter.widget-view+json": {
       "model_id": "0610260cf21d495aae17912051d50ef0",
       "version_major": 2,
       "version_minor": 0
      },
      "text/plain": []
     },
     "metadata": {},
     "output_type": "display_data"
    },
    {
     "name": "stdout",
     "output_type": "stream",
     "text": [
      "The job JUSTAJOBNAME was saved and received the ID: 9562\n"
     ]
    },
    {
     "data": {
      "text/plain": [
       "<matplotlib.collections.PathCollection at 0x14c293ed0>"
      ]
     },
     "execution_count": 33,
     "metadata": {},
     "output_type": "execute_result"
    },
    {
     "data": {
      "image/png": "[encoded data removed]",
      "text/plain": [
       "<Figure size 640x480 with 1 Axes>"
      ]
     },
     "metadata": {},
     "output_type": "display_data"
    }
   ],
   "source": [
    "wf.register(\"atomistics\", \"pyiron_workflow.node_library.atomistics\")\n",
    "wf.register(\"plotting\", \"pyiron_workflow.node_library.plotting\")\n",
    "\n",
    "wf = Workflow(\"with_prebuilt\")\n",
    "\n",
    "wf.structure = wf.create.atomistics.Bulk(cubic=True, name=\"Al\")\n",
    "wf.engine = wf.create.atomistics.Lammps(structure=wf.structure)\n",
    "wf.calc = wf.create.atomistics.CalcMd(job=wf.engine)\n",
    "wf.plot = wf.create.plotting.Scatter(\n",
    "    x=wf.calc.outputs.steps, \n",
    "    y=wf.calc.outputs.temperature\n",
    ")\n",
    "\n",
    "out = wf.run()\n",
    "out.plot__fig"
   ]
  },
  {
   "cell_type": "markdown",
   "id": "43c09aa8-8229-4636-aaeb-9214b723c2fc",
   "metadata": {},
   "source": [
    "In case you want to see more or less of the inner workings of the nodes when visualizing a workflow, you can modify the `depth` parameter, which controls how deeply child nodes are decomposed. E.g. we can force our workflow to only show us it's basic IO by setting `depth=0`:"
   ]
  },
  {
   "cell_type": "code",
   "execution_count": 34,
   "id": "2114d0c3-cdad-43c7-9ffa-50c36d56d18f",
   "metadata": {},
   "outputs": [
    {
     "data": {
      "image/svg+xml": [
       "<?xml version=\"1.0\" encoding=\"UTF-8\" standalone=\"no\"?>\n",
       "<!DOCTYPE svg PUBLIC \"-//W3C//DTD SVG 1.1//EN\"\n",
       " \"http://www.w3.org/Graphics/SVG/1.1/DTD/svg11.dtd\">\n",
       "<!-- Generated by graphviz version 8.0.5 (0)\n",
       " -->\n",
       "<!-- Title: clusterwith_prebuilt Pages: 1 -->\n",
       "<svg width=\"492pt\" height=\"822pt\"\n",
       " viewBox=\"0.00 0.00 491.64 822.25\" xmlns=\"http://www.w3.org/2000/svg\" xmlns:xlink=\"http://www.w3.org/1999/xlink\">\n",
       "<g id=\"graph0\" class=\"graph\" transform=\"scale(1 1) rotate(0) translate(4 818.25)\">\n",
       "<title>clusterwith_prebuilt</title>\n",
       "<polygon fill=\"white\" stroke=\"none\" points=\"-4,4 -4,-818.25 487.64,-818.25 487.64,4 -4,4\"/>\n",
       "<text text-anchor=\"middle\" x=\"241.82\" y=\"-4.95\" font-family=\"Times,serif\" font-size=\"14.00\">with_prebuilt: Workflow</text>\n",
       "<g id=\"clust1\" class=\"cluster\">\n",
       "<title>clusterwith_prebuiltInputs</title>\n",
       "<defs>\n",
       "<linearGradient id=\"clust1_l_0\" gradientUnits=\"userSpaceOnUse\" x1=\"8\" y1=\"-418.25\" x2=\"227.53\" y2=\"-418.25\" >\n",
       "<stop offset=\"0\" style=\"stop-color:#7f7f7f;stop-opacity:1.;\"/>\n",
       "<stop offset=\"1\" style=\"stop-color:#d9d9d9;stop-opacity:1.;\"/>\n",
       "</linearGradient>\n",
       "</defs>\n",
       "<polygon fill=\"url(#clust1_l_0)\" stroke=\"black\" points=\"8,-30.25 8,-806.25 227.53,-806.25 227.53,-30.25 8,-30.25\"/>\n",
       "<text text-anchor=\"middle\" x=\"117.76\" y=\"-788.95\" font-family=\"Times,serif\" font-size=\"14.00\">Inputs</text>\n",
       "</g>\n",
       "<g id=\"clust2\" class=\"cluster\">\n",
       "<title>clusterwith_prebuiltOutputs</title>\n",
       "<defs>\n",
       "<linearGradient id=\"clust2_l_1\" gradientUnits=\"userSpaceOnUse\" x1=\"475.64\" y1=\"-418.25\" x2=\"247.53\" y2=\"-418.25\" >\n",
       "<stop offset=\"0\" style=\"stop-color:#7f7f7f;stop-opacity:1.;\"/>\n",
       "<stop offset=\"1\" style=\"stop-color:#d9d9d9;stop-opacity:1.;\"/>\n",
       "</linearGradient>\n",
       "</defs>\n",
       "<polygon fill=\"url(#clust2_l_1)\" stroke=\"black\" points=\"247.53,-30.25 247.53,-806.25 475.64,-806.25 475.64,-30.25 247.53,-30.25\"/>\n",
       "<text text-anchor=\"middle\" x=\"361.58\" y=\"-788.95\" font-family=\"Times,serif\" font-size=\"14.00\">Outputs</text>\n",
       "</g>\n",
       "<!-- clusterwith_prebuiltInputsrun -->\n",
       "<g id=\"node1\" class=\"node\">\n",
       "<title>clusterwith_prebuiltInputsrun</title>\n",
       "<polygon fill=\"#1f77b4\" stroke=\"#1f77b4\" points=\"132.76,-770.25 90.76,-770.25 90.76,-746.25 132.76,-746.25 144.76,-758.25 132.76,-770.25\"/>\n",
       "<text text-anchor=\"middle\" x=\"117.76\" y=\"-752.08\" font-family=\"Times,serif\" font-size=\"14.00\">run</text>\n",
       "</g>\n",
       "<!-- clusterwith_prebuiltOutputsran -->\n",
       "<g id=\"node15\" class=\"node\">\n",
       "<title>clusterwith_prebuiltOutputsran</title>\n",
       "<polygon fill=\"#1f77b4\" stroke=\"#1f77b4\" points=\"376.58,-770.25 334.58,-770.25 334.58,-746.25 376.58,-746.25 388.58,-758.25 376.58,-770.25\"/>\n",
       "<text text-anchor=\"middle\" x=\"361.58\" y=\"-752.08\" font-family=\"Times,serif\" font-size=\"14.00\">ran</text>\n",
       "</g>\n",
       "<!-- clusterwith_prebuiltInputsrun&#45;&gt;clusterwith_prebuiltOutputsran -->\n",
       "<!-- clusterwith_prebuiltInputsaccumulate_and_run -->\n",
       "<g id=\"node2\" class=\"node\">\n",
       "<title>clusterwith_prebuiltInputsaccumulate_and_run</title>\n",
       "<polygon fill=\"#1f77b4\" stroke=\"#1f77b4\" points=\"170.39,-716.25 53.14,-716.25 53.14,-692.25 170.39,-692.25 182.39,-704.25 170.39,-716.25\"/>\n",
       "<text text-anchor=\"middle\" x=\"117.76\" y=\"-698.08\" font-family=\"Times,serif\" font-size=\"14.00\">accumulate_and_run</text>\n",
       "</g>\n",
       "<!-- clusterwith_prebuiltInputsstructure__name -->\n",
       "<g id=\"node3\" class=\"node\">\n",
       "<title>clusterwith_prebuiltInputsstructure__name</title>\n",
       "<ellipse fill=\"#ff7f0e\" stroke=\"#ff7f0e\" cx=\"117.76\" cy=\"-650.25\" rx=\"67.9\" ry=\"18\"/>\n",
       "<text text-anchor=\"middle\" x=\"117.76\" y=\"-644.08\" font-family=\"Times,serif\" font-size=\"14.00\">structure__name</text>\n",
       "</g>\n",
       "<!-- clusterwith_prebuiltInputsstructure__crystalstructure -->\n",
       "<g id=\"node4\" class=\"node\">\n",
       "<title>clusterwith_prebuiltInputsstructure__crystalstructure</title>\n",
       "<ellipse fill=\"#ff7f0e\" stroke=\"#ff7f0e\" cx=\"117.76\" cy=\"-596.25\" rx=\"101.76\" ry=\"18\"/>\n",
       "<text text-anchor=\"middle\" x=\"117.76\" y=\"-590.08\" font-family=\"Times,serif\" font-size=\"14.00\">structure__crystalstructure</text>\n",
       "</g>\n",
       "<!-- clusterwith_prebuiltInputsstructure__a -->\n",
       "<g id=\"node5\" class=\"node\">\n",
       "<title>clusterwith_prebuiltInputsstructure__a</title>\n",
       "<ellipse fill=\"#ff7f0e\" stroke=\"#ff7f0e\" cx=\"117.76\" cy=\"-542.25\" rx=\"52.63\" ry=\"18\"/>\n",
       "<text text-anchor=\"middle\" x=\"117.76\" y=\"-536.08\" font-family=\"Times,serif\" font-size=\"14.00\">structure__a</text>\n",
       "</g>\n",
       "<!-- clusterwith_prebuiltInputsstructure__c -->\n",
       "<g id=\"node6\" class=\"node\">\n",
       "<title>clusterwith_prebuiltInputsstructure__c</title>\n",
       "<ellipse fill=\"#ff7f0e\" stroke=\"#ff7f0e\" cx=\"117.76\" cy=\"-488.25\" rx=\"52.63\" ry=\"18\"/>\n",
       "<text text-anchor=\"middle\" x=\"117.76\" y=\"-482.07\" font-family=\"Times,serif\" font-size=\"14.00\">structure__c</text>\n",
       "</g>\n",
       "<!-- clusterwith_prebuiltInputsstructure__covera -->\n",
       "<g id=\"node7\" class=\"node\">\n",
       "<title>clusterwith_prebuiltInputsstructure__covera</title>\n",
       "<ellipse fill=\"#ff7f0e\" stroke=\"#ff7f0e\" cx=\"117.76\" cy=\"-434.25\" rx=\"71.71\" ry=\"18\"/>\n",
       "<text text-anchor=\"middle\" x=\"117.76\" y=\"-428.07\" font-family=\"Times,serif\" font-size=\"14.00\">structure__covera</text>\n",
       "</g>\n",
       "<!-- clusterwith_prebuiltInputsstructure__u -->\n",
       "<g id=\"node8\" class=\"node\">\n",
       "<title>clusterwith_prebuiltInputsstructure__u</title>\n",
       "<ellipse fill=\"#ff7f0e\" stroke=\"#ff7f0e\" cx=\"117.76\" cy=\"-380.25\" rx=\"53.11\" ry=\"18\"/>\n",
       "<text text-anchor=\"middle\" x=\"117.76\" y=\"-374.07\" font-family=\"Times,serif\" font-size=\"14.00\">structure__u</text>\n",
       "</g>\n",
       "<!-- clusterwith_prebuiltInputsstructure__orthorhombic -->\n",
       "<g id=\"node9\" class=\"node\">\n",
       "<title>clusterwith_prebuiltInputsstructure__orthorhombic</title>\n",
       "<ellipse fill=\"#ff7f0e\" stroke=\"#ff7f0e\" cx=\"117.76\" cy=\"-326.25\" rx=\"96.04\" ry=\"18\"/>\n",
       "<text text-anchor=\"middle\" x=\"117.76\" y=\"-320.07\" font-family=\"Times,serif\" font-size=\"14.00\">structure__orthorhombic</text>\n",
       "</g>\n",
       "<!-- clusterwith_prebuiltInputsstructure__cubic -->\n",
       "<g id=\"node10\" class=\"node\">\n",
       "<title>clusterwith_prebuiltInputsstructure__cubic</title>\n",
       "<ellipse fill=\"#ff7f0e\" stroke=\"#ff7f0e\" cx=\"117.76\" cy=\"-272.25\" rx=\"67.42\" ry=\"18\"/>\n",
       "<text text-anchor=\"middle\" x=\"117.76\" y=\"-266.07\" font-family=\"Times,serif\" font-size=\"14.00\">structure__cubic</text>\n",
       "</g>\n",
       "<!-- clusterwith_prebuiltInputscalc__n_ionic_steps -->\n",
       "<g id=\"node11\" class=\"node\">\n",
       "<title>clusterwith_prebuiltInputscalc__n_ionic_steps</title>\n",
       "<ellipse fill=\"#ff7f0e\" stroke=\"#ff7f0e\" cx=\"117.76\" cy=\"-218.25\" rx=\"93.65\" ry=\"18\"/>\n",
       "<text text-anchor=\"middle\" x=\"117.76\" y=\"-212.07\" font-family=\"Times,serif\" font-size=\"14.00\">calc__n_ionic_steps: int</text>\n",
       "</g>\n",
       "<!-- clusterwith_prebuiltInputscalc__n_print -->\n",
       "<g id=\"node12\" class=\"node\">\n",
       "<title>clusterwith_prebuiltInputscalc__n_print</title>\n",
       "<ellipse fill=\"#ff7f0e\" stroke=\"#ff7f0e\" cx=\"117.76\" cy=\"-164.25\" rx=\"71.23\" ry=\"18\"/>\n",
       "<text text-anchor=\"middle\" x=\"117.76\" y=\"-158.07\" font-family=\"Times,serif\" font-size=\"14.00\">calc__n_print: int</text>\n",
       "</g>\n",
       "<!-- clusterwith_prebuiltInputscalc__temperature -->\n",
       "<g id=\"node13\" class=\"node\">\n",
       "<title>clusterwith_prebuiltInputscalc__temperature</title>\n",
       "<ellipse fill=\"#ff7f0e\" stroke=\"#ff7f0e\" cx=\"117.76\" cy=\"-110.25\" rx=\"74.1\" ry=\"18\"/>\n",
       "<text text-anchor=\"middle\" x=\"117.76\" y=\"-104.08\" font-family=\"Times,serif\" font-size=\"14.00\">calc__temperature</text>\n",
       "</g>\n",
       "<!-- clusterwith_prebuiltInputscalc__pressure -->\n",
       "<g id=\"node14\" class=\"node\">\n",
       "<title>clusterwith_prebuiltInputscalc__pressure</title>\n",
       "<ellipse fill=\"#ff7f0e\" stroke=\"#ff7f0e\" cx=\"117.76\" cy=\"-56.25\" rx=\"61.22\" ry=\"18\"/>\n",
       "<text text-anchor=\"middle\" x=\"117.76\" y=\"-50.08\" font-family=\"Times,serif\" font-size=\"14.00\">calc__pressure</text>\n",
       "</g>\n",
       "<!-- clusterwith_prebuiltOutputscalc__cells -->\n",
       "<g id=\"node16\" class=\"node\">\n",
       "<title>clusterwith_prebuiltOutputscalc__cells</title>\n",
       "<ellipse fill=\"#ff7f0e\" stroke=\"#ff7f0e\" cx=\"361.58\" cy=\"-704.25\" rx=\"48.34\" ry=\"18\"/>\n",
       "<text text-anchor=\"middle\" x=\"361.58\" y=\"-698.08\" font-family=\"Times,serif\" font-size=\"14.00\">calc__cells</text>\n",
       "</g>\n",
       "<!-- clusterwith_prebuiltOutputscalc__displacements -->\n",
       "<g id=\"node17\" class=\"node\">\n",
       "<title>clusterwith_prebuiltOutputscalc__displacements</title>\n",
       "<ellipse fill=\"#ff7f0e\" stroke=\"#ff7f0e\" cx=\"361.58\" cy=\"-650.25\" rx=\"81.73\" ry=\"18\"/>\n",
       "<text text-anchor=\"middle\" x=\"361.58\" y=\"-644.08\" font-family=\"Times,serif\" font-size=\"14.00\">calc__displacements</text>\n",
       "</g>\n",
       "<!-- clusterwith_prebuiltOutputscalc__energy_pot -->\n",
       "<g id=\"node18\" class=\"node\">\n",
       "<title>clusterwith_prebuiltOutputscalc__energy_pot</title>\n",
       "<ellipse fill=\"#ff7f0e\" stroke=\"#ff7f0e\" cx=\"361.58\" cy=\"-596.25\" rx=\"71.23\" ry=\"18\"/>\n",
       "<text text-anchor=\"middle\" x=\"361.58\" y=\"-590.08\" font-family=\"Times,serif\" font-size=\"14.00\">calc__energy_pot</text>\n",
       "</g>\n",
       "<!-- clusterwith_prebuiltOutputscalc__energy_tot -->\n",
       "<g id=\"node19\" class=\"node\">\n",
       "<title>clusterwith_prebuiltOutputscalc__energy_tot</title>\n",
       "<ellipse fill=\"#ff7f0e\" stroke=\"#ff7f0e\" cx=\"361.58\" cy=\"-542.25\" rx=\"69.33\" ry=\"18\"/>\n",
       "<text text-anchor=\"middle\" x=\"361.58\" y=\"-536.08\" font-family=\"Times,serif\" font-size=\"14.00\">calc__energy_tot</text>\n",
       "</g>\n",
       "<!-- clusterwith_prebuiltOutputscalc__force_max -->\n",
       "<g id=\"node20\" class=\"node\">\n",
       "<title>clusterwith_prebuiltOutputscalc__force_max</title>\n",
       "<ellipse fill=\"#ff7f0e\" stroke=\"#ff7f0e\" cx=\"361.58\" cy=\"-488.25\" rx=\"69.8\" ry=\"18\"/>\n",
       "<text text-anchor=\"middle\" x=\"361.58\" y=\"-482.07\" font-family=\"Times,serif\" font-size=\"14.00\">calc__force_max</text>\n",
       "</g>\n",
       "<!-- clusterwith_prebuiltOutputscalc__forces -->\n",
       "<g id=\"node21\" class=\"node\">\n",
       "<title>clusterwith_prebuiltOutputscalc__forces</title>\n",
       "<ellipse fill=\"#ff7f0e\" stroke=\"#ff7f0e\" cx=\"361.58\" cy=\"-434.25\" rx=\"53.58\" ry=\"18\"/>\n",
       "<text text-anchor=\"middle\" x=\"361.58\" y=\"-428.07\" font-family=\"Times,serif\" font-size=\"14.00\">calc__forces</text>\n",
       "</g>\n",
       "<!-- clusterwith_prebuiltOutputscalc__indices -->\n",
       "<g id=\"node22\" class=\"node\">\n",
       "<title>clusterwith_prebuiltOutputscalc__indices</title>\n",
       "<ellipse fill=\"#ff7f0e\" stroke=\"#ff7f0e\" cx=\"361.58\" cy=\"-380.25\" rx=\"56.92\" ry=\"18\"/>\n",
       "<text text-anchor=\"middle\" x=\"361.58\" y=\"-374.07\" font-family=\"Times,serif\" font-size=\"14.00\">calc__indices</text>\n",
       "</g>\n",
       "<!-- clusterwith_prebuiltOutputscalc__positions -->\n",
       "<g id=\"node23\" class=\"node\">\n",
       "<title>clusterwith_prebuiltOutputscalc__positions</title>\n",
       "<ellipse fill=\"#ff7f0e\" stroke=\"#ff7f0e\" cx=\"361.58\" cy=\"-326.25\" rx=\"63.6\" ry=\"18\"/>\n",
       "<text text-anchor=\"middle\" x=\"361.58\" y=\"-320.07\" font-family=\"Times,serif\" font-size=\"14.00\">calc__positions</text>\n",
       "</g>\n",
       "<!-- clusterwith_prebuiltOutputscalc__pressures -->\n",
       "<g id=\"node24\" class=\"node\">\n",
       "<title>clusterwith_prebuiltOutputscalc__pressures</title>\n",
       "<ellipse fill=\"#ff7f0e\" stroke=\"#ff7f0e\" cx=\"361.58\" cy=\"-272.25\" rx=\"64.56\" ry=\"18\"/>\n",
       "<text text-anchor=\"middle\" x=\"361.58\" y=\"-266.07\" font-family=\"Times,serif\" font-size=\"14.00\">calc__pressures</text>\n",
       "</g>\n",
       "<!-- clusterwith_prebuiltOutputscalc__total_displacements -->\n",
       "<g id=\"node25\" class=\"node\">\n",
       "<title>clusterwith_prebuiltOutputscalc__total_displacements</title>\n",
       "<ellipse fill=\"#ff7f0e\" stroke=\"#ff7f0e\" cx=\"361.58\" cy=\"-218.25\" rx=\"101.29\" ry=\"18\"/>\n",
       "<text text-anchor=\"middle\" x=\"361.58\" y=\"-212.07\" font-family=\"Times,serif\" font-size=\"14.00\">calc__total_displacements</text>\n",
       "</g>\n",
       "<!-- clusterwith_prebuiltOutputscalc__unwrapped_positions -->\n",
       "<g id=\"node26\" class=\"node\">\n",
       "<title>clusterwith_prebuiltOutputscalc__unwrapped_positions</title>\n",
       "<ellipse fill=\"#ff7f0e\" stroke=\"#ff7f0e\" cx=\"361.58\" cy=\"-164.25\" rx=\"106.06\" ry=\"18\"/>\n",
       "<text text-anchor=\"middle\" x=\"361.58\" y=\"-158.07\" font-family=\"Times,serif\" font-size=\"14.00\">calc__unwrapped_positions</text>\n",
       "</g>\n",
       "<!-- clusterwith_prebuiltOutputscalc__volume -->\n",
       "<g id=\"node27\" class=\"node\">\n",
       "<title>clusterwith_prebuiltOutputscalc__volume</title>\n",
       "<ellipse fill=\"#ff7f0e\" stroke=\"#ff7f0e\" cx=\"361.58\" cy=\"-110.25\" rx=\"58.83\" ry=\"18\"/>\n",
       "<text text-anchor=\"middle\" x=\"361.58\" y=\"-104.08\" font-family=\"Times,serif\" font-size=\"14.00\">calc__volume</text>\n",
       "</g>\n",
       "<!-- clusterwith_prebuiltOutputsplot__fig -->\n",
       "<g id=\"node28\" class=\"node\">\n",
       "<title>clusterwith_prebuiltOutputsplot__fig</title>\n",
       "<ellipse fill=\"#ff7f0e\" stroke=\"#ff7f0e\" cx=\"361.58\" cy=\"-56.25\" rx=\"41.18\" ry=\"18\"/>\n",
       "<text text-anchor=\"middle\" x=\"361.58\" y=\"-50.08\" font-family=\"Times,serif\" font-size=\"14.00\">plot__fig</text>\n",
       "</g>\n",
       "</g>\n",
       "</svg>\n"
      ],
      "text/plain": [
       "<graphviz.graphs.Digraph at 0x14c332bd0>"
      ]
     },
     "execution_count": 34,
     "metadata": {},
     "output_type": "execute_result"
    }
   ],
   "source": [
    "wf.draw(depth=0)"
   ]
  },
  {
   "cell_type": "markdown",
   "id": "b2990bbf-28fb-43e2-a01d-82377d12879c",
   "metadata": {},
   "source": [
    "Note: the `draw` call returns a `graphviz.graphs.Digraphs` object; these get natively rendered alright in jupyter notebooks, as seen above, but you can also snag the object in a variable and do everything else graphviz allows, e.g. using the `render` method on the object to save it to file. Cf. the graphviz docs for details."
   ]
  },
  {
   "cell_type": "markdown",
   "id": "7a4e235d-905f-4763-a1ff-d0c3e24c591c",
   "metadata": {},
   "source": [
    "Workflows are \"living\" objects -- their IO is (re)created on access, so it is always up-to-date with the latest state of the workflow's children (who's there and who they're connected to), and (unless you explicitly tell it otherwise) a workflow will always re-compute the execution flow at run-time. This makes them incredibly convenient for working with as you put together a new computational graph, but is not particularly computationally efficeint."
   ]
  },
  {
   "cell_type": "markdown",
   "id": "d1f3b308-28b2-466b-8cf5-6bfd806c08ca",
   "metadata": {},
   "source": [
    "# Macros\n",
    "\n",
    "Once you have a workflow that you're happy with, you may want to store it as a macro so it can be stored in a human-readable way, reused, shared, and executed with more efficiency than the \"living\" `Workflow` instance. Automated conversion of an existing `Workflow` instance into a `Macro` subclass is still on the TODO list, but defining a new macro is pretty easy: they are just composite nodes that have a function defining their graph setup:"
   ]
  },
  {
   "cell_type": "code",
   "execution_count": 35,
   "id": "c71a8308-f8a1-4041-bea0-1c841e072a6d",
   "metadata": {},
   "outputs": [],
   "source": [
    "from pyiron_workflow.macro import Macro"
   ]
  },
  {
   "cell_type": "code",
   "execution_count": 36,
   "id": "2b9bb21a-73cd-444e-84a9-100e202aa422",
   "metadata": {},
   "outputs": [
    {
     "name": "stderr",
     "output_type": "stream",
     "text": [
      "/Users/huber/work/pyiron/pyiron_workflow/pyiron_workflow/channels.py:158: UserWarning: The channel run was not connected to ran, andthus could not disconnect from it.\n",
      "  warn(\n"
     ]
    },
    {
     "data": {
      "text/plain": [
       "13"
      ]
     },
     "execution_count": 36,
     "metadata": {},
     "output_type": "execute_result"
    }
   ],
   "source": [
    "@Workflow.wrap_as.single_value_node(\"result\")\n",
    "def add_one(x):\n",
    "    return x + 1\n",
    "\n",
    "def add_three_macro(macro: Macro) -> None:\n",
    "    \"\"\"\n",
    "    The graph constructor a Macro expects must take the macro as its only argument\n",
    "    (i.e. \"self\" from the macro's perspective) and return nothing.\n",
    "    Inside, it should add nodes to the macro, wire their connections, etc.\n",
    "    \"\"\"\n",
    "    macro.add_one = add_one(0)\n",
    "    macro.add_two = add_one(macro.add_one)\n",
    "    macro.add_three = add_one(macro.add_two)\n",
    "    # Just like workflows, for simple DAG macros we don't _need_\n",
    "    # to set signals and starting nodes -- the macro will build them\n",
    "    # automatically. But, if you do set both then the macro will use them\n",
    "    macro.add_one > macro.add_two > macro.add_three\n",
    "    macro.starting_nodes = [macro.add_one]  \n",
    "    \n",
    "macro = Macro(add_three_macro)\n",
    "macro(add_one__x=10).add_three__result"
   ]
  },
  {
   "cell_type": "markdown",
   "id": "d4f797d6-8d88-415f-bb9c-00f3e1b15e37",
   "metadata": {},
   "source": [
    "Even in the abscence of an automated converter, it should be easy to take the workflow you've been developing and copy-paste that code into a function -- then bam, you've got a macro!"
   ]
  },
  {
   "cell_type": "markdown",
   "id": "bd5099c4-1c01-4a45-a5bb-e5087595db9f",
   "metadata": {},
   "source": [
    "Of course, we can also use a decorator like for other node types. This is shown below, along with an example of how exploit label maps to give our macro IO easier-to-use names (and expose IO that would be skipped by default because it's internally connected):"
   ]
  },
  {
   "cell_type": "code",
   "execution_count": 37,
   "id": "3668f9a9-adca-48a4-84ea-13add965897c",
   "metadata": {},
   "outputs": [
    {
     "data": {
      "text/plain": [
       "{'intermediate': 102, 'plus_three': 103}"
      ]
     },
     "execution_count": 37,
     "metadata": {},
     "output_type": "execute_result"
    }
   ],
   "source": [
    "@Workflow.wrap_as.macro_node()\n",
    "def add_three_macro(macro: Macro) -> None:\n",
    "    \"\"\"\n",
    "    The graph constructor a Macro expects must take the macro as its only argument\n",
    "    (i.e. \"self\" from the macro's perspective) and return nothing.\n",
    "    Inside, it should add nodes to the macro, wire their connections, etc.\n",
    "    \"\"\"\n",
    "    macro.add_one = add_one(0)\n",
    "    macro.add_two = add_one(macro.add_one)\n",
    "    macro.add_three = add_one(macro.add_two)\n",
    "    macro.inputs_map = {\"add_one__x\": \"x\"}\n",
    "    macro.outputs_map = {\"add_three__result\": \"plus_three\", \"add_two__result\": \"intermediate\"}\n",
    "    \n",
    "macro = add_three_macro()\n",
    "macro(x=100)\n",
    "macro.outputs.to_value_dict()"
   ]
  },
  {
   "cell_type": "markdown",
   "id": "22d2fdcf-0206-497d-9344-a71e3472a2c0",
   "metadata": {},
   "source": [
    "## Nesting\n",
    "\n",
    "Composite nodes can be nested to abstract workflows into simpler components -- i.e. macros can be added to workflows, and macros can be used inside of macros. This is a critically important feature because it allows us to easily create more and more complex workflows by \"composing\" simple(r) sub-graphs together!\n",
    "\n",
    "For our final example, let's define a macro for doing Lammps minimizations, then use this in a workflow to compare energies between different phases."
   ]
  },
  {
   "cell_type": "code",
   "execution_count": 38,
   "id": "9aaeeec0-5f88-4c94-a6cc-45b56d2f0111",
   "metadata": {},
   "outputs": [],
   "source": [
    "@Workflow.wrap_as.macro_node()\n",
    "def lammps_minimize(macro):\n",
    "    macro.structure = macro.create.atomistics.Bulk()\n",
    "    macro.engine = macro.create.atomistics.Lammps(structure=macro.structure)\n",
    "    macro.calc = macro.create.atomistics.CalcMin(job=macro.engine, pressure=0)\n",
    "    \n",
    "    macro.inputs_map = {\n",
    "        \"structure__name\": \"element\", \n",
    "        \"structure__crystalstructure\": \"crystalstructure\",\n",
    "        \"structure__a\": \"lattice_guess\",\n",
    "    }\n",
    "    macro.outputs_map = {\n",
    "        \"calc__energy_pot\": \"energy\",\n",
    "        \"structure__structure\": \"structure\",\n",
    "    }\n",
    "\n",
    "@Workflow.wrap_as.single_value_node()\n",
    "def per_atom_energy_difference(structure1, energy1, structure2, energy2):\n",
    "    # The unrelaxed structure is fine, we're just using it to get n_atoms\n",
    "    de = (energy2[-1]/len(structure2)) - (energy1[-1]/len(structure1))\n",
    "    return de"
   ]
  },
  {
   "cell_type": "code",
   "execution_count": 39,
   "id": "a832e552-b3cc-411a-a258-ef21574fc439",
   "metadata": {},
   "outputs": [],
   "source": [
    "wf = Workflow(\"phase_preference\")\n",
    "wf.element = wf.create.standard.UserInput()\n",
    "wf.min_phase1 = lammps_minimize(element=wf.element)\n",
    "wf.min_phase2 = lammps_minimize(element=wf.element)\n",
    "wf.compare = per_atom_energy_difference(\n",
    "    wf.min_phase1.outputs.structure,\n",
    "    wf.min_phase1.outputs.energy,\n",
    "    wf.min_phase2.outputs.structure,\n",
    "    wf.min_phase2.outputs.energy,\n",
    ")\n",
    "\n",
    "wf.inputs_map = {\n",
    "    \"element__user_input\": \"element\",\n",
    "    \"min_phase1__crystalstructure\": \"phase1\",\n",
    "    \"min_phase2__crystalstructure\": \"phase2\",\n",
    "    \"min_phase1__lattice_guess\": \"lattice_guess1\",\n",
    "    \"min_phase2__lattice_guess\": \"lattice_guess2\",\n",
    "}"
   ]
  },
  {
   "cell_type": "code",
   "execution_count": 40,
   "id": "b764a447-236f-4cb7-952a-7cba4855087d",
   "metadata": {},
   "outputs": [
    {
     "data": {
      "image/svg+xml": [
       "<?xml version=\"1.0\" encoding=\"UTF-8\" standalone=\"no\"?>\n",
       "<!DOCTYPE svg PUBLIC \"-//W3C//DTD SVG 1.1//EN\"\n",
       " \"http://www.w3.org/Graphics/SVG/1.1/DTD/svg11.dtd\">\n",
       "<!-- Generated by graphviz version 8.0.5 (0)\n",
       " -->\n",
       "<!-- Title: clusterphase_preference Pages: 1 -->\n",
       "<svg width=\"1430pt\" height=\"1888pt\"\n",
       " viewBox=\"0.00 0.00 1429.89 1888.25\" xmlns=\"http://www.w3.org/2000/svg\" xmlns:xlink=\"http://www.w3.org/1999/xlink\">\n",
       "<g id=\"graph0\" class=\"graph\" transform=\"scale(1 1) rotate(0) translate(4 1884.25)\">\n",
       "<title>clusterphase_preference</title>\n",
       "<polygon fill=\"white\" stroke=\"none\" points=\"-4,4 -4,-1884.25 1425.89,-1884.25 1425.89,4 -4,4\"/>\n",
       "<text text-anchor=\"middle\" x=\"710.95\" y=\"-4.95\" font-family=\"Times,serif\" font-size=\"14.00\">phase_preference: Workflow</text>\n",
       "<g id=\"clust1\" class=\"cluster\">\n",
       "<title>clusterphase_preferenceInputs</title>\n",
       "<defs>\n",
       "<linearGradient id=\"clust1_l_0\" gradientUnits=\"userSpaceOnUse\" x1=\"181.25\" y1=\"-821.25\" x2=\"490.46\" y2=\"-821.25\" >\n",
       "<stop offset=\"0\" style=\"stop-color:#7f7f7f;stop-opacity:1.;\"/>\n",
       "<stop offset=\"1\" style=\"stop-color:#d9d9d9;stop-opacity:1.;\"/>\n",
       "</linearGradient>\n",
       "</defs>\n",
       "<polygon fill=\"url(#clust1_l_0)\" stroke=\"black\" points=\"181.25,-190.25 181.25,-1452.25 490.46,-1452.25 490.46,-190.25 181.25,-190.25\"/>\n",
       "<text text-anchor=\"middle\" x=\"335.85\" y=\"-1434.95\" font-family=\"Times,serif\" font-size=\"14.00\">Inputs</text>\n",
       "</g>\n",
       "<g id=\"clust2\" class=\"cluster\">\n",
       "<title>clusterphase_preferenceOutputs</title>\n",
       "<defs>\n",
       "<linearGradient id=\"clust2_l_1\" gradientUnits=\"userSpaceOnUse\" x1=\"1315.89\" y1=\"-742.25\" x2=\"986.65\" y2=\"-742.25\" >\n",
       "<stop offset=\"0\" style=\"stop-color:#7f7f7f;stop-opacity:1.;\"/>\n",
       "<stop offset=\"1\" style=\"stop-color:#d9d9d9;stop-opacity:1.;\"/>\n",
       "</linearGradient>\n",
       "</defs>\n",
       "<polygon fill=\"url(#clust2_l_1)\" stroke=\"black\" points=\"986.65,-30.25 986.65,-1454.25 1315.89,-1454.25 1315.89,-30.25 986.65,-30.25\"/>\n",
       "<text text-anchor=\"middle\" x=\"1151.27\" y=\"-1436.95\" font-family=\"Times,serif\" font-size=\"14.00\">Outputs</text>\n",
       "</g>\n",
       "<g id=\"clust3\" class=\"cluster\">\n",
       "<title>clusterphase_preferenceelement</title>\n",
       "<defs>\n",
       "<linearGradient id=\"clust3_l_2\" gradientUnits=\"userSpaceOnUse\" x1=\"203.14\" y1=\"-1460.25\" x2=\"203.14\" y2=\"-1680.25\" >\n",
       "<stop offset=\"0\" style=\"stop-color:#17becf;stop-opacity:1.;\"/>\n",
       "<stop offset=\"1\" style=\"stop-color:#b9ecf1;stop-opacity:1.;\"/>\n",
       "</linearGradient>\n",
       "</defs>\n",
       "<polygon fill=\"url(#clust3_l_2)\" stroke=\"black\" points=\"8,-1460.25 8,-1680.25 398.28,-1680.25 398.28,-1460.25 8,-1460.25\"/>\n",
       "<text text-anchor=\"middle\" x=\"203.14\" y=\"-1662.95\" font-family=\"Times,serif\" font-size=\"14.00\">element: UserInput</text>\n",
       "</g>\n",
       "<g id=\"clust4\" class=\"cluster\">\n",
       "<title>clusterphase_preferenceelementInputs</title>\n",
       "<defs>\n",
       "<linearGradient id=\"clust4_l_3\" gradientUnits=\"userSpaceOnUse\" x1=\"16\" y1=\"-1559.25\" x2=\"161.25\" y2=\"-1559.25\" >\n",
       "<stop offset=\"0\" style=\"stop-color:#7f7f7f;stop-opacity:1.;\"/>\n",
       "<stop offset=\"1\" style=\"stop-color:#d9d9d9;stop-opacity:1.;\"/>\n",
       "</linearGradient>\n",
       "</defs>\n",
       "<polygon fill=\"url(#clust4_l_3)\" stroke=\"black\" points=\"16,-1468.25 16,-1650.25 161.25,-1650.25 161.25,-1468.25 16,-1468.25\"/>\n",
       "<text text-anchor=\"middle\" x=\"88.62\" y=\"-1632.95\" font-family=\"Times,serif\" font-size=\"14.00\">Inputs</text>\n",
       "</g>\n",
       "<g id=\"clust5\" class=\"cluster\">\n",
       "<title>clusterphase_preferenceelementOutputs</title>\n",
       "<defs>\n",
       "<linearGradient id=\"clust5_l_4\" gradientUnits=\"userSpaceOnUse\" x1=\"390.28\" y1=\"-1586.25\" x2=\"281.42\" y2=\"-1586.25\" >\n",
       "<stop offset=\"0\" style=\"stop-color:#7f7f7f;stop-opacity:1.;\"/>\n",
       "<stop offset=\"1\" style=\"stop-color:#d9d9d9;stop-opacity:1.;\"/>\n",
       "</linearGradient>\n",
       "</defs>\n",
       "<polygon fill=\"url(#clust5_l_4)\" stroke=\"black\" points=\"281.42,-1522.25 281.42,-1650.25 390.28,-1650.25 390.28,-1522.25 281.42,-1522.25\"/>\n",
       "<text text-anchor=\"middle\" x=\"335.85\" y=\"-1632.95\" font-family=\"Times,serif\" font-size=\"14.00\">Outputs</text>\n",
       "</g>\n",
       "<g id=\"clust6\" class=\"cluster\">\n",
       "<title>clusterphase_preferencemin_phase1</title>\n",
       "<defs>\n",
       "<linearGradient id=\"clust6_l_5\" gradientUnits=\"userSpaceOnUse\" x1=\"738.55\" y1=\"-1004.25\" x2=\"738.55\" y2=\"-1872.25\" >\n",
       "<stop offset=\"0\" style=\"stop-color:#8c564b;stop-opacity:1.;\"/>\n",
       "<stop offset=\"1\" style=\"stop-color:#dcccc9;stop-opacity:1.;\"/>\n",
       "</linearGradient>\n",
       "</defs>\n",
       "<polygon fill=\"url(#clust6_l_5)\" stroke=\"black\" points=\"502.46,-1004.25 502.46,-1872.25 974.65,-1872.25 974.65,-1004.25 502.46,-1004.25\"/>\n",
       "<text text-anchor=\"middle\" x=\"738.55\" y=\"-1854.95\" font-family=\"Times,serif\" font-size=\"14.00\">min_phase1: LammpsMinimize</text>\n",
       "</g>\n",
       "<g id=\"clust7\" class=\"cluster\">\n",
       "<title>clusterphase_preferencemin_phase1Inputs</title>\n",
       "<defs>\n",
       "<linearGradient id=\"clust7_l_6\" gradientUnits=\"userSpaceOnUse\" x1=\"510.46\" y1=\"-1373.25\" x2=\"718.54\" y2=\"-1373.25\" >\n",
       "<stop offset=\"0\" style=\"stop-color:#7f7f7f;stop-opacity:1.;\"/>\n",
       "<stop offset=\"1\" style=\"stop-color:#d9d9d9;stop-opacity:1.;\"/>\n",
       "</linearGradient>\n",
       "</defs>\n",
       "<polygon fill=\"url(#clust7_l_6)\" stroke=\"black\" points=\"510.46,-1012.25 510.46,-1734.25 718.54,-1734.25 718.54,-1012.25 510.46,-1012.25\"/>\n",
       "<text text-anchor=\"middle\" x=\"614.5\" y=\"-1716.95\" font-family=\"Times,serif\" font-size=\"14.00\">Inputs</text>\n",
       "</g>\n",
       "<g id=\"clust8\" class=\"cluster\">\n",
       "<title>clusterphase_preferencemin_phase1Outputs</title>\n",
       "<defs>\n",
       "<linearGradient id=\"clust8_l_7\" gradientUnits=\"userSpaceOnUse\" x1=\"966.65\" y1=\"-1427.25\" x2=\"738.54\" y2=\"-1427.25\" >\n",
       "<stop offset=\"0\" style=\"stop-color:#7f7f7f;stop-opacity:1.;\"/>\n",
       "<stop offset=\"1\" style=\"stop-color:#d9d9d9;stop-opacity:1.;\"/>\n",
       "</linearGradient>\n",
       "</defs>\n",
       "<polygon fill=\"url(#clust8_l_7)\" stroke=\"black\" points=\"738.54,-1012.25 738.54,-1842.25 966.65,-1842.25 966.65,-1012.25 738.54,-1012.25\"/>\n",
       "<text text-anchor=\"middle\" x=\"852.59\" y=\"-1824.95\" font-family=\"Times,serif\" font-size=\"14.00\">Outputs</text>\n",
       "</g>\n",
       "<g id=\"clust9\" class=\"cluster\">\n",
       "<title>clusterphase_preferencemin_phase2</title>\n",
       "<defs>\n",
       "<linearGradient id=\"clust9_l_8\" gradientUnits=\"userSpaceOnUse\" x1=\"738.55\" y1=\"-128.25\" x2=\"738.55\" y2=\"-996.25\" >\n",
       "<stop offset=\"0\" style=\"stop-color:#8c564b;stop-opacity:1.;\"/>\n",
       "<stop offset=\"1\" style=\"stop-color:#dcccc9;stop-opacity:1.;\"/>\n",
       "</linearGradient>\n",
       "</defs>\n",
       "<polygon fill=\"url(#clust9_l_8)\" stroke=\"black\" points=\"502.46,-128.25 502.46,-996.25 974.65,-996.25 974.65,-128.25 502.46,-128.25\"/>\n",
       "<text text-anchor=\"middle\" x=\"738.55\" y=\"-978.95\" font-family=\"Times,serif\" font-size=\"14.00\">min_phase2: LammpsMinimize</text>\n",
       "</g>\n",
       "<g id=\"clust10\" class=\"cluster\">\n",
       "<title>clusterphase_preferencemin_phase2Inputs</title>\n",
       "<defs>\n",
       "<linearGradient id=\"clust10_l_9\" gradientUnits=\"userSpaceOnUse\" x1=\"510.46\" y1=\"-605.25\" x2=\"718.54\" y2=\"-605.25\" >\n",
       "<stop offset=\"0\" style=\"stop-color:#7f7f7f;stop-opacity:1.;\"/>\n",
       "<stop offset=\"1\" style=\"stop-color:#d9d9d9;stop-opacity:1.;\"/>\n",
       "</linearGradient>\n",
       "</defs>\n",
       "<polygon fill=\"url(#clust10_l_9)\" stroke=\"black\" points=\"510.46,-244.25 510.46,-966.25 718.54,-966.25 718.54,-244.25 510.46,-244.25\"/>\n",
       "<text text-anchor=\"middle\" x=\"614.5\" y=\"-948.95\" font-family=\"Times,serif\" font-size=\"14.00\">Inputs</text>\n",
       "</g>\n",
       "<g id=\"clust11\" class=\"cluster\">\n",
       "<title>clusterphase_preferencemin_phase2Outputs</title>\n",
       "<defs>\n",
       "<linearGradient id=\"clust11_l_10\" gradientUnits=\"userSpaceOnUse\" x1=\"966.65\" y1=\"-551.25\" x2=\"738.54\" y2=\"-551.25\" >\n",
       "<stop offset=\"0\" style=\"stop-color:#7f7f7f;stop-opacity:1.;\"/>\n",
       "<stop offset=\"1\" style=\"stop-color:#d9d9d9;stop-opacity:1.;\"/>\n",
       "</linearGradient>\n",
       "</defs>\n",
       "<polygon fill=\"url(#clust11_l_10)\" stroke=\"black\" points=\"738.54,-136.25 738.54,-966.25 966.65,-966.25 966.65,-136.25 738.54,-136.25\"/>\n",
       "<text text-anchor=\"middle\" x=\"852.59\" y=\"-948.95\" font-family=\"Times,serif\" font-size=\"14.00\">Outputs</text>\n",
       "</g>\n",
       "<g id=\"clust12\" class=\"cluster\">\n",
       "<title>clusterphase_preferencecompare</title>\n",
       "<defs>\n",
       "<linearGradient id=\"clust12_l_11\" gradientUnits=\"userSpaceOnUse\" x1=\"1242.27\" y1=\"-1462.25\" x2=\"1242.27\" y2=\"-1844.25\" >\n",
       "<stop offset=\"0\" style=\"stop-color:#17becf;stop-opacity:1.;\"/>\n",
       "<stop offset=\"1\" style=\"stop-color:#b9ecf1;stop-opacity:1.;\"/>\n",
       "</linearGradient>\n",
       "</defs>\n",
       "<polygon fill=\"url(#clust12_l_11)\" stroke=\"black\" points=\"1070.65,-1462.25 1070.65,-1844.25 1413.89,-1844.25 1413.89,-1462.25 1070.65,-1462.25\"/>\n",
       "<text text-anchor=\"middle\" x=\"1242.27\" y=\"-1826.95\" font-family=\"Times,serif\" font-size=\"14.00\">compare: PerAtomEnergyDifference</text>\n",
       "</g>\n",
       "<g id=\"clust13\" class=\"cluster\">\n",
       "<title>clusterphase_preferencecompareInputs</title>\n",
       "<defs>\n",
       "<linearGradient id=\"clust13_l_12\" gradientUnits=\"userSpaceOnUse\" x1=\"1078.65\" y1=\"-1642.25\" x2=\"1223.9\" y2=\"-1642.25\" >\n",
       "<stop offset=\"0\" style=\"stop-color:#7f7f7f;stop-opacity:1.;\"/>\n",
       "<stop offset=\"1\" style=\"stop-color:#d9d9d9;stop-opacity:1.;\"/>\n",
       "</linearGradient>\n",
       "</defs>\n",
       "<polygon fill=\"url(#clust13_l_12)\" stroke=\"black\" points=\"1078.65,-1470.25 1078.65,-1814.25 1223.9,-1814.25 1223.9,-1470.25 1078.65,-1470.25\"/>\n",
       "<text text-anchor=\"middle\" x=\"1151.27\" y=\"-1796.95\" font-family=\"Times,serif\" font-size=\"14.00\">Inputs</text>\n",
       "</g>\n",
       "<g id=\"clust14\" class=\"cluster\">\n",
       "<title>clusterphase_preferencecompareOutputs</title>\n",
       "<defs>\n",
       "<linearGradient id=\"clust14_l_13\" gradientUnits=\"userSpaceOnUse\" x1=\"1405.89\" y1=\"-1642.25\" x2=\"1335.89\" y2=\"-1642.25\" >\n",
       "<stop offset=\"0\" style=\"stop-color:#7f7f7f;stop-opacity:1.;\"/>\n",
       "<stop offset=\"1\" style=\"stop-color:#d9d9d9;stop-opacity:1.;\"/>\n",
       "</linearGradient>\n",
       "</defs>\n",
       "<polygon fill=\"url(#clust14_l_13)\" stroke=\"black\" points=\"1335.89,-1578.25 1335.89,-1706.25 1405.89,-1706.25 1405.89,-1578.25 1335.89,-1578.25\"/>\n",
       "<text text-anchor=\"middle\" x=\"1370.89\" y=\"-1688.95\" font-family=\"Times,serif\" font-size=\"14.00\">Outputs</text>\n",
       "</g>\n",
       "<!-- clusterphase_preferenceInputsrun -->\n",
       "<g id=\"node1\" class=\"node\">\n",
       "<title>clusterphase_preferenceInputsrun</title>\n",
       "<polygon fill=\"#1f77b4\" stroke=\"#1f77b4\" points=\"350.85,-228.25 308.85,-228.25 308.85,-204.25 350.85,-204.25 362.85,-216.25 350.85,-228.25\"/>\n",
       "<text text-anchor=\"middle\" x=\"335.85\" y=\"-210.07\" font-family=\"Times,serif\" font-size=\"14.00\">run</text>\n",
       "</g>\n",
       "<!-- clusterphase_preferenceOutputsran -->\n",
       "<g id=\"node24\" class=\"node\">\n",
       "<title>clusterphase_preferenceOutputsran</title>\n",
       "<polygon fill=\"#1f77b4\" stroke=\"#1f77b4\" points=\"1166.27,-122.25 1124.27,-122.25 1124.27,-98.25 1166.27,-98.25 1178.27,-110.25 1166.27,-122.25\"/>\n",
       "<text text-anchor=\"middle\" x=\"1151.27\" y=\"-104.08\" font-family=\"Times,serif\" font-size=\"14.00\">ran</text>\n",
       "</g>\n",
       "<!-- clusterphase_preferenceInputsrun&#45;&gt;clusterphase_preferenceOutputsran -->\n",
       "<!-- clusterphase_preferenceInputsaccumulate_and_run -->\n",
       "<g id=\"node2\" class=\"node\">\n",
       "<title>clusterphase_preferenceInputsaccumulate_and_run</title>\n",
       "<polygon fill=\"#1f77b4\" stroke=\"#1f77b4\" points=\"388.48,-1362.25 271.23,-1362.25 271.23,-1338.25 388.48,-1338.25 400.48,-1350.25 388.48,-1362.25\"/>\n",
       "<text text-anchor=\"middle\" x=\"335.85\" y=\"-1344.08\" font-family=\"Times,serif\" font-size=\"14.00\">accumulate_and_run</text>\n",
       "</g>\n",
       "<!-- clusterphase_preferenceInputselement -->\n",
       "<g id=\"node3\" class=\"node\">\n",
       "<title>clusterphase_preferenceInputselement</title>\n",
       "<ellipse fill=\"#ff7f0e\" stroke=\"#ff7f0e\" cx=\"335.85\" cy=\"-1296.25\" rx=\"37.84\" ry=\"18\"/>\n",
       "<text text-anchor=\"middle\" x=\"335.85\" y=\"-1290.08\" font-family=\"Times,serif\" font-size=\"14.00\">element</text>\n",
       "</g>\n",
       "<!-- clusterphase_preferenceelementInputsuser_input -->\n",
       "<g id=\"node52\" class=\"node\">\n",
       "<title>clusterphase_preferenceelementInputsuser_input</title>\n",
       "<ellipse fill=\"#ff7f0e\" stroke=\"#ff7f0e\" cx=\"88.62\" cy=\"-1494.25\" rx=\"46.43\" ry=\"18\"/>\n",
       "<text text-anchor=\"middle\" x=\"88.62\" y=\"-1488.08\" font-family=\"Times,serif\" font-size=\"14.00\">user_input</text>\n",
       "</g>\n",
       "<!-- clusterphase_preferenceInputselement&#45;&gt;clusterphase_preferenceelementInputsuser_input -->\n",
       "<g id=\"edge12\" class=\"edge\">\n",
       "<title>clusterphase_preferenceInputselement&#45;&gt;clusterphase_preferenceelementInputsuser_input</title>\n",
       "<path fill=\"none\" stroke=\"#ff7f0e\" d=\"M297.87,-1294.05C264.39,-1293.94 215.25,-1298.65 181.25,-1323.25 174.53,-1328.11 168.25,-1333.62 162.4,-1339.61\"/>\n",
       "<path fill=\"none\" stroke=\"#ff7f0e\" d=\"M162.4,-1339.61C126.18,-1376.66 106.1,-1431.99 96.61,-1465.45\"/>\n",
       "<polygon fill=\"#ff7f0e\" stroke=\"#ff7f0e\" points=\"92.98,-1464.47 93.76,-1475.03 99.74,-1466.29 92.98,-1464.47\"/>\n",
       "</g>\n",
       "<!-- clusterphase_preferenceInputsphase1 -->\n",
       "<g id=\"node4\" class=\"node\">\n",
       "<title>clusterphase_preferenceInputsphase1</title>\n",
       "<ellipse fill=\"#ff7f0e\" stroke=\"#ff7f0e\" cx=\"335.85\" cy=\"-810.25\" rx=\"34.03\" ry=\"18\"/>\n",
       "<text text-anchor=\"middle\" x=\"335.85\" y=\"-804.08\" font-family=\"Times,serif\" font-size=\"14.00\">phase1</text>\n",
       "</g>\n",
       "<!-- clusterphase_preferencemin_phase1Inputscrystalstructure -->\n",
       "<g id=\"node58\" class=\"node\">\n",
       "<title>clusterphase_preferencemin_phase1Inputscrystalstructure</title>\n",
       "<ellipse fill=\"#ff7f0e\" stroke=\"#ff7f0e\" cx=\"614.5\" cy=\"-1038.25\" rx=\"63.13\" ry=\"18\"/>\n",
       "<text text-anchor=\"middle\" x=\"614.5\" y=\"-1032.08\" font-family=\"Times,serif\" font-size=\"14.00\">crystalstructure</text>\n",
       "</g>\n",
       "<!-- clusterphase_preferenceInputsphase1&#45;&gt;clusterphase_preferencemin_phase1Inputscrystalstructure -->\n",
       "<g id=\"edge13\" class=\"edge\">\n",
       "<title>clusterphase_preferenceInputsphase1&#45;&gt;clusterphase_preferencemin_phase1Inputscrystalstructure</title>\n",
       "<path fill=\"none\" stroke=\"#ff7f0e\" d=\"M369.18,-805.65C404.48,-802.63 460.04,-804.16 490.46,-837.25 496.76,-844.11 498.75,-857.28 498.99,-872.91\"/>\n",
       "<path fill=\"none\" stroke=\"#ff7f0e\" d=\"M498.99,-872.91C499.52,-907.07 491.72,-952.95 502.46,-970.25 516.43,-992.75 540.87,-1008.9 563.27,-1019.8\"/>\n",
       "<polygon fill=\"#ff7f0e\" stroke=\"#ff7f0e\" points=\"561.49,-1023.29 572.04,-1024.29 564.42,-1016.93 561.49,-1023.29\"/>\n",
       "</g>\n",
       "<!-- clusterphase_preferenceInputslattice_guess1 -->\n",
       "<g id=\"node5\" class=\"node\">\n",
       "<title>clusterphase_preferenceInputslattice_guess1</title>\n",
       "<ellipse fill=\"#ff7f0e\" stroke=\"#ff7f0e\" cx=\"335.85\" cy=\"-1404.25\" rx=\"58.83\" ry=\"18\"/>\n",
       "<text text-anchor=\"middle\" x=\"335.85\" y=\"-1398.08\" font-family=\"Times,serif\" font-size=\"14.00\">lattice_guess1</text>\n",
       "</g>\n",
       "<!-- clusterphase_preferencemin_phase1Inputslattice_guess -->\n",
       "<g id=\"node59\" class=\"node\">\n",
       "<title>clusterphase_preferencemin_phase1Inputslattice_guess</title>\n",
       "<ellipse fill=\"#ff7f0e\" stroke=\"#ff7f0e\" cx=\"614.5\" cy=\"-1524.25\" rx=\"54.54\" ry=\"18\"/>\n",
       "<text text-anchor=\"middle\" x=\"614.5\" y=\"-1518.08\" font-family=\"Times,serif\" font-size=\"14.00\">lattice_guess</text>\n",
       "</g>\n",
       "<!-- clusterphase_preferenceInputslattice_guess1&#45;&gt;clusterphase_preferencemin_phase1Inputslattice_guess -->\n",
       "<g id=\"edge14\" class=\"edge\">\n",
       "<title>clusterphase_preferenceInputslattice_guess1&#45;&gt;clusterphase_preferencemin_phase1Inputslattice_guess</title>\n",
       "<path fill=\"none\" stroke=\"#ff7f0e\" d=\"M361.32,-1420.83C382.43,-1434.67 414.98,-1454.99 450.11,-1473.16\"/>\n",
       "<path fill=\"none\" stroke=\"#ff7f0e\" d=\"M450.11,-1473.16C467.29,-1482.04 485.08,-1490.41 502.46,-1497.25 519.2,-1503.84 538.01,-1509.15 555.33,-1513.26\"/>\n",
       "<polygon fill=\"#ff7f0e\" stroke=\"#ff7f0e\" points=\"554.36,-1516.86 564.88,-1515.66 555.91,-1510.03 554.36,-1516.86\"/>\n",
       "</g>\n",
       "<!-- clusterphase_preferenceInputsmin_phase1__structure__c -->\n",
       "<g id=\"node6\" class=\"node\">\n",
       "<title>clusterphase_preferenceInputsmin_phase1__structure__c</title>\n",
       "<ellipse fill=\"#ff7f0e\" stroke=\"#ff7f0e\" cx=\"335.85\" cy=\"-1242.25\" rx=\"103.19\" ry=\"18\"/>\n",
       "<text text-anchor=\"middle\" x=\"335.85\" y=\"-1236.08\" font-family=\"Times,serif\" font-size=\"14.00\">min_phase1__structure__c</text>\n",
       "</g>\n",
       "<!-- clusterphase_preferencemin_phase1Inputsstructure__c -->\n",
       "<g id=\"node60\" class=\"node\">\n",
       "<title>clusterphase_preferencemin_phase1Inputsstructure__c</title>\n",
       "<ellipse fill=\"#ff7f0e\" stroke=\"#ff7f0e\" cx=\"614.5\" cy=\"-1470.25\" rx=\"52.63\" ry=\"18\"/>\n",
       "<text text-anchor=\"middle\" x=\"614.5\" y=\"-1464.08\" font-family=\"Times,serif\" font-size=\"14.00\">structure__c</text>\n",
       "</g>\n",
       "<!-- clusterphase_preferenceInputsmin_phase1__structure__c&#45;&gt;clusterphase_preferencemin_phase1Inputsstructure__c -->\n",
       "<g id=\"edge15\" class=\"edge\">\n",
       "<title>clusterphase_preferenceInputsmin_phase1__structure__c&#45;&gt;clusterphase_preferencemin_phase1Inputsstructure__c</title>\n",
       "<path fill=\"none\" stroke=\"#ff7f0e\" d=\"M439.05,-1241.2C458.56,-1245.82 477.05,-1254.36 490.46,-1269.25 503.19,-1283.39 500.29,-1318.45 496.99,-1353.98\"/>\n",
       "<path fill=\"none\" stroke=\"#ff7f0e\" d=\"M496.99,-1353.98C493.58,-1390.82 489.74,-1428.17 502.46,-1443.25 514.48,-1457.51 532.66,-1464.94 550.84,-1468.63\"/>\n",
       "<polygon fill=\"#ff7f0e\" stroke=\"#ff7f0e\" points=\"550.07,-1472.21 560.5,-1470.39 551.21,-1465.31 550.07,-1472.21\"/>\n",
       "</g>\n",
       "<!-- clusterphase_preferenceInputsmin_phase1__structure__covera -->\n",
       "<g id=\"node7\" class=\"node\">\n",
       "<title>clusterphase_preferenceInputsmin_phase1__structure__covera</title>\n",
       "<ellipse fill=\"#ff7f0e\" stroke=\"#ff7f0e\" cx=\"335.85\" cy=\"-1188.25\" rx=\"122.28\" ry=\"18\"/>\n",
       "<text text-anchor=\"middle\" x=\"335.85\" y=\"-1182.08\" font-family=\"Times,serif\" font-size=\"14.00\">min_phase1__structure__covera</text>\n",
       "</g>\n",
       "<!-- clusterphase_preferencemin_phase1Inputsstructure__covera -->\n",
       "<g id=\"node61\" class=\"node\">\n",
       "<title>clusterphase_preferencemin_phase1Inputsstructure__covera</title>\n",
       "<ellipse fill=\"#ff7f0e\" stroke=\"#ff7f0e\" cx=\"614.5\" cy=\"-1416.25\" rx=\"71.71\" ry=\"18\"/>\n",
       "<text text-anchor=\"middle\" x=\"614.5\" y=\"-1410.08\" font-family=\"Times,serif\" font-size=\"14.00\">structure__covera</text>\n",
       "</g>\n",
       "<!-- clusterphase_preferenceInputsmin_phase1__structure__covera&#45;&gt;clusterphase_preferencemin_phase1Inputsstructure__covera -->\n",
       "<g id=\"edge16\" class=\"edge\">\n",
       "<title>clusterphase_preferenceInputsmin_phase1__structure__covera&#45;&gt;clusterphase_preferencemin_phase1Inputsstructure__covera</title>\n",
       "<path fill=\"none\" stroke=\"#ff7f0e\" d=\"M455.32,-1192.14C468.65,-1197.18 480.86,-1204.58 490.46,-1215.25 503.11,-1229.3 500.32,-1264.01 497.06,-1299.31\"/>\n",
       "<path fill=\"none\" stroke=\"#ff7f0e\" d=\"M497.06,-1299.31C493.62,-1336.36 489.66,-1374.08 502.46,-1389.25 510.6,-1398.91 521.56,-1405.43 533.44,-1409.78\"/>\n",
       "<polygon fill=\"#ff7f0e\" stroke=\"#ff7f0e\" points=\"531.99,-1413.31 542.58,-1412.95 534.08,-1406.63 531.99,-1413.31\"/>\n",
       "</g>\n",
       "<!-- clusterphase_preferenceInputsmin_phase1__structure__u -->\n",
       "<g id=\"node8\" class=\"node\">\n",
       "<title>clusterphase_preferenceInputsmin_phase1__structure__u</title>\n",
       "<ellipse fill=\"#ff7f0e\" stroke=\"#ff7f0e\" cx=\"335.85\" cy=\"-1134.25\" rx=\"103.67\" ry=\"18\"/>\n",
       "<text text-anchor=\"middle\" x=\"335.85\" y=\"-1128.08\" font-family=\"Times,serif\" font-size=\"14.00\">min_phase1__structure__u</text>\n",
       "</g>\n",
       "<!-- clusterphase_preferencemin_phase1Inputsstructure__u -->\n",
       "<g id=\"node62\" class=\"node\">\n",
       "<title>clusterphase_preferencemin_phase1Inputsstructure__u</title>\n",
       "<ellipse fill=\"#ff7f0e\" stroke=\"#ff7f0e\" cx=\"614.5\" cy=\"-1362.25\" rx=\"53.11\" ry=\"18\"/>\n",
       "<text text-anchor=\"middle\" x=\"614.5\" y=\"-1356.08\" font-family=\"Times,serif\" font-size=\"14.00\">structure__u</text>\n",
       "</g>\n",
       "<!-- clusterphase_preferenceInputsmin_phase1__structure__u&#45;&gt;clusterphase_preferencemin_phase1Inputsstructure__u -->\n",
       "<g id=\"edge17\" class=\"edge\">\n",
       "<title>clusterphase_preferenceInputsmin_phase1__structure__u&#45;&gt;clusterphase_preferencemin_phase1Inputsstructure__u</title>\n",
       "<path fill=\"none\" stroke=\"#ff7f0e\" d=\"M439.84,-1133.39C459.06,-1138.05 477.23,-1146.56 490.46,-1161.25 503.19,-1175.4 500.29,-1210.47 496.99,-1246.01\"/>\n",
       "<path fill=\"none\" stroke=\"#ff7f0e\" d=\"M496.99,-1246.01C493.58,-1282.84 489.74,-1320.17 502.46,-1335.25 514.32,-1349.32 532.17,-1356.74 550.11,-1360.48\"/>\n",
       "<polygon fill=\"#ff7f0e\" stroke=\"#ff7f0e\" points=\"549.49,-1364.09 559.93,-1362.32 550.66,-1357.19 549.49,-1364.09\"/>\n",
       "</g>\n",
       "<!-- clusterphase_preferenceInputsmin_phase1__structure__orthorhombic -->\n",
       "<g id=\"node9\" class=\"node\">\n",
       "<title>clusterphase_preferenceInputsmin_phase1__structure__orthorhombic</title>\n",
       "<ellipse fill=\"#ff7f0e\" stroke=\"#ff7f0e\" cx=\"335.85\" cy=\"-1080.25\" rx=\"146.6\" ry=\"18\"/>\n",
       "<text text-anchor=\"middle\" x=\"335.85\" y=\"-1074.08\" font-family=\"Times,serif\" font-size=\"14.00\">min_phase1__structure__orthorhombic</text>\n",
       "</g>\n",
       "<!-- clusterphase_preferencemin_phase1Inputsstructure__orthorhombic -->\n",
       "<g id=\"node63\" class=\"node\">\n",
       "<title>clusterphase_preferencemin_phase1Inputsstructure__orthorhombic</title>\n",
       "<ellipse fill=\"#ff7f0e\" stroke=\"#ff7f0e\" cx=\"614.5\" cy=\"-1308.25\" rx=\"96.04\" ry=\"18\"/>\n",
       "<text text-anchor=\"middle\" x=\"614.5\" y=\"-1302.08\" font-family=\"Times,serif\" font-size=\"14.00\">structure__orthorhombic</text>\n",
       "</g>\n",
       "<!-- clusterphase_preferenceInputsmin_phase1__structure__orthorhombic&#45;&gt;clusterphase_preferencemin_phase1Inputsstructure__orthorhombic -->\n",
       "<g id=\"edge18\" class=\"edge\">\n",
       "<title>clusterphase_preferenceInputsmin_phase1__structure__orthorhombic&#45;&gt;clusterphase_preferencemin_phase1Inputsstructure__orthorhombic</title>\n",
       "<path fill=\"none\" stroke=\"#ff7f0e\" d=\"M465.98,-1088.82C475.13,-1093.47 483.48,-1099.5 490.46,-1107.25 502.83,-1120.99 500.44,-1154.49 497.27,-1188.97\"/>\n",
       "<path fill=\"none\" stroke=\"#ff7f0e\" d=\"M497.27,-1188.97C493.8,-1226.77 489.39,-1265.76 502.46,-1281.25 507.18,-1286.85 512.86,-1291.4 519.11,-1295.09\"/>\n",
       "<polygon fill=\"#ff7f0e\" stroke=\"#ff7f0e\" points=\"517.13,-1298.51 527.64,-1299.88 520.28,-1292.26 517.13,-1298.51\"/>\n",
       "</g>\n",
       "<!-- clusterphase_preferenceInputsmin_phase1__structure__cubic -->\n",
       "<g id=\"node10\" class=\"node\">\n",
       "<title>clusterphase_preferenceInputsmin_phase1__structure__cubic</title>\n",
       "<ellipse fill=\"#ff7f0e\" stroke=\"#ff7f0e\" cx=\"335.85\" cy=\"-1026.25\" rx=\"117.98\" ry=\"18\"/>\n",
       "<text text-anchor=\"middle\" x=\"335.85\" y=\"-1020.08\" font-family=\"Times,serif\" font-size=\"14.00\">min_phase1__structure__cubic</text>\n",
       "</g>\n",
       "<!-- clusterphase_preferencemin_phase1Inputsstructure__cubic -->\n",
       "<g id=\"node64\" class=\"node\">\n",
       "<title>clusterphase_preferencemin_phase1Inputsstructure__cubic</title>\n",
       "<ellipse fill=\"#ff7f0e\" stroke=\"#ff7f0e\" cx=\"614.5\" cy=\"-1254.25\" rx=\"67.42\" ry=\"18\"/>\n",
       "<text text-anchor=\"middle\" x=\"614.5\" y=\"-1248.08\" font-family=\"Times,serif\" font-size=\"14.00\">structure__cubic</text>\n",
       "</g>\n",
       "<!-- clusterphase_preferenceInputsmin_phase1__structure__cubic&#45;&gt;clusterphase_preferencemin_phase1Inputsstructure__cubic -->\n",
       "<g id=\"edge19\" class=\"edge\">\n",
       "<title>clusterphase_preferenceInputsmin_phase1__structure__cubic&#45;&gt;clusterphase_preferencemin_phase1Inputsstructure__cubic</title>\n",
       "<path fill=\"none\" stroke=\"#ff7f0e\" d=\"M452.67,-1029.17C467.02,-1034.21 480.22,-1041.88 490.46,-1053.25 503.18,-1067.38 500.29,-1102.39 497,-1137.89\"/>\n",
       "<path fill=\"none\" stroke=\"#ff7f0e\" d=\"M497,-1137.89C493.58,-1174.76 489.73,-1212.15 502.46,-1227.25 511.43,-1237.89 523.81,-1244.72 537.07,-1249.04\"/>\n",
       "<polygon fill=\"#ff7f0e\" stroke=\"#ff7f0e\" points=\"535.77,-1252.59 546.34,-1251.87 537.63,-1245.84 535.77,-1252.59\"/>\n",
       "</g>\n",
       "<!-- clusterphase_preferenceInputsmin_phase1__calc__n_ionic_steps -->\n",
       "<g id=\"node11\" class=\"node\">\n",
       "<title>clusterphase_preferenceInputsmin_phase1__calc__n_ionic_steps</title>\n",
       "<ellipse fill=\"#ff7f0e\" stroke=\"#ff7f0e\" cx=\"335.85\" cy=\"-972.25\" rx=\"144.22\" ry=\"18\"/>\n",
       "<text text-anchor=\"middle\" x=\"335.85\" y=\"-966.08\" font-family=\"Times,serif\" font-size=\"14.00\">min_phase1__calc__n_ionic_steps: int</text>\n",
       "</g>\n",
       "<!-- clusterphase_preferencemin_phase1Inputscalc__n_ionic_steps -->\n",
       "<g id=\"node65\" class=\"node\">\n",
       "<title>clusterphase_preferencemin_phase1Inputscalc__n_ionic_steps</title>\n",
       "<ellipse fill=\"#ff7f0e\" stroke=\"#ff7f0e\" cx=\"614.5\" cy=\"-1200.25\" rx=\"93.65\" ry=\"18\"/>\n",
       "<text text-anchor=\"middle\" x=\"614.5\" y=\"-1194.08\" font-family=\"Times,serif\" font-size=\"14.00\">calc__n_ionic_steps: int</text>\n",
       "</g>\n",
       "<!-- clusterphase_preferenceInputsmin_phase1__calc__n_ionic_steps&#45;&gt;clusterphase_preferencemin_phase1Inputscalc__n_ionic_steps -->\n",
       "<g id=\"edge20\" class=\"edge\">\n",
       "<title>clusterphase_preferenceInputsmin_phase1__calc__n_ionic_steps&#45;&gt;clusterphase_preferencemin_phase1Inputscalc__n_ionic_steps</title>\n",
       "<path fill=\"none\" stroke=\"#ff7f0e\" d=\"M465.26,-980.46C474.7,-985.16 483.3,-991.3 490.46,-999.25 502.86,-1013.03 500.42,-1046.67 497.24,-1081.26\"/>\n",
       "<path fill=\"none\" stroke=\"#ff7f0e\" d=\"M497.24,-1081.26C493.78,-1118.96 489.42,-1157.8 502.46,-1173.25 507.47,-1179.19 513.55,-1183.95 520.25,-1187.74\"/>\n",
       "<polygon fill=\"#ff7f0e\" stroke=\"#ff7f0e\" points=\"518.21,-1191.13 528.74,-1192.34 521.26,-1184.83 518.21,-1191.13\"/>\n",
       "</g>\n",
       "<!-- clusterphase_preferenceInputsmin_phase1__calc__n_print -->\n",
       "<g id=\"node12\" class=\"node\">\n",
       "<title>clusterphase_preferenceInputsmin_phase1__calc__n_print</title>\n",
       "<ellipse fill=\"#ff7f0e\" stroke=\"#ff7f0e\" cx=\"335.85\" cy=\"-918.25\" rx=\"121.8\" ry=\"18\"/>\n",
       "<text text-anchor=\"middle\" x=\"335.85\" y=\"-912.08\" font-family=\"Times,serif\" font-size=\"14.00\">min_phase1__calc__n_print: int</text>\n",
       "</g>\n",
       "<!-- clusterphase_preferencemin_phase1Inputscalc__n_print -->\n",
       "<g id=\"node66\" class=\"node\">\n",
       "<title>clusterphase_preferencemin_phase1Inputscalc__n_print</title>\n",
       "<ellipse fill=\"#ff7f0e\" stroke=\"#ff7f0e\" cx=\"614.5\" cy=\"-1146.25\" rx=\"71.23\" ry=\"18\"/>\n",
       "<text text-anchor=\"middle\" x=\"614.5\" y=\"-1140.08\" font-family=\"Times,serif\" font-size=\"14.00\">calc__n_print: int</text>\n",
       "</g>\n",
       "<!-- clusterphase_preferenceInputsmin_phase1__calc__n_print&#45;&gt;clusterphase_preferencemin_phase1Inputscalc__n_print -->\n",
       "<g id=\"edge21\" class=\"edge\">\n",
       "<title>clusterphase_preferenceInputsmin_phase1__calc__n_print&#45;&gt;clusterphase_preferencemin_phase1Inputscalc__n_print</title>\n",
       "<path fill=\"none\" stroke=\"#ff7f0e\" d=\"M455.32,-922.14C468.65,-927.18 480.86,-934.58 490.46,-945.25 503.12,-959.32 500.32,-994.09 497.04,-1029.44\"/>\n",
       "<path fill=\"none\" stroke=\"#ff7f0e\" d=\"M497.04,-1029.44C493.62,-1066.45 489.68,-1104.09 502.46,-1119.25 510.65,-1128.97 521.7,-1135.51 533.65,-1139.86\"/>\n",
       "<polygon fill=\"#ff7f0e\" stroke=\"#ff7f0e\" points=\"532.28,-1143.41 542.87,-1143.02 534.35,-1136.72 532.28,-1143.41\"/>\n",
       "</g>\n",
       "<!-- clusterphase_preferenceInputsmin_phase1__calc__pressure -->\n",
       "<g id=\"node13\" class=\"node\">\n",
       "<title>clusterphase_preferenceInputsmin_phase1__calc__pressure</title>\n",
       "<ellipse fill=\"#ff7f0e\" stroke=\"#ff7f0e\" cx=\"335.85\" cy=\"-864.25\" rx=\"111.78\" ry=\"18\"/>\n",
       "<text text-anchor=\"middle\" x=\"335.85\" y=\"-858.08\" font-family=\"Times,serif\" font-size=\"14.00\">min_phase1__calc__pressure</text>\n",
       "</g>\n",
       "<!-- clusterphase_preferencemin_phase1Inputscalc__pressure -->\n",
       "<g id=\"node67\" class=\"node\">\n",
       "<title>clusterphase_preferencemin_phase1Inputscalc__pressure</title>\n",
       "<ellipse fill=\"#ff7f0e\" stroke=\"#ff7f0e\" cx=\"614.5\" cy=\"-1092.25\" rx=\"61.22\" ry=\"18\"/>\n",
       "<text text-anchor=\"middle\" x=\"614.5\" y=\"-1086.08\" font-family=\"Times,serif\" font-size=\"14.00\">calc__pressure</text>\n",
       "</g>\n",
       "<!-- clusterphase_preferenceInputsmin_phase1__calc__pressure&#45;&gt;clusterphase_preferencemin_phase1Inputscalc__pressure -->\n",
       "<g id=\"edge22\" class=\"edge\">\n",
       "<title>clusterphase_preferenceInputsmin_phase1__calc__pressure&#45;&gt;clusterphase_preferencemin_phase1Inputscalc__pressure</title>\n",
       "<path fill=\"none\" stroke=\"#ff7f0e\" d=\"M447.67,-865.53C463.95,-870.5 479.05,-878.57 490.46,-891.25 503.21,-905.42 500.28,-940.55 496.98,-976.14\"/>\n",
       "<path fill=\"none\" stroke=\"#ff7f0e\" d=\"M496.98,-976.14C493.57,-1012.93 489.76,-1050.19 502.46,-1065.25 512.64,-1077.33 527.23,-1084.5 542.5,-1088.66\"/>\n",
       "<polygon fill=\"#ff7f0e\" stroke=\"#ff7f0e\" points=\"541.61,-1092.27 552.14,-1091.08 543.16,-1085.45 541.61,-1092.27\"/>\n",
       "</g>\n",
       "<!-- clusterphase_preferenceInputsphase2 -->\n",
       "<g id=\"node14\" class=\"node\">\n",
       "<title>clusterphase_preferenceInputsphase2</title>\n",
       "<ellipse fill=\"#ff7f0e\" stroke=\"#ff7f0e\" cx=\"335.85\" cy=\"-270.25\" rx=\"34.03\" ry=\"18\"/>\n",
       "<text text-anchor=\"middle\" x=\"335.85\" y=\"-264.07\" font-family=\"Times,serif\" font-size=\"14.00\">phase2</text>\n",
       "</g>\n",
       "<!-- clusterphase_preferencemin_phase2Inputscrystalstructure -->\n",
       "<g id=\"node86\" class=\"node\">\n",
       "<title>clusterphase_preferencemin_phase2Inputscrystalstructure</title>\n",
       "<ellipse fill=\"#ff7f0e\" stroke=\"#ff7f0e\" cx=\"614.5\" cy=\"-270.25\" rx=\"63.13\" ry=\"18\"/>\n",
       "<text text-anchor=\"middle\" x=\"614.5\" y=\"-264.07\" font-family=\"Times,serif\" font-size=\"14.00\">crystalstructure</text>\n",
       "</g>\n",
       "<!-- clusterphase_preferenceInputsphase2&#45;&gt;clusterphase_preferencemin_phase2Inputscrystalstructure -->\n",
       "<g id=\"edge23\" class=\"edge\">\n",
       "<title>clusterphase_preferenceInputsphase2&#45;&gt;clusterphase_preferencemin_phase2Inputscrystalstructure</title>\n",
       "<path fill=\"none\" stroke=\"#ff7f0e\" d=\"M370.22,-270.25C391.17,-270.25 419.92,-270.25 450.31,-270.25\"/>\n",
       "<path fill=\"none\" stroke=\"#ff7f0e\" d=\"M450.31,-270.25C480.71,-270.25 512.77,-270.25 540.34,-270.25\"/>\n",
       "<polygon fill=\"#ff7f0e\" stroke=\"#ff7f0e\" points=\"540.12,-273.75 550.12,-270.25 540.12,-266.75 540.12,-273.75\"/>\n",
       "</g>\n",
       "<!-- clusterphase_preferenceInputslattice_guess2 -->\n",
       "<g id=\"node15\" class=\"node\">\n",
       "<title>clusterphase_preferenceInputslattice_guess2</title>\n",
       "<ellipse fill=\"#ff7f0e\" stroke=\"#ff7f0e\" cx=\"335.85\" cy=\"-756.25\" rx=\"58.83\" ry=\"18\"/>\n",
       "<text text-anchor=\"middle\" x=\"335.85\" y=\"-750.08\" font-family=\"Times,serif\" font-size=\"14.00\">lattice_guess2</text>\n",
       "</g>\n",
       "<!-- clusterphase_preferencemin_phase2Inputslattice_guess -->\n",
       "<g id=\"node87\" class=\"node\">\n",
       "<title>clusterphase_preferencemin_phase2Inputslattice_guess</title>\n",
       "<ellipse fill=\"#ff7f0e\" stroke=\"#ff7f0e\" cx=\"614.5\" cy=\"-756.25\" rx=\"54.54\" ry=\"18\"/>\n",
       "<text text-anchor=\"middle\" x=\"614.5\" y=\"-750.08\" font-family=\"Times,serif\" font-size=\"14.00\">lattice_guess</text>\n",
       "</g>\n",
       "<!-- clusterphase_preferenceInputslattice_guess2&#45;&gt;clusterphase_preferencemin_phase2Inputslattice_guess -->\n",
       "<g id=\"edge24\" class=\"edge\">\n",
       "<title>clusterphase_preferenceInputslattice_guess2&#45;&gt;clusterphase_preferencemin_phase2Inputslattice_guess</title>\n",
       "<path fill=\"none\" stroke=\"#ff7f0e\" d=\"M395.18,-756.25C417.64,-756.25 444.38,-756.25 471.31,-756.25\"/>\n",
       "<path fill=\"none\" stroke=\"#ff7f0e\" d=\"M471.31,-756.25C498.25,-756.25 525.38,-756.25 548.61,-756.25\"/>\n",
       "<polygon fill=\"#ff7f0e\" stroke=\"#ff7f0e\" points=\"548.47,-759.75 558.47,-756.25 548.47,-752.75 548.47,-759.75\"/>\n",
       "</g>\n",
       "<!-- clusterphase_preferenceInputsmin_phase2__structure__c -->\n",
       "<g id=\"node16\" class=\"node\">\n",
       "<title>clusterphase_preferenceInputsmin_phase2__structure__c</title>\n",
       "<ellipse fill=\"#ff7f0e\" stroke=\"#ff7f0e\" cx=\"335.85\" cy=\"-702.25\" rx=\"103.19\" ry=\"18\"/>\n",
       "<text text-anchor=\"middle\" x=\"335.85\" y=\"-696.08\" font-family=\"Times,serif\" font-size=\"14.00\">min_phase2__structure__c</text>\n",
       "</g>\n",
       "<!-- clusterphase_preferencemin_phase2Inputsstructure__c -->\n",
       "<g id=\"node88\" class=\"node\">\n",
       "<title>clusterphase_preferencemin_phase2Inputsstructure__c</title>\n",
       "<ellipse fill=\"#ff7f0e\" stroke=\"#ff7f0e\" cx=\"614.5\" cy=\"-702.25\" rx=\"52.63\" ry=\"18\"/>\n",
       "<text text-anchor=\"middle\" x=\"614.5\" y=\"-696.08\" font-family=\"Times,serif\" font-size=\"14.00\">structure__c</text>\n",
       "</g>\n",
       "<!-- clusterphase_preferenceInputsmin_phase2__structure__c&#45;&gt;clusterphase_preferencemin_phase2Inputsstructure__c -->\n",
       "<g id=\"edge25\" class=\"edge\">\n",
       "<title>clusterphase_preferenceInputsmin_phase2__structure__c&#45;&gt;clusterphase_preferencemin_phase2Inputsstructure__c</title>\n",
       "<path fill=\"none\" stroke=\"#ff7f0e\" d=\"M439.47,-702.25C458.12,-702.25 477.7,-702.25 496.73,-702.25\"/>\n",
       "<path fill=\"none\" stroke=\"#ff7f0e\" d=\"M496.73,-702.25C515.75,-702.25 534.21,-702.25 550.63,-702.25\"/>\n",
       "<polygon fill=\"#ff7f0e\" stroke=\"#ff7f0e\" points=\"550.44,-705.75 560.44,-702.25 550.44,-698.75 550.44,-705.75\"/>\n",
       "</g>\n",
       "<!-- clusterphase_preferenceInputsmin_phase2__structure__covera -->\n",
       "<g id=\"node17\" class=\"node\">\n",
       "<title>clusterphase_preferenceInputsmin_phase2__structure__covera</title>\n",
       "<ellipse fill=\"#ff7f0e\" stroke=\"#ff7f0e\" cx=\"335.85\" cy=\"-648.25\" rx=\"122.28\" ry=\"18\"/>\n",
       "<text text-anchor=\"middle\" x=\"335.85\" y=\"-642.08\" font-family=\"Times,serif\" font-size=\"14.00\">min_phase2__structure__covera</text>\n",
       "</g>\n",
       "<!-- clusterphase_preferencemin_phase2Inputsstructure__covera -->\n",
       "<g id=\"node89\" class=\"node\">\n",
       "<title>clusterphase_preferencemin_phase2Inputsstructure__covera</title>\n",
       "<ellipse fill=\"#ff7f0e\" stroke=\"#ff7f0e\" cx=\"614.5\" cy=\"-648.25\" rx=\"71.71\" ry=\"18\"/>\n",
       "<text text-anchor=\"middle\" x=\"614.5\" y=\"-642.08\" font-family=\"Times,serif\" font-size=\"14.00\">structure__covera</text>\n",
       "</g>\n",
       "<!-- clusterphase_preferenceInputsmin_phase2__structure__covera&#45;&gt;clusterphase_preferencemin_phase2Inputsstructure__covera -->\n",
       "<g id=\"edge26\" class=\"edge\">\n",
       "<title>clusterphase_preferenceInputsmin_phase2__structure__covera&#45;&gt;clusterphase_preferencemin_phase2Inputsstructure__covera</title>\n",
       "<path fill=\"none\" stroke=\"#ff7f0e\" d=\"M458.6,-648.25C470.98,-648.25 483.55,-648.25 495.9,-648.25\"/>\n",
       "<path fill=\"none\" stroke=\"#ff7f0e\" d=\"M495.9,-648.25C508.24,-648.25 520.36,-648.25 531.85,-648.25\"/>\n",
       "<polygon fill=\"#ff7f0e\" stroke=\"#ff7f0e\" points=\"531.56,-651.75 541.56,-648.25 531.56,-644.75 531.56,-651.75\"/>\n",
       "</g>\n",
       "<!-- clusterphase_preferenceInputsmin_phase2__structure__u -->\n",
       "<g id=\"node18\" class=\"node\">\n",
       "<title>clusterphase_preferenceInputsmin_phase2__structure__u</title>\n",
       "<ellipse fill=\"#ff7f0e\" stroke=\"#ff7f0e\" cx=\"335.85\" cy=\"-594.25\" rx=\"103.67\" ry=\"18\"/>\n",
       "<text text-anchor=\"middle\" x=\"335.85\" y=\"-588.08\" font-family=\"Times,serif\" font-size=\"14.00\">min_phase2__structure__u</text>\n",
       "</g>\n",
       "<!-- clusterphase_preferencemin_phase2Inputsstructure__u -->\n",
       "<g id=\"node90\" class=\"node\">\n",
       "<title>clusterphase_preferencemin_phase2Inputsstructure__u</title>\n",
       "<ellipse fill=\"#ff7f0e\" stroke=\"#ff7f0e\" cx=\"614.5\" cy=\"-594.25\" rx=\"53.11\" ry=\"18\"/>\n",
       "<text text-anchor=\"middle\" x=\"614.5\" y=\"-588.08\" font-family=\"Times,serif\" font-size=\"14.00\">structure__u</text>\n",
       "</g>\n",
       "<!-- clusterphase_preferenceInputsmin_phase2__structure__u&#45;&gt;clusterphase_preferencemin_phase2Inputsstructure__u -->\n",
       "<g id=\"edge27\" class=\"edge\">\n",
       "<title>clusterphase_preferenceInputsmin_phase2__structure__u&#45;&gt;clusterphase_preferencemin_phase2Inputsstructure__u</title>\n",
       "<path fill=\"none\" stroke=\"#ff7f0e\" d=\"M439.87,-594.25C458.43,-594.25 477.9,-594.25 496.82,-594.25\"/>\n",
       "<path fill=\"none\" stroke=\"#ff7f0e\" d=\"M496.82,-594.25C515.74,-594.25 534.1,-594.25 550.45,-594.25\"/>\n",
       "<polygon fill=\"#ff7f0e\" stroke=\"#ff7f0e\" points=\"550.21,-597.75 560.21,-594.25 550.21,-590.75 550.21,-597.75\"/>\n",
       "</g>\n",
       "<!-- clusterphase_preferenceInputsmin_phase2__structure__orthorhombic -->\n",
       "<g id=\"node19\" class=\"node\">\n",
       "<title>clusterphase_preferenceInputsmin_phase2__structure__orthorhombic</title>\n",
       "<ellipse fill=\"#ff7f0e\" stroke=\"#ff7f0e\" cx=\"335.85\" cy=\"-540.25\" rx=\"146.6\" ry=\"18\"/>\n",
       "<text text-anchor=\"middle\" x=\"335.85\" y=\"-534.08\" font-family=\"Times,serif\" font-size=\"14.00\">min_phase2__structure__orthorhombic</text>\n",
       "</g>\n",
       "<!-- clusterphase_preferencemin_phase2Inputsstructure__orthorhombic -->\n",
       "<g id=\"node91\" class=\"node\">\n",
       "<title>clusterphase_preferencemin_phase2Inputsstructure__orthorhombic</title>\n",
       "<ellipse fill=\"#ff7f0e\" stroke=\"#ff7f0e\" cx=\"614.5\" cy=\"-540.25\" rx=\"96.04\" ry=\"18\"/>\n",
       "<text text-anchor=\"middle\" x=\"614.5\" y=\"-534.08\" font-family=\"Times,serif\" font-size=\"14.00\">structure__orthorhombic</text>\n",
       "</g>\n",
       "<!-- clusterphase_preferenceInputsmin_phase2__structure__orthorhombic&#45;&gt;clusterphase_preferencemin_phase2Inputsstructure__orthorhombic -->\n",
       "<g id=\"edge28\" class=\"edge\">\n",
       "<title>clusterphase_preferenceInputsmin_phase2__structure__orthorhombic&#45;&gt;clusterphase_preferencemin_phase2Inputsstructure__orthorhombic</title>\n",
       "<path fill=\"none\" stroke=\"#ff7f0e\" d=\"M482.87,-540.25C486.98,-540.25 491.08,-540.25 495.15,-540.25\"/>\n",
       "<path fill=\"none\" stroke=\"#ff7f0e\" d=\"M495.15,-540.25C499.23,-540.25 503.28,-540.25 507.29,-540.25\"/>\n",
       "<polygon fill=\"#ff7f0e\" stroke=\"#ff7f0e\" points=\"507.13,-543.75 517.13,-540.25 507.13,-536.75 507.13,-543.75\"/>\n",
       "</g>\n",
       "<!-- clusterphase_preferenceInputsmin_phase2__structure__cubic -->\n",
       "<g id=\"node20\" class=\"node\">\n",
       "<title>clusterphase_preferenceInputsmin_phase2__structure__cubic</title>\n",
       "<ellipse fill=\"#ff7f0e\" stroke=\"#ff7f0e\" cx=\"335.85\" cy=\"-486.25\" rx=\"117.98\" ry=\"18\"/>\n",
       "<text text-anchor=\"middle\" x=\"335.85\" y=\"-480.07\" font-family=\"Times,serif\" font-size=\"14.00\">min_phase2__structure__cubic</text>\n",
       "</g>\n",
       "<!-- clusterphase_preferencemin_phase2Inputsstructure__cubic -->\n",
       "<g id=\"node92\" class=\"node\">\n",
       "<title>clusterphase_preferencemin_phase2Inputsstructure__cubic</title>\n",
       "<ellipse fill=\"#ff7f0e\" stroke=\"#ff7f0e\" cx=\"614.5\" cy=\"-486.25\" rx=\"67.42\" ry=\"18\"/>\n",
       "<text text-anchor=\"middle\" x=\"614.5\" y=\"-480.07\" font-family=\"Times,serif\" font-size=\"14.00\">structure__cubic</text>\n",
       "</g>\n",
       "<!-- clusterphase_preferenceInputsmin_phase2__structure__cubic&#45;&gt;clusterphase_preferencemin_phase2Inputsstructure__cubic -->\n",
       "<g id=\"edge29\" class=\"edge\">\n",
       "<title>clusterphase_preferenceInputsmin_phase2__structure__cubic&#45;&gt;clusterphase_preferencemin_phase2Inputsstructure__cubic</title>\n",
       "<path fill=\"none\" stroke=\"#ff7f0e\" d=\"M454.17,-486.25C468.03,-486.25 482.17,-486.25 496.02,-486.25\"/>\n",
       "<path fill=\"none\" stroke=\"#ff7f0e\" d=\"M496.02,-486.25C509.87,-486.25 523.44,-486.25 536.15,-486.25\"/>\n",
       "<polygon fill=\"#ff7f0e\" stroke=\"#ff7f0e\" points=\"535.82,-489.75 545.82,-486.25 535.82,-482.75 535.82,-489.75\"/>\n",
       "</g>\n",
       "<!-- clusterphase_preferenceInputsmin_phase2__calc__n_ionic_steps -->\n",
       "<g id=\"node21\" class=\"node\">\n",
       "<title>clusterphase_preferenceInputsmin_phase2__calc__n_ionic_steps</title>\n",
       "<ellipse fill=\"#ff7f0e\" stroke=\"#ff7f0e\" cx=\"335.85\" cy=\"-432.25\" rx=\"144.22\" ry=\"18\"/>\n",
       "<text text-anchor=\"middle\" x=\"335.85\" y=\"-426.07\" font-family=\"Times,serif\" font-size=\"14.00\">min_phase2__calc__n_ionic_steps: int</text>\n",
       "</g>\n",
       "<!-- clusterphase_preferencemin_phase2Inputscalc__n_ionic_steps -->\n",
       "<g id=\"node93\" class=\"node\">\n",
       "<title>clusterphase_preferencemin_phase2Inputscalc__n_ionic_steps</title>\n",
       "<ellipse fill=\"#ff7f0e\" stroke=\"#ff7f0e\" cx=\"614.5\" cy=\"-432.25\" rx=\"93.65\" ry=\"18\"/>\n",
       "<text text-anchor=\"middle\" x=\"614.5\" y=\"-426.07\" font-family=\"Times,serif\" font-size=\"14.00\">calc__n_ionic_steps: int</text>\n",
       "</g>\n",
       "<!-- clusterphase_preferenceInputsmin_phase2__calc__n_ionic_steps&#45;&gt;clusterphase_preferencemin_phase2Inputscalc__n_ionic_steps -->\n",
       "<g id=\"edge30\" class=\"edge\">\n",
       "<title>clusterphase_preferenceInputsmin_phase2__calc__n_ionic_steps&#45;&gt;clusterphase_preferencemin_phase2Inputscalc__n_ionic_steps</title>\n",
       "<path fill=\"none\" stroke=\"#ff7f0e\" d=\"M480.44,-432.25C485.36,-432.25 490.28,-432.25 495.16,-432.25\"/>\n",
       "<path fill=\"none\" stroke=\"#ff7f0e\" d=\"M495.16,-432.25C500.04,-432.25 504.89,-432.25 509.67,-432.25\"/>\n",
       "<polygon fill=\"#ff7f0e\" stroke=\"#ff7f0e\" points=\"509.37,-435.75 519.37,-432.25 509.37,-428.75 509.37,-435.75\"/>\n",
       "</g>\n",
       "<!-- clusterphase_preferenceInputsmin_phase2__calc__n_print -->\n",
       "<g id=\"node22\" class=\"node\">\n",
       "<title>clusterphase_preferenceInputsmin_phase2__calc__n_print</title>\n",
       "<ellipse fill=\"#ff7f0e\" stroke=\"#ff7f0e\" cx=\"335.85\" cy=\"-378.25\" rx=\"121.8\" ry=\"18\"/>\n",
       "<text text-anchor=\"middle\" x=\"335.85\" y=\"-372.07\" font-family=\"Times,serif\" font-size=\"14.00\">min_phase2__calc__n_print: int</text>\n",
       "</g>\n",
       "<!-- clusterphase_preferencemin_phase2Inputscalc__n_print -->\n",
       "<g id=\"node94\" class=\"node\">\n",
       "<title>clusterphase_preferencemin_phase2Inputscalc__n_print</title>\n",
       "<ellipse fill=\"#ff7f0e\" stroke=\"#ff7f0e\" cx=\"614.5\" cy=\"-378.25\" rx=\"71.23\" ry=\"18\"/>\n",
       "<text text-anchor=\"middle\" x=\"614.5\" y=\"-372.07\" font-family=\"Times,serif\" font-size=\"14.00\">calc__n_print: int</text>\n",
       "</g>\n",
       "<!-- clusterphase_preferenceInputsmin_phase2__calc__n_print&#45;&gt;clusterphase_preferencemin_phase2Inputscalc__n_print -->\n",
       "<g id=\"edge31\" class=\"edge\">\n",
       "<title>clusterphase_preferenceInputsmin_phase2__calc__n_print&#45;&gt;clusterphase_preferencemin_phase2Inputscalc__n_print</title>\n",
       "<path fill=\"none\" stroke=\"#ff7f0e\" d=\"M457.79,-378.25C470.34,-378.25 483.09,-378.25 495.6,-378.25\"/>\n",
       "<path fill=\"none\" stroke=\"#ff7f0e\" d=\"M495.6,-378.25C508.12,-378.25 520.41,-378.25 532.05,-378.25\"/>\n",
       "<polygon fill=\"#ff7f0e\" stroke=\"#ff7f0e\" points=\"531.9,-381.75 541.9,-378.25 531.9,-374.75 531.9,-381.75\"/>\n",
       "</g>\n",
       "<!-- clusterphase_preferenceInputsmin_phase2__calc__pressure -->\n",
       "<g id=\"node23\" class=\"node\">\n",
       "<title>clusterphase_preferenceInputsmin_phase2__calc__pressure</title>\n",
       "<ellipse fill=\"#ff7f0e\" stroke=\"#ff7f0e\" cx=\"335.85\" cy=\"-324.25\" rx=\"111.78\" ry=\"18\"/>\n",
       "<text text-anchor=\"middle\" x=\"335.85\" y=\"-318.07\" font-family=\"Times,serif\" font-size=\"14.00\">min_phase2__calc__pressure</text>\n",
       "</g>\n",
       "<!-- clusterphase_preferencemin_phase2Inputscalc__pressure -->\n",
       "<g id=\"node95\" class=\"node\">\n",
       "<title>clusterphase_preferencemin_phase2Inputscalc__pressure</title>\n",
       "<ellipse fill=\"#ff7f0e\" stroke=\"#ff7f0e\" cx=\"614.5\" cy=\"-324.25\" rx=\"61.22\" ry=\"18\"/>\n",
       "<text text-anchor=\"middle\" x=\"614.5\" y=\"-318.07\" font-family=\"Times,serif\" font-size=\"14.00\">calc__pressure</text>\n",
       "</g>\n",
       "<!-- clusterphase_preferenceInputsmin_phase2__calc__pressure&#45;&gt;clusterphase_preferencemin_phase2Inputscalc__pressure -->\n",
       "<g id=\"edge32\" class=\"edge\">\n",
       "<title>clusterphase_preferenceInputsmin_phase2__calc__pressure&#45;&gt;clusterphase_preferencemin_phase2Inputscalc__pressure</title>\n",
       "<path fill=\"none\" stroke=\"#ff7f0e\" d=\"M447.78,-324.25C463.71,-324.25 480.14,-324.25 496.19,-324.25\"/>\n",
       "<path fill=\"none\" stroke=\"#ff7f0e\" d=\"M496.19,-324.25C512.24,-324.25 527.9,-324.25 542.28,-324.25\"/>\n",
       "<polygon fill=\"#ff7f0e\" stroke=\"#ff7f0e\" points=\"542.04,-327.75 552.04,-324.25 542.04,-320.75 542.04,-327.75\"/>\n",
       "</g>\n",
       "<!-- clusterphase_preferenceOutputsmin_phase1__calc__cells -->\n",
       "<g id=\"node25\" class=\"node\">\n",
       "<title>clusterphase_preferenceOutputsmin_phase1__calc__cells</title>\n",
       "<ellipse fill=\"#ff7f0e\" stroke=\"#ff7f0e\" cx=\"1151.27\" cy=\"-1082.25\" rx=\"98.9\" ry=\"18\"/>\n",
       "<text text-anchor=\"middle\" x=\"1151.27\" y=\"-1076.08\" font-family=\"Times,serif\" font-size=\"14.00\">min_phase1__calc__cells</text>\n",
       "</g>\n",
       "<!-- clusterphase_preferenceOutputsmin_phase1__calc__displacements -->\n",
       "<g id=\"node26\" class=\"node\">\n",
       "<title>clusterphase_preferenceOutputsmin_phase1__calc__displacements</title>\n",
       "<ellipse fill=\"#ff7f0e\" stroke=\"#ff7f0e\" cx=\"1151.27\" cy=\"-1028.25\" rx=\"132.29\" ry=\"18\"/>\n",
       "<text text-anchor=\"middle\" x=\"1151.27\" y=\"-1022.08\" font-family=\"Times,serif\" font-size=\"14.00\">min_phase1__calc__displacements</text>\n",
       "</g>\n",
       "<!-- clusterphase_preferenceOutputsmin_phase1__calc__energy_tot -->\n",
       "<g id=\"node27\" class=\"node\">\n",
       "<title>clusterphase_preferenceOutputsmin_phase1__calc__energy_tot</title>\n",
       "<ellipse fill=\"#ff7f0e\" stroke=\"#ff7f0e\" cx=\"1151.27\" cy=\"-974.25\" rx=\"119.89\" ry=\"18\"/>\n",
       "<text text-anchor=\"middle\" x=\"1151.27\" y=\"-968.08\" font-family=\"Times,serif\" font-size=\"14.00\">min_phase1__calc__energy_tot</text>\n",
       "</g>\n",
       "<!-- clusterphase_preferenceOutputsmin_phase1__calc__force_max -->\n",
       "<g id=\"node28\" class=\"node\">\n",
       "<title>clusterphase_preferenceOutputsmin_phase1__calc__force_max</title>\n",
       "<ellipse fill=\"#ff7f0e\" stroke=\"#ff7f0e\" cx=\"1151.27\" cy=\"-920.25\" rx=\"120.37\" ry=\"18\"/>\n",
       "<text text-anchor=\"middle\" x=\"1151.27\" y=\"-914.08\" font-family=\"Times,serif\" font-size=\"14.00\">min_phase1__calc__force_max</text>\n",
       "</g>\n",
       "<!-- clusterphase_preferenceOutputsmin_phase1__calc__forces -->\n",
       "<g id=\"node29\" class=\"node\">\n",
       "<title>clusterphase_preferenceOutputsmin_phase1__calc__forces</title>\n",
       "<ellipse fill=\"#ff7f0e\" stroke=\"#ff7f0e\" cx=\"1151.27\" cy=\"-866.25\" rx=\"104.15\" ry=\"18\"/>\n",
       "<text text-anchor=\"middle\" x=\"1151.27\" y=\"-860.08\" font-family=\"Times,serif\" font-size=\"14.00\">min_phase1__calc__forces</text>\n",
       "</g>\n",
       "<!-- clusterphase_preferenceOutputsmin_phase1__calc__indices -->\n",
       "<g id=\"node30\" class=\"node\">\n",
       "<title>clusterphase_preferenceOutputsmin_phase1__calc__indices</title>\n",
       "<ellipse fill=\"#ff7f0e\" stroke=\"#ff7f0e\" cx=\"1151.27\" cy=\"-812.25\" rx=\"107.49\" ry=\"18\"/>\n",
       "<text text-anchor=\"middle\" x=\"1151.27\" y=\"-806.08\" font-family=\"Times,serif\" font-size=\"14.00\">min_phase1__calc__indices</text>\n",
       "</g>\n",
       "<!-- clusterphase_preferenceOutputsmin_phase1__calc__positions -->\n",
       "<g id=\"node31\" class=\"node\">\n",
       "<title>clusterphase_preferenceOutputsmin_phase1__calc__positions</title>\n",
       "<ellipse fill=\"#ff7f0e\" stroke=\"#ff7f0e\" cx=\"1151.27\" cy=\"-1406.25\" rx=\"114.17\" ry=\"18\"/>\n",
       "<text text-anchor=\"middle\" x=\"1151.27\" y=\"-1400.08\" font-family=\"Times,serif\" font-size=\"14.00\">min_phase1__calc__positions</text>\n",
       "</g>\n",
       "<!-- clusterphase_preferenceOutputsmin_phase1__calc__pressures -->\n",
       "<g id=\"node32\" class=\"node\">\n",
       "<title>clusterphase_preferenceOutputsmin_phase1__calc__pressures</title>\n",
       "<ellipse fill=\"#ff7f0e\" stroke=\"#ff7f0e\" cx=\"1151.27\" cy=\"-1352.25\" rx=\"115.12\" ry=\"18\"/>\n",
       "<text text-anchor=\"middle\" x=\"1151.27\" y=\"-1346.08\" font-family=\"Times,serif\" font-size=\"14.00\">min_phase1__calc__pressures</text>\n",
       "</g>\n",
       "<!-- clusterphase_preferenceOutputsmin_phase1__calc__steps -->\n",
       "<g id=\"node33\" class=\"node\">\n",
       "<title>clusterphase_preferenceOutputsmin_phase1__calc__steps</title>\n",
       "<ellipse fill=\"#ff7f0e\" stroke=\"#ff7f0e\" cx=\"1151.27\" cy=\"-1298.25\" rx=\"100.33\" ry=\"18\"/>\n",
       "<text text-anchor=\"middle\" x=\"1151.27\" y=\"-1292.08\" font-family=\"Times,serif\" font-size=\"14.00\">min_phase1__calc__steps</text>\n",
       "</g>\n",
       "<!-- clusterphase_preferenceOutputsmin_phase1__calc__total_displacements -->\n",
       "<g id=\"node34\" class=\"node\">\n",
       "<title>clusterphase_preferenceOutputsmin_phase1__calc__total_displacements</title>\n",
       "<ellipse fill=\"#ff7f0e\" stroke=\"#ff7f0e\" cx=\"1151.27\" cy=\"-1244.25\" rx=\"151.85\" ry=\"18\"/>\n",
       "<text text-anchor=\"middle\" x=\"1151.27\" y=\"-1238.08\" font-family=\"Times,serif\" font-size=\"14.00\">min_phase1__calc__total_displacements</text>\n",
       "</g>\n",
       "<!-- clusterphase_preferenceOutputsmin_phase1__calc__unwrapped_positions -->\n",
       "<g id=\"node35\" class=\"node\">\n",
       "<title>clusterphase_preferenceOutputsmin_phase1__calc__unwrapped_positions</title>\n",
       "<ellipse fill=\"#ff7f0e\" stroke=\"#ff7f0e\" cx=\"1151.27\" cy=\"-1190.25\" rx=\"156.62\" ry=\"18\"/>\n",
       "<text text-anchor=\"middle\" x=\"1151.27\" y=\"-1184.08\" font-family=\"Times,serif\" font-size=\"14.00\">min_phase1__calc__unwrapped_positions</text>\n",
       "</g>\n",
       "<!-- clusterphase_preferenceOutputsmin_phase1__calc__volume -->\n",
       "<g id=\"node36\" class=\"node\">\n",
       "<title>clusterphase_preferenceOutputsmin_phase1__calc__volume</title>\n",
       "<ellipse fill=\"#ff7f0e\" stroke=\"#ff7f0e\" cx=\"1151.27\" cy=\"-1136.25\" rx=\"109.4\" ry=\"18\"/>\n",
       "<text text-anchor=\"middle\" x=\"1151.27\" y=\"-1130.08\" font-family=\"Times,serif\" font-size=\"14.00\">min_phase1__calc__volume</text>\n",
       "</g>\n",
       "<!-- clusterphase_preferenceOutputsmin_phase2__calc__cells -->\n",
       "<g id=\"node37\" class=\"node\">\n",
       "<title>clusterphase_preferenceOutputsmin_phase2__calc__cells</title>\n",
       "<ellipse fill=\"#ff7f0e\" stroke=\"#ff7f0e\" cx=\"1151.27\" cy=\"-434.25\" rx=\"98.9\" ry=\"18\"/>\n",
       "<text text-anchor=\"middle\" x=\"1151.27\" y=\"-428.07\" font-family=\"Times,serif\" font-size=\"14.00\">min_phase2__calc__cells</text>\n",
       "</g>\n",
       "<!-- clusterphase_preferenceOutputsmin_phase2__calc__displacements -->\n",
       "<g id=\"node38\" class=\"node\">\n",
       "<title>clusterphase_preferenceOutputsmin_phase2__calc__displacements</title>\n",
       "<ellipse fill=\"#ff7f0e\" stroke=\"#ff7f0e\" cx=\"1151.27\" cy=\"-380.25\" rx=\"132.29\" ry=\"18\"/>\n",
       "<text text-anchor=\"middle\" x=\"1151.27\" y=\"-374.07\" font-family=\"Times,serif\" font-size=\"14.00\">min_phase2__calc__displacements</text>\n",
       "</g>\n",
       "<!-- clusterphase_preferenceOutputsmin_phase2__calc__energy_tot -->\n",
       "<g id=\"node39\" class=\"node\">\n",
       "<title>clusterphase_preferenceOutputsmin_phase2__calc__energy_tot</title>\n",
       "<ellipse fill=\"#ff7f0e\" stroke=\"#ff7f0e\" cx=\"1151.27\" cy=\"-326.25\" rx=\"119.89\" ry=\"18\"/>\n",
       "<text text-anchor=\"middle\" x=\"1151.27\" y=\"-320.07\" font-family=\"Times,serif\" font-size=\"14.00\">min_phase2__calc__energy_tot</text>\n",
       "</g>\n",
       "<!-- clusterphase_preferenceOutputsmin_phase2__calc__force_max -->\n",
       "<g id=\"node40\" class=\"node\">\n",
       "<title>clusterphase_preferenceOutputsmin_phase2__calc__force_max</title>\n",
       "<ellipse fill=\"#ff7f0e\" stroke=\"#ff7f0e\" cx=\"1151.27\" cy=\"-272.25\" rx=\"120.37\" ry=\"18\"/>\n",
       "<text text-anchor=\"middle\" x=\"1151.27\" y=\"-266.07\" font-family=\"Times,serif\" font-size=\"14.00\">min_phase2__calc__force_max</text>\n",
       "</g>\n",
       "<!-- clusterphase_preferenceOutputsmin_phase2__calc__forces -->\n",
       "<g id=\"node41\" class=\"node\">\n",
       "<title>clusterphase_preferenceOutputsmin_phase2__calc__forces</title>\n",
       "<ellipse fill=\"#ff7f0e\" stroke=\"#ff7f0e\" cx=\"1151.27\" cy=\"-218.25\" rx=\"104.15\" ry=\"18\"/>\n",
       "<text text-anchor=\"middle\" x=\"1151.27\" y=\"-212.07\" font-family=\"Times,serif\" font-size=\"14.00\">min_phase2__calc__forces</text>\n",
       "</g>\n",
       "<!-- clusterphase_preferenceOutputsmin_phase2__calc__indices -->\n",
       "<g id=\"node42\" class=\"node\">\n",
       "<title>clusterphase_preferenceOutputsmin_phase2__calc__indices</title>\n",
       "<ellipse fill=\"#ff7f0e\" stroke=\"#ff7f0e\" cx=\"1151.27\" cy=\"-164.25\" rx=\"107.49\" ry=\"18\"/>\n",
       "<text text-anchor=\"middle\" x=\"1151.27\" y=\"-158.07\" font-family=\"Times,serif\" font-size=\"14.00\">min_phase2__calc__indices</text>\n",
       "</g>\n",
       "<!-- clusterphase_preferenceOutputsmin_phase2__calc__positions -->\n",
       "<g id=\"node43\" class=\"node\">\n",
       "<title>clusterphase_preferenceOutputsmin_phase2__calc__positions</title>\n",
       "<ellipse fill=\"#ff7f0e\" stroke=\"#ff7f0e\" cx=\"1151.27\" cy=\"-758.25\" rx=\"114.17\" ry=\"18\"/>\n",
       "<text text-anchor=\"middle\" x=\"1151.27\" y=\"-752.08\" font-family=\"Times,serif\" font-size=\"14.00\">min_phase2__calc__positions</text>\n",
       "</g>\n",
       "<!-- clusterphase_preferenceOutputsmin_phase2__calc__pressures -->\n",
       "<g id=\"node44\" class=\"node\">\n",
       "<title>clusterphase_preferenceOutputsmin_phase2__calc__pressures</title>\n",
       "<ellipse fill=\"#ff7f0e\" stroke=\"#ff7f0e\" cx=\"1151.27\" cy=\"-704.25\" rx=\"115.12\" ry=\"18\"/>\n",
       "<text text-anchor=\"middle\" x=\"1151.27\" y=\"-698.08\" font-family=\"Times,serif\" font-size=\"14.00\">min_phase2__calc__pressures</text>\n",
       "</g>\n",
       "<!-- clusterphase_preferenceOutputsmin_phase2__calc__steps -->\n",
       "<g id=\"node45\" class=\"node\">\n",
       "<title>clusterphase_preferenceOutputsmin_phase2__calc__steps</title>\n",
       "<ellipse fill=\"#ff7f0e\" stroke=\"#ff7f0e\" cx=\"1151.27\" cy=\"-650.25\" rx=\"100.33\" ry=\"18\"/>\n",
       "<text text-anchor=\"middle\" x=\"1151.27\" y=\"-644.08\" font-family=\"Times,serif\" font-size=\"14.00\">min_phase2__calc__steps</text>\n",
       "</g>\n",
       "<!-- clusterphase_preferenceOutputsmin_phase2__calc__total_displacements -->\n",
       "<g id=\"node46\" class=\"node\">\n",
       "<title>clusterphase_preferenceOutputsmin_phase2__calc__total_displacements</title>\n",
       "<ellipse fill=\"#ff7f0e\" stroke=\"#ff7f0e\" cx=\"1151.27\" cy=\"-596.25\" rx=\"151.85\" ry=\"18\"/>\n",
       "<text text-anchor=\"middle\" x=\"1151.27\" y=\"-590.08\" font-family=\"Times,serif\" font-size=\"14.00\">min_phase2__calc__total_displacements</text>\n",
       "</g>\n",
       "<!-- clusterphase_preferenceOutputsmin_phase2__calc__unwrapped_positions -->\n",
       "<g id=\"node47\" class=\"node\">\n",
       "<title>clusterphase_preferenceOutputsmin_phase2__calc__unwrapped_positions</title>\n",
       "<ellipse fill=\"#ff7f0e\" stroke=\"#ff7f0e\" cx=\"1151.27\" cy=\"-542.25\" rx=\"156.62\" ry=\"18\"/>\n",
       "<text text-anchor=\"middle\" x=\"1151.27\" y=\"-536.08\" font-family=\"Times,serif\" font-size=\"14.00\">min_phase2__calc__unwrapped_positions</text>\n",
       "</g>\n",
       "<!-- clusterphase_preferenceOutputsmin_phase2__calc__volume -->\n",
       "<g id=\"node48\" class=\"node\">\n",
       "<title>clusterphase_preferenceOutputsmin_phase2__calc__volume</title>\n",
       "<ellipse fill=\"#ff7f0e\" stroke=\"#ff7f0e\" cx=\"1151.27\" cy=\"-488.25\" rx=\"109.4\" ry=\"18\"/>\n",
       "<text text-anchor=\"middle\" x=\"1151.27\" y=\"-482.07\" font-family=\"Times,serif\" font-size=\"14.00\">min_phase2__calc__volume</text>\n",
       "</g>\n",
       "<!-- clusterphase_preferenceOutputscompare__de -->\n",
       "<g id=\"node49\" class=\"node\">\n",
       "<title>clusterphase_preferenceOutputscompare__de</title>\n",
       "<ellipse fill=\"#ff7f0e\" stroke=\"#ff7f0e\" cx=\"1151.27\" cy=\"-56.25\" rx=\"56.92\" ry=\"18\"/>\n",
       "<text text-anchor=\"middle\" x=\"1151.27\" y=\"-50.08\" font-family=\"Times,serif\" font-size=\"14.00\">compare__de</text>\n",
       "</g>\n",
       "<!-- clusterphase_preferenceelementInputsrun -->\n",
       "<g id=\"node50\" class=\"node\">\n",
       "<title>clusterphase_preferenceelementInputsrun</title>\n",
       "<polygon fill=\"#1f77b4\" stroke=\"#1f77b4\" points=\"103.62,-1614.25 61.62,-1614.25 61.62,-1590.25 103.62,-1590.25 115.62,-1602.25 103.62,-1614.25\"/>\n",
       "<text text-anchor=\"middle\" x=\"88.62\" y=\"-1596.08\" font-family=\"Times,serif\" font-size=\"14.00\">run</text>\n",
       "</g>\n",
       "<!-- clusterphase_preferenceelementOutputsran -->\n",
       "<g id=\"node53\" class=\"node\">\n",
       "<title>clusterphase_preferenceelementOutputsran</title>\n",
       "<polygon fill=\"#1f77b4\" stroke=\"#1f77b4\" points=\"350.85,-1614.25 308.85,-1614.25 308.85,-1590.25 350.85,-1590.25 362.85,-1602.25 350.85,-1614.25\"/>\n",
       "<text text-anchor=\"middle\" x=\"335.85\" y=\"-1596.08\" font-family=\"Times,serif\" font-size=\"14.00\">ran</text>\n",
       "</g>\n",
       "<!-- clusterphase_preferenceelementInputsrun&#45;&gt;clusterphase_preferenceelementOutputsran -->\n",
       "<!-- clusterphase_preferenceelementInputsaccumulate_and_run -->\n",
       "<g id=\"node51\" class=\"node\">\n",
       "<title>clusterphase_preferenceelementInputsaccumulate_and_run</title>\n",
       "<polygon fill=\"#1f77b4\" stroke=\"#1f77b4\" points=\"141.25,-1560.25 24,-1560.25 24,-1536.25 141.25,-1536.25 153.25,-1548.25 141.25,-1560.25\"/>\n",
       "<text text-anchor=\"middle\" x=\"88.62\" y=\"-1542.08\" font-family=\"Times,serif\" font-size=\"14.00\">accumulate_and_run</text>\n",
       "</g>\n",
       "<!-- clusterphase_preferenceelementOutputsuser_input -->\n",
       "<g id=\"node54\" class=\"node\">\n",
       "<title>clusterphase_preferenceelementOutputsuser_input</title>\n",
       "<ellipse fill=\"#ff7f0e\" stroke=\"#ff7f0e\" cx=\"335.85\" cy=\"-1548.25\" rx=\"46.43\" ry=\"18\"/>\n",
       "<text text-anchor=\"middle\" x=\"335.85\" y=\"-1542.08\" font-family=\"Times,serif\" font-size=\"14.00\">user_input</text>\n",
       "</g>\n",
       "<!-- clusterphase_preferencemin_phase1Inputselement -->\n",
       "<g id=\"node57\" class=\"node\">\n",
       "<title>clusterphase_preferencemin_phase1Inputselement</title>\n",
       "<ellipse fill=\"#ff7f0e\" stroke=\"#ff7f0e\" cx=\"614.5\" cy=\"-1578.25\" rx=\"37.84\" ry=\"18\"/>\n",
       "<text text-anchor=\"middle\" x=\"614.5\" y=\"-1572.08\" font-family=\"Times,serif\" font-size=\"14.00\">element</text>\n",
       "</g>\n",
       "<!-- clusterphase_preferenceelementOutputsuser_input&#45;&gt;clusterphase_preferencemin_phase1Inputselement -->\n",
       "<g id=\"edge6\" class=\"edge\">\n",
       "<title>clusterphase_preferenceelementOutputsuser_input&#45;&gt;clusterphase_preferencemin_phase1Inputselement</title>\n",
       "<path fill=\"none\" stroke=\"#ff7f0e\" d=\"M380.99,-1553.04C406.36,-1555.79 439.78,-1559.41 473.34,-1563.05\"/>\n",
       "<path fill=\"none\" stroke=\"#ff7f0e\" d=\"M473.34,-1563.05C506.9,-1566.69 540.61,-1570.35 566.55,-1573.16\"/>\n",
       "<polygon fill=\"#ff7f0e\" stroke=\"#ff7f0e\" points=\"566.13,-1576.74 576.45,-1574.34 566.88,-1569.78 566.13,-1576.74\"/>\n",
       "</g>\n",
       "<!-- clusterphase_preferencemin_phase2Inputselement -->\n",
       "<g id=\"node85\" class=\"node\">\n",
       "<title>clusterphase_preferencemin_phase2Inputselement</title>\n",
       "<ellipse fill=\"#ff7f0e\" stroke=\"#ff7f0e\" cx=\"614.5\" cy=\"-810.25\" rx=\"37.84\" ry=\"18\"/>\n",
       "<text text-anchor=\"middle\" x=\"614.5\" y=\"-804.08\" font-family=\"Times,serif\" font-size=\"14.00\">element</text>\n",
       "</g>\n",
       "<!-- clusterphase_preferenceelementOutputsuser_input&#45;&gt;clusterphase_preferencemin_phase2Inputselement -->\n",
       "<g id=\"edge7\" class=\"edge\">\n",
       "<title>clusterphase_preferenceelementOutputsuser_input&#45;&gt;clusterphase_preferencemin_phase2Inputselement</title>\n",
       "<path fill=\"none\" stroke=\"#ff7f0e\" d=\"M373.9,-1537.65C410.74,-1524.93 465.28,-1499.68 490.46,-1456.25 498.04,-1443.16 497.12,-1327.08 495.53,-1198.83\"/>\n",
       "<path fill=\"none\" stroke=\"#ff7f0e\" d=\"M495.53,-1198.83C493.5,-1035.43 490.4,-852.28 502.46,-837.25 517.39,-818.63 542.81,-811.55 565.56,-809.27\"/>\n",
       "<polygon fill=\"#ff7f0e\" stroke=\"#ff7f0e\" points=\"565.73,-812.7 575.46,-808.51 565.24,-805.71 565.73,-812.7\"/>\n",
       "</g>\n",
       "<!-- clusterphase_preferencemin_phase1Inputsrun -->\n",
       "<g id=\"node55\" class=\"node\">\n",
       "<title>clusterphase_preferencemin_phase1Inputsrun</title>\n",
       "<polygon fill=\"#1f77b4\" stroke=\"#1f77b4\" points=\"629.5,-1698.25 587.5,-1698.25 587.5,-1674.25 629.5,-1674.25 641.5,-1686.25 629.5,-1698.25\"/>\n",
       "<text text-anchor=\"middle\" x=\"614.5\" y=\"-1680.08\" font-family=\"Times,serif\" font-size=\"14.00\">run</text>\n",
       "</g>\n",
       "<!-- clusterphase_preferencemin_phase1Outputsran -->\n",
       "<g id=\"node68\" class=\"node\">\n",
       "<title>clusterphase_preferencemin_phase1Outputsran</title>\n",
       "<polygon fill=\"#1f77b4\" stroke=\"#1f77b4\" points=\"867.59,-1806.25 825.59,-1806.25 825.59,-1782.25 867.59,-1782.25 879.59,-1794.25 867.59,-1806.25\"/>\n",
       "<text text-anchor=\"middle\" x=\"852.59\" y=\"-1788.08\" font-family=\"Times,serif\" font-size=\"14.00\">ran</text>\n",
       "</g>\n",
       "<!-- clusterphase_preferencemin_phase1Inputsrun&#45;&gt;clusterphase_preferencemin_phase1Outputsran -->\n",
       "<!-- clusterphase_preferencemin_phase1Inputsaccumulate_and_run -->\n",
       "<g id=\"node56\" class=\"node\">\n",
       "<title>clusterphase_preferencemin_phase1Inputsaccumulate_and_run</title>\n",
       "<polygon fill=\"#1f77b4\" stroke=\"#1f77b4\" points=\"667.12,-1644.25 549.87,-1644.25 549.87,-1620.25 667.12,-1620.25 679.12,-1632.25 667.12,-1644.25\"/>\n",
       "<text text-anchor=\"middle\" x=\"614.5\" y=\"-1626.08\" font-family=\"Times,serif\" font-size=\"14.00\">accumulate_and_run</text>\n",
       "</g>\n",
       "<!-- clusterphase_preferencemin_phase1Outputsstructure -->\n",
       "<g id=\"node69\" class=\"node\">\n",
       "<title>clusterphase_preferencemin_phase1Outputsstructure</title>\n",
       "<ellipse fill=\"#ff7f0e\" stroke=\"#ff7f0e\" cx=\"852.59\" cy=\"-1686.25\" rx=\"40.23\" ry=\"18\"/>\n",
       "<text text-anchor=\"middle\" x=\"852.59\" y=\"-1680.08\" font-family=\"Times,serif\" font-size=\"14.00\">structure</text>\n",
       "</g>\n",
       "<!-- clusterphase_preferencecompareInputsstructure1 -->\n",
       "<g id=\"node113\" class=\"node\">\n",
       "<title>clusterphase_preferencecompareInputsstructure1</title>\n",
       "<ellipse fill=\"#ff7f0e\" stroke=\"#ff7f0e\" cx=\"1151.27\" cy=\"-1604.25\" rx=\"44.52\" ry=\"18\"/>\n",
       "<text text-anchor=\"middle\" x=\"1151.27\" y=\"-1598.08\" font-family=\"Times,serif\" font-size=\"14.00\">structure1</text>\n",
       "</g>\n",
       "<!-- clusterphase_preferencemin_phase1Outputsstructure&#45;&gt;clusterphase_preferencecompareInputsstructure1 -->\n",
       "<g id=\"edge8\" class=\"edge\">\n",
       "<title>clusterphase_preferencemin_phase1Outputsstructure&#45;&gt;clusterphase_preferencecompareInputsstructure1</title>\n",
       "<path fill=\"none\" stroke=\"#ff7f0e\" d=\"M893.32,-1686.36C919.12,-1684.45 952.03,-1678.02 974.65,-1659.25 983.59,-1651.83 978.18,-1642.68 983.19,-1634.96\"/>\n",
       "<path fill=\"none\" stroke=\"#ff7f0e\" d=\"M983.19,-1634.96C984.02,-1633.68 985.13,-1632.44 986.65,-1631.25 1017.42,-1607.13 1061.59,-1601 1096.28,-1600.57\"/>\n",
       "<polygon fill=\"#ff7f0e\" stroke=\"#ff7f0e\" points=\"1096.17,-1604.07 1106.19,-1600.61 1096.2,-1597.07 1096.17,-1604.07\"/>\n",
       "</g>\n",
       "<!-- clusterphase_preferencemin_phase1Outputscalc__cells -->\n",
       "<g id=\"node70\" class=\"node\">\n",
       "<title>clusterphase_preferencemin_phase1Outputscalc__cells</title>\n",
       "<ellipse fill=\"#ff7f0e\" stroke=\"#ff7f0e\" cx=\"852.59\" cy=\"-1308.25\" rx=\"48.34\" ry=\"18\"/>\n",
       "<text text-anchor=\"middle\" x=\"852.59\" y=\"-1302.08\" font-family=\"Times,serif\" font-size=\"14.00\">calc__cells</text>\n",
       "</g>\n",
       "<!-- clusterphase_preferencemin_phase1Outputscalc__cells&#45;&gt;clusterphase_preferenceOutputsmin_phase1__calc__cells -->\n",
       "<g id=\"edge33\" class=\"edge\">\n",
       "<title>clusterphase_preferencemin_phase1Outputscalc__cells&#45;&gt;clusterphase_preferenceOutputsmin_phase1__calc__cells</title>\n",
       "<path fill=\"none\" stroke=\"#ff7f0e\" d=\"M900.94,-1310.4C926.65,-1308.84 956.74,-1302.06 974.65,-1281.25 986.11,-1267.93 984.16,-1236.62 981.18,-1203.89\"/>\n",
       "<path fill=\"none\" stroke=\"#ff7f0e\" d=\"M981.18,-1203.89C977.65,-1165.24 972.68,-1124.59 986.65,-1109.25 1001.72,-1092.69 1022.74,-1083.7 1044.7,-1079.21\"/>\n",
       "<polygon fill=\"#ff7f0e\" stroke=\"#ff7f0e\" points=\"1045.26,-1082.49 1054.53,-1077.35 1044.08,-1075.59 1045.26,-1082.49\"/>\n",
       "</g>\n",
       "<!-- clusterphase_preferencemin_phase1Outputscalc__displacements -->\n",
       "<g id=\"node71\" class=\"node\">\n",
       "<title>clusterphase_preferencemin_phase1Outputscalc__displacements</title>\n",
       "<ellipse fill=\"#ff7f0e\" stroke=\"#ff7f0e\" cx=\"852.59\" cy=\"-1254.25\" rx=\"81.73\" ry=\"18\"/>\n",
       "<text text-anchor=\"middle\" x=\"852.59\" y=\"-1248.08\" font-family=\"Times,serif\" font-size=\"14.00\">calc__displacements</text>\n",
       "</g>\n",
       "<!-- clusterphase_preferencemin_phase1Outputscalc__displacements&#45;&gt;clusterphase_preferenceOutputsmin_phase1__calc__displacements -->\n",
       "<g id=\"edge34\" class=\"edge\">\n",
       "<title>clusterphase_preferencemin_phase1Outputscalc__displacements&#45;&gt;clusterphase_preferenceOutputsmin_phase1__calc__displacements</title>\n",
       "<path fill=\"none\" stroke=\"#ff7f0e\" d=\"M933.46,-1251.29C949.17,-1246.98 964.05,-1239.57 974.65,-1227.25 986.02,-1214.03 984.19,-1183.09 981.24,-1150.62\"/>\n",
       "<path fill=\"none\" stroke=\"#ff7f0e\" d=\"M981.24,-1150.62C977.71,-1111.75 972.6,-1070.69 986.65,-1055.25 993.77,-1047.43 1002.22,-1041.3 1011.46,-1036.53\"/>\n",
       "<polygon fill=\"#ff7f0e\" stroke=\"#ff7f0e\" points=\"1012.7,-1039.36 1020.36,-1032.04 1009.81,-1032.98 1012.7,-1039.36\"/>\n",
       "</g>\n",
       "<!-- clusterphase_preferencemin_phase1Outputsenergy -->\n",
       "<g id=\"node72\" class=\"node\">\n",
       "<title>clusterphase_preferencemin_phase1Outputsenergy</title>\n",
       "<ellipse fill=\"#ff7f0e\" stroke=\"#ff7f0e\" cx=\"852.59\" cy=\"-1740.25\" rx=\"33.55\" ry=\"18\"/>\n",
       "<text text-anchor=\"middle\" x=\"852.59\" y=\"-1734.08\" font-family=\"Times,serif\" font-size=\"14.00\">energy</text>\n",
       "</g>\n",
       "<!-- clusterphase_preferencecompareInputsenergy1 -->\n",
       "<g id=\"node114\" class=\"node\">\n",
       "<title>clusterphase_preferencecompareInputsenergy1</title>\n",
       "<ellipse fill=\"#ff7f0e\" stroke=\"#ff7f0e\" cx=\"1151.27\" cy=\"-1658.25\" rx=\"37.84\" ry=\"18\"/>\n",
       "<text text-anchor=\"middle\" x=\"1151.27\" y=\"-1652.08\" font-family=\"Times,serif\" font-size=\"14.00\">energy1</text>\n",
       "</g>\n",
       "<!-- clusterphase_preferencemin_phase1Outputsenergy&#45;&gt;clusterphase_preferencecompareInputsenergy1 -->\n",
       "<g id=\"edge9\" class=\"edge\">\n",
       "<title>clusterphase_preferencemin_phase1Outputsenergy&#45;&gt;clusterphase_preferencecompareInputsenergy1</title>\n",
       "<path fill=\"none\" stroke=\"#ff7f0e\" d=\"M886.42,-1740.78C913,-1739.52 949.96,-1733.74 974.65,-1713.25 983.59,-1705.83 978.18,-1696.67 983.19,-1688.95\"/>\n",
       "<path fill=\"none\" stroke=\"#ff7f0e\" d=\"M983.19,-1688.95C984.02,-1687.67 985.14,-1686.43 986.65,-1685.25 1019.51,-1659.5 1067.64,-1654.26 1103.19,-1654.55\"/>\n",
       "<polygon fill=\"#ff7f0e\" stroke=\"#ff7f0e\" points=\"1102.72,-1658.07 1112.8,-1654.81 1102.88,-1651.07 1102.72,-1658.07\"/>\n",
       "</g>\n",
       "<!-- clusterphase_preferencemin_phase1Outputscalc__energy_tot -->\n",
       "<g id=\"node73\" class=\"node\">\n",
       "<title>clusterphase_preferencemin_phase1Outputscalc__energy_tot</title>\n",
       "<ellipse fill=\"#ff7f0e\" stroke=\"#ff7f0e\" cx=\"852.59\" cy=\"-1200.25\" rx=\"69.33\" ry=\"18\"/>\n",
       "<text text-anchor=\"middle\" x=\"852.59\" y=\"-1194.08\" font-family=\"Times,serif\" font-size=\"14.00\">calc__energy_tot</text>\n",
       "</g>\n",
       "<!-- clusterphase_preferencemin_phase1Outputscalc__energy_tot&#45;&gt;clusterphase_preferenceOutputsmin_phase1__calc__energy_tot -->\n",
       "<g id=\"edge35\" class=\"edge\">\n",
       "<title>clusterphase_preferencemin_phase1Outputscalc__energy_tot&#45;&gt;clusterphase_preferenceOutputsmin_phase1__calc__energy_tot</title>\n",
       "<path fill=\"none\" stroke=\"#ff7f0e\" d=\"M922.13,-1199.87C941.83,-1196.23 961.52,-1188.51 974.65,-1173.25 985.93,-1160.14 984.22,-1129.6 981.32,-1097.43\"/>\n",
       "<path fill=\"none\" stroke=\"#ff7f0e\" d=\"M981.32,-1097.43C977.79,-1058.32 972.5,-1016.8 986.65,-1001.25 996.15,-990.82 1008.01,-983.39 1020.97,-978.2\"/>\n",
       "<polygon fill=\"#ff7f0e\" stroke=\"#ff7f0e\" points=\"1021.8,-981.26 1030.08,-974.65 1019.49,-974.66 1021.8,-981.26\"/>\n",
       "</g>\n",
       "<!-- clusterphase_preferencemin_phase1Outputscalc__force_max -->\n",
       "<g id=\"node74\" class=\"node\">\n",
       "<title>clusterphase_preferencemin_phase1Outputscalc__force_max</title>\n",
       "<ellipse fill=\"#ff7f0e\" stroke=\"#ff7f0e\" cx=\"852.59\" cy=\"-1146.25\" rx=\"69.8\" ry=\"18\"/>\n",
       "<text text-anchor=\"middle\" x=\"852.59\" y=\"-1140.08\" font-family=\"Times,serif\" font-size=\"14.00\">calc__force_max</text>\n",
       "</g>\n",
       "<!-- clusterphase_preferencemin_phase1Outputscalc__force_max&#45;&gt;clusterphase_preferenceOutputsmin_phase1__calc__force_max -->\n",
       "<g id=\"edge36\" class=\"edge\">\n",
       "<title>clusterphase_preferencemin_phase1Outputscalc__force_max&#45;&gt;clusterphase_preferenceOutputsmin_phase1__calc__force_max</title>\n",
       "<path fill=\"none\" stroke=\"#ff7f0e\" d=\"M922.76,-1145.75C942.25,-1142.06 961.66,-1134.35 974.65,-1119.25 985.95,-1106.12 984.21,-1075.49 981.3,-1043.26\"/>\n",
       "<path fill=\"none\" stroke=\"#ff7f0e\" d=\"M981.3,-1043.26C977.77,-1004.2 972.52,-962.77 986.65,-947.25 996.07,-936.9 1007.81,-929.51 1020.66,-924.32\"/>\n",
       "<polygon fill=\"#ff7f0e\" stroke=\"#ff7f0e\" points=\"1021.41,-927.41 1029.67,-920.78 1019.08,-920.81 1021.41,-927.41\"/>\n",
       "</g>\n",
       "<!-- clusterphase_preferencemin_phase1Outputscalc__forces -->\n",
       "<g id=\"node75\" class=\"node\">\n",
       "<title>clusterphase_preferencemin_phase1Outputscalc__forces</title>\n",
       "<ellipse fill=\"#ff7f0e\" stroke=\"#ff7f0e\" cx=\"852.59\" cy=\"-1092.25\" rx=\"53.58\" ry=\"18\"/>\n",
       "<text text-anchor=\"middle\" x=\"852.59\" y=\"-1086.08\" font-family=\"Times,serif\" font-size=\"14.00\">calc__forces</text>\n",
       "</g>\n",
       "<!-- clusterphase_preferencemin_phase1Outputscalc__forces&#45;&gt;clusterphase_preferenceOutputsmin_phase1__calc__forces -->\n",
       "<g id=\"edge37\" class=\"edge\">\n",
       "<title>clusterphase_preferencemin_phase1Outputscalc__forces&#45;&gt;clusterphase_preferenceOutputsmin_phase1__calc__forces</title>\n",
       "<path fill=\"none\" stroke=\"#ff7f0e\" d=\"M906.14,-1094.02C930.6,-1091.87 957.94,-1084.67 974.65,-1065.25 986.04,-1052.01 984.18,-1020.99 981.23,-988.47\"/>\n",
       "<path fill=\"none\" stroke=\"#ff7f0e\" d=\"M981.23,-988.47C977.7,-949.64 972.61,-908.67 986.65,-893.25 1000.28,-878.27 1018.78,-869.49 1038.44,-864.62\"/>\n",
       "<polygon fill=\"#ff7f0e\" stroke=\"#ff7f0e\" points=\"1039.07,-867.85 1048.13,-862.37 1037.63,-861.01 1039.07,-867.85\"/>\n",
       "</g>\n",
       "<!-- clusterphase_preferencemin_phase1Outputscalc__indices -->\n",
       "<g id=\"node76\" class=\"node\">\n",
       "<title>clusterphase_preferencemin_phase1Outputscalc__indices</title>\n",
       "<ellipse fill=\"#ff7f0e\" stroke=\"#ff7f0e\" cx=\"852.59\" cy=\"-1038.25\" rx=\"56.92\" ry=\"18\"/>\n",
       "<text text-anchor=\"middle\" x=\"852.59\" y=\"-1032.08\" font-family=\"Times,serif\" font-size=\"14.00\">calc__indices</text>\n",
       "</g>\n",
       "<!-- clusterphase_preferencemin_phase1Outputscalc__indices&#45;&gt;clusterphase_preferenceOutputsmin_phase1__calc__indices -->\n",
       "<g id=\"edge38\" class=\"edge\">\n",
       "<title>clusterphase_preferencemin_phase1Outputscalc__indices&#45;&gt;clusterphase_preferenceOutputsmin_phase1__calc__indices</title>\n",
       "<path fill=\"none\" stroke=\"#ff7f0e\" d=\"M895.51,-1026.02C922.79,-1015.74 956.55,-998.16 974.65,-970.25 980.19,-961.7 980.91,-945.78 980.34,-927.77\"/>\n",
       "<path fill=\"none\" stroke=\"#ff7f0e\" d=\"M980.34,-927.77C979.26,-894.14 973.68,-853.19 986.65,-839.25 999.35,-825.59 1016.11,-817.12 1034.05,-812.08\"/>\n",
       "<polygon fill=\"#ff7f0e\" stroke=\"#ff7f0e\" points=\"1034.83,-815.25 1043.72,-809.5 1033.18,-808.45 1034.83,-815.25\"/>\n",
       "</g>\n",
       "<!-- clusterphase_preferencemin_phase1Outputscalc__positions -->\n",
       "<g id=\"node77\" class=\"node\">\n",
       "<title>clusterphase_preferencemin_phase1Outputscalc__positions</title>\n",
       "<ellipse fill=\"#ff7f0e\" stroke=\"#ff7f0e\" cx=\"852.59\" cy=\"-1632.25\" rx=\"63.6\" ry=\"18\"/>\n",
       "<text text-anchor=\"middle\" x=\"852.59\" y=\"-1626.08\" font-family=\"Times,serif\" font-size=\"14.00\">calc__positions</text>\n",
       "</g>\n",
       "<!-- clusterphase_preferencemin_phase1Outputscalc__positions&#45;&gt;clusterphase_preferenceOutputsmin_phase1__calc__positions -->\n",
       "<g id=\"edge39\" class=\"edge\">\n",
       "<title>clusterphase_preferencemin_phase1Outputscalc__positions&#45;&gt;clusterphase_preferenceOutputsmin_phase1__calc__positions</title>\n",
       "<path fill=\"none\" stroke=\"#ff7f0e\" d=\"M916.61,-1632.64C938.03,-1629.43 960.19,-1621.78 974.65,-1605.25 985.95,-1592.33 982.65,-1558.66 980.64,-1526.99\"/>\n",
       "<path fill=\"none\" stroke=\"#ff7f0e\" d=\"M980.64,-1526.99C979.02,-1501.47 978.25,-1477.24 986.65,-1466.25 1003.36,-1444.39 1028.84,-1430.49 1054.76,-1421.66\"/>\n",
       "<polygon fill=\"#ff7f0e\" stroke=\"#ff7f0e\" points=\"1055.6,-1424.75 1064.08,-1418.4 1053.49,-1418.07 1055.6,-1424.75\"/>\n",
       "</g>\n",
       "<!-- clusterphase_preferencemin_phase1Outputscalc__pressures -->\n",
       "<g id=\"node78\" class=\"node\">\n",
       "<title>clusterphase_preferencemin_phase1Outputscalc__pressures</title>\n",
       "<ellipse fill=\"#ff7f0e\" stroke=\"#ff7f0e\" cx=\"852.59\" cy=\"-1578.25\" rx=\"64.56\" ry=\"18\"/>\n",
       "<text text-anchor=\"middle\" x=\"852.59\" y=\"-1572.08\" font-family=\"Times,serif\" font-size=\"14.00\">calc__pressures</text>\n",
       "</g>\n",
       "<!-- clusterphase_preferencemin_phase1Outputscalc__pressures&#45;&gt;clusterphase_preferenceOutputsmin_phase1__calc__pressures -->\n",
       "<g id=\"edge40\" class=\"edge\">\n",
       "<title>clusterphase_preferencemin_phase1Outputscalc__pressures&#45;&gt;clusterphase_preferenceOutputsmin_phase1__calc__pressures</title>\n",
       "<path fill=\"none\" stroke=\"#ff7f0e\" d=\"M917.39,-1578.67C938.63,-1575.42 960.47,-1567.74 974.65,-1551.25 985.93,-1538.14 984.22,-1507.59 981.31,-1475.4\"/>\n",
       "<path fill=\"none\" stroke=\"#ff7f0e\" d=\"M981.31,-1475.4C977.78,-1436.3 972.5,-1394.79 986.65,-1379.25 997.28,-1367.57 1010.86,-1359.66 1025.65,-1354.43\"/>\n",
       "<polygon fill=\"#ff7f0e\" stroke=\"#ff7f0e\" points=\"1026.53,-1357.52 1035.06,-1351.23 1024.47,-1350.83 1026.53,-1357.52\"/>\n",
       "</g>\n",
       "<!-- clusterphase_preferencemin_phase1Outputscalc__steps -->\n",
       "<g id=\"node79\" class=\"node\">\n",
       "<title>clusterphase_preferencemin_phase1Outputscalc__steps</title>\n",
       "<ellipse fill=\"#ff7f0e\" stroke=\"#ff7f0e\" cx=\"852.59\" cy=\"-1524.25\" rx=\"49.77\" ry=\"18\"/>\n",
       "<text text-anchor=\"middle\" x=\"852.59\" y=\"-1518.08\" font-family=\"Times,serif\" font-size=\"14.00\">calc__steps</text>\n",
       "</g>\n",
       "<!-- clusterphase_preferencemin_phase1Outputscalc__steps&#45;&gt;clusterphase_preferenceOutputsmin_phase1__calc__steps -->\n",
       "<g id=\"edge41\" class=\"edge\">\n",
       "<title>clusterphase_preferencemin_phase1Outputscalc__steps&#45;&gt;clusterphase_preferenceOutputsmin_phase1__calc__steps</title>\n",
       "<path fill=\"none\" stroke=\"#ff7f0e\" d=\"M902.46,-1526.3C927.82,-1524.57 957.09,-1517.65 974.65,-1497.25 986.11,-1483.93 984.16,-1452.59 981.17,-1419.84\"/>\n",
       "<path fill=\"none\" stroke=\"#ff7f0e\" d=\"M981.17,-1419.84C977.65,-1381.2 972.69,-1340.59 986.65,-1325.25 1001.39,-1309.06 1021.81,-1300.1 1043.24,-1295.52\"/>\n",
       "<polygon fill=\"#ff7f0e\" stroke=\"#ff7f0e\" points=\"1043.6,-1298.83 1052.82,-1293.6 1042.36,-1291.94 1043.6,-1298.83\"/>\n",
       "</g>\n",
       "<!-- clusterphase_preferencemin_phase1Outputscalc__total_displacements -->\n",
       "<g id=\"node80\" class=\"node\">\n",
       "<title>clusterphase_preferencemin_phase1Outputscalc__total_displacements</title>\n",
       "<ellipse fill=\"#ff7f0e\" stroke=\"#ff7f0e\" cx=\"852.59\" cy=\"-1470.25\" rx=\"101.29\" ry=\"18\"/>\n",
       "<text text-anchor=\"middle\" x=\"852.59\" y=\"-1464.08\" font-family=\"Times,serif\" font-size=\"14.00\">calc__total_displacements</text>\n",
       "</g>\n",
       "<!-- clusterphase_preferencemin_phase1Outputscalc__total_displacements&#45;&gt;clusterphase_preferenceOutputsmin_phase1__calc__total_displacements -->\n",
       "<g id=\"edge42\" class=\"edge\">\n",
       "<title>clusterphase_preferencemin_phase1Outputscalc__total_displacements&#45;&gt;clusterphase_preferenceOutputsmin_phase1__calc__total_displacements</title>\n",
       "<path fill=\"none\" stroke=\"#ff7f0e\" d=\"M946,-1463.06C956.93,-1458.59 966.93,-1452.23 974.65,-1443.25 986.3,-1429.71 984.09,-1397.58 981.03,-1364.27\"/>\n",
       "<path fill=\"none\" stroke=\"#ff7f0e\" d=\"M981.03,-1364.27C977.52,-1326.1 972.88,-1286.38 986.65,-1271.25 991.66,-1265.74 997.33,-1261.07 1003.48,-1257.13\"/>\n",
       "<polygon fill=\"#ff7f0e\" stroke=\"#ff7f0e\" points=\"1004.82,-1259.82 1011.8,-1251.85 1001.37,-1253.73 1004.82,-1259.82\"/>\n",
       "</g>\n",
       "<!-- clusterphase_preferencemin_phase1Outputscalc__unwrapped_positions -->\n",
       "<g id=\"node81\" class=\"node\">\n",
       "<title>clusterphase_preferencemin_phase1Outputscalc__unwrapped_positions</title>\n",
       "<ellipse fill=\"#ff7f0e\" stroke=\"#ff7f0e\" cx=\"852.59\" cy=\"-1416.25\" rx=\"106.06\" ry=\"18\"/>\n",
       "<text text-anchor=\"middle\" x=\"852.59\" y=\"-1410.08\" font-family=\"Times,serif\" font-size=\"14.00\">calc__unwrapped_positions</text>\n",
       "</g>\n",
       "<!-- clusterphase_preferencemin_phase1Outputscalc__unwrapped_positions&#45;&gt;clusterphase_preferenceOutputsmin_phase1__calc__unwrapped_positions -->\n",
       "<g id=\"edge43\" class=\"edge\">\n",
       "<title>clusterphase_preferencemin_phase1Outputscalc__unwrapped_positions&#45;&gt;clusterphase_preferenceOutputsmin_phase1__calc__unwrapped_positions</title>\n",
       "<path fill=\"none\" stroke=\"#ff7f0e\" d=\"M948.08,-1408.18C958.2,-1403.77 967.42,-1397.66 974.65,-1389.25 986.34,-1375.66 984.07,-1343.35 980.99,-1309.9\"/>\n",
       "<path fill=\"none\" stroke=\"#ff7f0e\" d=\"M980.99,-1309.9C977.49,-1271.85 972.92,-1232.33 986.65,-1217.25 991.29,-1212.15 996.5,-1207.77 1002.12,-1204.01\"/>\n",
       "<polygon fill=\"#ff7f0e\" stroke=\"#ff7f0e\" points=\"1003.44,-1206.71 1010.28,-1198.62 999.89,-1200.68 1003.44,-1206.71\"/>\n",
       "</g>\n",
       "<!-- clusterphase_preferencemin_phase1Outputscalc__volume -->\n",
       "<g id=\"node82\" class=\"node\">\n",
       "<title>clusterphase_preferencemin_phase1Outputscalc__volume</title>\n",
       "<ellipse fill=\"#ff7f0e\" stroke=\"#ff7f0e\" cx=\"852.59\" cy=\"-1362.25\" rx=\"58.83\" ry=\"18\"/>\n",
       "<text text-anchor=\"middle\" x=\"852.59\" y=\"-1356.08\" font-family=\"Times,serif\" font-size=\"14.00\">calc__volume</text>\n",
       "</g>\n",
       "<!-- clusterphase_preferencemin_phase1Outputscalc__volume&#45;&gt;clusterphase_preferenceOutputsmin_phase1__calc__volume -->\n",
       "<g id=\"edge44\" class=\"edge\">\n",
       "<title>clusterphase_preferencemin_phase1Outputscalc__volume&#45;&gt;clusterphase_preferenceOutputsmin_phase1__calc__volume</title>\n",
       "<path fill=\"none\" stroke=\"#ff7f0e\" d=\"M911.73,-1363.44C934.68,-1360.72 959.2,-1353.21 974.65,-1335.25 986.01,-1322.05 984.19,-1291.15 981.25,-1258.72\"/>\n",
       "<path fill=\"none\" stroke=\"#ff7f0e\" d=\"M981.25,-1258.72C977.72,-1219.82 972.58,-1178.7 986.65,-1163.25 998.88,-1149.81 1015.03,-1141.36 1032.41,-1136.25\"/>\n",
       "<polygon fill=\"#ff7f0e\" stroke=\"#ff7f0e\" points=\"1032.94,-1139.47 1041.77,-1133.62 1031.22,-1132.69 1032.94,-1139.47\"/>\n",
       "</g>\n",
       "<!-- clusterphase_preferencemin_phase2Inputsrun -->\n",
       "<g id=\"node83\" class=\"node\">\n",
       "<title>clusterphase_preferencemin_phase2Inputsrun</title>\n",
       "<polygon fill=\"#1f77b4\" stroke=\"#1f77b4\" points=\"629.5,-930.25 587.5,-930.25 587.5,-906.25 629.5,-906.25 641.5,-918.25 629.5,-930.25\"/>\n",
       "<text text-anchor=\"middle\" x=\"614.5\" y=\"-912.08\" font-family=\"Times,serif\" font-size=\"14.00\">run</text>\n",
       "</g>\n",
       "<!-- clusterphase_preferencemin_phase2Outputsran -->\n",
       "<g id=\"node96\" class=\"node\">\n",
       "<title>clusterphase_preferencemin_phase2Outputsran</title>\n",
       "<polygon fill=\"#1f77b4\" stroke=\"#1f77b4\" points=\"867.59,-930.25 825.59,-930.25 825.59,-906.25 867.59,-906.25 879.59,-918.25 867.59,-930.25\"/>\n",
       "<text text-anchor=\"middle\" x=\"852.59\" y=\"-912.08\" font-family=\"Times,serif\" font-size=\"14.00\">ran</text>\n",
       "</g>\n",
       "<!-- clusterphase_preferencemin_phase2Inputsrun&#45;&gt;clusterphase_preferencemin_phase2Outputsran -->\n",
       "<!-- clusterphase_preferencemin_phase2Inputsaccumulate_and_run -->\n",
       "<g id=\"node84\" class=\"node\">\n",
       "<title>clusterphase_preferencemin_phase2Inputsaccumulate_and_run</title>\n",
       "<polygon fill=\"#1f77b4\" stroke=\"#1f77b4\" points=\"667.12,-876.25 549.87,-876.25 549.87,-852.25 667.12,-852.25 679.12,-864.25 667.12,-876.25\"/>\n",
       "<text text-anchor=\"middle\" x=\"614.5\" y=\"-858.08\" font-family=\"Times,serif\" font-size=\"14.00\">accumulate_and_run</text>\n",
       "</g>\n",
       "<!-- clusterphase_preferencemin_phase2Outputsstructure -->\n",
       "<g id=\"node97\" class=\"node\">\n",
       "<title>clusterphase_preferencemin_phase2Outputsstructure</title>\n",
       "<ellipse fill=\"#ff7f0e\" stroke=\"#ff7f0e\" cx=\"852.59\" cy=\"-810.25\" rx=\"40.23\" ry=\"18\"/>\n",
       "<text text-anchor=\"middle\" x=\"852.59\" y=\"-804.08\" font-family=\"Times,serif\" font-size=\"14.00\">structure</text>\n",
       "</g>\n",
       "<!-- clusterphase_preferencecompareInputsstructure2 -->\n",
       "<g id=\"node115\" class=\"node\">\n",
       "<title>clusterphase_preferencecompareInputsstructure2</title>\n",
       "<ellipse fill=\"#ff7f0e\" stroke=\"#ff7f0e\" cx=\"1151.27\" cy=\"-1496.25\" rx=\"44.52\" ry=\"18\"/>\n",
       "<text text-anchor=\"middle\" x=\"1151.27\" y=\"-1490.08\" font-family=\"Times,serif\" font-size=\"14.00\">structure2</text>\n",
       "</g>\n",
       "<!-- clusterphase_preferencemin_phase2Outputsstructure&#45;&gt;clusterphase_preferencecompareInputsstructure2 -->\n",
       "<g id=\"edge10\" class=\"edge\">\n",
       "<title>clusterphase_preferencemin_phase2Outputsstructure&#45;&gt;clusterphase_preferencecompareInputsstructure2</title>\n",
       "<path fill=\"none\" stroke=\"#ff7f0e\" d=\"M892.72,-807.46C920.17,-807.86 955.3,-813.58 974.65,-837.25 986.12,-851.28 982.86,-1014.57 980.32,-1170.29\"/>\n",
       "<path fill=\"none\" stroke=\"#ff7f0e\" d=\"M980.32,-1170.29C978.03,-1310.99 976.34,-1445.52 986.65,-1458.25 1012.55,-1490.22 1059.59,-1498.49 1096.61,-1499.48\"/>\n",
       "<polygon fill=\"#ff7f0e\" stroke=\"#ff7f0e\" points=\"1096.22,-1502.98 1106.25,-1499.57 1096.28,-1495.98 1096.22,-1502.98\"/>\n",
       "</g>\n",
       "<!-- clusterphase_preferencemin_phase2Outputscalc__cells -->\n",
       "<g id=\"node98\" class=\"node\">\n",
       "<title>clusterphase_preferencemin_phase2Outputscalc__cells</title>\n",
       "<ellipse fill=\"#ff7f0e\" stroke=\"#ff7f0e\" cx=\"852.59\" cy=\"-432.25\" rx=\"48.34\" ry=\"18\"/>\n",
       "<text text-anchor=\"middle\" x=\"852.59\" y=\"-426.07\" font-family=\"Times,serif\" font-size=\"14.00\">calc__cells</text>\n",
       "</g>\n",
       "<!-- clusterphase_preferencemin_phase2Outputscalc__cells&#45;&gt;clusterphase_preferenceOutputsmin_phase2__calc__cells -->\n",
       "<g id=\"edge45\" class=\"edge\">\n",
       "<title>clusterphase_preferencemin_phase2Outputscalc__cells&#45;&gt;clusterphase_preferenceOutputsmin_phase2__calc__cells</title>\n",
       "<path fill=\"none\" stroke=\"#ff7f0e\" d=\"M901.26,-432.57C920.1,-432.7 943.05,-432.85 967.31,-433.02\"/>\n",
       "<path fill=\"none\" stroke=\"#ff7f0e\" d=\"M967.31,-433.02C991.57,-433.18 1017.13,-433.35 1041.21,-433.51\"/>\n",
       "<polygon fill=\"#ff7f0e\" stroke=\"#ff7f0e\" points=\"1041,-437.02 1051.02,-433.59 1041.05,-430.02 1041,-437.02\"/>\n",
       "</g>\n",
       "<!-- clusterphase_preferencemin_phase2Outputscalc__displacements -->\n",
       "<g id=\"node99\" class=\"node\">\n",
       "<title>clusterphase_preferencemin_phase2Outputscalc__displacements</title>\n",
       "<ellipse fill=\"#ff7f0e\" stroke=\"#ff7f0e\" cx=\"852.59\" cy=\"-378.25\" rx=\"81.73\" ry=\"18\"/>\n",
       "<text text-anchor=\"middle\" x=\"852.59\" y=\"-372.07\" font-family=\"Times,serif\" font-size=\"14.00\">calc__displacements</text>\n",
       "</g>\n",
       "<!-- clusterphase_preferencemin_phase2Outputscalc__displacements&#45;&gt;clusterphase_preferenceOutputsmin_phase2__calc__displacements -->\n",
       "<g id=\"edge46\" class=\"edge\">\n",
       "<title>clusterphase_preferencemin_phase2Outputscalc__displacements&#45;&gt;clusterphase_preferenceOutputsmin_phase2__calc__displacements</title>\n",
       "<path fill=\"none\" stroke=\"#ff7f0e\" d=\"M934.66,-378.8C946.03,-378.87 958.07,-378.95 970.42,-379.04\"/>\n",
       "<path fill=\"none\" stroke=\"#ff7f0e\" d=\"M970.42,-379.04C982.77,-379.12 995.42,-379.21 1008.01,-379.29\"/>\n",
       "<polygon fill=\"#ff7f0e\" stroke=\"#ff7f0e\" points=\"1007.76,-382.8 1017.78,-379.36 1007.8,-375.8 1007.76,-382.8\"/>\n",
       "</g>\n",
       "<!-- clusterphase_preferencemin_phase2Outputsenergy -->\n",
       "<g id=\"node100\" class=\"node\">\n",
       "<title>clusterphase_preferencemin_phase2Outputsenergy</title>\n",
       "<ellipse fill=\"#ff7f0e\" stroke=\"#ff7f0e\" cx=\"852.59\" cy=\"-864.25\" rx=\"33.55\" ry=\"18\"/>\n",
       "<text text-anchor=\"middle\" x=\"852.59\" y=\"-858.08\" font-family=\"Times,serif\" font-size=\"14.00\">energy</text>\n",
       "</g>\n",
       "<!-- clusterphase_preferencecompareInputsenergy2 -->\n",
       "<g id=\"node116\" class=\"node\">\n",
       "<title>clusterphase_preferencecompareInputsenergy2</title>\n",
       "<ellipse fill=\"#ff7f0e\" stroke=\"#ff7f0e\" cx=\"1151.27\" cy=\"-1550.25\" rx=\"37.84\" ry=\"18\"/>\n",
       "<text text-anchor=\"middle\" x=\"1151.27\" y=\"-1544.08\" font-family=\"Times,serif\" font-size=\"14.00\">energy2</text>\n",
       "</g>\n",
       "<!-- clusterphase_preferencemin_phase2Outputsenergy&#45;&gt;clusterphase_preferencecompareInputsenergy2 -->\n",
       "<g id=\"edge11\" class=\"edge\">\n",
       "<title>clusterphase_preferencemin_phase2Outputsenergy&#45;&gt;clusterphase_preferencecompareInputsenergy2</title>\n",
       "<path fill=\"none\" stroke=\"#ff7f0e\" d=\"M886.21,-861.46C914.38,-861.05 953.73,-865.66 974.65,-891.25 986.31,-905.52 982.71,-1071.49 979.98,-1229.88\"/>\n",
       "<path fill=\"none\" stroke=\"#ff7f0e\" d=\"M979.98,-1229.88C977.5,-1373.36 975.73,-1510.63 986.65,-1523.25 1015.02,-1556.05 1066.65,-1559.6 1104.35,-1556.96\"/>\n",
       "<polygon fill=\"#ff7f0e\" stroke=\"#ff7f0e\" points=\"1104.41,-1560.38 1114.07,-1556.02 1103.8,-1553.41 1104.41,-1560.38\"/>\n",
       "</g>\n",
       "<!-- clusterphase_preferencemin_phase2Outputscalc__energy_tot -->\n",
       "<g id=\"node101\" class=\"node\">\n",
       "<title>clusterphase_preferencemin_phase2Outputscalc__energy_tot</title>\n",
       "<ellipse fill=\"#ff7f0e\" stroke=\"#ff7f0e\" cx=\"852.59\" cy=\"-324.25\" rx=\"69.33\" ry=\"18\"/>\n",
       "<text text-anchor=\"middle\" x=\"852.59\" y=\"-318.07\" font-family=\"Times,serif\" font-size=\"14.00\">calc__energy_tot</text>\n",
       "</g>\n",
       "<!-- clusterphase_preferencemin_phase2Outputscalc__energy_tot&#45;&gt;clusterphase_preferenceOutputsmin_phase2__calc__energy_tot -->\n",
       "<g id=\"edge47\" class=\"edge\">\n",
       "<title>clusterphase_preferencemin_phase2Outputscalc__energy_tot&#45;&gt;clusterphase_preferenceOutputsmin_phase2__calc__energy_tot</title>\n",
       "<path fill=\"none\" stroke=\"#ff7f0e\" d=\"M922.03,-324.71C936.66,-324.81 952.77,-324.92 969.45,-325.03\"/>\n",
       "<path fill=\"none\" stroke=\"#ff7f0e\" d=\"M969.45,-325.03C986.14,-325.14 1003.4,-325.26 1020.34,-325.37\"/>\n",
       "<polygon fill=\"#ff7f0e\" stroke=\"#ff7f0e\" points=\"1020.26,-328.88 1030.28,-325.45 1020.3,-321.88 1020.26,-328.88\"/>\n",
       "</g>\n",
       "<!-- clusterphase_preferencemin_phase2Outputscalc__force_max -->\n",
       "<g id=\"node102\" class=\"node\">\n",
       "<title>clusterphase_preferencemin_phase2Outputscalc__force_max</title>\n",
       "<ellipse fill=\"#ff7f0e\" stroke=\"#ff7f0e\" cx=\"852.59\" cy=\"-270.25\" rx=\"69.8\" ry=\"18\"/>\n",
       "<text text-anchor=\"middle\" x=\"852.59\" y=\"-264.07\" font-family=\"Times,serif\" font-size=\"14.00\">calc__force_max</text>\n",
       "</g>\n",
       "<!-- clusterphase_preferencemin_phase2Outputscalc__force_max&#45;&gt;clusterphase_preferenceOutputsmin_phase2__calc__force_max -->\n",
       "<g id=\"edge48\" class=\"edge\">\n",
       "<title>clusterphase_preferencemin_phase2Outputscalc__force_max&#45;&gt;clusterphase_preferenceOutputsmin_phase2__calc__force_max</title>\n",
       "<path fill=\"none\" stroke=\"#ff7f0e\" d=\"M922.78,-270.72C937.26,-270.81 953.17,-270.92 969.64,-271.03\"/>\n",
       "<path fill=\"none\" stroke=\"#ff7f0e\" d=\"M969.64,-271.03C986.1,-271.14 1003.13,-271.26 1019.84,-271.37\"/>\n",
       "<polygon fill=\"#ff7f0e\" stroke=\"#ff7f0e\" points=\"1019.62,-274.88 1029.65,-271.44 1019.67,-267.88 1019.62,-274.88\"/>\n",
       "</g>\n",
       "<!-- clusterphase_preferencemin_phase2Outputscalc__forces -->\n",
       "<g id=\"node103\" class=\"node\">\n",
       "<title>clusterphase_preferencemin_phase2Outputscalc__forces</title>\n",
       "<ellipse fill=\"#ff7f0e\" stroke=\"#ff7f0e\" cx=\"852.59\" cy=\"-216.25\" rx=\"53.58\" ry=\"18\"/>\n",
       "<text text-anchor=\"middle\" x=\"852.59\" y=\"-210.07\" font-family=\"Times,serif\" font-size=\"14.00\">calc__forces</text>\n",
       "</g>\n",
       "<!-- clusterphase_preferencemin_phase2Outputscalc__forces&#45;&gt;clusterphase_preferenceOutputsmin_phase2__calc__forces -->\n",
       "<g id=\"edge49\" class=\"edge\">\n",
       "<title>clusterphase_preferencemin_phase2Outputscalc__forces&#45;&gt;clusterphase_preferenceOutputsmin_phase2__calc__forces</title>\n",
       "<path fill=\"none\" stroke=\"#ff7f0e\" d=\"M906.63,-216.61C924.61,-216.73 945.82,-216.87 968.11,-217.02\"/>\n",
       "<path fill=\"none\" stroke=\"#ff7f0e\" d=\"M968.11,-217.02C990.41,-217.17 1013.77,-217.33 1036.05,-217.48\"/>\n",
       "<polygon fill=\"#ff7f0e\" stroke=\"#ff7f0e\" points=\"1035.95,-220.99 1045.98,-217.55 1036,-213.99 1035.95,-220.99\"/>\n",
       "</g>\n",
       "<!-- clusterphase_preferencemin_phase2Outputscalc__indices -->\n",
       "<g id=\"node104\" class=\"node\">\n",
       "<title>clusterphase_preferencemin_phase2Outputscalc__indices</title>\n",
       "<ellipse fill=\"#ff7f0e\" stroke=\"#ff7f0e\" cx=\"852.59\" cy=\"-162.25\" rx=\"56.92\" ry=\"18\"/>\n",
       "<text text-anchor=\"middle\" x=\"852.59\" y=\"-156.07\" font-family=\"Times,serif\" font-size=\"14.00\">calc__indices</text>\n",
       "</g>\n",
       "<!-- clusterphase_preferencemin_phase2Outputscalc__indices&#45;&gt;clusterphase_preferenceOutputsmin_phase2__calc__indices -->\n",
       "<g id=\"edge50\" class=\"edge\">\n",
       "<title>clusterphase_preferencemin_phase2Outputscalc__indices&#45;&gt;clusterphase_preferenceOutputsmin_phase2__calc__indices</title>\n",
       "<path fill=\"none\" stroke=\"#ff7f0e\" d=\"M909.74,-162.63C927.09,-162.75 947.22,-162.88 968.31,-163.02\"/>\n",
       "<path fill=\"none\" stroke=\"#ff7f0e\" d=\"M968.31,-163.02C989.4,-163.17 1011.45,-163.31 1032.63,-163.46\"/>\n",
       "<polygon fill=\"#ff7f0e\" stroke=\"#ff7f0e\" points=\"1032.57,-166.96 1042.6,-163.53 1032.62,-159.96 1032.57,-166.96\"/>\n",
       "</g>\n",
       "<!-- clusterphase_preferencemin_phase2Outputscalc__positions -->\n",
       "<g id=\"node105\" class=\"node\">\n",
       "<title>clusterphase_preferencemin_phase2Outputscalc__positions</title>\n",
       "<ellipse fill=\"#ff7f0e\" stroke=\"#ff7f0e\" cx=\"852.59\" cy=\"-756.25\" rx=\"63.6\" ry=\"18\"/>\n",
       "<text text-anchor=\"middle\" x=\"852.59\" y=\"-750.08\" font-family=\"Times,serif\" font-size=\"14.00\">calc__positions</text>\n",
       "</g>\n",
       "<!-- clusterphase_preferencemin_phase2Outputscalc__positions&#45;&gt;clusterphase_preferenceOutputsmin_phase2__calc__positions -->\n",
       "<g id=\"edge51\" class=\"edge\">\n",
       "<title>clusterphase_preferencemin_phase2Outputscalc__positions&#45;&gt;clusterphase_preferenceOutputsmin_phase2__calc__positions</title>\n",
       "<path fill=\"none\" stroke=\"#ff7f0e\" d=\"M916.51,-756.67C932.49,-756.78 950.47,-756.9 969.18,-757.03\"/>\n",
       "<path fill=\"none\" stroke=\"#ff7f0e\" d=\"M969.18,-757.03C987.89,-757.16 1007.33,-757.29 1026.24,-757.41\"/>\n",
       "<polygon fill=\"#ff7f0e\" stroke=\"#ff7f0e\" points=\"1025.81,-760.92 1035.83,-757.49 1025.86,-753.92 1025.81,-760.92\"/>\n",
       "</g>\n",
       "<!-- clusterphase_preferencemin_phase2Outputscalc__pressures -->\n",
       "<g id=\"node106\" class=\"node\">\n",
       "<title>clusterphase_preferencemin_phase2Outputscalc__pressures</title>\n",
       "<ellipse fill=\"#ff7f0e\" stroke=\"#ff7f0e\" cx=\"852.59\" cy=\"-702.25\" rx=\"64.56\" ry=\"18\"/>\n",
       "<text text-anchor=\"middle\" x=\"852.59\" y=\"-696.08\" font-family=\"Times,serif\" font-size=\"14.00\">calc__pressures</text>\n",
       "</g>\n",
       "<!-- clusterphase_preferencemin_phase2Outputscalc__pressures&#45;&gt;clusterphase_preferenceOutputsmin_phase2__calc__pressures -->\n",
       "<g id=\"edge52\" class=\"edge\">\n",
       "<title>clusterphase_preferencemin_phase2Outputscalc__pressures&#45;&gt;clusterphase_preferenceOutputsmin_phase2__calc__pressures</title>\n",
       "<path fill=\"none\" stroke=\"#ff7f0e\" d=\"M917.6,-702.68C933.3,-702.79 950.88,-702.91 969.17,-703.03\"/>\n",
       "<path fill=\"none\" stroke=\"#ff7f0e\" d=\"M969.17,-703.03C987.45,-703.15 1006.43,-703.28 1024.93,-703.41\"/>\n",
       "<polygon fill=\"#ff7f0e\" stroke=\"#ff7f0e\" points=\"1024.79,-706.91 1034.81,-703.48 1024.84,-699.91 1024.79,-706.91\"/>\n",
       "</g>\n",
       "<!-- clusterphase_preferencemin_phase2Outputscalc__steps -->\n",
       "<g id=\"node107\" class=\"node\">\n",
       "<title>clusterphase_preferencemin_phase2Outputscalc__steps</title>\n",
       "<ellipse fill=\"#ff7f0e\" stroke=\"#ff7f0e\" cx=\"852.59\" cy=\"-648.25\" rx=\"49.77\" ry=\"18\"/>\n",
       "<text text-anchor=\"middle\" x=\"852.59\" y=\"-642.08\" font-family=\"Times,serif\" font-size=\"14.00\">calc__steps</text>\n",
       "</g>\n",
       "<!-- clusterphase_preferencemin_phase2Outputscalc__steps&#45;&gt;clusterphase_preferenceOutputsmin_phase2__calc__steps -->\n",
       "<g id=\"edge53\" class=\"edge\">\n",
       "<title>clusterphase_preferencemin_phase2Outputscalc__steps&#45;&gt;clusterphase_preferenceOutputsmin_phase2__calc__steps</title>\n",
       "<path fill=\"none\" stroke=\"#ff7f0e\" d=\"M902.58,-648.58C921.21,-648.71 943.71,-648.86 967.45,-649.02\"/>\n",
       "<path fill=\"none\" stroke=\"#ff7f0e\" d=\"M967.45,-649.02C991.19,-649.18 1016.19,-649.35 1039.8,-649.51\"/>\n",
       "<polygon fill=\"#ff7f0e\" stroke=\"#ff7f0e\" points=\"1039.71,-653.01 1049.73,-649.58 1039.76,-646.01 1039.71,-653.01\"/>\n",
       "</g>\n",
       "<!-- clusterphase_preferencemin_phase2Outputscalc__total_displacements -->\n",
       "<g id=\"node108\" class=\"node\">\n",
       "<title>clusterphase_preferencemin_phase2Outputscalc__total_displacements</title>\n",
       "<ellipse fill=\"#ff7f0e\" stroke=\"#ff7f0e\" cx=\"852.59\" cy=\"-594.25\" rx=\"101.29\" ry=\"18\"/>\n",
       "<text text-anchor=\"middle\" x=\"852.59\" y=\"-588.08\" font-family=\"Times,serif\" font-size=\"14.00\">calc__total_displacements</text>\n",
       "</g>\n",
       "<!-- clusterphase_preferencemin_phase2Outputscalc__total_displacements&#45;&gt;clusterphase_preferenceOutputsmin_phase2__calc__total_displacements -->\n",
       "<g id=\"edge54\" class=\"edge\">\n",
       "<title>clusterphase_preferencemin_phase2Outputscalc__total_displacements&#45;&gt;clusterphase_preferenceOutputsmin_phase2__calc__total_displacements</title>\n",
       "<path fill=\"none\" stroke=\"#ff7f0e\" d=\"M954.03,-594.93C959.63,-594.96 965.33,-595 971.1,-595.04\"/>\n",
       "<path fill=\"none\" stroke=\"#ff7f0e\" d=\"M971.1,-595.04C976.86,-595.08 982.7,-595.12 988.55,-595.16\"/>\n",
       "<polygon fill=\"#ff7f0e\" stroke=\"#ff7f0e\" points=\"988.31,-598.66 998.34,-595.23 988.36,-591.67 988.31,-598.66\"/>\n",
       "</g>\n",
       "<!-- clusterphase_preferencemin_phase2Outputscalc__unwrapped_positions -->\n",
       "<g id=\"node109\" class=\"node\">\n",
       "<title>clusterphase_preferencemin_phase2Outputscalc__unwrapped_positions</title>\n",
       "<ellipse fill=\"#ff7f0e\" stroke=\"#ff7f0e\" cx=\"852.59\" cy=\"-540.25\" rx=\"106.06\" ry=\"18\"/>\n",
       "<text text-anchor=\"middle\" x=\"852.59\" y=\"-534.08\" font-family=\"Times,serif\" font-size=\"14.00\">calc__unwrapped_positions</text>\n",
       "</g>\n",
       "<!-- clusterphase_preferencemin_phase2Outputscalc__unwrapped_positions&#45;&gt;clusterphase_preferenceOutputsmin_phase2__calc__unwrapped_positions -->\n",
       "<g id=\"edge55\" class=\"edge\">\n",
       "<title>clusterphase_preferencemin_phase2Outputscalc__unwrapped_positions&#45;&gt;clusterphase_preferenceOutputsmin_phase2__calc__unwrapped_positions</title>\n",
       "<path fill=\"none\" stroke=\"#ff7f0e\" d=\"M959.03,-540.96C963.05,-540.99 967.12,-541.02 971.22,-541.04\"/>\n",
       "<path fill=\"none\" stroke=\"#ff7f0e\" d=\"M971.22,-541.04C975.33,-541.07 979.46,-541.1 983.62,-541.13\"/>\n",
       "<polygon fill=\"#ff7f0e\" stroke=\"#ff7f0e\" points=\"983.56,-544.63 993.58,-541.2 983.6,-537.63 983.56,-544.63\"/>\n",
       "</g>\n",
       "<!-- clusterphase_preferencemin_phase2Outputscalc__volume -->\n",
       "<g id=\"node110\" class=\"node\">\n",
       "<title>clusterphase_preferencemin_phase2Outputscalc__volume</title>\n",
       "<ellipse fill=\"#ff7f0e\" stroke=\"#ff7f0e\" cx=\"852.59\" cy=\"-486.25\" rx=\"58.83\" ry=\"18\"/>\n",
       "<text text-anchor=\"middle\" x=\"852.59\" y=\"-480.07\" font-family=\"Times,serif\" font-size=\"14.00\">calc__volume</text>\n",
       "</g>\n",
       "<!-- clusterphase_preferencemin_phase2Outputscalc__volume&#45;&gt;clusterphase_preferenceOutputsmin_phase2__calc__volume -->\n",
       "<g id=\"edge56\" class=\"edge\">\n",
       "<title>clusterphase_preferencemin_phase2Outputscalc__volume&#45;&gt;clusterphase_preferenceOutputsmin_phase2__calc__volume</title>\n",
       "<path fill=\"none\" stroke=\"#ff7f0e\" d=\"M911.85,-486.64C928.82,-486.76 948.31,-486.89 968.68,-487.03\"/>\n",
       "<path fill=\"none\" stroke=\"#ff7f0e\" d=\"M968.68,-487.03C989.05,-487.16 1010.31,-487.31 1030.8,-487.44\"/>\n",
       "<polygon fill=\"#ff7f0e\" stroke=\"#ff7f0e\" points=\"1030.68,-490.95 1040.71,-487.52 1030.73,-483.95 1030.68,-490.95\"/>\n",
       "</g>\n",
       "<!-- clusterphase_preferencecompareInputsrun -->\n",
       "<g id=\"node111\" class=\"node\">\n",
       "<title>clusterphase_preferencecompareInputsrun</title>\n",
       "<polygon fill=\"#1f77b4\" stroke=\"#1f77b4\" points=\"1166.27,-1778.25 1124.27,-1778.25 1124.27,-1754.25 1166.27,-1754.25 1178.27,-1766.25 1166.27,-1778.25\"/>\n",
       "<text text-anchor=\"middle\" x=\"1151.27\" y=\"-1760.08\" font-family=\"Times,serif\" font-size=\"14.00\">run</text>\n",
       "</g>\n",
       "<!-- clusterphase_preferencecompareOutputsran -->\n",
       "<g id=\"node117\" class=\"node\">\n",
       "<title>clusterphase_preferencecompareOutputsran</title>\n",
       "<polygon fill=\"#1f77b4\" stroke=\"#1f77b4\" points=\"1385.89,-1670.25 1343.89,-1670.25 1343.89,-1646.25 1385.89,-1646.25 1397.89,-1658.25 1385.89,-1670.25\"/>\n",
       "<text text-anchor=\"middle\" x=\"1370.89\" y=\"-1652.08\" font-family=\"Times,serif\" font-size=\"14.00\">ran</text>\n",
       "</g>\n",
       "<!-- clusterphase_preferencecompareInputsrun&#45;&gt;clusterphase_preferencecompareOutputsran -->\n",
       "<!-- clusterphase_preferencecompareInputsaccumulate_and_run -->\n",
       "<g id=\"node112\" class=\"node\">\n",
       "<title>clusterphase_preferencecompareInputsaccumulate_and_run</title>\n",
       "<polygon fill=\"#1f77b4\" stroke=\"#1f77b4\" points=\"1203.9,-1724.25 1086.65,-1724.25 1086.65,-1700.25 1203.9,-1700.25 1215.9,-1712.25 1203.9,-1724.25\"/>\n",
       "<text text-anchor=\"middle\" x=\"1151.27\" y=\"-1706.08\" font-family=\"Times,serif\" font-size=\"14.00\">accumulate_and_run</text>\n",
       "</g>\n",
       "<!-- clusterphase_preferencecompareOutputsde -->\n",
       "<g id=\"node118\" class=\"node\">\n",
       "<title>clusterphase_preferencecompareOutputsde</title>\n",
       "<ellipse fill=\"#ff7f0e\" stroke=\"#ff7f0e\" cx=\"1370.89\" cy=\"-1604.25\" rx=\"27\" ry=\"18\"/>\n",
       "<text text-anchor=\"middle\" x=\"1370.89\" y=\"-1598.08\" font-family=\"Times,serif\" font-size=\"14.00\">de</text>\n",
       "</g>\n",
       "<!-- clusterphase_preferencecompareOutputsde&#45;&gt;clusterphase_preferenceOutputscompare__de -->\n",
       "<g id=\"edge57\" class=\"edge\">\n",
       "<title>clusterphase_preferencecompareOutputsde&#45;&gt;clusterphase_preferenceOutputscompare__de</title>\n",
       "<path fill=\"none\" stroke=\"#ff7f0e\" d=\"M1369.9,-1585.8C1369.89,-1494.98 1369.35,-1084.83 1360.75,-715.66\"/>\n",
       "<path fill=\"none\" stroke=\"#ff7f0e\" d=\"M1360.75,-715.66C1353.36,-397.99 1340,-110.67 1315.89,-83.25 1291.34,-55.33 1249.92,-48.71 1214.9,-49\"/>\n",
       "<polygon fill=\"#ff7f0e\" stroke=\"#ff7f0e\" points=\"1215.16,-45.52 1205.26,-49.3 1215.36,-52.52 1215.16,-45.52\"/>\n",
       "</g>\n",
       "</g>\n",
       "</svg>\n"
      ],
      "text/plain": [
       "<graphviz.graphs.Digraph at 0x14c34c310>"
      ]
     },
     "execution_count": 40,
     "metadata": {},
     "output_type": "execute_result"
    }
   ],
   "source": [
    "wf.draw()"
   ]
  },
  {
   "cell_type": "code",
   "execution_count": 41,
   "id": "b51bef25-86c5-4d57-80c1-ab733e703caf",
   "metadata": {},
   "outputs": [
    {
     "name": "stdout",
     "output_type": "stream",
     "text": [
      "The job JUSTAJOBNAME was saved and received the ID: 9562\n",
      "The job JUSTAJOBNAME was saved and received the ID: 9562\n",
      "Al: E(hcp) - E(fcc) = 1.17 eV/atom\n"
     ]
    }
   ],
   "source": [
    "out = wf(element=\"Al\", phase1=\"fcc\", phase2=\"hcp\", lattice_guess1=4, lattice_guess2=4)\n",
    "print(f\"{wf.inputs.element.value}: E({wf.inputs.phase2.value}) - E({wf.inputs.phase1.value}) = {out.compare__de:.2f} eV/atom\")"
   ]
  },
  {
   "cell_type": "code",
   "execution_count": 42,
   "id": "091e2386-0081-436c-a736-23d019bd9b91",
   "metadata": {},
   "outputs": [
    {
     "name": "stderr",
     "output_type": "stream",
     "text": [
      "/Users/huber/work/pyiron/pyiron_workflow/pyiron_workflow/channels.py:158: UserWarning: The channel ran was not connected to accumulate_and_run, andthus could not disconnect from it.\n",
      "  warn(\n"
     ]
    },
    {
     "name": "stdout",
     "output_type": "stream",
     "text": [
      "The job JUSTAJOBNAME was saved and received the ID: 9562\n",
      "The job JUSTAJOBNAME was saved and received the ID: 9562\n",
      "Mg: E(hcp) - E(fcc) = -4.54 eV/atom\n"
     ]
    }
   ],
   "source": [
    "out = wf(element=\"Mg\", phase1=\"fcc\", phase2=\"hcp\", lattice_guess1=3, lattice_guess2=3)\n",
    "print(f\"{wf.inputs.element.value}: E({wf.inputs.phase2.value}) - E({wf.inputs.phase1.value}) = {out.compare__de:.2f} eV/atom\")"
   ]
  },
  {
   "cell_type": "markdown",
   "id": "7985d84f-b842-4a8d-95d5-eca3d19a78c8",
   "metadata": {},
   "source": [
    "We can also replace entire node in a workflow or macro with a new node, booting the old one out and inserting the new one including all its connections. Because the connections are recreated, the replacement node _must_ have compatible IO to the node being replaced.\n",
    "\n",
    "There are several syntacic approaches for doing this, including invoking replacement methods from the workflow (or macro) or from the node being replaced, or a new (compatible!) class can be assigned directly to an existing node. We'll use the last approach, which makes a new instance of the supplied class and replaces the target node with it.\n",
    "\n",
    "Let's replace the calculation type for phase 1 -- let's switch it from a `CalcMin` to a `CalcStatic`; both of these take a `job` as input and give `structure` and `energy` as output, so we won't have any trouble connecting our new node in lieue of the old one."
   ]
  },
  {
   "cell_type": "code",
   "execution_count": 43,
   "id": "4cdffdca-48d3-4486-9045-48102c7e5f31",
   "metadata": {},
   "outputs": [
    {
     "name": "stderr",
     "output_type": "stream",
     "text": [
      "/Users/huber/work/pyiron/pyiron_workflow/pyiron_workflow/channels.py:158: UserWarning: The channel job was not connected to job, andthus could not disconnect from it.\n",
      "  warn(\n",
      "/Users/huber/work/pyiron/pyiron_workflow/pyiron_workflow/channels.py:158: UserWarning: The channel accumulate_and_run was not connected to ran, andthus could not disconnect from it.\n",
      "  warn(\n",
      "/Users/huber/work/pyiron/pyiron_workflow/pyiron_workflow/channels.py:158: UserWarning: The channel element was not connected to user_input, andthus could not disconnect from it.\n",
      "  warn(\n",
      "/Users/huber/work/pyiron/pyiron_workflow/pyiron_workflow/channels.py:158: UserWarning: The channel structure was not connected to structure1, andthus could not disconnect from it.\n",
      "  warn(\n",
      "/Users/huber/work/pyiron/pyiron_workflow/pyiron_workflow/channels.py:158: UserWarning: The channel energy was not connected to energy1, andthus could not disconnect from it.\n",
      "  warn(\n"
     ]
    }
   ],
   "source": [
    "replacee = wf.min_phase1.calc \n",
    "wf.min_phase1.calc = Macro.create.atomistics.CalcStatic"
   ]
  },
  {
   "cell_type": "markdown",
   "id": "8dd7d2f9-313d-4e38-b467-823c48d0afa0",
   "metadata": {},
   "source": [
    "Since we're no longer allowing our first phase to relax while the second phase still can, we would expect the second phase to have a much lower energy than the first one. If our lattice guess for the first phase is bad enough, this could even switch the preferred phase!\n",
    "\n",
    "Look at Al's fcc-hcp energy difference using this new workflow. We'll always let hcp relax, but freeze the fcc cell so we can see the impact of a good and bad lattice guess."
   ]
  },
  {
   "cell_type": "code",
   "execution_count": 44,
   "id": "ed4a3a22-fc3a-44c9-9d4f-c65bc1288889",
   "metadata": {},
   "outputs": [
    {
     "name": "stderr",
     "output_type": "stream",
     "text": [
      "/Users/huber/work/pyiron/pyiron_workflow/pyiron_workflow/channels.py:158: UserWarning: The channel ran was not connected to accumulate_and_run, andthus could not disconnect from it.\n",
      "  warn(\n"
     ]
    },
    {
     "name": "stdout",
     "output_type": "stream",
     "text": [
      "The job JUSTAJOBNAME was saved and received the ID: 9562\n",
      "The job JUSTAJOBNAME was saved and received the ID: 9562\n",
      "Al: E(hcp) - E(fcc) = -5.57 eV/atom\n"
     ]
    }
   ],
   "source": [
    "# Bad guess\n",
    "out = wf(element=\"Al\", phase1=\"fcc\", phase2=\"hcp\", lattice_guess1=3, lattice_guess2=3.1)\n",
    "print(f\"{wf.inputs.element.value}: E({wf.inputs.phase2.value}) - E({wf.inputs.phase1.value}) = {out.compare__de:.2f} eV/atom\")"
   ]
  },
  {
   "cell_type": "code",
   "execution_count": 45,
   "id": "5a985cbf-c308-4369-9223-b8a37edb8ab1",
   "metadata": {},
   "outputs": [
    {
     "name": "stderr",
     "output_type": "stream",
     "text": [
      "/Users/huber/work/pyiron/pyiron_workflow/pyiron_workflow/channels.py:158: UserWarning: The channel ran was not connected to accumulate_and_run, andthus could not disconnect from it.\n",
      "  warn(\n"
     ]
    },
    {
     "name": "stdout",
     "output_type": "stream",
     "text": [
      "The job JUSTAJOBNAME was saved and received the ID: 9562\n",
      "The job JUSTAJOBNAME was saved and received the ID: 9562\n",
      "Al: E(hcp) - E(fcc) = 0.03 eV/atom\n"
     ]
    }
   ],
   "source": [
    "# Good guess\n",
    "out = wf(element=\"Al\", phase1=\"fcc\", phase2=\"hcp\", lattice_guess1=4.05, lattice_guess2=3.2)\n",
    "print(f\"{wf.inputs.element.value}: E({wf.inputs.phase2.value}) - E({wf.inputs.phase1.value}) = {out.compare__de:.2f} eV/atom\")"
   ]
  },
  {
   "cell_type": "markdown",
   "id": "e5e75718-137f-43e6-b484-5ebe4ab22bf8",
   "metadata": {},
   "source": [
    "Now that we have nested macros, we can finally discuss the subtle difference between `__call__` and `pull`:\n",
    "\n",
    "Each `Macro` instance is its own little walled garden, where it's child nodes have no connections apart from those to other children of the same macro (you can forceably change this, since we're all adults here, but it won't happen by default and isn't recommended). Under the hood this is accomplished by the macro IO \"linking\" itself to its childrens' IO, so that updates to macro input values are always immediately propagated to children, and macro output gets synchronized with its childrens' output at the end of every run. Because of this we can think of these children all having the same \"scope\", i.e. siblings among the same parent.\n",
    "\n",
    "`pull` has a keyword argument to determine whether upstream data dependencies are restricted to be _in scope_, or if the parent node (if any) should also consider all _its_ data dependencies as well, and so on up until we hit the parent-most macro or workflow.\n",
    "\n",
    "For `pull` this parameter defaults to `False`, so that the pull stops at the parent node. For `__call__` it defaults to `True`, so that the search for data dependencies punches right through parents and all the way up. The danger is that this might be expensive if there's an costly node somewhere in the dependency!\n",
    "\n",
    "Note that the entire \"pull\" paradigm does currently play nicely with remote execution. If some of your nodes have an executor specified, you will need to `.run` your graph (or `__call__` a `Workflow` if that's your parent-most object)."
   ]
  },
  {
   "cell_type": "markdown",
   "id": "f447531e-3e8c-4c7e-a579-5f9c56b75a5b",
   "metadata": {},
   "source": [
    "# Here be dragons\n",
    "\n",
    "While everything in the workflows sub-module is under development, the following complex features are _even more likely_ to see substantial modifications to their interface and behaviour. Nonetheless, they're fun so let's look at them."
   ]
  },
  {
   "cell_type": "markdown",
   "id": "069cc8e8-f8b9-4382-a424-b3b2dd2bf739",
   "metadata": {},
   "source": [
    "## Parallelization\n",
    "\n",
    "You can currently run nodes in different process by setting that node's `executor` to an instance of a compliant executor object -- i.e. that takes the standard `submit` method of `concurrent.futures.Executor`, returns a `concurrent.futures.Future` (or sub-class), and can handle serializing dynamically defined objects. We make a handful of such compliant executors available on the creator. There is a toy `CloudpickleProcessPoolExecutor` which is a minimal example of compliance and useful for learning, but we also link to the executors provided by `pympipool`. Depending on your installation of `pympipool`, it's possible that only the `PyMPIExecutor` will be available, and this is what is provided by default under the creator's `Executor` attribute. The more complex flux- and slurm- based executors have not yet been tested. In the future,  we may also leverage the `Submitter` in `pyiron_contrib.tinybase` so that multiple nodes can lean on the same resources.\n",
    "\n",
    "Here's a simple example of executor usage:"
   ]
  },
  {
   "cell_type": "code",
   "execution_count": 46,
   "id": "aa575249-b209-4e0c-9ea6-a82bc69dc833",
   "metadata": {},
   "outputs": [
    {
     "name": "stdout",
     "output_type": "stream",
     "text": [
      "None 1\n",
      "<Future at 0x14edb0790 state=pending> <class 'pyiron_workflow.channels.NotData'>\n"
     ]
    }
   ],
   "source": [
    "@Workflow.wrap_as.single_value_node(\"sum\")\n",
    "def add_node(x, y):\n",
    "    return x + y\n",
    "\n",
    "wf = Workflow(\"with_executor\")\n",
    "wf.a1 = add_node(0, 1)\n",
    "wf.a2 = add_node(2, 3)\n",
    "wf.b = add_node(wf.a1, wf.a2)\n",
    "\n",
    "wf.a2.executor = wf.create.Executor()\n",
    "wf()\n",
    "\n",
    "print(wf.a1.future, wf.a1.outputs.sum.value)\n",
    "print(wf.a2.future, wf.a2.outputs.sum.value)"
   ]
  },
  {
   "cell_type": "markdown",
   "id": "a15cf16b-90d5-4bf4-bc8e-e65a3ee06fa4",
   "metadata": {},
   "source": [
    "We can see that the regularly-executing node gets its output as usual, but the node with an executor gets its `future` attribute populated and isn't finished yet"
   ]
  },
  {
   "cell_type": "code",
   "execution_count": 47,
   "id": "c1b7b4e9-1c76-470c-ba6e-a58ea3f611f6",
   "metadata": {},
   "outputs": [
    {
     "name": "stdout",
     "output_type": "stream",
     "text": [
      "Finally 5\n",
      "b (AddNode) output single-value: 6\n"
     ]
    }
   ],
   "source": [
    "print(\"Finally\", wf.a2.future.result())\n",
    "print(wf.b)"
   ]
  },
  {
   "cell_type": "markdown",
   "id": "4dd4159e-6e01-492a-8986-f07e26e68954",
   "metadata": {},
   "source": [
    "When you're all done, it's best practice to shut down your `pympipool` executor to make sure you don't leave any dangling process (similar to how opened files should be closed). This can be done with a convience method from the parent-most object, which will recursively shut down all executors:"
   ]
  },
  {
   "cell_type": "code",
   "execution_count": 48,
   "id": "7e98058b-a791-4cb1-ae2c-864ad7e56cee",
   "metadata": {},
   "outputs": [],
   "source": [
    "wf.executor_shutdown()"
   ]
  },
  {
   "cell_type": "markdown",
   "id": "56206b10-6851-4ffa-ad43-432ad46d272a",
   "metadata": {},
   "source": [
    "Alternatively, we can use the `with` context for executors, as along as it encompasses our entire workflow. This might be useful if you are working with a single executor. In this case the `with` context handles shutdown cleanly without our help:"
   ]
  },
  {
   "cell_type": "code",
   "execution_count": 49,
   "id": "0d1b4005-488e-492f-adcb-8ad7235e4fe3",
   "metadata": {},
   "outputs": [
    {
     "name": "stdout",
     "output_type": "stream",
     "text": [
      "None 1\n",
      "<Future at 0x14ed83fd0 state=pending> <class 'pyiron_workflow.channels.NotData'>\n",
      "Finally 5\n",
      "b (AddNode) output single-value: 6\n"
     ]
    }
   ],
   "source": [
    "with Workflow.create.Executor() as executor:\n",
    "    wf = Workflow(\"with_executor\")\n",
    "    wf.a1 = add_node(0, 1)\n",
    "    wf.a2 = add_node(2, 3)\n",
    "    wf.b = add_node(wf.a1, wf.a2)\n",
    "\n",
    "    wf.a2.executor = wf.create.Executor()\n",
    "    wf()\n",
    "    \n",
    "    print(wf.a1.future, wf.a1.outputs.sum.value)\n",
    "    print(wf.a2.future, wf.a2.outputs.sum.value)\n",
    "    \n",
    "    print(\"Finally\", wf.a2.future.result())\n",
    "    print(wf.b)"
   ]
  },
  {
   "cell_type": "markdown",
   "id": "26d7fb8e-4071-482d-bbb4-31689e87c3d5",
   "metadata": {},
   "source": [
    "For DAGs, workflows and macros automated execution flow makes use of the `.signals.inputs.accumulate_and_run` signal to run as soon as _all_ the up-data-stream nodes have finished.\n",
    "\n",
    "Before we wrap up our conversation of executors, let's make both linear and accumulating workflows by-hand, and see the time difference parallelization can bring"
   ]
  },
  {
   "cell_type": "code",
   "execution_count": 50,
   "id": "d03ca074-35a0-4e0d-9377-d4eaa5521f85",
   "metadata": {},
   "outputs": [],
   "source": [
    "from time import perf_counter, sleep\n",
    "\n",
    "from pyiron_workflow.channels import NotData\n",
    "\n",
    "@Workflow.wrap_as.single_value_node()\n",
    "def Wait(t):\n",
    "    sleep(t)\n",
    "    return True\n",
    "    \n",
    "t = 2"
   ]
  },
  {
   "cell_type": "code",
   "execution_count": 51,
   "id": "a7c07aa0-84fc-4f43-aa4f-6498c0837d76",
   "metadata": {},
   "outputs": [
    {
     "name": "stdout",
     "output_type": "stream",
     "text": [
      "6.008391406998271\n"
     ]
    }
   ],
   "source": [
    "wf = Workflow(\"serial\")\n",
    "wf.a = Wait(t)\n",
    "wf.b = Wait(t)\n",
    "wf.c = Wait(t)\n",
    "wf.d = wf.create.standard.UserInput(t)\n",
    "wf.automate_execution = False\n",
    "wf.a > wf.b > wf.c > wf.d\n",
    "wf.starting_nodes = [wf.a]\n",
    "t0 = perf_counter()\n",
    "out = wf()\n",
    "while wf.outputs.d__user_input.value is NotData:\n",
    "    sleep(0.001)\n",
    "dt_serial = perf_counter() - t0\n",
    "\n",
    "print(dt_serial)"
   ]
  },
  {
   "cell_type": "code",
   "execution_count": 52,
   "id": "b062ab5f-9b98-4843-8925-b93bf4c173f8",
   "metadata": {},
   "outputs": [
    {
     "name": "stdout",
     "output_type": "stream",
     "text": [
      "2.4772168039926328\n"
     ]
    }
   ],
   "source": [
    "wf = Workflow(\"parallel\")\n",
    "wf.a = Wait(t)\n",
    "wf.b = Wait(t)\n",
    "wf.c = Wait(t)\n",
    "wf.d = wf.create.standard.UserInput(t)\n",
    "wf.automate_execution = False\n",
    "wf.d << wf.a, wf.b, wf.c\n",
    "wf.starting_nodes = [wf.a, wf.b, wf.c]\n",
    "\n",
    "\n",
    "with wf.create.Executor(max_workers=3, cores_per_worker=1) as executor:\n",
    "    wf.a.executor = executor\n",
    "    wf.b.executor = executor\n",
    "    wf.c.executor = executor\n",
    "\n",
    "    t1 = perf_counter()\n",
    "    out = wf()\n",
    "    while wf.outputs.d__user_input.value is NotData:\n",
    "        sleep(0.001)\n",
    "    dt_parallel = perf_counter() - t1\n",
    "\n",
    "print(dt_parallel)"
   ]
  },
  {
   "cell_type": "markdown",
   "id": "8655ab85-f3e1-4828-b2c4-43425f45717c",
   "metadata": {},
   "source": [
    "Note how we've used the `<<` syntax to load up the `accumulate_and_run` input signal with multiple connections at once (as opposed to the forwards-syntactic sugar that connects one item at a time to `run`), and leveraging a single executor in a `with` statement. But most of all, note the speedup! There is some overhead for shipping things off to an executor -- we don't want to do it for operations that are taking mere ms -- but the bar is not super high. Serializing different nodes may take different amounts of time depending on how complex they are, so check for yourself the tradeoff between executing your nodes in parallel or serial."
   ]
  },
  {
   "cell_type": "markdown",
   "id": "b6a3b48f-eda6-4947-a1b2-22abfa394293",
   "metadata": {},
   "source": [
    "#### Executor limitations\n",
    "\n",
    "Unfortunately, _nested_ executors are not yet working. So if you set a macro to use an executor, none of its (grand...)children may specify an executor.\n",
    "\n",
    "Note also that right now our treatment of DAGs is quite rudimentary, and the data flow is (unless cyclic) converted into a _linear_ execution pattern. \n",
    "This is practical and robust, but highly inefficient when combined with nodes that can run in parallel, i.e. with \"executors\".\n",
    "Going forward, we will exploit the same infrastructure of data flow DAGs and run signals to build up more sophisticated execution patterns which support parallelization."
   ]
  },
  {
   "cell_type": "markdown",
   "id": "1f012460-19af-45f7-98aa-a0ad5b8e6faa",
   "metadata": {},
   "source": [
    "## Meta-nodes and flow control\n",
    "\n",
    "A meta-node is a function that produces a node _class_ instedad of a node _instance_.\n",
    "Right now, these are used to produce parameterized flow-control nodes, which take an node class as input and return a new macro class that builds some graph using the passed node class, e.g. for- and while-loops.\n",
    "\n",
    "### For-loops\n",
    "\n",
    "One meta node is a for-loop builder, which creates a macro with $n$ internal instances of the \"loop body\" node class, and a new IO interface.\n",
    "The new input allows you to specify which input channels are being looped over -- such that the macro input for this channel is interpreted as list-like and distributed to all the copies of the nodes separately --, and which is _not_ being looped over -- and thus interpreted as the loop body node would normally interpret the input and passed to all copies equally.\n",
    "All of the loop body outputs are then collected as a list of length $n$.\n",
    "\n",
    "We follow a convention that inputs and outputs being looped over are indicated by their channel labels being ALL CAPS.\n",
    "\n",
    "In the example below, we loop over the bulk structure node to create structures with different lattice constants:"
   ]
  },
  {
   "cell_type": "code",
   "execution_count": 53,
   "id": "0b373764-b389-4c24-8086-f3d33a4f7fd7",
   "metadata": {},
   "outputs": [
    {
     "data": {
      "text/plain": [
       "[14.829749999999995,\n",
       " 15.407468749999998,\n",
       " 15.999999999999998,\n",
       " 16.60753125,\n",
       " 17.230249999999995]"
      ]
     },
     "execution_count": 53,
     "metadata": {},
     "output_type": "execute_result"
    }
   ],
   "source": [
    "n = 5\n",
    "\n",
    "bulk_loop = Workflow.create.meta.for_loop(\n",
    "    Workflow.create.atomistics.Bulk,\n",
    "    n,\n",
    "    iterate_on=(\"a\",),\n",
    ")()\n",
    "\n",
    "out = bulk_loop(\n",
    "    name=\"Al\",  # Sent equally to each body node\n",
    "    A=np.linspace(3.9, 4.1, n).tolist(),  # Distributed across body nodes\n",
    ")\n",
    "\n",
    "[struct.cell.volume for struct in out.STRUCTURE]  \n",
    "# output is a list collected from copies of the body node, as indicated by CAPS label"
   ]
  },
  {
   "cell_type": "markdown",
   "id": "4e7ed210-dbc2-4afa-825e-b91168baff25",
   "metadata": {},
   "source": [
    "## While-loops\n",
    "\n",
    "We can also create a while-loop, which takes both a body node and a condition node. The condition node must be a `SingleValue` returning a `bool` type. Instead of creating copies of the body node, the body node gets re-run until the condition node returns `False`.\n",
    "\n",
    "You _must_ specify the data connection so that the body node passes information to the condition node. You may optionally also loop output of the body node back to input of the body node to change the input at each iteration. Right now this is done with horribly ugly string tuples, but we're still working on it."
   ]
  },
  {
   "cell_type": "code",
   "execution_count": 54,
   "id": "0dd04b4c-e3e7-4072-ad34-58f2c1e4f596",
   "metadata": {},
   "outputs": [
    {
     "name": "stderr",
     "output_type": "stream",
     "text": [
      "/Users/huber/work/pyiron/pyiron_workflow/pyiron_workflow/channels.py:158: UserWarning: The channel run was not connected to true, andthus could not disconnect from it.\n",
      "  warn(\n",
      "/Users/huber/work/pyiron/pyiron_workflow/pyiron_workflow/channels.py:158: UserWarning: The channel run was not connected to ran, andthus could not disconnect from it.\n",
      "  warn(\n"
     ]
    }
   ],
   "source": [
    "@Workflow.wrap_as.single_value_node()\n",
    "def add(a, b):\n",
    "    print(f\"{a} + {b} = {a + b}\")\n",
    "    return a + b\n",
    "\n",
    "@Workflow.wrap_as.single_value_node()\n",
    "def less_than_ten(value):\n",
    "    return value < 10\n",
    "\n",
    "AddWhile = Workflow.create.meta.while_loop(\n",
    "    loop_body_class=add,\n",
    "    condition_class=less_than_ten,\n",
    "    internal_connection_map=[\n",
    "        (\"Add\", \"a + b\", \"LessThanTen\", \"value\"),\n",
    "        (\"Add\", \"a + b\", \"Add\", \"a\")\n",
    "    ],\n",
    "    inputs_map={\"Add__a\": \"a\", \"Add__b\": \"b\"},\n",
    "    outputs_map={\"Add__a + b\": \"total\"}\n",
    ")\n",
    "\n",
    "wf = Workflow(\"do_while\")\n",
    "wf.add_while = AddWhile()\n",
    "\n",
    "wf.inputs_map = {\n",
    "    \"add_while__a\": \"a\",\n",
    "    \"add_while__b\": \"b\"\n",
    "}\n",
    "wf.outputs_map = {\n",
    "    \"add_while__total\": \"total\",  # Rename this output\n",
    "    \"add_while__switch__truth\": None  # Disable this output\n",
    "}"
   ]
  },
  {
   "cell_type": "markdown",
   "id": "eb810e1e-4d13-4cb1-94cc-6d191b8c568d",
   "metadata": {},
   "source": [
    "Note that initializing the `a` and `b` input to numeric values when we call the workflow below does not destroy the connection made between the body node input and output -- so the first run of the body node uses the initial value passed, but then it updates its own input for subsequent calls!"
   ]
  },
  {
   "cell_type": "code",
   "execution_count": 55,
   "id": "2dfb967b-41ac-4463-b606-3e315e617f2a",
   "metadata": {},
   "outputs": [
    {
     "name": "stdout",
     "output_type": "stream",
     "text": [
      "1 + 2 = 3\n",
      "3 + 2 = 5\n",
      "5 + 2 = 7\n",
      "7 + 2 = 9\n",
      "9 + 2 = 11\n",
      "Finally {'total': 11}\n"
     ]
    }
   ],
   "source": [
    "response = wf(a=1, b=2)\n",
    "print(\"Finally\", response)"
   ]
  },
  {
   "cell_type": "code",
   "execution_count": 56,
   "id": "2e87f858-b327-4f6b-9237-c8a557f29aeb",
   "metadata": {},
   "outputs": [
    {
     "name": "stdout",
     "output_type": "stream",
     "text": [
      "0.565 > 0.2\n",
      "0.979 > 0.2\n",
      "0.194 <= 0.2\n",
      "Finally 0.194\n"
     ]
    }
   ],
   "source": [
    "@Workflow.wrap_as.single_value_node(\"random\")\n",
    "def random(length: int | None = None):\n",
    "    return np.random.random(length)\n",
    "\n",
    "@Workflow.wrap_as.single_value_node()\n",
    "def greater_than(x: float, threshold: float):\n",
    "    gt = x > threshold\n",
    "    symbol = \">\" if gt else \"<=\"\n",
    "    print(f\"{x:.3f} {symbol} {threshold}\")\n",
    "    return gt\n",
    "\n",
    "RandomWhile = Workflow.create.meta.while_loop(\n",
    "    loop_body_class=random,\n",
    "    condition_class=greater_than,\n",
    "    internal_connection_map=[(\"Random\", \"random\", \"GreaterThan\", \"x\")],\n",
    "    outputs_map={\"Random__random\": \"capped_result\"}\n",
    ")\n",
    "\n",
    "# Define workflow\n",
    "\n",
    "wf = Workflow(\"random_until_small_enough\")\n",
    "\n",
    "## Wire together the while loop and its condition\n",
    "\n",
    "wf.random_while = RandomWhile()\n",
    "\n",
    "## Give convenient labels\n",
    "wf.inputs_map = {\"random_while__GreaterThan__threshold\": \"threshold\"}\n",
    "wf.outputs_map = {\"random_while__capped_result\": \"capped_result\"}\n",
    "\n",
    "print(f\"Finally {wf(threshold=0.2).capped_result:.3f}\")"
   ]
  },
  {
   "cell_type": "markdown",
   "id": "1f29fde8-1645-444e-99dc-3ec465461c7e",
   "metadata": {},
   "source": [
    "## Serialization for data storage\n",
    "\n",
    "Serialization for storage doesn't exist yet. There are a million little things to do for `pyiron_workflow`, but data persistence is the last big missing piece for 1.0.0."
   ]
  },
  {
   "cell_type": "code",
   "execution_count": null,
   "id": "f40bfd6f-3fbf-4c2b-aeee-534ed4bcc970",
   "metadata": {},
   "outputs": [],
   "source": []
  }
 ],
 "metadata": {
  "kernelspec": {
   "display_name": "Python 3 (ipykernel)",
   "language": "python",
   "name": "python3"
  },
  "language_info": {
   "codemirror_mode": {
    "name": "ipython",
    "version": 3
   },
   "file_extension": ".py",
   "mimetype": "text/x-python",
   "name": "python",
   "nbconvert_exporter": "python",
   "pygments_lexer": "ipython3",
   "version": "3.11.4"
  }
 },
 "nbformat": 4,
 "nbformat_minor": 5
}
